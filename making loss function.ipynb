{
 "cells": [
  {
   "cell_type": "code",
   "execution_count": 1,
   "id": "c156c0de",
   "metadata": {},
   "outputs": [
    {
     "name": "stdout",
     "output_type": "stream",
     "text": [
      "number of common Subjects  171\n"
     ]
    },
    {
     "name": "stderr",
     "output_type": "stream",
     "text": [
      "/usr/local/lib/python3.10/dist-packages/tqdm/auto.py:21: TqdmWarning: IProgress not found. Please update jupyter and ipywidgets. See https://ipywidgets.readthedocs.io/en/stable/user_install.html\n",
      "  from .autonotebook import tqdm as notebook_tqdm\n"
     ]
    }
   ],
   "source": [
    "import model\n",
    "import os\n",
    "from option import args\n",
    "import torch\n",
    "import matplotlib.pyplot as plt\n",
    "from mpl_toolkits.axes_grid1 import make_axes_locatable\n",
    "import data\n",
    "import utils\n",
    "import numpy as np\n",
    "import json\n",
    "import h5py"
   ]
  },
  {
   "cell_type": "code",
   "execution_count": 2,
   "id": "7eb93475",
   "metadata": {},
   "outputs": [],
   "source": [
    "load_dir = \"working_models/attempt2\""
   ]
  },
  {
   "cell_type": "code",
   "execution_count": 3,
   "id": "13f41809",
   "metadata": {},
   "outputs": [],
   "source": [
    "paths = {}\n",
    "max_ep = 0\n",
    "for i in os.listdir(load_dir):\n",
    "    if \"check\" not in i and \"tensorboard\" not in i:\n",
    "        temp = []\n",
    "#         print(os.listdir(load_dir + \"/\" + i))\n",
    "        for j in os.listdir(load_dir + \"/\" + i + \"/model\"):\n",
    "            temp.append(load_dir + \"/\" + i + \"/model/\" + j)\n",
    "            \n",
    "            \n",
    "            _,ep,hfen,psnr = j.split(\"_\")\n",
    "            ep = int(ep)\n",
    "            if(max_ep < ep):\n",
    "                latest_ep_path = load_dir + \"/\" + i + \"/model/\" + j\n",
    "                max_ep = ep\n",
    "                \n",
    "            conf = load_dir + \"/\" + i + \"/config.txt\"\n",
    "        paths[i] = (temp,conf,latest_ep_path) "
   ]
  },
  {
   "cell_type": "code",
   "execution_count": 4,
   "id": "1ea795e7",
   "metadata": {},
   "outputs": [],
   "source": [
    "list_models = list(paths.keys())"
   ]
  },
  {
   "cell_type": "code",
   "execution_count": 5,
   "id": "06b1a062",
   "metadata": {},
   "outputs": [
    {
     "data": {
      "text/plain": [
       "{'dmri_rdn,train_120,test_40,C,False,conv,growth32,loss_1*L1,bs_8,tvFalse': (['working_models/attempt2/dmri_rdn,train_120,test_40,C,False,conv,growth32,loss_1*L1,bs_8,tvFalse/model/model_17_0.5126_19.0545.pt',\n",
       "   'working_models/attempt2/dmri_rdn,train_120,test_40,C,False,conv,growth32,loss_1*L1,bs_8,tvFalse/model/model_3_0.5726_18.2759.pt',\n",
       "   'working_models/attempt2/dmri_rdn,train_120,test_40,C,False,conv,growth32,loss_1*L1,bs_8,tvFalse/model/model_23_0.5223_19.1911.pt',\n",
       "   'working_models/attempt2/dmri_rdn,train_120,test_40,C,False,conv,growth32,loss_1*L1,bs_8,tvFalse/model/model_1_0.6519_17.6689.pt',\n",
       "   'working_models/attempt2/dmri_rdn,train_120,test_40,C,False,conv,growth32,loss_1*L1,bs_8,tvFalse/model/model_4_0.5721_18.4289.pt',\n",
       "   'working_models/attempt2/dmri_rdn,train_120,test_40,C,False,conv,growth32,loss_1*L1,bs_8,tvFalse/model/model_13_0.5121_19.0155.pt',\n",
       "   'working_models/attempt2/dmri_rdn,train_120,test_40,C,False,conv,growth32,loss_1*L1,bs_8,tvFalse/model/model_10_0.5201_18.9194.pt',\n",
       "   'working_models/attempt2/dmri_rdn,train_120,test_40,C,False,conv,growth32,loss_1*L1,bs_8,tvFalse/model/model_11_0.5315_18.9614.pt',\n",
       "   'working_models/attempt2/dmri_rdn,train_120,test_40,C,False,conv,growth32,loss_1*L1,bs_8,tvFalse/model/model_43_0.5205_19.3642.pt',\n",
       "   'working_models/attempt2/dmri_rdn,train_120,test_40,C,False,conv,growth32,loss_1*L1,bs_8,tvFalse/model/model_30_0.5241_19.2219.pt',\n",
       "   'working_models/attempt2/dmri_rdn,train_120,test_40,C,False,conv,growth32,loss_1*L1,bs_8,tvFalse/model/model_9_0.5178_18.7903.pt',\n",
       "   'working_models/attempt2/dmri_rdn,train_120,test_40,C,False,conv,growth32,loss_1*L1,bs_8,tvFalse/model/model_6_0.5212_18.7811.pt',\n",
       "   'working_models/attempt2/dmri_rdn,train_120,test_40,C,False,conv,growth32,loss_1*L1,bs_8,tvFalse/model/model_5_0.5560_18.5645.pt',\n",
       "   'working_models/attempt2/dmri_rdn,train_120,test_40,C,False,conv,growth32,loss_1*L1,bs_8,tvFalse/model/model_19_0.5167_19.0737.pt',\n",
       "   'working_models/attempt2/dmri_rdn,train_120,test_40,C,False,conv,growth32,loss_1*L1,bs_8,tvFalse/model/model_22_0.5342_19.0844.pt',\n",
       "   'working_models/attempt2/dmri_rdn,train_120,test_40,C,False,conv,growth32,loss_1*L1,bs_8,tvFalse/model/model_2_0.6380_17.8595.pt',\n",
       "   'working_models/attempt2/dmri_rdn,train_120,test_40,C,False,conv,growth32,loss_1*L1,bs_8,tvFalse/model/model_40_0.5187_19.3053.pt'],\n",
       "  'working_models/attempt2/dmri_rdn,train_120,test_40,C,False,conv,growth32,loss_1*L1,bs_8,tvFalse/config.txt',\n",
       "  'working_models/attempt2/dmri_rdn,train_120,test_40,C,False,conv,growth32,loss_1*L1,bs_8,tvFalse/model/model_43_0.5205_19.3642.pt'),\n",
       " 'dmri_rdn,train_120,test_40,C,False,conv,growth32,loss_0.97*L1+0.03*TV,bs_8,tvTrue': (['working_models/attempt2/dmri_rdn,train_120,test_40,C,False,conv,growth32,loss_0.97*L1+0.03*TV,bs_8,tvTrue/model/model_2_0.6203_17.9516.pt',\n",
       "   'working_models/attempt2/dmri_rdn,train_120,test_40,C,False,conv,growth32,loss_0.97*L1+0.03*TV,bs_8,tvTrue/model/model_5_0.5353_18.7064.pt',\n",
       "   'working_models/attempt2/dmri_rdn,train_120,test_40,C,False,conv,growth32,loss_0.97*L1+0.03*TV,bs_8,tvTrue/model/model_7_0.5198_18.7439.pt',\n",
       "   'working_models/attempt2/dmri_rdn,train_120,test_40,C,False,conv,growth32,loss_0.97*L1+0.03*TV,bs_8,tvTrue/model/model_10_0.5146_19.0475.pt',\n",
       "   'working_models/attempt2/dmri_rdn,train_120,test_40,C,False,conv,growth32,loss_0.97*L1+0.03*TV,bs_8,tvTrue/model/model_66_0.5383_19.3688.pt',\n",
       "   'working_models/attempt2/dmri_rdn,train_120,test_40,C,False,conv,growth32,loss_0.97*L1+0.03*TV,bs_8,tvTrue/model/model_13_0.4986_19.1150.pt',\n",
       "   'working_models/attempt2/dmri_rdn,train_120,test_40,C,False,conv,growth32,loss_0.97*L1+0.03*TV,bs_8,tvTrue/model/model_8_0.5226_18.8167.pt',\n",
       "   'working_models/attempt2/dmri_rdn,train_120,test_40,C,False,conv,growth32,loss_0.97*L1+0.03*TV,bs_8,tvTrue/model/model_3_0.5966_18.1800.pt',\n",
       "   'working_models/attempt2/dmri_rdn,train_120,test_40,C,False,conv,growth32,loss_0.97*L1+0.03*TV,bs_8,tvTrue/model/model_30_0.5225_19.1981.pt',\n",
       "   'working_models/attempt2/dmri_rdn,train_120,test_40,C,False,conv,growth32,loss_0.97*L1+0.03*TV,bs_8,tvTrue/model/model_12_0.5334_19.0744.pt',\n",
       "   'working_models/attempt2/dmri_rdn,train_120,test_40,C,False,conv,growth32,loss_0.97*L1+0.03*TV,bs_8,tvTrue/model/model_1_0.6860_17.5404.pt',\n",
       "   'working_models/attempt2/dmri_rdn,train_120,test_40,C,False,conv,growth32,loss_0.97*L1+0.03*TV,bs_8,tvTrue/model/model_44_0.5280_19.3279.pt',\n",
       "   'working_models/attempt2/dmri_rdn,train_120,test_40,C,False,conv,growth32,loss_0.97*L1+0.03*TV,bs_8,tvTrue/model/model_32_0.5182_19.2176.pt',\n",
       "   'working_models/attempt2/dmri_rdn,train_120,test_40,C,False,conv,growth32,loss_0.97*L1+0.03*TV,bs_8,tvTrue/model/model_39_0.5322_19.2730.pt',\n",
       "   'working_models/attempt2/dmri_rdn,train_120,test_40,C,False,conv,growth32,loss_0.97*L1+0.03*TV,bs_8,tvTrue/model/model_4_0.5373_18.5407.pt',\n",
       "   'working_models/attempt2/dmri_rdn,train_120,test_40,C,False,conv,growth32,loss_0.97*L1+0.03*TV,bs_8,tvTrue/model/model_42_0.5194_19.3160.pt'],\n",
       "  'working_models/attempt2/dmri_rdn,train_120,test_40,C,False,conv,growth32,loss_0.97*L1+0.03*TV,bs_8,tvTrue/config.txt',\n",
       "  'working_models/attempt2/dmri_rdn,train_120,test_40,C,False,conv,growth32,loss_0.97*L1+0.03*TV,bs_8,tvTrue/model/model_66_0.5383_19.3688.pt')}"
      ]
     },
     "execution_count": 5,
     "metadata": {},
     "output_type": "execute_result"
    }
   ],
   "source": [
    "paths"
   ]
  },
  {
   "cell_type": "code",
   "execution_count": 6,
   "id": "c7fa75ab",
   "metadata": {},
   "outputs": [
    {
     "data": {
      "text/plain": [
       "'working_models/attempt2/dmri_rdn,train_120,test_40,C,False,conv,growth32,loss_1*L1,bs_8,tvFalse/model/model_43_0.5205_19.3642.pt'"
      ]
     },
     "execution_count": 6,
     "metadata": {},
     "output_type": "execute_result"
    }
   ],
   "source": [
    "paths[list_models[0]][2]"
   ]
  },
  {
   "cell_type": "code",
   "execution_count": 7,
   "id": "c1f718c5",
   "metadata": {},
   "outputs": [
    {
     "data": {
      "text/plain": [
       "'working_models/attempt2/dmri_rdn,train_120,test_40,C,False,conv,growth32,loss_1*L1,bs_8,tvFalse/config.txt'"
      ]
     },
     "execution_count": 7,
     "metadata": {},
     "output_type": "execute_result"
    }
   ],
   "source": [
    "paths[list_models[0]][1]"
   ]
  },
  {
   "cell_type": "code",
   "execution_count": 8,
   "id": "5f4e156d",
   "metadata": {},
   "outputs": [
    {
     "data": {
      "text/plain": [
       "['dmri_rdn,train_120,test_40,C,False,conv,growth32,loss_1*L1,bs_8,tvFalse',\n",
       " 'dmri_rdn,train_120,test_40,C,False,conv,growth32,loss_0.97*L1+0.03*TV,bs_8,tvTrue']"
      ]
     },
     "execution_count": 8,
     "metadata": {},
     "output_type": "execute_result"
    }
   ],
   "source": [
    "list_models"
   ]
  },
  {
   "cell_type": "code",
   "execution_count": 9,
   "id": "294c111a",
   "metadata": {},
   "outputs": [],
   "source": [
    "load_model = list_models[0]"
   ]
  },
  {
   "cell_type": "code",
   "execution_count": 10,
   "id": "336ca176",
   "metadata": {},
   "outputs": [
    {
     "data": {
      "text/plain": [
       "'dmri_rdn,train_120,test_40,C,False,conv,growth32,loss_1*L1,bs_8,tvFalse'"
      ]
     },
     "execution_count": 10,
     "metadata": {},
     "output_type": "execute_result"
    }
   ],
   "source": [
    "load_model"
   ]
  },
  {
   "cell_type": "code",
   "execution_count": 11,
   "id": "26528b02",
   "metadata": {},
   "outputs": [],
   "source": [
    "with open(paths[load_model][1], 'r') as f:\n",
    "    args.__dict__ = json.load(f)"
   ]
  },
  {
   "cell_type": "code",
   "execution_count": 12,
   "id": "e7d6d8dc",
   "metadata": {},
   "outputs": [],
   "source": [
    "args.type = args.model_type"
   ]
  },
  {
   "cell_type": "code",
   "execution_count": 13,
   "id": "9bc7cde2",
   "metadata": {},
   "outputs": [],
   "source": [
    "# import json\n",
    "# with open(paths[list_models[0]][1], 'w') as f:\n",
    "#     json.dump(args.__dict__, f, indent=2)"
   ]
  },
  {
   "cell_type": "code",
   "execution_count": 14,
   "id": "d383d80b",
   "metadata": {},
   "outputs": [
    {
     "name": "stdout",
     "output_type": "stream",
     "text": [
      "Making model... here\n",
      "load from model_working_models/attempt2/dmri_rdn,train_120,test_40,C,False,conv,growth32,loss_1*L1,bs_8,tvFalse/model/model_43_0.5205_19.3642.pt.pt\n"
     ]
    }
   ],
   "source": [
    "curr_model = model.Model(args)\n",
    "curr_model.load(paths[load_model][2])"
   ]
  },
  {
   "cell_type": "code",
   "execution_count": 15,
   "id": "0b9f3485",
   "metadata": {},
   "outputs": [
    {
     "name": "stdout",
     "output_type": "stream",
     "text": [
      "['100610', '102311', '172130', '173334', '175237']\n"
     ]
    }
   ],
   "source": [
    "ids = utils.get_ids()\n",
    "ids.sort()\n",
    "offset = 50\n",
    "args.no_vols,args.test_vols = 2,3\n",
    "total_vols = args.no_vols+args.test_vols\n",
    "temp = ids[:args.no_vols]\n",
    "temp.extend(ids[offset:args.test_vols+offset])\n",
    "ids = temp\n",
    "print(ids)"
   ]
  },
  {
   "cell_type": "code",
   "execution_count": 16,
   "id": "bf3e91dd",
   "metadata": {},
   "outputs": [
    {
     "name": "stdout",
     "output_type": "stream",
     "text": [
      "5\n"
     ]
    }
   ],
   "source": [
    "print(len(ids))"
   ]
  },
  {
   "cell_type": "markdown",
   "id": "52b49393",
   "metadata": {},
   "source": [
    "### Dataloader"
   ]
  },
  {
   "cell_type": "code",
   "execution_count": 17,
   "id": "579f73c5",
   "metadata": {
    "scrolled": false
   },
   "outputs": [
    {
     "name": "stdout",
     "output_type": "stream",
     "text": [
      "Loading Done\n"
     ]
    }
   ],
   "source": [
    "loader = data.Data(args,ids= ids)"
   ]
  },
  {
   "cell_type": "code",
   "execution_count": 18,
   "id": "62f9d729",
   "metadata": {},
   "outputs": [
    {
     "data": {
      "text/plain": [
       "14"
      ]
     },
     "execution_count": 18,
     "metadata": {},
     "output_type": "execute_result"
    }
   ],
   "source": [
    "len(loader.training_dataset)"
   ]
  },
  {
   "cell_type": "code",
   "execution_count": 19,
   "id": "80a6e463",
   "metadata": {},
   "outputs": [
    {
     "data": {
      "text/plain": [
       "4"
      ]
     },
     "execution_count": 19,
     "metadata": {},
     "output_type": "execute_result"
    }
   ],
   "source": [
    "len(next(iter(loader.training_data)))"
   ]
  },
  {
   "cell_type": "code",
   "execution_count": 20,
   "id": "bccfd5ad",
   "metadata": {},
   "outputs": [],
   "source": [
    "# for batch, (lr,hr,scale,rel_coor) in enumerate(loader.training_data):\n",
    "\n",
    "#     lr_tensor = lr.squeeze().to('cuda').float()  # ranges from [0, 1]\n",
    "#     hr_tensor = hr.squeeze().to('cuda').float()  # ranges from [0, 1]\n",
    "# #     hr = hr.squeeze()\n",
    "#     rel_coor = rel_coor.squeeze().to('cuda').float()\n",
    "#     scale = np.asarray(scale[0,:])\n",
    "\n",
    "#     # print(rel_coor.shape)\n",
    "#     # tv_tensor = tv.squeeze().to('cuda').float()  # ranges from [0, 1]\n",
    "\n",
    "#     # print(lr_tensor.shape,hr_tensor.shape,scale)\n",
    "\n",
    "#     if(len(lr_tensor.shape) == 5):\n",
    "#         lr = torch.permute(lr_tensor, (0,4,1,2,3))\n",
    "#     else:\n",
    "#         lr = torch.permute(lr_tensor, (0,3,1,2))\n",
    "\n",
    "\n",
    "#     # inference\n",
    "#     pred = curr_model.forward(lr,scale,rel_coor)\n",
    "    \n",
    "#     if(len(lr_tensor.shape) == 5):\n",
    "#         # print(pred.shape,lr.shape)\n",
    "#         pred_tensor = torch.permute(pred, (0,2,3,4,1)).float()\n",
    "#         # pred_tv_tensor = torch.permute(pred_tv, (0,2,3,4,1)).float()\n",
    "#     else:\n",
    "#         pred_tensor = torch.permute(pred, (0,2,3,1)).float()\n",
    "#         # pred_tv_tensor = torch.permute(pred_tv, (0,2,3,1)).float()\n",
    "            \n",
    "            \n",
    "#     break"
   ]
  },
  {
   "cell_type": "code",
   "execution_count": 21,
   "id": "e142871e",
   "metadata": {},
   "outputs": [
    {
     "data": {
      "text/plain": [
       "14"
      ]
     },
     "execution_count": 21,
     "metadata": {},
     "output_type": "execute_result"
    }
   ],
   "source": [
    "len(loader.training_dataset)"
   ]
  },
  {
   "cell_type": "code",
   "execution_count": 22,
   "id": "b955e136",
   "metadata": {},
   "outputs": [],
   "source": [
    "sample = 12\n",
    "lr,hr,scale,rel_coor = loader.training_dataset[sample]\n",
    "\n",
    "lr_tensor = lr.squeeze() # ranges from [0, 1]\n",
    "hr_tensor = hr.squeeze()  # ranges from [0, 1]\n",
    "rel_coor = rel_coor.squeeze().to('cuda').float()\n",
    "\n",
    "lr = torch.permute(lr_tensor, (0,4,1,2,3))\n",
    "\n",
    "lr = lr.to('cuda').float()\n",
    "pred = curr_model.forward(lr,scale,rel_coor)\n",
    "    \n",
    "pred_tensor = torch.permute(pred, (0,2,3,4,1)).float()\n",
    "\n",
    "\n",
    "\n",
    "pred_tensor = pred_tensor.cpu().detach().numpy()\n",
    "lr_tensor = lr_tensor.cpu().detach().numpy()"
   ]
  },
  {
   "cell_type": "code",
   "execution_count": 23,
   "id": "74561713",
   "metadata": {},
   "outputs": [
    {
     "data": {
      "text/plain": [
       "array([1., 1., 1.])"
      ]
     },
     "execution_count": 23,
     "metadata": {},
     "output_type": "execute_result"
    }
   ],
   "source": [
    "scale"
   ]
  },
  {
   "cell_type": "code",
   "execution_count": 46,
   "id": "3c75050f",
   "metadata": {},
   "outputs": [
    {
     "name": "stdout",
     "output_type": "stream",
     "text": [
      "pred = (8, 32, 8, 32, 5)\n",
      "hr = (8, 32, 8, 32, 5)\n",
      "lr = (8, 32, 8, 32, 7)\n"
     ]
    }
   ],
   "source": [
    "print(f'pred = {pred_tensor.shape}\\nhr = {hr_tensor.shape}\\nlr = {lr_tensor.shape}')"
   ]
  },
  {
   "cell_type": "code",
   "execution_count": 76,
   "id": "5fbd9210",
   "metadata": {},
   "outputs": [],
   "source": []
  },
  {
   "cell_type": "code",
   "execution_count": 77,
   "id": "1293808e",
   "metadata": {},
   "outputs": [
    {
     "data": {
      "text/plain": [
       "torch.Size([1, 1, 3, 3, 3])"
      ]
     },
     "execution_count": 77,
     "metadata": {},
     "output_type": "execute_result"
    }
   ],
   "source": [
    "kernel['x'].shape"
   ]
  },
  {
   "cell_type": "code",
   "execution_count": 78,
   "id": "81bb74f3",
   "metadata": {},
   "outputs": [
    {
     "data": {
      "text/plain": [
       "tensor([[[[[-1.,  0.,  1.],\n",
       "           [-2.,  0.,  2.],\n",
       "           [-1.,  0.,  1.]],\n",
       "\n",
       "          [[-2.,  0.,  2.],\n",
       "           [-4.,  0.,  4.],\n",
       "           [-2.,  0.,  2.]],\n",
       "\n",
       "          [[-1.,  0.,  1.],\n",
       "           [-2.,  0.,  2.],\n",
       "           [-1.,  0.,  1.]]]]])"
      ]
     },
     "execution_count": 78,
     "metadata": {},
     "output_type": "execute_result"
    }
   ],
   "source": [
    "kernel['x']"
   ]
  },
  {
   "cell_type": "code",
   "execution_count": 79,
   "id": "16b06069",
   "metadata": {},
   "outputs": [],
   "source": [
    "inp = torch.permute(torch.from_numpy(pred_tensor), (0,4,1,2,3)).to('cpu')"
   ]
  },
  {
   "cell_type": "code",
   "execution_count": 80,
   "id": "c5f6a394",
   "metadata": {},
   "outputs": [
    {
     "data": {
      "text/plain": [
       "torch.Size([8, 5, 32, 8, 32])"
      ]
     },
     "execution_count": 80,
     "metadata": {},
     "output_type": "execute_result"
    }
   ],
   "source": [
    "inp.shape"
   ]
  },
  {
   "cell_type": "code",
   "execution_count": 81,
   "id": "0fbdb04a",
   "metadata": {},
   "outputs": [],
   "source": [
    "import torch\n",
    "import torch.nn as nn\n",
    "import torch.nn.functional as F"
   ]
  },
  {
   "cell_type": "code",
   "execution_count": 86,
   "id": "cb5d9ad8",
   "metadata": {},
   "outputs": [],
   "source": [
    "temp = F.conv3d(inp[:,0,:,:,:].unsqueeze(1),kernel['x'])"
   ]
  },
  {
   "cell_type": "code",
   "execution_count": 88,
   "id": "d709ccb6",
   "metadata": {},
   "outputs": [
    {
     "data": {
      "text/plain": [
       "torch.Size([8, 1, 30, 6, 30])"
      ]
     },
     "execution_count": 88,
     "metadata": {},
     "output_type": "execute_result"
    }
   ],
   "source": [
    "temp.shape"
   ]
  },
  {
   "cell_type": "code",
   "execution_count": 89,
   "id": "eb00dbf8",
   "metadata": {},
   "outputs": [],
   "source": [
    "import torch\n",
    "import torch.nn as nn\n",
    "import torch.nn.functional as F\n",
    "\n",
    "from loss.sobel import sobel_3d\n",
    "kernel = {}\n",
    "for i in sobel_3d.keys():\n",
    "    kernel[i] = torch.FloatTensor(sobel_3d[i]).unsqueeze(0).unsqueeze(0)\n",
    "    \n",
    "def g2(inp):\n",
    "    \n",
    "    inp = torch.permute(torch.from_numpy(inp), (0,4,1,2,3)).to('cpu')\n",
    "    res = []\n",
    "    for i in range(inp.shape[1]):\n",
    "        \n",
    "        temp = inp[:,i,:,:,:].unsqueeze(1)\n",
    "    \n",
    "        x = F.conv3d(temp, kernel['x'])\n",
    "\n",
    "        y = F.conv3d(temp, kernel['y'])\n",
    "        \n",
    "        z = F.conv3d(temp, kernel['z'])\n",
    "\n",
    "        temp = torch.sqrt((x**2) + (y**2) + (z**2))\n",
    "        \n",
    "        x = F.conv3d(temp, kernel['x'])\n",
    "\n",
    "        y = F.conv3d(temp, kernel['y'])\n",
    "        \n",
    "        z = F.conv3d(temp, kernel['z'])\n",
    "\n",
    "        res.append(torch.sqrt((x**2) + (y**2) + (z**2)))\n",
    "        \n",
    "    res = torch.cat(res,dim=1)\n",
    "    \n",
    "    return res"
   ]
  },
  {
   "cell_type": "code",
   "execution_count": 92,
   "id": "bb9562a2",
   "metadata": {},
   "outputs": [],
   "source": [
    "pred_temp = g2(pred_tensor)\n",
    "hr_temp = g2(hr_tensor)\n"
   ]
  },
  {
   "cell_type": "code",
   "execution_count": 93,
   "id": "d3a6d093",
   "metadata": {},
   "outputs": [
    {
     "data": {
      "text/plain": [
       "torch.return_types.histogram(\n",
       "hist=tensor([1.1000e+01, 4.9000e+01, 9.9000e+01, 4.6500e+02, 2.4030e+03, 7.6265e+04,\n",
       "        4.2252e+04, 3.4120e+03, 4.3300e+02, 5.1000e+01]),\n",
       "bin_edges=tensor([-213.3630, -175.6554, -137.9478, -100.2402,  -62.5326,  -24.8249,\n",
       "          12.8827,   50.5903,   88.2979,  126.0055,  163.7132]))"
      ]
     },
     "execution_count": 93,
     "metadata": {},
     "output_type": "execute_result"
    }
   ],
   "source": [
    "torch.histogram(hr_temp - pred_temp,bins=10)"
   ]
  },
  {
   "cell_type": "code",
   "execution_count": 94,
   "id": "b4816220",
   "metadata": {},
   "outputs": [
    {
     "data": {
      "text/plain": [
       "torch.return_types.histogram(\n",
       "hist=tensor([73746., 25432., 14062.,  8002.,  2629.,   792.,   341.,   205.,   157.,\n",
       "           74.]),\n",
       "bin_edges=tensor([6.8123e-03, 2.5500e+01, 5.0993e+01, 7.6486e+01, 1.0198e+02, 1.2747e+02,\n",
       "        1.5296e+02, 1.7846e+02, 2.0395e+02, 2.2944e+02, 2.5494e+02]))"
      ]
     },
     "execution_count": 94,
     "metadata": {},
     "output_type": "execute_result"
    }
   ],
   "source": [
    "torch.histogram(pred_temp,bins=10)"
   ]
  },
  {
   "cell_type": "code",
   "execution_count": 95,
   "id": "eb00c91f",
   "metadata": {},
   "outputs": [],
   "source": [
    "import torch.nn as nn\n",
    "ls = nn.L1Loss()"
   ]
  },
  {
   "cell_type": "code",
   "execution_count": 96,
   "id": "67bb6dde",
   "metadata": {},
   "outputs": [
    {
     "data": {
      "text/plain": [
       "tensor(15.3311)"
      ]
     },
     "execution_count": 96,
     "metadata": {},
     "output_type": "execute_result"
    }
   ],
   "source": [
    "ls(pred_temp,hr_temp)"
   ]
  },
  {
   "cell_type": "code",
   "execution_count": 97,
   "id": "4a75702c",
   "metadata": {},
   "outputs": [
    {
     "data": {
      "text/plain": [
       "(torch.Size([8, 5, 28, 4, 28]), torch.Size([8, 5, 28, 4, 28]))"
      ]
     },
     "execution_count": 97,
     "metadata": {},
     "output_type": "execute_result"
    }
   ],
   "source": [
    "pred_temp.shape,hr_temp.shape"
   ]
  },
  {
   "cell_type": "code",
   "execution_count": 104,
   "id": "1151e3bb",
   "metadata": {},
   "outputs": [
    {
     "data": {
      "text/plain": [
       "<matplotlib.image.AxesImage at 0x7ef99412dbd0>"
      ]
     },
     "execution_count": 104,
     "metadata": {},
     "output_type": "execute_result"
    },
    {
     "data": {
      "image/png": "[encoded data removed]",
      "text/plain": [
       "<Figure size 2000x1000 with 5 Axes>"
      ]
     },
     "metadata": {},
     "output_type": "display_data"
    }
   ],
   "source": [
    "%matplotlib inline\n",
    "\n",
    "ch = 0\n",
    "\n",
    "patch = 1\n",
    "\n",
    "\n",
    "\n",
    "f, axis = plt.subplots(1, 5)\n",
    "f.set_figwidth(20)\n",
    "f.set_figheight(10)\n",
    "\n",
    "\n",
    "axis[0].imshow(pred_tensor[patch,:,0,:,ch])\n",
    "axis[1].imshow(hr_tensor[patch,:,0,:,ch])\n",
    "axis[2].imshow(pred_temp[patch,ch,:,0,:].detach().numpy(),cmap = 'gray')\n",
    "axis[3].imshow(hr_temp[patch,ch,:,0,:].detach().numpy(),cmap = 'gray')\n",
    "b = hr_temp[patch,ch,:,0,:].detach().numpy() - pred_temp[patch,ch,:,0,:].detach().numpy()\n",
    "axis[4].imshow(b,cmap = 'gray')\n",
    "\n",
    "\n"
   ]
  },
  {
   "cell_type": "code",
   "execution_count": 105,
   "id": "5f3c6eb4",
   "metadata": {},
   "outputs": [
    {
     "data": {
      "text/plain": [
       "<matplotlib.image.AxesImage at 0x7ef993f27be0>"
      ]
     },
     "execution_count": 105,
     "metadata": {},
     "output_type": "execute_result"
    },
    {
     "data": {
      "image/png": "[encoded data removed]",
      "text/plain": [
       "<Figure size 2000x1000 with 5 Axes>"
      ]
     },
     "metadata": {},
     "output_type": "display_data"
    }
   ],
   "source": [
    "%matplotlib inline\n",
    "\n",
    "ch = 1\n",
    "\n",
    "patch = 1\n",
    "\n",
    "\n",
    "\n",
    "f, axis = plt.subplots(1, 5)\n",
    "f.set_figwidth(20)\n",
    "f.set_figheight(10)\n",
    "\n",
    "\n",
    "axis[0].imshow(pred_tensor[patch,:,0,:,ch])\n",
    "axis[1].imshow(hr_tensor[patch,:,0,:,ch])\n",
    "axis[2].imshow(pred_temp[patch,ch,:,0,:].detach().numpy(),cmap = 'gray')\n",
    "axis[3].imshow(hr_temp[patch,ch,:,0,:].detach().numpy(),cmap = 'gray')\n",
    "b = hr_temp[patch,ch,:,0,:].detach().numpy() - pred_temp[patch,ch,:,0,:].detach().numpy()\n",
    "axis[4].imshow(b,cmap = 'gray')\n",
    "\n",
    "\n"
   ]
  },
  {
   "cell_type": "code",
   "execution_count": 99,
   "id": "e895cf27",
   "metadata": {},
   "outputs": [
    {
     "data": {
      "text/plain": [
       "torch.Size([8, 5, 28, 4, 28])"
      ]
     },
     "execution_count": 99,
     "metadata": {},
     "output_type": "execute_result"
    }
   ],
   "source": [
    "ch = 1\n",
    "patch = 1\n",
    "\n",
    "\n",
    "\n",
    "f, axis = plt.subplots(1, 5)\n",
    "f.set_figwidth(20)\n",
    "f.set_figheight(10)\n",
    "\n",
    "\n",
    "axis[0].imshow(pred_tensor[patch,:,0,:,ch])\n",
    "axis[1].imshow(hr_tensor[patch,:,0,:,ch])\n",
    "axis[2].imshow(pred_temp[patch,ch,:,0,:].detach().numpy(),cmap = 'gray')\n",
    "axis[3].imshow(hr_temp[patch,ch,:,0,:].detach().numpy(),cmap = 'gray')\n",
    "b = hr_temp[patch,ch,:,0,:].detach().numpy() - pred_temp[patch,ch,:,0,:].detach().numpy()\n",
    "axis[4].imshow(b,cmap = 'gray')\n",
    "\n",
    "\n",
    "pred_temp.shape"
   ]
  },
  {
   "cell_type": "code",
   "execution_count": 113,
   "id": "0d537bf9",
   "metadata": {},
   "outputs": [
    {
     "ename": "AttributeError",
     "evalue": "'numpy.ndarray' object has no attribute 'cpu'",
     "output_type": "error",
     "traceback": [
      "\u001b[0;31m---------------------------------------------------------------------------\u001b[0m",
      "\u001b[0;31mAttributeError\u001b[0m                            Traceback (most recent call last)",
      "Cell \u001b[0;32mIn[113], line 10\u001b[0m\n\u001b[1;32m      7\u001b[0m f\u001b[38;5;241m.\u001b[39mset_figwidth(\u001b[38;5;241m20\u001b[39m)\n\u001b[1;32m      8\u001b[0m f\u001b[38;5;241m.\u001b[39mset_figheight(\u001b[38;5;241m10\u001b[39m)\n\u001b[0;32m---> 10\u001b[0m axis[\u001b[38;5;241m0\u001b[39m]\u001b[38;5;241m.\u001b[39mimshow(\u001b[43mpred_tensor\u001b[49m\u001b[38;5;241;43m.\u001b[39;49m\u001b[43mcpu\u001b[49m()\u001b[38;5;241m.\u001b[39mdetach()\u001b[38;5;241m.\u001b[39mnumpy()[patch,:,:,\u001b[38;5;241m0\u001b[39m,ch])\n\u001b[1;32m     11\u001b[0m axis[\u001b[38;5;241m1\u001b[39m]\u001b[38;5;241m.\u001b[39mimshow(hr_tensor\u001b[38;5;241m.\u001b[39mcpu()\u001b[38;5;241m.\u001b[39mdetach()\u001b[38;5;241m.\u001b[39mnumpy()[patch,:,:,\u001b[38;5;241m0\u001b[39m,ch])\n\u001b[1;32m     12\u001b[0m axis[\u001b[38;5;241m2\u001b[39m]\u001b[38;5;241m.\u001b[39mimshow(pred_temp[patch,ch,:,:,\u001b[38;5;241m0\u001b[39m]\u001b[38;5;241m.\u001b[39mdetach()\u001b[38;5;241m.\u001b[39mnumpy(),cmap \u001b[38;5;241m=\u001b[39m \u001b[38;5;124m'\u001b[39m\u001b[38;5;124mgray\u001b[39m\u001b[38;5;124m'\u001b[39m)\n",
      "\u001b[0;31mAttributeError\u001b[0m: 'numpy.ndarray' object has no attribute 'cpu'"
     ]
    },
    {
     "data": {
      "image/png": "[encoded data removed]",
      "text/plain": [
       "<Figure size 2000x1000 with 5 Axes>"
      ]
     },
     "metadata": {},
     "output_type": "display_data"
    }
   ],
   "source": [
    "ch = 1\n",
    "patch = 4\n",
    "\n",
    "\n",
    "\n",
    "f, axis = plt.subplots(1, 5)\n",
    "f.set_figwidth(20)\n",
    "f.set_figheight(10)\n",
    "\n",
    "axis[0].imshow(pred_tensor.cpu().detach().numpy()[patch,:,:,0,ch])\n",
    "axis[1].imshow(hr_tensor.cpu().detach().numpy()[patch,:,:,0,ch])\n",
    "axis[2].imshow(pred_temp[patch,ch,:,:,0].detach().numpy(),cmap = 'gray')\n",
    "axis[3].imshow(hr_temp[patch,ch,:,:,0].detach().numpy(),cmap = 'gray')\n",
    "b = hr_temp[patch,ch,:,:,0].detach().numpy() - pred_temp[patch,ch,:,:,0].detach().numpy()\n",
    "axis[4].imshow(b,cmap = 'gray')\n",
    "\n",
    "\n"
   ]
  },
  {
   "cell_type": "code",
   "execution_count": 95,
   "id": "f62e6e6e",
   "metadata": {},
   "outputs": [
    {
     "data": {
      "text/plain": [
       "<matplotlib.image.AxesImage at 0x7f2601cd6890>"
      ]
     },
     "execution_count": 95,
     "metadata": {},
     "output_type": "execute_result"
    },
    {
     "data": {
      "image/png": "[encoded data removed]",
      "text/plain": [
       "<Figure size 2000x1000 with 4 Axes>"
      ]
     },
     "metadata": {},
     "output_type": "display_data"
    }
   ],
   "source": [
    "ch = 4\n",
    "patch = 0\n",
    "\n",
    "\n",
    "\n",
    "f, axis = plt.subplots(1, 4)\n",
    "f.set_figwidth(20)\n",
    "f.set_figheight(10)\n",
    "\n",
    "axis[0].imshow(pred_tensor.cpu().detach().numpy()[patch,:,:,0,ch])\n",
    "axis[1].imshow(hr_tensor.cpu().detach().numpy()[patch,:,:,0,ch])\n",
    "axis[2].imshow(pred_temp[patch,ch,:,:,0].detach().numpy(),cmap = 'gray')\n",
    "axis[3].imshow(hr_temp[patch,ch,:,:,0].detach().numpy(),cmap = 'gray')\n",
    "\n",
    "\n"
   ]
  },
  {
   "cell_type": "code",
   "execution_count": 47,
   "id": "0eb1f4ca",
   "metadata": {},
   "outputs": [
    {
     "data": {
      "text/plain": [
       "<matplotlib.image.AxesImage at 0x7f7f07978d30>"
      ]
     },
     "execution_count": 47,
     "metadata": {},
     "output_type": "execute_result"
    },
    {
     "data": {
      "image/png": "[encoded data removed]",
      "text/plain": [
       "<Figure size 640x480 with 1 Axes>"
      ]
     },
     "metadata": {},
     "output_type": "display_data"
    }
   ],
   "source": [
    "plt.imshow(pred_tensor.cpu().detach().numpy()[0,:,:,0,0])"
   ]
  },
  {
   "cell_type": "code",
   "execution_count": null,
   "id": "997454ff",
   "metadata": {},
   "outputs": [],
   "source": []
  },
  {
   "cell_type": "code",
   "execution_count": 51,
   "id": "3cbd7d6a",
   "metadata": {},
   "outputs": [
    {
     "data": {
      "text/plain": [
       "<matplotlib.image.AxesImage at 0x7f7f078c7730>"
      ]
     },
     "execution_count": 51,
     "metadata": {},
     "output_type": "execute_result"
    },
    {
     "data": {
      "image/png": "[encoded data removed]",
      "text/plain": [
       "<Figure size 640x480 with 1 Axes>"
      ]
     },
     "metadata": {},
     "output_type": "display_data"
    }
   ],
   "source": [
    "plt.imshow(pred_temp.cpu().detach().numpy()[0,0,:,:,0],cmap='gray')"
   ]
  },
  {
   "cell_type": "code",
   "execution_count": 25,
   "id": "96e021ec",
   "metadata": {},
   "outputs": [
    {
     "data": {
      "text/plain": [
       "<matplotlib.image.AxesImage at 0x7f7f09ae6da0>"
      ]
     },
     "execution_count": 25,
     "metadata": {},
     "output_type": "execute_result"
    },
    {
     "data": {
      "image/png": "[encoded data removed]",
      "text/plain": [
       "<Figure size 640x480 with 1 Axes>"
      ]
     },
     "metadata": {},
     "output_type": "display_data"
    }
   ],
   "source": [
    "plt.imshow(hr_tensor.cpu().detach().numpy()[0,:,:,0,0])"
   ]
  },
  {
   "cell_type": "code",
   "execution_count": 36,
   "id": "a0e0101e",
   "metadata": {},
   "outputs": [],
   "source": []
  },
  {
   "cell_type": "code",
   "execution_count": 37,
   "id": "dba850df",
   "metadata": {},
   "outputs": [
    {
     "name": "stdout",
     "output_type": "stream",
     "text": [
      "torch.Size([1, 5, 3, 3, 3])\n"
     ]
    }
   ],
   "source": [
    "print(sobel_kernel.shape) "
   ]
  },
  {
   "cell_type": "code",
   "execution_count": 39,
   "id": "959f8d5d",
   "metadata": {},
   "outputs": [],
   "source": []
  },
  {
   "cell_type": "code",
   "execution_count": 44,
   "id": "97f40206",
   "metadata": {},
   "outputs": [],
   "source": []
  },
  {
   "cell_type": "code",
   "execution_count": 45,
   "id": "9760c26a",
   "metadata": {},
   "outputs": [],
   "source": []
  },
  {
   "cell_type": "code",
   "execution_count": 49,
   "id": "f0175a5c",
   "metadata": {},
   "outputs": [
    {
     "data": {
      "text/plain": [
       "torch.Size([8, 1, 32, 32, 8])"
      ]
     },
     "execution_count": 49,
     "metadata": {},
     "output_type": "execute_result"
    }
   ],
   "source": [
    "pred_temp.shape"
   ]
  },
  {
   "cell_type": "code",
   "execution_count": 46,
   "id": "4bb013e5",
   "metadata": {},
   "outputs": [
    {
     "data": {
      "text/plain": [
       "tensor([[[[[-1.1773e+00, -1.3904e+00, -8.7272e-01,  ...,  9.5381e-04,\n",
       "             7.9754e-03,  1.1209e-02],\n",
       "           [ 5.6387e-02, -3.5958e-01, -8.2009e-01,  ...,  1.6632e-03,\n",
       "             1.2394e-02,  5.6501e-03],\n",
       "           [ 6.6147e-02, -6.4614e-02, -5.8574e-01,  ..., -2.4532e-02,\n",
       "            -7.9364e-03, -5.6219e-03],\n",
       "           ...,\n",
       "           [-7.6420e-02, -1.0070e-01, -1.7976e-01,  ..., -5.0293e-02,\n",
       "             1.4102e-01,  1.9222e-01],\n",
       "           [-1.1061e+00, -1.7945e+00, -2.2409e+00,  ..., -7.0450e-01,\n",
       "            -1.1114e-01,  4.9655e-02],\n",
       "           [ 1.1300e+00,  1.5252e+00,  1.5986e+00,  ...,  1.4630e+00,\n",
       "             1.4265e+00,  1.0536e+00]],\n",
       "\n",
       "          [[-1.7313e+00, -2.1357e+00, -1.4609e+00,  ...,  2.8677e-03,\n",
       "             1.1945e-02,  1.6227e-02],\n",
       "           [ 1.8418e-03, -4.7286e-01, -1.1025e+00,  ...,  7.4622e-03,\n",
       "             1.9233e-02,  9.6013e-03],\n",
       "           [-1.3710e-01, -1.8577e-01, -7.7488e-01,  ..., -8.8274e-02,\n",
       "            -1.1062e-02, -5.8503e-03],\n",
       "           ...,\n",
       "           [-1.4200e-01, -2.4220e-01, -4.1365e-01,  ..., -1.9207e-01,\n",
       "             1.3581e-01,  2.4500e-01],\n",
       "           [-1.9040e+00, -3.0949e+00, -3.8769e+00,  ..., -1.5179e+00,\n",
       "            -3.9089e-01,  3.3370e-02],\n",
       "           [ 1.7065e+00,  2.3388e+00,  2.4989e+00,  ...,  2.2786e+00,\n",
       "             2.1526e+00,  1.5633e+00]],\n",
       "\n",
       "          [[-1.7468e+00, -2.2697e+00, -1.7965e+00,  ...,  4.5823e-03,\n",
       "             1.0341e-02,  1.4298e-02],\n",
       "           [-2.3358e-01, -4.3320e-01, -9.1864e-01,  ...,  4.5303e-03,\n",
       "             3.7277e-02,  1.7994e-02],\n",
       "           [-5.2394e-01, -3.4846e-01, -5.4996e-01,  ..., -1.9967e-01,\n",
       "            -7.9821e-03, -1.2196e-03],\n",
       "           ...,\n",
       "           [-2.9879e-01, -5.4766e-01, -8.1587e-01,  ..., -5.3930e-01,\n",
       "            -6.7583e-02,  1.7501e-01],\n",
       "           [-2.6160e+00, -4.1958e+00, -5.1361e+00,  ..., -2.5011e+00,\n",
       "            -1.0061e+00, -1.7891e-01],\n",
       "           [ 1.8151e+00,  2.5635e+00,  2.8283e+00,  ...,  2.5652e+00,\n",
       "             2.2453e+00,  1.5381e+00]],\n",
       "\n",
       "          ...,\n",
       "\n",
       "          [[-3.0103e+00, -3.4196e+00, -2.3340e+00,  ...,  1.3823e-03,\n",
       "             1.1146e-02,  5.5165e-03],\n",
       "           [-1.3315e+00, -1.3789e+00, -1.3058e+00,  ..., -1.3464e-01,\n",
       "             3.9689e-02,  2.3386e-02],\n",
       "           [-1.2403e+00, -1.2157e+00, -1.0875e+00,  ..., -4.7503e-01,\n",
       "            -1.3370e-02, -3.8229e-04],\n",
       "           ...,\n",
       "           [ 1.5087e+00,  1.8491e+00,  2.1427e+00,  ...,  4.5498e+00,\n",
       "             4.3825e+00,  3.0598e+00],\n",
       "           [ 4.4998e-02,  4.0805e-01,  1.6807e+00,  ...,  5.2520e+00,\n",
       "             5.1121e+00,  3.6310e+00],\n",
       "           [ 1.0530e+01,  1.4092e+01,  1.3515e+01,  ...,  7.5289e+00,\n",
       "             6.3118e+00,  4.3557e+00]],\n",
       "\n",
       "          [[-2.8549e+00, -3.2339e+00, -2.1223e+00,  ...,  1.1040e-02,\n",
       "             1.7662e-02,  5.3369e-03],\n",
       "           [-1.2568e+00, -1.3495e+00, -1.3228e+00,  ..., -7.6691e-02,\n",
       "             2.4298e-02,  2.1485e-02],\n",
       "           [-1.0288e+00, -9.9831e-01, -1.0028e+00,  ..., -3.9572e-01,\n",
       "            -1.6000e-02, -1.1950e-03],\n",
       "           ...,\n",
       "           [ 1.2838e+00,  1.4203e+00,  9.5196e-01,  ...,  8.1001e-01,\n",
       "             1.1559e+00,  9.8254e-01],\n",
       "           [ 1.6902e-01, -7.1537e-02, -8.0959e-02,  ...,  2.1567e+00,\n",
       "             2.4334e+00,  1.9242e+00],\n",
       "           [ 1.1084e+01,  1.4831e+01,  1.4809e+01,  ...,  1.1251e+01,\n",
       "             9.4950e+00,  6.3900e+00]],\n",
       "\n",
       "          [[-1.8339e+00, -2.0770e+00, -1.3274e+00,  ...,  1.1258e-02,\n",
       "             1.5109e-02,  4.0069e-03],\n",
       "           [-8.1000e-01, -8.9437e-01, -9.0399e-01,  ..., -1.8445e-02,\n",
       "             1.4882e-02,  1.5438e-02],\n",
       "           [-6.1996e-01, -6.1258e-01, -6.6069e-01,  ..., -2.1221e-01,\n",
       "            -1.0104e-02, -1.7250e-03],\n",
       "           ...,\n",
       "           [ 7.1929e-01,  7.5396e-01,  3.3537e-01,  ..., -8.9847e-01,\n",
       "            -5.8852e-01, -2.2613e-01],\n",
       "           [ 1.1331e-01, -2.6384e-01, -6.8087e-01,  ..., -1.8311e-01,\n",
       "             3.7594e-01,  5.5616e-01],\n",
       "           [ 7.5864e+00,  1.0081e+01,  1.0066e+01,  ...,  8.9117e+00,\n",
       "             7.6902e+00,  5.1437e+00]]]],\n",
       "\n",
       "\n",
       "\n",
       "        [[[[-2.5755e+00, -3.4231e+00, -3.4420e+00,  ..., -3.9322e+00,\n",
       "            -5.3563e+00, -5.2381e+00],\n",
       "           [ 2.1653e-01,  2.7502e-01,  1.6134e-01,  ..., -3.5081e-01,\n",
       "            -5.6457e-01, -4.7232e-01],\n",
       "           [ 1.5270e-01,  1.5406e-01,  4.6082e-02,  ..., -7.0356e-01,\n",
       "            -7.6811e-01, -3.2835e-01],\n",
       "           ...,\n",
       "           [-5.5764e-01, -1.0015e+00, -1.3752e+00,  ..., -1.2795e+00,\n",
       "            -9.1343e-01, -5.3116e-01],\n",
       "           [-1.7339e-01, -4.7582e-01, -9.3431e-01,  ..., -1.4194e+00,\n",
       "            -1.2567e+00, -8.4188e-01],\n",
       "           [ 3.4665e+00,  4.8874e+00,  5.2981e+00,  ...,  4.9527e+00,\n",
       "             4.3238e+00,  2.9549e+00]],\n",
       "\n",
       "          [[-3.7770e+00, -5.0223e+00, -5.0133e+00,  ..., -5.6900e+00,\n",
       "            -7.7540e+00, -7.6418e+00],\n",
       "           [ 2.8640e-01,  3.2605e-01,  1.3932e-01,  ..., -5.1857e-01,\n",
       "            -6.0877e-01, -4.6046e-01],\n",
       "           [ 1.3563e-01,  1.2671e-01, -3.6652e-04,  ..., -8.5761e-01,\n",
       "            -7.4112e-01, -1.4184e-01],\n",
       "           ...,\n",
       "           [-5.0613e-01, -8.9521e-01, -1.3436e+00,  ..., -1.7376e+00,\n",
       "            -1.1037e+00, -5.7736e-01],\n",
       "           [-7.2478e-02, -3.3307e-01, -7.6573e-01,  ..., -1.7957e+00,\n",
       "            -1.7804e+00, -1.3256e+00],\n",
       "           [ 4.8140e+00,  6.7939e+00,  7.5183e+00,  ...,  8.4474e+00,\n",
       "             7.5344e+00,  5.1902e+00]],\n",
       "\n",
       "          [[-3.6323e+00, -4.7894e+00, -4.7029e+00,  ..., -5.3877e+00,\n",
       "            -7.4197e+00, -7.4016e+00],\n",
       "           [ 1.9552e-01,  1.5300e-01, -4.6516e-02,  ..., -6.5633e-01,\n",
       "            -5.9415e-01, -3.6449e-01],\n",
       "           [ 2.1786e-02, -1.9822e-02, -1.1217e-01,  ..., -5.6389e-01,\n",
       "            -1.3900e-01,  3.4129e-01],\n",
       "           ...,\n",
       "           [ 6.7044e-02,  2.7898e-02, -2.0545e-01,  ..., -9.6407e-01,\n",
       "            -5.0039e-01, -2.0709e-01],\n",
       "           [ 2.7040e-01,  3.3287e-01,  2.1140e-01,  ..., -9.4941e-01,\n",
       "            -1.1791e+00, -1.0042e+00],\n",
       "           [ 4.1004e+00,  5.7694e+00,  6.5795e+00,  ...,  9.7958e+00,\n",
       "             9.4828e+00,  6.8630e+00]],\n",
       "\n",
       "          ...,\n",
       "\n",
       "          [[-1.0783e+01, -1.7004e+01, -2.0779e+01,  ..., -2.4742e+01,\n",
       "            -2.2871e+01, -1.5757e+01],\n",
       "           [ 2.3779e+00,  3.0148e+00,  2.4359e+00,  ...,  2.3821e-01,\n",
       "            -1.0482e+00, -1.3630e+00],\n",
       "           [ 3.5031e+00,  4.7551e+00,  4.2981e+00,  ...,  6.3386e-01,\n",
       "            -5.6454e-01, -1.0766e+00],\n",
       "           ...,\n",
       "           [ 8.4976e-01,  6.9311e-01, -2.7770e-02,  ..., -6.4477e-01,\n",
       "            -9.2935e-01, -9.8327e-01],\n",
       "           [ 2.3852e-01,  2.1800e-01, -4.3756e-02,  ..., -5.8772e-01,\n",
       "            -9.8037e-01, -1.1660e+00],\n",
       "           [ 1.9498e+00,  3.5153e+00,  4.8540e+00,  ...,  7.6546e+00,\n",
       "             7.9884e+00,  6.0219e+00]],\n",
       "\n",
       "          [[-7.0438e+00, -1.1814e+01, -1.6004e+01,  ..., -2.4236e+01,\n",
       "            -2.3865e+01, -1.7169e+01],\n",
       "           [ 1.8229e+00,  2.7663e+00,  3.1226e+00,  ...,  1.1709e+00,\n",
       "            -4.7689e-01, -1.2261e+00],\n",
       "           [ 1.8003e+00,  3.4224e+00,  4.4936e+00,  ...,  1.7730e+00,\n",
       "             1.5824e-01, -7.6568e-01],\n",
       "           ...,\n",
       "           [ 6.3437e-01,  5.5967e-01,  1.6278e-01,  ..., -9.5668e-02,\n",
       "            -3.1959e-01, -4.1387e-01],\n",
       "           [ 1.5547e-01,  1.8305e-01,  9.7167e-02,  ..., -2.0317e-01,\n",
       "            -5.7188e-01, -7.9091e-01],\n",
       "           [ 3.3478e+00,  5.2455e+00,  6.2864e+00,  ...,  8.3174e+00,\n",
       "             8.3926e+00,  6.2019e+00]],\n",
       "\n",
       "          [[-3.4753e+00, -5.9760e+00, -8.7435e+00,  ..., -1.5878e+01,\n",
       "            -1.6140e+01, -1.1946e+01],\n",
       "           [ 7.4208e-01,  1.4395e+00,  2.2637e+00,  ...,  1.1724e+00,\n",
       "             1.5194e-01, -5.2944e-01],\n",
       "           [ 4.5882e-01,  1.4768e+00,  2.8938e+00,  ...,  1.5833e+00,\n",
       "             4.2798e-01, -2.3470e-01],\n",
       "           ...,\n",
       "           [ 3.1103e-01,  3.0756e-01,  1.7887e-01,  ...,  1.5537e-01,\n",
       "             4.8725e-02, -5.0727e-02],\n",
       "           [ 5.3993e-02,  1.2470e-01,  1.4718e-01,  ...,  6.1730e-02,\n",
       "            -1.9668e-01, -3.6551e-01],\n",
       "           [ 2.7734e+00,  4.1771e+00,  4.7937e+00,  ...,  5.8682e+00,\n",
       "             5.8019e+00,  4.2549e+00]]]],\n",
       "\n",
       "\n",
       "\n",
       "        [[[[-7.5955e+00, -1.0119e+01, -9.9792e+00,  ..., -9.4439e+00,\n",
       "            -9.5573e+00, -7.3659e+00],\n",
       "           [ 3.4540e-01,  1.1427e+00,  1.9813e+00,  ...,  3.3608e+00,\n",
       "             3.5374e+00,  2.5120e+00],\n",
       "           [ 1.6368e+00,  2.5626e+00,  2.8694e+00,  ...,  3.6013e+00,\n",
       "             4.0495e+00,  3.2254e+00],\n",
       "           ...,\n",
       "           [ 5.7101e-01,  1.3271e+00,  2.2526e+00,  ...,  2.5482e+00,\n",
       "             2.5508e+00,  2.0809e+00],\n",
       "           [ 2.2869e-01,  5.9064e-01,  1.1602e+00,  ...,  1.1758e+00,\n",
       "             9.9753e-01,  7.0519e-01],\n",
       "           [ 2.9160e+00,  4.1198e+00,  4.7927e+00,  ...,  5.9024e+00,\n",
       "             5.7510e+00,  4.3081e+00]],\n",
       "\n",
       "          [[-1.1859e+01, -1.5841e+01, -1.5920e+01,  ..., -1.6624e+01,\n",
       "            -1.7020e+01, -1.3092e+01],\n",
       "           [ 1.0259e-01,  1.0108e+00,  2.1471e+00,  ...,  4.3662e+00,\n",
       "             4.4243e+00,  2.9434e+00],\n",
       "           [ 2.2039e+00,  3.5428e+00,  4.2265e+00,  ...,  5.6381e+00,\n",
       "             5.9523e+00,  4.4539e+00],\n",
       "           ...,\n",
       "           [ 7.3727e-01,  1.8070e+00,  3.0823e+00,  ...,  3.4147e+00,\n",
       "             3.1404e+00,  2.3853e+00],\n",
       "           [ 3.2689e-01,  9.6132e-01,  1.8506e+00,  ...,  1.8300e+00,\n",
       "             1.4924e+00,  1.0158e+00],\n",
       "           [ 5.3322e+00,  7.6391e+00,  8.8666e+00,  ...,  1.0756e+01,\n",
       "             1.0648e+01,  8.0333e+00]],\n",
       "\n",
       "          [[-1.2796e+01, -1.7267e+01, -1.7899e+01,  ..., -2.0748e+01,\n",
       "            -2.1337e+01, -1.6285e+01],\n",
       "           [-5.0785e-01,  8.3903e-02,  1.0885e+00,  ...,  2.8190e+00,\n",
       "             2.6399e+00,  1.4801e+00],\n",
       "           [ 1.6697e+00,  2.7176e+00,  3.5445e+00,  ...,  5.3647e+00,\n",
       "             5.3063e+00,  3.6152e+00],\n",
       "           ...,\n",
       "           [ 5.8266e-01,  1.5036e+00,  2.5303e+00,  ...,  2.2931e+00,\n",
       "             1.6490e+00,  1.0285e+00],\n",
       "           [ 2.0734e-01,  8.3388e-01,  1.6965e+00,  ...,  1.6696e+00,\n",
       "             1.2560e+00,  7.7459e-01],\n",
       "           [ 7.1894e+00,  1.0271e+01,  1.1653e+01,  ...,  1.3895e+01,\n",
       "             1.3979e+01,  1.0580e+01]],\n",
       "\n",
       "          ...,\n",
       "\n",
       "          [[-1.0083e+01, -1.2988e+01, -1.2315e+01,  ..., -1.0546e+01,\n",
       "            -1.0075e+01, -7.3695e+00],\n",
       "           [-2.0170e+00, -2.3890e+00, -1.9718e+00,  ..., -3.6867e-01,\n",
       "            -3.3976e-02,  7.3452e-02],\n",
       "           [-2.4958e+00, -3.2289e+00, -2.7631e+00,  ..., -1.2103e+00,\n",
       "            -8.5953e-01, -4.8558e-01],\n",
       "           ...,\n",
       "           [-7.2436e-01, -8.4099e-01, -5.0516e-01,  ...,  1.0707e+00,\n",
       "             1.1405e+00,  8.9241e-01],\n",
       "           [-1.3024e+00, -1.5624e+00, -8.8746e-01,  ...,  1.2290e+00,\n",
       "             1.3125e+00,  9.7950e-01],\n",
       "           [ 6.2881e+00,  8.0489e+00,  7.3297e+00,  ...,  4.8489e+00,\n",
       "             4.4727e+00,  3.2051e+00]],\n",
       "\n",
       "          [[-1.2430e+01, -1.6164e+01, -1.5337e+01,  ..., -1.2459e+01,\n",
       "            -1.1755e+01, -8.5605e+00],\n",
       "           [-2.8229e+00, -3.5373e+00, -3.3564e+00,  ..., -1.6893e+00,\n",
       "            -9.9794e-01, -4.8725e-01],\n",
       "           [-2.6510e+00, -3.6901e+00, -3.6090e+00,  ..., -2.8919e+00,\n",
       "            -2.2526e+00, -1.3155e+00],\n",
       "           ...,\n",
       "           [ 4.6284e-01,  6.9359e-01,  7.9953e-01,  ...,  8.9972e-01,\n",
       "             7.7240e-01,  5.2956e-01],\n",
       "           [ 7.0079e-02,  2.8527e-01,  6.5901e-01,  ...,  1.3889e+00,\n",
       "             1.3237e+00,  9.7211e-01],\n",
       "           [ 4.8824e+00,  6.3561e+00,  6.0915e+00,  ...,  5.4699e+00,\n",
       "             5.3368e+00,  3.9674e+00]],\n",
       "\n",
       "          [[-9.2672e+00, -1.2034e+01, -1.1382e+01,  ..., -9.0373e+00,\n",
       "            -8.4757e+00, -6.1371e+00],\n",
       "           [-2.1506e+00, -2.7473e+00, -2.7141e+00,  ..., -1.6732e+00,\n",
       "            -1.0863e+00, -5.7232e-01],\n",
       "           [-1.6351e+00, -2.4767e+00, -2.7224e+00,  ..., -2.6694e+00,\n",
       "            -2.1237e+00, -1.2817e+00],\n",
       "           ...,\n",
       "           [ 4.9746e-01,  7.0395e-01,  7.3563e-01,  ...,  5.6080e-01,\n",
       "             3.9590e-01,  2.1499e-01],\n",
       "           [ 3.4195e-01,  5.6263e-01,  7.2180e-01,  ...,  8.7827e-01,\n",
       "             8.0326e-01,  5.8469e-01],\n",
       "           [ 3.0646e+00,  4.0219e+00,  3.9266e+00,  ...,  3.8793e+00,\n",
       "             3.8777e+00,  2.9344e+00]]]],\n",
       "\n",
       "\n",
       "\n",
       "        ...,\n",
       "\n",
       "\n",
       "\n",
       "        [[[[-9.3631e+00, -1.2250e+01, -1.1915e+01,  ..., -1.1344e+01,\n",
       "            -1.1401e+01, -8.5614e+00],\n",
       "           [-2.4574e-01, -4.3530e-02,  2.4719e-01,  ...,  4.1425e-01,\n",
       "             2.8559e-01,  1.6288e-01],\n",
       "           [ 3.6367e-01,  5.7486e-01,  7.3538e-01,  ...,  1.1344e+00,\n",
       "             1.1963e+00,  9.1912e-01],\n",
       "           ...,\n",
       "           [-2.8194e-01, -4.6922e-01, -7.3518e-01,  ..., -1.6555e+00,\n",
       "            -1.8273e+00, -1.3894e+00],\n",
       "           [-1.3563e-01, -2.0329e-01, -3.7545e-01,  ..., -9.5729e-01,\n",
       "            -7.0087e-01, -2.5251e-01],\n",
       "           [ 7.6513e+00,  1.0183e+01,  1.0363e+01,  ...,  1.2601e+01,\n",
       "             1.3408e+01,  1.0281e+01]],\n",
       "\n",
       "          [[-1.4147e+01, -1.8444e+01, -1.7863e+01,  ..., -1.6991e+01,\n",
       "            -1.7142e+01, -1.2956e+01],\n",
       "           [ 1.6975e-01,  4.5390e-01,  7.0179e-01,  ...,  8.1999e-01,\n",
       "             7.0557e-01,  4.7770e-01],\n",
       "           [ 8.3078e-01,  1.1671e+00,  1.3347e+00,  ...,  1.8257e+00,\n",
       "             1.9998e+00,  1.6207e+00],\n",
       "           ...,\n",
       "           [-5.3432e-01, -9.4368e-01, -1.3670e+00,  ..., -2.3138e+00,\n",
       "            -2.2713e+00, -1.6536e+00],\n",
       "           [-4.1219e-01, -7.0470e-01, -1.0500e+00,  ..., -1.5410e+00,\n",
       "            -1.1233e+00, -5.0377e-01],\n",
       "           [ 1.1415e+01,  1.5084e+01,  1.5188e+01,  ...,  1.8097e+01,\n",
       "             1.8724e+01,  1.3966e+01]],\n",
       "\n",
       "          [[-1.4141e+01, -1.8345e+01, -1.7691e+01,  ..., -1.6938e+01,\n",
       "            -1.7304e+01, -1.3289e+01],\n",
       "           [ 1.0693e+00,  1.3988e+00,  1.3247e+00,  ...,  1.1004e+00,\n",
       "             1.0472e+00,  7.2910e-01],\n",
       "           [ 1.3198e+00,  1.6937e+00,  1.6996e+00,  ...,  1.8498e+00,\n",
       "             2.0973e+00,  1.7858e+00],\n",
       "           ...,\n",
       "           [-5.8426e-01, -1.0629e+00, -1.4637e+00,  ..., -1.5381e+00,\n",
       "            -1.0118e+00, -6.5698e-01],\n",
       "           [-7.2910e-01, -1.2648e+00, -1.6488e+00,  ..., -1.3824e+00,\n",
       "            -6.6013e-01, -4.1027e-01],\n",
       "           [ 1.1077e+01,  1.4399e+01,  1.4167e+01,  ...,  1.5840e+01,\n",
       "             1.5200e+01,  1.0586e+01]],\n",
       "\n",
       "          ...,\n",
       "\n",
       "          [[-2.0719e+00, -3.3558e+00, -5.8075e+00,  ..., -1.9694e+01,\n",
       "            -1.9975e+01, -1.4496e+01],\n",
       "           [ 5.4354e-01,  1.6011e+00,  2.9881e+00,  ...,  8.8022e-01,\n",
       "             3.6798e-01,  5.3673e-02],\n",
       "           [ 1.4093e-01,  4.0148e-01,  7.9568e-01,  ..., -5.0173e-02,\n",
       "            -1.0678e-02,  1.1726e-01],\n",
       "           ...,\n",
       "           [ 1.8665e+00,  3.8252e+00,  5.0872e+00,  ...,  1.0847e+00,\n",
       "            -1.5619e+00, -2.6784e+00],\n",
       "           [ 3.2113e+00,  4.4997e+00,  3.9424e+00,  ..., -8.6820e-01,\n",
       "            -2.8006e+00, -2.8808e+00],\n",
       "           [ 1.2476e+01,  1.4270e+01,  1.0942e+01,  ...,  1.0950e+01,\n",
       "             1.3381e+01,  1.1186e+01]],\n",
       "\n",
       "          [[-1.8701e+00, -2.6409e+00, -3.4855e+00,  ..., -1.6076e+01,\n",
       "            -1.8416e+01, -1.4266e+01],\n",
       "           [ 1.5095e-01,  3.4484e-01,  9.6458e-01,  ...,  9.4439e-01,\n",
       "             3.4155e-01, -6.3020e-02],\n",
       "           [ 2.9820e-02,  6.0457e-02,  2.3937e-01,  ...,  1.5860e-02,\n",
       "             3.8342e-02,  1.0429e-01],\n",
       "           ...,\n",
       "           [ 4.3071e-01,  1.2146e+00,  2.3034e+00,  ...,  5.9054e-01,\n",
       "            -1.5365e+00, -2.2622e+00],\n",
       "           [ 1.5000e+00,  2.3473e+00,  2.6953e+00,  ..., -6.3143e-01,\n",
       "            -1.8616e+00, -1.5975e+00],\n",
       "           [ 1.3582e+01,  1.7016e+01,  1.5251e+01,  ...,  1.6510e+01,\n",
       "             1.8436e+01,  1.4514e+01]],\n",
       "\n",
       "          [[-1.2268e+00, -1.6648e+00, -1.9364e+00,  ..., -9.1716e+00,\n",
       "            -1.1526e+01, -9.3316e+00],\n",
       "           [ 4.0363e-02,  4.5563e-02,  1.3669e-01,  ...,  6.5315e-01,\n",
       "             2.8747e-01, -2.8093e-02],\n",
       "           [ 3.2186e-03, -2.2838e-02, -1.5814e-02,  ...,  5.2099e-03,\n",
       "             4.4592e-02,  9.0125e-02],\n",
       "           ...,\n",
       "           [-1.3984e-01, -1.5114e-01, -2.3084e-02,  ..., -2.3790e-01,\n",
       "            -9.0542e-01, -9.8565e-01],\n",
       "           [ 4.5332e-01,  5.9117e-01,  7.6650e-01,  ..., -1.8648e-02,\n",
       "            -3.8810e-01, -3.0022e-01],\n",
       "           [ 9.2178e+00,  1.2145e+01,  1.1977e+01,  ...,  1.3353e+01,\n",
       "             1.3881e+01,  1.0456e+01]]]],\n",
       "\n",
       "\n",
       "\n",
       "        [[[[-7.8985e+00, -1.0511e+01, -1.0454e+01,  ..., -1.0599e+01,\n",
       "            -1.0823e+01, -8.1882e+00],\n",
       "           [-7.3902e-01, -7.8007e-01, -5.2186e-01,  ...,  1.9344e-01,\n",
       "             1.9567e-01,  1.6790e-01],\n",
       "           [-6.1674e-01, -7.2758e-01, -7.3420e-01,  ...,  7.8527e-01,\n",
       "             1.6777e+00,  1.6653e+00],\n",
       "           ...,\n",
       "           [-1.3277e+00, -1.9622e+00, -1.7849e+00,  ..., -2.9694e-01,\n",
       "             2.7762e-01,  4.8131e-01],\n",
       "           [-9.5807e-01, -1.9578e+00, -2.2231e+00,  ..., -5.9241e-01,\n",
       "            -7.2564e-02,  1.6502e-01],\n",
       "           [ 5.5312e+00,  6.3787e+00,  4.8511e+00,  ...,  1.8536e+00,\n",
       "             1.5877e+00,  1.1723e+00]],\n",
       "\n",
       "          [[-1.2399e+01, -1.6392e+01, -1.6181e+01,  ..., -1.5980e+01,\n",
       "            -1.6108e+01, -1.2129e+01],\n",
       "           [-8.2476e-01, -8.2971e-01, -5.1897e-01,  ...,  4.6752e-01,\n",
       "             4.8440e-01,  3.5142e-01],\n",
       "           [-6.9854e-01, -9.0445e-01, -9.6034e-01,  ...,  1.0175e+00,\n",
       "             2.0293e+00,  1.9549e+00],\n",
       "           ...,\n",
       "           [-2.1423e+00, -2.9134e+00, -2.5423e+00,  ...,  1.7732e-01,\n",
       "             1.0616e+00,  1.1660e+00],\n",
       "           [-2.0918e+00, -3.2617e+00, -3.2068e+00,  ..., -3.9906e-01,\n",
       "             5.4358e-01,  7.8955e-01],\n",
       "           [ 7.3612e+00,  8.5137e+00,  6.5968e+00,  ...,  2.7490e+00,\n",
       "             2.5766e+00,  2.0138e+00]],\n",
       "\n",
       "          [[-1.3483e+01, -1.7665e+01, -1.7254e+01,  ..., -1.6249e+01,\n",
       "            -1.6007e+01, -1.1932e+01],\n",
       "           [-3.7642e-01, -2.4947e-01, -6.2656e-02,  ...,  6.3803e-01,\n",
       "             6.3478e-01,  4.2669e-01],\n",
       "           [-2.3620e-01, -4.2239e-01, -5.9085e-01,  ...,  6.1662e-01,\n",
       "             1.1015e+00,  1.0213e+00],\n",
       "           ...,\n",
       "           [-2.1089e+00, -2.5758e+00, -2.0078e+00,  ...,  1.1955e+00,\n",
       "             2.2166e+00,  2.1536e+00],\n",
       "           [-2.6604e+00, -3.4525e+00, -2.8179e+00,  ...,  4.3959e-01,\n",
       "             1.4690e+00,  1.5267e+00],\n",
       "           [ 5.7362e+00,  6.6766e+00,  5.2972e+00,  ...,  2.8199e+00,\n",
       "             3.0338e+00,  2.4953e+00]],\n",
       "\n",
       "          ...,\n",
       "\n",
       "          [[-1.0622e+01, -1.4128e+01, -1.4506e+01,  ..., -1.4539e+01,\n",
       "            -1.4137e+01, -1.0412e+01],\n",
       "           [-1.4601e+00, -1.9572e+00, -1.8824e+00,  ...,  1.3264e-01,\n",
       "             6.0146e-02, -1.5680e-01],\n",
       "           [-1.7571e+00, -2.3919e+00, -1.8471e+00,  ...,  1.3660e+00,\n",
       "             1.0660e+00,  5.6381e-01],\n",
       "           ...,\n",
       "           [-5.1157e+00, -7.4436e+00, -6.9500e+00,  ...,  1.6277e+00,\n",
       "             4.0828e+00,  3.9816e+00],\n",
       "           [-3.4704e+00, -5.5593e+00, -6.0779e+00,  ...,  2.6145e+00,\n",
       "             6.1050e+00,  5.7239e+00],\n",
       "           [ 1.2188e+01,  1.6126e+01,  1.5476e+01,  ...,  1.8463e+01,\n",
       "             1.8827e+01,  1.3623e+01]],\n",
       "\n",
       "          [[-1.1080e+01, -1.4643e+01, -1.4785e+01,  ..., -1.4858e+01,\n",
       "            -1.4653e+01, -1.0895e+01],\n",
       "           [-9.9590e-01, -1.2252e+00, -1.3192e+00,  ..., -1.0207e+00,\n",
       "            -1.1986e+00, -1.1792e+00],\n",
       "           [-1.0419e+00, -1.5620e+00, -1.6651e+00,  ..., -1.3930e+00,\n",
       "            -1.5630e+00, -1.3126e+00],\n",
       "           ...,\n",
       "           [-3.0484e+00, -4.6740e+00, -4.2654e+00,  ...,  4.8480e+00,\n",
       "             7.2119e+00,  6.2728e+00],\n",
       "           [-8.7111e-01, -1.7562e+00, -1.7612e+00,  ...,  6.9969e+00,\n",
       "             9.1008e+00,  7.3084e+00],\n",
       "           [ 1.3459e+01,  1.8185e+01,  1.8374e+01,  ...,  1.8679e+01,\n",
       "             1.6608e+01,  1.1061e+01]],\n",
       "\n",
       "          [[-7.6303e+00, -1.0047e+01, -1.0050e+01,  ..., -1.0154e+01,\n",
       "            -1.0008e+01, -7.4319e+00],\n",
       "           [-4.1815e-01, -4.0983e-01, -4.8226e-01,  ..., -5.4975e-01,\n",
       "            -6.7041e-01, -6.7276e-01],\n",
       "           [-3.8709e-01, -6.2429e-01, -7.9998e-01,  ..., -9.0168e-01,\n",
       "            -9.8346e-01, -8.1679e-01],\n",
       "           ...,\n",
       "           [-7.4828e-01, -1.1397e+00, -7.0556e-01,  ...,  4.5438e+00,\n",
       "             6.1574e+00,  5.2177e+00],\n",
       "           [ 2.1024e-01,  2.1199e-01,  6.3791e-01,  ...,  6.4180e+00,\n",
       "             7.4339e+00,  5.6632e+00],\n",
       "           [ 9.1011e+00,  1.2428e+01,  1.2905e+01,  ...,  1.1779e+01,\n",
       "             9.5718e+00,  5.9956e+00]]]],\n",
       "\n",
       "\n",
       "\n",
       "        [[[[-9.0150e+00, -1.1937e+01, -1.1927e+01,  ..., -1.3673e+01,\n",
       "            -1.4041e+01, -1.0471e+01],\n",
       "           [ 1.4517e+00,  2.9834e+00,  3.9755e+00,  ...,  1.0142e+00,\n",
       "            -5.3013e-01, -9.3567e-01],\n",
       "           [ 4.5007e+00,  6.6832e+00,  7.1676e+00,  ...,  3.3270e+00,\n",
       "             1.6407e+00,  6.0360e-01],\n",
       "           ...,\n",
       "           [ 6.1326e-01,  7.5961e-01,  5.4075e-01,  ...,  1.6374e-01,\n",
       "             1.9308e-01,  1.1538e-01],\n",
       "           [ 4.7575e-01,  6.6829e-01,  7.2614e-01,  ...,  1.9053e-01,\n",
       "             7.9066e-02,  4.1001e-02],\n",
       "           [ 1.7870e+00,  2.6456e+00,  3.1844e+00,  ...,  2.5905e+00,\n",
       "             1.7791e+00,  1.1029e+00]],\n",
       "\n",
       "          [[-1.3962e+01, -1.8522e+01, -1.8674e+01,  ..., -2.1128e+01,\n",
       "            -2.1405e+01, -1.5886e+01],\n",
       "           [ 1.2842e+00,  2.7933e+00,  3.7505e+00,  ...,  1.5197e-01,\n",
       "            -1.4618e+00, -1.5907e+00],\n",
       "           [ 5.2083e+00,  7.6166e+00,  8.0691e+00,  ...,  3.2108e+00,\n",
       "             1.6414e+00,  7.9201e-01],\n",
       "           ...,\n",
       "           [ 1.7357e+00,  2.3816e+00,  1.7944e+00,  ...,  4.2101e-02,\n",
       "             2.0449e-01,  1.8311e-01],\n",
       "           [ 1.2436e+00,  1.7064e+00,  1.5137e+00,  ..., -1.5842e-01,\n",
       "            -5.1485e-02,  5.6663e-02],\n",
       "           [ 3.2479e+00,  4.6975e+00,  5.4198e+00,  ...,  3.9751e+00,\n",
       "             2.7081e+00,  1.6680e+00]],\n",
       "\n",
       "          [[-1.4610e+01, -1.9411e+01, -1.9742e+01,  ..., -2.1932e+01,\n",
       "            -2.1788e+01, -1.6034e+01],\n",
       "           [ 6.5984e-02,  3.7459e-01,  5.4040e-01,  ..., -1.6296e+00,\n",
       "            -2.0142e+00, -1.4510e+00],\n",
       "           [ 2.8385e+00,  4.0475e+00,  4.0409e+00,  ...,  4.7732e-01,\n",
       "             7.6269e-01,  1.0699e+00],\n",
       "           ...,\n",
       "           [ 3.2709e+00,  3.5752e+00,  1.7891e+00,  ..., -3.9706e-01,\n",
       "            -4.2588e-03,  1.4562e-01],\n",
       "           [ 3.0333e+00,  3.4282e+00,  1.6970e+00,  ..., -9.4375e-01,\n",
       "            -4.0379e-01, -2.3720e-02],\n",
       "           [ 4.6835e+00,  6.6824e+00,  7.0004e+00,  ...,  4.0508e+00,\n",
       "             2.7569e+00,  1.6817e+00]],\n",
       "\n",
       "          ...,\n",
       "\n",
       "          [[-1.1105e+01, -1.3803e+01, -1.2812e+01,  ..., -1.5647e+01,\n",
       "            -1.7257e+01, -1.3238e+01],\n",
       "           [-1.4666e+00, -1.7693e+00, -1.2783e+00,  ...,  1.3811e+00,\n",
       "             6.9604e-01,  1.7246e-02],\n",
       "           [-8.8405e-02, -1.7849e-01, -1.1781e-01,  ...,  7.5926e-01,\n",
       "             5.3845e-01,  1.6569e-01],\n",
       "           ...,\n",
       "           [ 1.9973e+00,  2.2082e+00,  3.3234e-01,  ..., -3.5048e+00,\n",
       "            -2.4230e+00, -1.3012e+00],\n",
       "           [ 1.7234e+00,  2.1887e+00,  6.6291e-01,  ..., -4.0470e+00,\n",
       "            -2.9788e+00, -1.6043e+00],\n",
       "           [ 1.1743e+01,  1.5610e+01,  1.5139e+01,  ...,  7.9757e+00,\n",
       "             6.2458e+00,  4.1398e+00]],\n",
       "\n",
       "          [[-1.2933e+01, -1.7259e+01, -1.7513e+01,  ..., -1.9435e+01,\n",
       "            -1.9048e+01, -1.3661e+01],\n",
       "           [-8.6279e-01, -7.4054e-01, -3.4404e-01,  ...,  1.2686e+00,\n",
       "             7.9317e-01,  2.3702e-01],\n",
       "           [-2.5574e-01, -1.7503e-01,  6.6182e-02,  ...,  1.0412e+00,\n",
       "             9.4898e-01,  5.5156e-01],\n",
       "           ...,\n",
       "           [ 1.7249e+00,  1.9304e+00,  4.1902e-01,  ..., -1.9651e+00,\n",
       "            -1.1329e+00, -5.9264e-01],\n",
       "           [ 1.4648e+00,  1.8378e+00,  5.5929e-01,  ..., -3.3845e+00,\n",
       "            -2.1112e+00, -1.0623e+00],\n",
       "           [ 1.1274e+01,  1.4809e+01,  1.4159e+01,  ...,  5.5774e+00,\n",
       "             4.1344e+00,  2.7521e+00]],\n",
       "\n",
       "          [[-9.1593e+00, -1.2465e+01, -1.2968e+01,  ..., -1.3711e+01,\n",
       "            -1.2890e+01, -9.0485e+00],\n",
       "           [-1.7689e-01,  7.9835e-02,  3.5059e-01,  ...,  9.3064e-01,\n",
       "             6.8327e-01,  2.8750e-01],\n",
       "           [-1.6237e-02,  4.1715e-02,  1.3789e-01,  ...,  8.4060e-01,\n",
       "             8.6007e-01,  5.9933e-01],\n",
       "           ...,\n",
       "           [ 9.8600e-01,  1.1926e+00,  4.5674e-01,  ..., -8.1071e-01,\n",
       "            -3.6524e-01, -1.4495e-01],\n",
       "           [ 7.9694e-01,  9.8666e-01,  4.0792e-01,  ..., -1.7891e+00,\n",
       "            -1.0397e+00, -5.0382e-01],\n",
       "           [ 7.2384e+00,  9.4477e+00,  9.0390e+00,  ...,  3.2106e+00,\n",
       "             2.2264e+00,  1.4064e+00]]]]], grad_fn=<ConvolutionBackward0>)"
      ]
     },
     "execution_count": 46,
     "metadata": {},
     "output_type": "execute_result"
    }
   ],
   "source": [
    "pred_temp"
   ]
  },
  {
   "cell_type": "code",
   "execution_count": null,
   "id": "0cdc49cd",
   "metadata": {},
   "outputs": [],
   "source": []
  },
  {
   "cell_type": "markdown",
   "id": "8366c2dc",
   "metadata": {},
   "source": [
    "### DCELoss"
   ]
  },
  {
   "cell_type": "code",
   "execution_count": 178,
   "id": "3f31df15",
   "metadata": {},
   "outputs": [],
   "source": [
    "import torch\n",
    "import torch.nn as nn\n",
    "import numpy as np\n",
    "import math\n",
    "from torch import linalg as LA\n",
    "\n",
    "class DCELoss(nn.Module):\n",
    "    def __init__(self):\n",
    "        super(DCELoss,self).__init__()\n",
    "\n",
    "\n",
    "    def forward(self,pred,hr):\n",
    "        S_srhr = torch.zeros((8,8))\n",
    "        S_srsr = torch.zeros((8,8))\n",
    "        M = torch.zeros((8,8))\n",
    "        pred_temp = pred.reshape(8,temp)\n",
    "        hr_temp = hr.reshape(8,temp)\n",
    "        for i in range(8):\n",
    "            for j in range(8):\n",
    "                S_srhr[i][j] = torch.dot(pred_temp[i],hr_temp[j])/(LA.norm(pred_temp[i])* LA.norm(hr_temp[j]))\n",
    "                S_srsr[i][j] = torch.dot(pred_temp[i],pred_temp[j])/(LA.norm(pred_temp[i])* LA.norm(pred_temp[j]))\n",
    "                M[i][j] = min((-20)*torch.log10(LA.norm(hr_temp[i] - hr_temp[j])),0)\n",
    "                \n",
    "        Q_pos = torch.zeros((8))\n",
    "        Q_neg = torch.zeros((8))\n",
    "        n_thres = M.median()\n",
    "        t_pos,t_neg = 0.5,0.5\n",
    "        for i in range(8):\n",
    "            for j in range(8):\n",
    "                if( abs(M[i][j]) > abs(n_thres)):\n",
    "                    Q_pos[i] +=  (( torch.exp(S_srsr[i][j]) + (2*torch.exp(S_srhr[i][j])) ) /t_pos )\n",
    "                else:\n",
    "                    Q_neg[i] += (( torch.exp(S_srsr[i][j]) + (2*torch.exp(S_srhr[i][j])) ) /t_neg )\n",
    "                \n",
    "        los = (-1/8) * torch.log(Q_pos/Q_neg).sum()\n",
    "        \n",
    "        return los"
   ]
  },
  {
   "cell_type": "code",
   "execution_count": 179,
   "id": "73716401",
   "metadata": {},
   "outputs": [],
   "source": [
    "loss_fn = DCELoss()"
   ]
  },
  {
   "cell_type": "code",
   "execution_count": 180,
   "id": "59c04b88",
   "metadata": {},
   "outputs": [
    {
     "data": {
      "text/plain": [
       "tensor(0.1657, grad_fn=<MulBackward0>)"
      ]
     },
     "execution_count": 180,
     "metadata": {},
     "output_type": "execute_result"
    }
   ],
   "source": [
    "loss_fn(pred_tensor,hr_tensor)"
   ]
  },
  {
   "cell_type": "code",
   "execution_count": 177,
   "id": "6f55e4da",
   "metadata": {},
   "outputs": [
    {
     "ename": "ValueError",
     "evalue": "Input images must have the same dimensions.",
     "output_type": "error",
     "traceback": [
      "\u001b[0;31m---------------------------------------------------------------------------\u001b[0m",
      "\u001b[0;31mValueError\u001b[0m                                Traceback (most recent call last)",
      "Cell \u001b[0;32mIn[177], line 1\u001b[0m\n\u001b[0;32m----> 1\u001b[0m \u001b[38;5;28mfloat\u001b[39m(\u001b[43mmetrics\u001b[49m\u001b[38;5;241;43m.\u001b[39;49m\u001b[43mpeak_signal_noise_ratio\u001b[49m\u001b[43m(\u001b[49m\u001b[43mhr\u001b[49m\u001b[43m,\u001b[49m\u001b[43mpred\u001b[49m\u001b[43m,\u001b[49m\u001b[43mdata_range\u001b[49m\u001b[38;5;241;43m=\u001b[39;49m\u001b[38;5;241;43m1\u001b[39;49m\u001b[43m)\u001b[49m)\n",
      "File \u001b[0;32m/usr/local/lib/python3.10/dist-packages/skimage/metrics/simple_metrics.py:142\u001b[0m, in \u001b[0;36mpeak_signal_noise_ratio\u001b[0;34m(image_true, image_test, data_range)\u001b[0m\n\u001b[1;32m    111\u001b[0m \u001b[38;5;28;01mdef\u001b[39;00m \u001b[38;5;21mpeak_signal_noise_ratio\u001b[39m(image_true, image_test, \u001b[38;5;241m*\u001b[39m, data_range\u001b[38;5;241m=\u001b[39m\u001b[38;5;28;01mNone\u001b[39;00m):\n\u001b[1;32m    112\u001b[0m \u001b[38;5;250m    \u001b[39m\u001b[38;5;124;03m\"\"\"\u001b[39;00m\n\u001b[1;32m    113\u001b[0m \u001b[38;5;124;03m    Compute the peak signal to noise ratio (PSNR) for an image.\u001b[39;00m\n\u001b[1;32m    114\u001b[0m \n\u001b[0;32m   (...)\u001b[0m\n\u001b[1;32m    140\u001b[0m \n\u001b[1;32m    141\u001b[0m \u001b[38;5;124;03m    \"\"\"\u001b[39;00m\n\u001b[0;32m--> 142\u001b[0m     \u001b[43mcheck_shape_equality\u001b[49m\u001b[43m(\u001b[49m\u001b[43mimage_true\u001b[49m\u001b[43m,\u001b[49m\u001b[43m \u001b[49m\u001b[43mimage_test\u001b[49m\u001b[43m)\u001b[49m\n\u001b[1;32m    144\u001b[0m     \u001b[38;5;28;01mif\u001b[39;00m data_range \u001b[38;5;129;01mis\u001b[39;00m \u001b[38;5;28;01mNone\u001b[39;00m:\n\u001b[1;32m    145\u001b[0m         \u001b[38;5;28;01mif\u001b[39;00m image_true\u001b[38;5;241m.\u001b[39mdtype \u001b[38;5;241m!=\u001b[39m image_test\u001b[38;5;241m.\u001b[39mdtype:\n",
      "File \u001b[0;32m/usr/local/lib/python3.10/dist-packages/skimage/_shared/utils.py:504\u001b[0m, in \u001b[0;36mcheck_shape_equality\u001b[0;34m(*images)\u001b[0m\n\u001b[1;32m    502\u001b[0m image0 \u001b[38;5;241m=\u001b[39m images[\u001b[38;5;241m0\u001b[39m]\n\u001b[1;32m    503\u001b[0m \u001b[38;5;28;01mif\u001b[39;00m \u001b[38;5;129;01mnot\u001b[39;00m \u001b[38;5;28mall\u001b[39m(image0\u001b[38;5;241m.\u001b[39mshape \u001b[38;5;241m==\u001b[39m image\u001b[38;5;241m.\u001b[39mshape \u001b[38;5;28;01mfor\u001b[39;00m image \u001b[38;5;129;01min\u001b[39;00m images[\u001b[38;5;241m1\u001b[39m:]):\n\u001b[0;32m--> 504\u001b[0m     \u001b[38;5;28;01mraise\u001b[39;00m \u001b[38;5;167;01mValueError\u001b[39;00m(\u001b[38;5;124m'\u001b[39m\u001b[38;5;124mInput images must have the same dimensions.\u001b[39m\u001b[38;5;124m'\u001b[39m)\n\u001b[1;32m    505\u001b[0m \u001b[38;5;28;01mreturn\u001b[39;00m\n",
      "\u001b[0;31mValueError\u001b[0m: Input images must have the same dimensions."
     ]
    }
   ],
   "source": [
    "float(metrics.peak_signal_noise_ratio(hr,pred,data_range=1))"
   ]
  },
  {
   "cell_type": "code",
   "execution_count": 126,
   "id": "36d44ab5",
   "metadata": {},
   "outputs": [],
   "source": [
    "\n",
    "for i in range(8):\n",
    "    for j in range(8):"
   ]
  },
  {
   "cell_type": "code",
   "execution_count": 130,
   "id": "840443ba",
   "metadata": {},
   "outputs": [
    {
     "ename": "NameError",
     "evalue": "name 'mean' is not defined",
     "output_type": "error",
     "traceback": [
      "\u001b[0;31m---------------------------------------------------------------------------\u001b[0m",
      "\u001b[0;31mNameError\u001b[0m                                 Traceback (most recent call last)",
      "Cell \u001b[0;32mIn[130], line 1\u001b[0m\n\u001b[0;32m----> 1\u001b[0m \u001b[43mmean\u001b[49m(M)\n",
      "\u001b[0;31mNameError\u001b[0m: name 'mean' is not defined"
     ]
    }
   ],
   "source": [
    "mean(M)"
   ]
  },
  {
   "cell_type": "code",
   "execution_count": 133,
   "id": "c8a085d9",
   "metadata": {},
   "outputs": [
    {
     "data": {
      "text/plain": [
       "tensor(-27.0891)"
      ]
     },
     "execution_count": 133,
     "metadata": {},
     "output_type": "execute_result"
    }
   ],
   "source": [
    "M.mean()"
   ]
  },
  {
   "cell_type": "code",
   "execution_count": 141,
   "id": "c5711403",
   "metadata": {},
   "outputs": [
    {
     "data": {
      "text/plain": [
       "(tensor(-30.9380), tensor(-27.0891))"
      ]
     },
     "execution_count": 141,
     "metadata": {},
     "output_type": "execute_result"
    }
   ],
   "source": [
    "M.median(),M.mean()"
   ]
  },
  {
   "cell_type": "code",
   "execution_count": 143,
   "id": "d2b42d04",
   "metadata": {},
   "outputs": [
    {
     "data": {
      "text/plain": [
       "tensor([  0.0000, -30.0437, -30.5460, -30.4371, -30.5017, -30.9214, -30.0437,\n",
       "          0.0000, -30.7547, -30.5460, -30.7547,   0.0000,   0.0000, -29.1075,\n",
       "        -30.7632, -28.8074, -30.4371,   0.0000, -30.4007, -29.1075,   0.0000,\n",
       "        -29.2137, -30.5017, -30.7632, -30.4007,   0.0000, -30.3235, -30.9214,\n",
       "        -28.8074, -29.2137, -30.3235,   0.0000])"
      ]
     },
     "execution_count": 143,
     "metadata": {},
     "output_type": "execute_result"
    }
   ],
   "source": [
    "M[M>M.median()]"
   ]
  },
  {
   "cell_type": "code",
   "execution_count": null,
   "id": "1f53b399",
   "metadata": {},
   "outputs": [],
   "source": []
  }
 ],
 "metadata": {
  "kernelspec": {
   "display_name": "Python 3 (ipykernel)",
   "language": "python",
   "name": "python3"
  },
  "language_info": {
   "codemirror_mode": {
    "name": "ipython",
    "version": 3
   },
   "file_extension": ".py",
   "mimetype": "text/x-python",
   "name": "python",
   "nbconvert_exporter": "python",
   "pygments_lexer": "ipython3",
   "version": "3.10.12"
  }
 },
 "nbformat": 4,
 "nbformat_minor": 5
}
