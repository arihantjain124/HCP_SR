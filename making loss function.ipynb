{
 "cells": [
  {
   "cell_type": "code",
   "execution_count": 1,
   "id": "c156c0de",
   "metadata": {},
   "outputs": [
    {
     "name": "stdout",
     "output_type": "stream",
     "text": [
      "number of common Subjects  171\n"
     ]
    },
    {
     "name": "stderr",
     "output_type": "stream",
     "text": [
      "/usr/local/lib/python3.10/dist-packages/tqdm/auto.py:21: TqdmWarning: IProgress not found. Please update jupyter and ipywidgets. See https://ipywidgets.readthedocs.io/en/stable/user_install.html\n",
      "  from .autonotebook import tqdm as notebook_tqdm\n"
     ]
    }
   ],
   "source": [
    "import model\n",
    "import os\n",
    "from option import args\n",
    "import torch\n",
    "import matplotlib.pyplot as plt\n",
    "from mpl_toolkits.axes_grid1 import make_axes_locatable\n",
    "import data\n",
    "import utils\n",
    "import numpy as np\n",
    "import json\n",
    "import h5py\n",
    "loaded = {}\n",
    "loaded_gt ={}\n",
    "\n",
    "path,tot = \"\",\"\"\n",
    "\n",
    "\n",
    "def load_path(base_dir,ids):\n",
    "    base_dir_7t = [base_dir + \"/HCP_7T/\" + i   for i in ids]\n",
    "    base_dir_3t = [base_dir + \"/HCP_3T/\" + i   for i in ids]\n",
    "    path_7t = {}\n",
    "    path_3t = {}\n",
    "    for i in base_dir_7t:\n",
    "        path_7t[i[-6:]] = {\"h5\" : i + \"/\" + i[-6:] + \".h5\"\n",
    "                        , \"GT\" : i + \"/\" + i[-6:] + \"_GT.h5\"}\n",
    "    for i in base_dir_3t:\n",
    "        path_3t[i[-6:]] = {\"h5\" : i + \"/\" + i[-6:] + \".h5\"\n",
    "                        , \"upsampled\" : i + \"/\" + i[-6:] + \"_upsampled.h5\"\n",
    "                        , \"GT\" : i + \"/\" + i[-6:] + \"_GT.h5\"}\n",
    "    path = {'3T': path_3t, \"7T\":  path_7t}\n",
    "    p = list(path_7t.keys())\n",
    "    q = list(path_3t.keys())\n",
    "    common = list(set(p) & set(q))\n",
    "\n",
    "    return path,len(common)\n",
    "\n",
    "def load_data(base_dir,ids):\n",
    "    ids.sort()\n",
    "    path,tot = load_path(base_dir,ids)\n",
    "    act_ids = []\n",
    "    for i in ids:\n",
    "        name = path['3T'][i]['h5']\n",
    "        if(not os.path.isfile(name)):\n",
    "            continue\n",
    "        res_vol = h5py.File(name, 'r')\n",
    "        \n",
    "        # print(res_vol.keys())\n",
    "        loaded[i] = {'vol0':res_vol.get('volumes0')[:]\n",
    "                            ,'mask':res_vol.get('mask')[:] }\n",
    "        \n",
    "        name = path['7T'][i]['GT']\n",
    "        \n",
    "        if(not os.path.isfile(name)):\n",
    "            continue\n",
    "        res = h5py.File(name, 'r')\n",
    "        # print(res.keys())\n",
    "        loaded_gt[i] = {'ADC':res.get('ADC')[:]\n",
    "                            ,'FA':res.get('FA')[:] \n",
    "                            ,'color_FA':res.get('color_FA')[:] }\n",
    "        \n",
    "        \n",
    "        res_vol.close()\n",
    "        res.close()\n",
    "\n",
    "        name = path['7T'][i]['h5']\n",
    "        \n",
    "        if(not os.path.isfile(name)):\n",
    "            continue\n",
    "        res = h5py.File(name, 'r')\n",
    "        loaded_gt[i]['vol0'] = res.get('volumes0')[:]\n",
    "        loaded_gt[i]['mask'] = res.get('mask')[:]\n",
    "        res_vol.close()\n",
    "        res.close()\n",
    "        act_ids.append(i)\n",
    "    return act_ids"
   ]
  },
  {
   "cell_type": "code",
   "execution_count": 2,
   "id": "7eb93475",
   "metadata": {},
   "outputs": [],
   "source": [
    "load_dir = \"working_models\""
   ]
  },
  {
   "cell_type": "code",
   "execution_count": 3,
   "id": "13f41809",
   "metadata": {},
   "outputs": [],
   "source": [
    "paths = {}\n",
    "max_ep = 0\n",
    "for i in os.listdir(load_dir):\n",
    "    if \"check\" not in i:\n",
    "        temp = []\n",
    "#         print(os.listdir(load_dir + \"/\" + i))\n",
    "        for j in os.listdir(load_dir + \"/\" + i + \"/model\"):\n",
    "            temp.append(load_dir + \"/\" + i + \"/model/\" + j)\n",
    "            \n",
    "            \n",
    "            _,ep,hfen,psnr = j.split(\"_\")\n",
    "            ep = int(ep)\n",
    "            if(max_ep < ep):\n",
    "                latest_ep_path = load_dir + \"/\" + i + \"/model/\" + j\n",
    "                max_ep = ep\n",
    "                \n",
    "            conf = load_dir + \"/\" + i + \"/config.txt\"\n",
    "        paths[i] = (temp,conf,latest_ep_path) "
   ]
  },
  {
   "cell_type": "code",
   "execution_count": 4,
   "id": "1ea795e7",
   "metadata": {},
   "outputs": [],
   "source": [
    "list_models = list(paths.keys())"
   ]
  },
  {
   "cell_type": "code",
   "execution_count": 5,
   "id": "06b1a062",
   "metadata": {},
   "outputs": [
    {
     "data": {
      "text/plain": [
       "{'dmri_rdn,False,conv,growth128,loss_1*L1,batch_size_8': (['working_models/dmri_rdn,False,conv,growth128,loss_1*L1,batch_size_8/model/model_25_0.5027_19.1527.pt',\n",
       "   'working_models/dmri_rdn,False,conv,growth128,loss_1*L1,batch_size_8/model/model_3_0.6010_17.7611.pt',\n",
       "   'working_models/dmri_rdn,False,conv,growth128,loss_1*L1,batch_size_8/model/model_6_0.5281_18.4563.pt',\n",
       "   'working_models/dmri_rdn,False,conv,growth128,loss_1*L1,batch_size_8/model/model_27_0.4955_19.2090.pt',\n",
       "   'working_models/dmri_rdn,False,conv,growth128,loss_1*L1,batch_size_8/model/model_7_0.5369_18.4709.pt',\n",
       "   'working_models/dmri_rdn,False,conv,growth128,loss_1*L1,batch_size_8/model/model_4_0.6004_17.9686.pt',\n",
       "   'working_models/dmri_rdn,False,conv,growth128,loss_1*L1,batch_size_8/model/model_13_0.5259_18.9297.pt',\n",
       "   'working_models/dmri_rdn,False,conv,growth128,loss_1*L1,batch_size_8/model/model_58_0.5062_19.3343.pt',\n",
       "   'working_models/dmri_rdn,False,conv,growth128,loss_1*L1,batch_size_8/model/model_9_0.4964_18.8649.pt',\n",
       "   'working_models/dmri_rdn,False,conv,growth128,loss_1*L1,batch_size_8/model/model_31_0.5258_19.3274.pt',\n",
       "   'working_models/dmri_rdn,False,conv,growth128,loss_1*L1,batch_size_8/model/model_16_0.5065_19.0166.pt',\n",
       "   'working_models/dmri_rdn,False,conv,growth128,loss_1*L1,batch_size_8/model/model_76_0.5122_19.3765.pt',\n",
       "   'working_models/dmri_rdn,False,conv,growth128,loss_1*L1,batch_size_8/model/model_18_0.5055_19.1135.pt',\n",
       "   'working_models/dmri_rdn,False,conv,growth128,loss_1*L1,batch_size_8/model/model_12_0.5243_18.8905.pt',\n",
       "   'working_models/dmri_rdn,False,conv,growth128,loss_1*L1,batch_size_8/model/model_5_0.5370_18.3087.pt'],\n",
       "  'working_models/dmri_rdn,False,conv,growth128,loss_1*L1,batch_size_8/config.txt',\n",
       "  'working_models/dmri_rdn,False,conv,growth128,loss_1*L1,batch_size_8/model/model_76_0.5122_19.3765.pt'),\n",
       " 'dmri_rdn,False,conv,growth32,loss_0.5*MSE+0.5*L1,batch_size_8': (['working_models/dmri_rdn,False,conv,growth32,loss_0.5*MSE+0.5*L1,batch_size_8/model/model_8_0.5162_18.8313.pt',\n",
       "   'working_models/dmri_rdn,False,conv,growth32,loss_0.5*MSE+0.5*L1,batch_size_8/model/model_9_0.4984_19.0309.pt',\n",
       "   'working_models/dmri_rdn,False,conv,growth32,loss_0.5*MSE+0.5*L1,batch_size_8/model/model_76_0.5044_19.5093.pt',\n",
       "   'working_models/dmri_rdn,False,conv,growth32,loss_0.5*MSE+0.5*L1,batch_size_8/model/model_5_0.5293_18.6868.pt',\n",
       "   'working_models/dmri_rdn,False,conv,growth32,loss_0.5*MSE+0.5*L1,batch_size_8/model/model_2_0.6208_17.8101.pt',\n",
       "   'working_models/dmri_rdn,False,conv,growth32,loss_0.5*MSE+0.5*L1,batch_size_8/model/model_31_0.5120_19.4232.pt',\n",
       "   'working_models/dmri_rdn,False,conv,growth32,loss_0.5*MSE+0.5*L1,batch_size_8/model/model_6_0.5093_18.7326.pt',\n",
       "   'working_models/dmri_rdn,False,conv,growth32,loss_0.5*MSE+0.5*L1,batch_size_8/model/model_18_0.4908_19.1913.pt',\n",
       "   'working_models/dmri_rdn,False,conv,growth32,loss_0.5*MSE+0.5*L1,batch_size_8/model/model_15_0.5135_19.0864.pt',\n",
       "   'working_models/dmri_rdn,False,conv,growth32,loss_0.5*MSE+0.5*L1,batch_size_8/model/model_77_0.4976_19.5551.pt',\n",
       "   'working_models/dmri_rdn,False,conv,growth32,loss_0.5*MSE+0.5*L1,batch_size_8/model/model_3_0.5757_18.1100.pt',\n",
       "   'working_models/dmri_rdn,False,conv,growth32,loss_0.5*MSE+0.5*L1,batch_size_8/model/model_16_0.4900_19.1466.pt',\n",
       "   'working_models/dmri_rdn,False,conv,growth32,loss_0.5*MSE+0.5*L1,batch_size_8/model/model_55_0.5207_19.4319.pt',\n",
       "   'working_models/dmri_rdn,False,conv,growth32,loss_0.5*MSE+0.5*L1,batch_size_8/model/model_4_0.5423_18.2962.pt',\n",
       "   'working_models/dmri_rdn,False,conv,growth32,loss_0.5*MSE+0.5*L1,batch_size_8/model/model_26_0.4993_19.2413.pt'],\n",
       "  'working_models/dmri_rdn,False,conv,growth32,loss_0.5*MSE+0.5*L1,batch_size_8/config.txt',\n",
       "  'working_models/dmri_rdn,False,conv,growth32,loss_0.5*MSE+0.5*L1,batch_size_8/model/model_77_0.4976_19.5551.pt'),\n",
       " 'dmri_rdn,False,conv,growth64,loss_1*L1,batch_size_8': (['working_models/dmri_rdn,False,conv,growth64,loss_1*L1,batch_size_8/model/model_26_0.5007_19.1625.pt',\n",
       "   'working_models/dmri_rdn,False,conv,growth64,loss_1*L1,batch_size_8/model/model_76_0.5092_19.3808.pt',\n",
       "   'working_models/dmri_rdn,False,conv,growth64,loss_1*L1,batch_size_8/model/model_18_0.5068_19.1123.pt',\n",
       "   'working_models/dmri_rdn,False,conv,growth64,loss_1*L1,batch_size_8/model/model_4_0.5771_18.1349.pt',\n",
       "   'working_models/dmri_rdn,False,conv,growth64,loss_1*L1,batch_size_8/model/model_12_0.5276_18.9451.pt',\n",
       "   'working_models/dmri_rdn,False,conv,growth64,loss_1*L1,batch_size_8/model/model_5_0.5378_18.3904.pt',\n",
       "   'working_models/dmri_rdn,False,conv,growth64,loss_1*L1,batch_size_8/model/model_2_0.6187_17.8549.pt',\n",
       "   'working_models/dmri_rdn,False,conv,growth64,loss_1*L1,batch_size_8/model/model_31_0.5177_19.3638.pt',\n",
       "   'working_models/dmri_rdn,False,conv,growth64,loss_1*L1,batch_size_8/model/model_8_0.4991_18.8429.pt',\n",
       "   'working_models/dmri_rdn,False,conv,growth64,loss_1*L1,batch_size_8/model/model_6_0.5295_18.5903.pt',\n",
       "   'working_models/dmri_rdn,False,conv,growth64,loss_1*L1,batch_size_8/model/model_16_0.4958_19.0462.pt',\n",
       "   'working_models/dmri_rdn,False,conv,growth64,loss_1*L1,batch_size_8/model/model_7_0.5225_18.6593.pt'],\n",
       "  'working_models/dmri_rdn,False,conv,growth64,loss_1*L1,batch_size_8/config.txt',\n",
       "  'working_models/dmri_rdn,False,conv,growth32,loss_0.5*MSE+0.5*L1,batch_size_8/model/model_77_0.4976_19.5551.pt'),\n",
       " 'dmri_rdn,False,conv,growth32,loss_1*L1,batch_size_8,variable_blk_size': (['working_models/dmri_rdn,False,conv,growth32,loss_1*L1,batch_size_8,variable_blk_size/model/model_55_0.5309_19.3466.pt',\n",
       "   'working_models/dmri_rdn,False,conv,growth32,loss_1*L1,batch_size_8,variable_blk_size/model/model_18_0.4935_19.1339.pt',\n",
       "   'working_models/dmri_rdn,False,conv,growth32,loss_1*L1,batch_size_8,variable_blk_size/model/model_9_0.5132_18.8926.pt',\n",
       "   'working_models/dmri_rdn,False,conv,growth32,loss_1*L1,batch_size_8,variable_blk_size/model/model_8_0.5249_18.7881.pt',\n",
       "   'working_models/dmri_rdn,False,conv,growth32,loss_1*L1,batch_size_8,variable_blk_size/model/model_2_0.6279_17.7457.pt',\n",
       "   'working_models/dmri_rdn,False,conv,growth32,loss_1*L1,batch_size_8,variable_blk_size/model/model_6_0.5081_18.6959.pt',\n",
       "   'working_models/dmri_rdn,False,conv,growth32,loss_1*L1,batch_size_8,variable_blk_size/model/model_4_0.5616_18.1426.pt',\n",
       "   'working_models/dmri_rdn,False,conv,growth32,loss_1*L1,batch_size_8,variable_blk_size/model/model_31_0.5201_19.3144.pt',\n",
       "   'working_models/dmri_rdn,False,conv,growth32,loss_1*L1,batch_size_8,variable_blk_size/model/model_5_0.5292_18.5667.pt',\n",
       "   'working_models/dmri_rdn,False,conv,growth32,loss_1*L1,batch_size_8,variable_blk_size/model/model_16_0.4971_19.0153.pt',\n",
       "   'working_models/dmri_rdn,False,conv,growth32,loss_1*L1,batch_size_8,variable_blk_size/model/model_3_0.5811_18.1108.pt',\n",
       "   'working_models/dmri_rdn,False,conv,growth32,loss_1*L1,batch_size_8,variable_blk_size/model/model_76_0.5112_19.4080.pt',\n",
       "   'working_models/dmri_rdn,False,conv,growth32,loss_1*L1,batch_size_8,variable_blk_size/model/model_77_0.5038_19.4627.pt',\n",
       "   'working_models/dmri_rdn,False,conv,growth32,loss_1*L1,batch_size_8,variable_blk_size/model/model_15_0.5175_18.9540.pt'],\n",
       "  'working_models/dmri_rdn,False,conv,growth32,loss_1*L1,batch_size_8,variable_blk_size/config.txt',\n",
       "  'working_models/dmri_rdn,False,conv,growth32,loss_0.5*MSE+0.5*L1,batch_size_8/model/model_77_0.4976_19.5551.pt'),\n",
       " 'dmri_rdn,False,conv,growth32,loss_1*MSE,batch_size_8,variable_blk_size': (['working_models/dmri_rdn,False,conv,growth32,loss_1*MSE,batch_size_8,variable_blk_size/model/model_5_0.5129_18.7246.pt',\n",
       "   'working_models/dmri_rdn,False,conv,growth32,loss_1*MSE,batch_size_8,variable_blk_size/model/model_32_0.5070_19.4678.pt',\n",
       "   'working_models/dmri_rdn,False,conv,growth32,loss_1*MSE,batch_size_8,variable_blk_size/model/model_6_0.4956_18.9304.pt',\n",
       "   'working_models/dmri_rdn,False,conv,growth32,loss_1*MSE,batch_size_8,variable_blk_size/model/model_16_0.4837_19.2306.pt',\n",
       "   'working_models/dmri_rdn,False,conv,growth32,loss_1*MSE,batch_size_8,variable_blk_size/model/model_76_0.4945_19.6245.pt',\n",
       "   'working_models/dmri_rdn,False,conv,growth32,loss_1*MSE,batch_size_8,variable_blk_size/model/model_4_0.5301_18.5365.pt',\n",
       "   'working_models/dmri_rdn,False,conv,growth32,loss_1*MSE,batch_size_8,variable_blk_size/model/model_62_0.5020_19.5243.pt',\n",
       "   'working_models/dmri_rdn,False,conv,growth32,loss_1*MSE,batch_size_8,variable_blk_size/model/model_3_0.5518_18.3461.pt',\n",
       "   'working_models/dmri_rdn,False,conv,growth32,loss_1*MSE,batch_size_8,variable_blk_size/model/model_15_0.4968_19.1995.pt',\n",
       "   'working_models/dmri_rdn,False,conv,growth32,loss_1*MSE,batch_size_8,variable_blk_size/model/model_14_0.4987_19.0362.pt',\n",
       "   'working_models/dmri_rdn,False,conv,growth32,loss_1*MSE,batch_size_8,variable_blk_size/model/model_26_0.4890_19.3146.pt',\n",
       "   'working_models/dmri_rdn,False,conv,growth32,loss_1*MSE,batch_size_8,variable_blk_size/model/model_58_0.4913_19.5168.pt',\n",
       "   'working_models/dmri_rdn,False,conv,growth32,loss_1*MSE,batch_size_8,variable_blk_size/model/model_49_0.5019_19.4944.pt',\n",
       "   'working_models/dmri_rdn,False,conv,growth32,loss_1*MSE,batch_size_8,variable_blk_size/model/model_18_0.4834_19.3077.pt',\n",
       "   'working_models/dmri_rdn,False,conv,growth32,loss_1*MSE,batch_size_8,variable_blk_size/model/model_12_0.5167_19.0120.pt',\n",
       "   'working_models/dmri_rdn,False,conv,growth32,loss_1*MSE,batch_size_8,variable_blk_size/model/model_31_0.5037_19.4459.pt',\n",
       "   'working_models/dmri_rdn,False,conv,growth32,loss_1*MSE,batch_size_8,variable_blk_size/model/model_2_0.5837_18.0344.pt',\n",
       "   'working_models/dmri_rdn,False,conv,growth32,loss_1*MSE,batch_size_8,variable_blk_size/model/model_8_0.5059_18.9516.pt'],\n",
       "  'working_models/dmri_rdn,False,conv,growth32,loss_1*MSE,batch_size_8,variable_blk_size/config.txt',\n",
       "  'working_models/dmri_rdn,False,conv,growth32,loss_0.5*MSE+0.5*L1,batch_size_8/model/model_77_0.4976_19.5551.pt')}"
      ]
     },
     "execution_count": 5,
     "metadata": {},
     "output_type": "execute_result"
    }
   ],
   "source": [
    "paths"
   ]
  },
  {
   "cell_type": "code",
   "execution_count": 6,
   "id": "c7fa75ab",
   "metadata": {},
   "outputs": [
    {
     "data": {
      "text/plain": [
       "'working_models/dmri_rdn,False,conv,growth128,loss_1*L1,batch_size_8/model/model_76_0.5122_19.3765.pt'"
      ]
     },
     "execution_count": 6,
     "metadata": {},
     "output_type": "execute_result"
    }
   ],
   "source": [
    "paths[list_models[0]][2]"
   ]
  },
  {
   "cell_type": "code",
   "execution_count": 7,
   "id": "c1f718c5",
   "metadata": {},
   "outputs": [
    {
     "data": {
      "text/plain": [
       "'working_models/dmri_rdn,False,conv,growth128,loss_1*L1,batch_size_8/config.txt'"
      ]
     },
     "execution_count": 7,
     "metadata": {},
     "output_type": "execute_result"
    }
   ],
   "source": [
    "paths[list_models[0]][1]"
   ]
  },
  {
   "cell_type": "code",
   "execution_count": 8,
   "id": "5f4e156d",
   "metadata": {},
   "outputs": [
    {
     "data": {
      "text/plain": [
       "['dmri_rdn,False,conv,growth128,loss_1*L1,batch_size_8',\n",
       " 'dmri_rdn,False,conv,growth32,loss_0.5*MSE+0.5*L1,batch_size_8',\n",
       " 'dmri_rdn,False,conv,growth64,loss_1*L1,batch_size_8',\n",
       " 'dmri_rdn,False,conv,growth32,loss_1*L1,batch_size_8,variable_blk_size',\n",
       " 'dmri_rdn,False,conv,growth32,loss_1*MSE,batch_size_8,variable_blk_size']"
      ]
     },
     "execution_count": 8,
     "metadata": {},
     "output_type": "execute_result"
    }
   ],
   "source": [
    "list_models"
   ]
  },
  {
   "cell_type": "code",
   "execution_count": 9,
   "id": "294c111a",
   "metadata": {},
   "outputs": [],
   "source": [
    "load_model = list_models[0]"
   ]
  },
  {
   "cell_type": "code",
   "execution_count": 10,
   "id": "336ca176",
   "metadata": {},
   "outputs": [
    {
     "data": {
      "text/plain": [
       "'dmri_rdn,False,conv,growth128,loss_1*L1,batch_size_8'"
      ]
     },
     "execution_count": 10,
     "metadata": {},
     "output_type": "execute_result"
    }
   ],
   "source": [
    "load_model"
   ]
  },
  {
   "cell_type": "code",
   "execution_count": 11,
   "id": "26528b02",
   "metadata": {},
   "outputs": [],
   "source": [
    "with open(paths[load_model][1], 'r') as f:\n",
    "    args.__dict__ = json.load(f)"
   ]
  },
  {
   "cell_type": "code",
   "execution_count": 12,
   "id": "e7d6d8dc",
   "metadata": {},
   "outputs": [
    {
     "data": {
      "text/plain": [
       "Namespace(block_size=[32, 32, 4], var_blk_size=False, start_var=True, epochs=100, dir='/storage', batch_size=8, sort=True, debug=False, preload=True, ret_points=False, enable_thres=True, thres=0.6, rel_coord=False, patience=3, no_vols=10, test_vols=10, lr=0.005, max_lr=0.01, lr_decay=20, decay_type='step', gamma=0.8, optimizer='ADAM', momentum=0.9, beta1=0.9, beta2=0.999, epsilon=1e-08, weight_decay=0, start_epoch=0, loss='1*L1', skip_threshold=1000000.0, run_name='..', save='DTIArb', load='.', save_models=False, resume=0, print_every=20, save_every=30, cpu=False, gpu=0, seed=1, reset=False, pin_mem=False, model='dmri_rdn', in_chans=7, encoder='rdb', tv=False, attention=False, drop_prob=0, growth=128, model_type='3d', out_chans=5, RDNconfig='C', precision='single', cuda=True, scale=[1, 1, 1], offset=3, stable_epoch=1, tv_en=False)"
      ]
     },
     "execution_count": 12,
     "metadata": {},
     "output_type": "execute_result"
    }
   ],
   "source": [
    "args"
   ]
  },
  {
   "cell_type": "code",
   "execution_count": 13,
   "id": "9bc7cde2",
   "metadata": {},
   "outputs": [],
   "source": [
    "# import json\n",
    "# with open(paths[list_models[0]][1], 'w') as f:\n",
    "#     json.dump(args.__dict__, f, indent=2)"
   ]
  },
  {
   "cell_type": "code",
   "execution_count": 14,
   "id": "d383d80b",
   "metadata": {},
   "outputs": [
    {
     "name": "stdout",
     "output_type": "stream",
     "text": [
      "Making model... here\n",
      "load from model_working_models/dmri_rdn,False,conv,growth128,loss_1*L1,batch_size_8/model/model_76_0.5122_19.3765.pt.pt\n"
     ]
    }
   ],
   "source": [
    "curr_model = model.Model(args)\n",
    "curr_model.load(paths[load_model][2])"
   ]
  },
  {
   "cell_type": "code",
   "execution_count": 15,
   "id": "0b9f3485",
   "metadata": {},
   "outputs": [
    {
     "name": "stdout",
     "output_type": "stream",
     "text": [
      "['100610', '102311', '102816', '104416', '105923', '108323', '109123', '111312', '111514', '114823', '172130', '173334', '175237', '176542', '177140', '177645', '177746', '178142', '178243', '178647']\n"
     ]
    }
   ],
   "source": [
    "ids = utils.get_ids()\n",
    "ids.sort()\n",
    "offset = 50\n",
    "total_vols = args.no_vols+args.test_vols\n",
    "temp = ids[:args.no_vols]\n",
    "temp.extend(ids[offset:args.test_vols+offset])\n",
    "ids = temp\n",
    "print(ids)"
   ]
  },
  {
   "cell_type": "markdown",
   "id": "52b49393",
   "metadata": {},
   "source": [
    "### Dataloader"
   ]
  },
  {
   "cell_type": "code",
   "execution_count": 16,
   "id": "579f73c5",
   "metadata": {
    "scrolled": false
   },
   "outputs": [
    {
     "name": "stdout",
     "output_type": "stream",
     "text": [
      "Loading Done\n"
     ]
    }
   ],
   "source": [
    "loader = data.Data(args,ids= ids)"
   ]
  },
  {
   "cell_type": "code",
   "execution_count": 17,
   "id": "62f9d729",
   "metadata": {},
   "outputs": [
    {
     "data": {
      "text/plain": [
       "73"
      ]
     },
     "execution_count": 17,
     "metadata": {},
     "output_type": "execute_result"
    }
   ],
   "source": [
    "len(loader.training_dataset)"
   ]
  },
  {
   "cell_type": "code",
   "execution_count": 18,
   "id": "80a6e463",
   "metadata": {},
   "outputs": [
    {
     "data": {
      "text/plain": [
       "4"
      ]
     },
     "execution_count": 18,
     "metadata": {},
     "output_type": "execute_result"
    }
   ],
   "source": [
    "len(next(iter(loader.training_data)))"
   ]
  },
  {
   "cell_type": "code",
   "execution_count": null,
   "id": "bb3a8a3c",
   "metadata": {},
   "outputs": [],
   "source": [
    "temp[0].squeeze().shape[1:-1],temp[0].squeeze().shape"
   ]
  },
  {
   "cell_type": "code",
   "execution_count": null,
   "id": "4f309c67",
   "metadata": {},
   "outputs": [],
   "source": [
    "np.where(np.asarray(temp[3].shape) == 8)[0][0]"
   ]
  },
  {
   "cell_type": "code",
   "execution_count": null,
   "id": "426d85a4",
   "metadata": {},
   "outputs": [],
   "source": [
    "buf[1].shape,buf[0].shape,temp[3].shape"
   ]
  },
  {
   "cell_type": "code",
   "execution_count": 41,
   "id": "bccfd5ad",
   "metadata": {},
   "outputs": [],
   "source": [
    "for batch, (lr,hr,scale,rel_coor) in enumerate(loader.training_data):\n",
    "\n",
    "    lr_tensor = lr.squeeze().to('cuda').float()  # ranges from [0, 1]\n",
    "    hr_tensor = hr.squeeze().to('cuda').float()  # ranges from [0, 1]\n",
    "#     hr = hr.squeeze()\n",
    "    rel_coor = rel_coor.squeeze().to('cuda').float()\n",
    "    scale = np.asarray(scale[0,:])\n",
    "\n",
    "    # print(rel_coor.shape)\n",
    "    # tv_tensor = tv.squeeze().to('cuda').float()  # ranges from [0, 1]\n",
    "\n",
    "    # print(lr_tensor.shape,hr_tensor.shape,scale)\n",
    "\n",
    "    if(len(lr_tensor.shape) == 5):\n",
    "        lr = torch.permute(lr_tensor, (0,4,1,2,3))\n",
    "    else:\n",
    "        lr = torch.permute(lr_tensor, (0,3,1,2))\n",
    "\n",
    "\n",
    "    # inference\n",
    "    pred = curr_model.forward(lr,scale,rel_coor)\n",
    "    \n",
    "    if(len(lr_tensor.shape) == 5):\n",
    "        # print(pred.shape,lr.shape)\n",
    "        pred_tensor = torch.permute(pred, (0,2,3,4,1)).float()\n",
    "        # pred_tv_tensor = torch.permute(pred_tv, (0,2,3,4,1)).float()\n",
    "    else:\n",
    "        pred_tensor = torch.permute(pred, (0,2,3,1)).float()\n",
    "        # pred_tv_tensor = torch.permute(pred_tv, (0,2,3,1)).float()\n",
    "            \n",
    "            \n",
    "    break"
   ]
  },
  {
   "cell_type": "code",
   "execution_count": 121,
   "id": "3c75050f",
   "metadata": {},
   "outputs": [
    {
     "data": {
      "text/plain": [
       "(torch.Size([8, 32, 8, 32, 5]),\n",
       " torch.Size([8, 32, 8, 32, 5]),\n",
       " torch.Size([8, 32, 8, 32, 7]))"
      ]
     },
     "execution_count": 121,
     "metadata": {},
     "output_type": "execute_result"
    }
   ],
   "source": [
    "pred_tensor.shape,hr_tensor.shape,lr_tensor.shape"
   ]
  },
  {
   "cell_type": "code",
   "execution_count": 110,
   "id": "19008055",
   "metadata": {},
   "outputs": [],
   "source": [
    "\n",
    "pred_temp = pred_tensor.reshape(8,temp)\n",
    "hr_temp = hr_tensor.reshape(8,temp)"
   ]
  },
  {
   "cell_type": "code",
   "execution_count": 112,
   "id": "2bdcada0",
   "metadata": {},
   "outputs": [
    {
     "data": {
      "text/plain": [
       "tensor([[1.0000, 0.9852, 0.9794, 0.9633, 0.9824, 0.9640, 0.9836, 0.9681],\n",
       "        [0.9852, 1.0000, 0.9849, 0.9550, 0.9816, 0.9577, 0.9894, 0.9620],\n",
       "        [0.9794, 0.9849, 1.0000, 0.9434, 0.9795, 0.9504, 0.9822, 0.9501],\n",
       "        [0.9633, 0.9550, 0.9434, 1.0000, 0.9635, 0.9829, 0.9603, 0.9860],\n",
       "        [0.9824, 0.9816, 0.9795, 0.9635, 1.0000, 0.9615, 0.9882, 0.9635],\n",
       "        [0.9640, 0.9577, 0.9504, 0.9829, 0.9615, 1.0000, 0.9599, 0.9810],\n",
       "        [0.9836, 0.9894, 0.9822, 0.9603, 0.9882, 0.9599, 1.0000, 0.9624],\n",
       "        [0.9681, 0.9620, 0.9501, 0.9860, 0.9635, 0.9810, 0.9624, 1.0000]],\n",
       "       grad_fn=<CopySlices>)"
      ]
     },
     "execution_count": 112,
     "metadata": {},
     "output_type": "execute_result"
    }
   ],
   "source": [
    "S_srsr"
   ]
  },
  {
   "cell_type": "code",
   "execution_count": 178,
   "id": "3f31df15",
   "metadata": {},
   "outputs": [],
   "source": [
    "import torch\n",
    "import torch.nn as nn\n",
    "import numpy as np\n",
    "import math\n",
    "from torch import linalg as LA\n",
    "\n",
    "class DCELoss(nn.Module):\n",
    "    def __init__(self):\n",
    "        super(DCELoss,self).__init__()\n",
    "\n",
    "\n",
    "    def forward(self,pred,hr):\n",
    "        S_srhr = torch.zeros((8,8))\n",
    "        S_srsr = torch.zeros((8,8))\n",
    "        M = torch.zeros((8,8))\n",
    "        pred_temp = pred.reshape(8,temp)\n",
    "        hr_temp = hr.reshape(8,temp)\n",
    "        for i in range(8):\n",
    "            for j in range(8):\n",
    "                S_srhr[i][j] = torch.dot(pred_temp[i],hr_temp[j])/(LA.norm(pred_temp[i])* LA.norm(hr_temp[j]))\n",
    "                S_srsr[i][j] = torch.dot(pred_temp[i],pred_temp[j])/(LA.norm(pred_temp[i])* LA.norm(pred_temp[j]))\n",
    "                M[i][j] = min((-20)*torch.log10(LA.norm(hr_temp[i] - hr_temp[j])),0)\n",
    "                \n",
    "        Q_pos = torch.zeros((8))\n",
    "        Q_neg = torch.zeros((8))\n",
    "        n_thres = M.median()\n",
    "        t_pos,t_neg = 0.5,0.5\n",
    "        for i in range(8):\n",
    "            for j in range(8):\n",
    "                if( abs(M[i][j]) > abs(n_thres)):\n",
    "                    Q_pos[i] +=  (( torch.exp(S_srsr[i][j]) + (2*torch.exp(S_srhr[i][j])) ) /t_pos )\n",
    "                else:\n",
    "                    Q_neg[i] += (( torch.exp(S_srsr[i][j]) + (2*torch.exp(S_srhr[i][j])) ) /t_neg )\n",
    "                \n",
    "        los = (-1/8) * torch.log(Q_pos/Q_neg).sum()\n",
    "        \n",
    "        return los"
   ]
  },
  {
   "cell_type": "code",
   "execution_count": 179,
   "id": "73716401",
   "metadata": {},
   "outputs": [],
   "source": [
    "loss_fn = DCELoss()"
   ]
  },
  {
   "cell_type": "code",
   "execution_count": 180,
   "id": "59c04b88",
   "metadata": {},
   "outputs": [
    {
     "data": {
      "text/plain": [
       "tensor(0.1657, grad_fn=<MulBackward0>)"
      ]
     },
     "execution_count": 180,
     "metadata": {},
     "output_type": "execute_result"
    }
   ],
   "source": [
    "loss_fn(pred_tensor,hr_tensor)"
   ]
  },
  {
   "cell_type": "code",
   "execution_count": 177,
   "id": "6f55e4da",
   "metadata": {},
   "outputs": [
    {
     "ename": "ValueError",
     "evalue": "Input images must have the same dimensions.",
     "output_type": "error",
     "traceback": [
      "\u001b[0;31m---------------------------------------------------------------------------\u001b[0m",
      "\u001b[0;31mValueError\u001b[0m                                Traceback (most recent call last)",
      "Cell \u001b[0;32mIn[177], line 1\u001b[0m\n\u001b[0;32m----> 1\u001b[0m \u001b[38;5;28mfloat\u001b[39m(\u001b[43mmetrics\u001b[49m\u001b[38;5;241;43m.\u001b[39;49m\u001b[43mpeak_signal_noise_ratio\u001b[49m\u001b[43m(\u001b[49m\u001b[43mhr\u001b[49m\u001b[43m,\u001b[49m\u001b[43mpred\u001b[49m\u001b[43m,\u001b[49m\u001b[43mdata_range\u001b[49m\u001b[38;5;241;43m=\u001b[39;49m\u001b[38;5;241;43m1\u001b[39;49m\u001b[43m)\u001b[49m)\n",
      "File \u001b[0;32m/usr/local/lib/python3.10/dist-packages/skimage/metrics/simple_metrics.py:142\u001b[0m, in \u001b[0;36mpeak_signal_noise_ratio\u001b[0;34m(image_true, image_test, data_range)\u001b[0m\n\u001b[1;32m    111\u001b[0m \u001b[38;5;28;01mdef\u001b[39;00m \u001b[38;5;21mpeak_signal_noise_ratio\u001b[39m(image_true, image_test, \u001b[38;5;241m*\u001b[39m, data_range\u001b[38;5;241m=\u001b[39m\u001b[38;5;28;01mNone\u001b[39;00m):\n\u001b[1;32m    112\u001b[0m \u001b[38;5;250m    \u001b[39m\u001b[38;5;124;03m\"\"\"\u001b[39;00m\n\u001b[1;32m    113\u001b[0m \u001b[38;5;124;03m    Compute the peak signal to noise ratio (PSNR) for an image.\u001b[39;00m\n\u001b[1;32m    114\u001b[0m \n\u001b[0;32m   (...)\u001b[0m\n\u001b[1;32m    140\u001b[0m \n\u001b[1;32m    141\u001b[0m \u001b[38;5;124;03m    \"\"\"\u001b[39;00m\n\u001b[0;32m--> 142\u001b[0m     \u001b[43mcheck_shape_equality\u001b[49m\u001b[43m(\u001b[49m\u001b[43mimage_true\u001b[49m\u001b[43m,\u001b[49m\u001b[43m \u001b[49m\u001b[43mimage_test\u001b[49m\u001b[43m)\u001b[49m\n\u001b[1;32m    144\u001b[0m     \u001b[38;5;28;01mif\u001b[39;00m data_range \u001b[38;5;129;01mis\u001b[39;00m \u001b[38;5;28;01mNone\u001b[39;00m:\n\u001b[1;32m    145\u001b[0m         \u001b[38;5;28;01mif\u001b[39;00m image_true\u001b[38;5;241m.\u001b[39mdtype \u001b[38;5;241m!=\u001b[39m image_test\u001b[38;5;241m.\u001b[39mdtype:\n",
      "File \u001b[0;32m/usr/local/lib/python3.10/dist-packages/skimage/_shared/utils.py:504\u001b[0m, in \u001b[0;36mcheck_shape_equality\u001b[0;34m(*images)\u001b[0m\n\u001b[1;32m    502\u001b[0m image0 \u001b[38;5;241m=\u001b[39m images[\u001b[38;5;241m0\u001b[39m]\n\u001b[1;32m    503\u001b[0m \u001b[38;5;28;01mif\u001b[39;00m \u001b[38;5;129;01mnot\u001b[39;00m \u001b[38;5;28mall\u001b[39m(image0\u001b[38;5;241m.\u001b[39mshape \u001b[38;5;241m==\u001b[39m image\u001b[38;5;241m.\u001b[39mshape \u001b[38;5;28;01mfor\u001b[39;00m image \u001b[38;5;129;01min\u001b[39;00m images[\u001b[38;5;241m1\u001b[39m:]):\n\u001b[0;32m--> 504\u001b[0m     \u001b[38;5;28;01mraise\u001b[39;00m \u001b[38;5;167;01mValueError\u001b[39;00m(\u001b[38;5;124m'\u001b[39m\u001b[38;5;124mInput images must have the same dimensions.\u001b[39m\u001b[38;5;124m'\u001b[39m)\n\u001b[1;32m    505\u001b[0m \u001b[38;5;28;01mreturn\u001b[39;00m\n",
      "\u001b[0;31mValueError\u001b[0m: Input images must have the same dimensions."
     ]
    }
   ],
   "source": [
    "float(metrics.peak_signal_noise_ratio(hr,pred,data_range=1))"
   ]
  },
  {
   "cell_type": "code",
   "execution_count": 126,
   "id": "36d44ab5",
   "metadata": {},
   "outputs": [],
   "source": [
    "\n",
    "for i in range(8):\n",
    "    for j in range(8):"
   ]
  },
  {
   "cell_type": "code",
   "execution_count": 130,
   "id": "840443ba",
   "metadata": {},
   "outputs": [
    {
     "ename": "NameError",
     "evalue": "name 'mean' is not defined",
     "output_type": "error",
     "traceback": [
      "\u001b[0;31m---------------------------------------------------------------------------\u001b[0m",
      "\u001b[0;31mNameError\u001b[0m                                 Traceback (most recent call last)",
      "Cell \u001b[0;32mIn[130], line 1\u001b[0m\n\u001b[0;32m----> 1\u001b[0m \u001b[43mmean\u001b[49m(M)\n",
      "\u001b[0;31mNameError\u001b[0m: name 'mean' is not defined"
     ]
    }
   ],
   "source": [
    "mean(M)"
   ]
  },
  {
   "cell_type": "code",
   "execution_count": 133,
   "id": "c8a085d9",
   "metadata": {},
   "outputs": [
    {
     "data": {
      "text/plain": [
       "tensor(-27.0891)"
      ]
     },
     "execution_count": 133,
     "metadata": {},
     "output_type": "execute_result"
    }
   ],
   "source": [
    "M.mean()"
   ]
  },
  {
   "cell_type": "code",
   "execution_count": 141,
   "id": "c5711403",
   "metadata": {},
   "outputs": [
    {
     "data": {
      "text/plain": [
       "(tensor(-30.9380), tensor(-27.0891))"
      ]
     },
     "execution_count": 141,
     "metadata": {},
     "output_type": "execute_result"
    }
   ],
   "source": [
    "M.median(),M.mean()"
   ]
  },
  {
   "cell_type": "code",
   "execution_count": 143,
   "id": "d2b42d04",
   "metadata": {},
   "outputs": [
    {
     "data": {
      "text/plain": [
       "tensor([  0.0000, -30.0437, -30.5460, -30.4371, -30.5017, -30.9214, -30.0437,\n",
       "          0.0000, -30.7547, -30.5460, -30.7547,   0.0000,   0.0000, -29.1075,\n",
       "        -30.7632, -28.8074, -30.4371,   0.0000, -30.4007, -29.1075,   0.0000,\n",
       "        -29.2137, -30.5017, -30.7632, -30.4007,   0.0000, -30.3235, -30.9214,\n",
       "        -28.8074, -29.2137, -30.3235,   0.0000])"
      ]
     },
     "execution_count": 143,
     "metadata": {},
     "output_type": "execute_result"
    }
   ],
   "source": [
    "M[M>M.median()]"
   ]
  },
  {
   "cell_type": "code",
   "execution_count": null,
   "id": "1f53b399",
   "metadata": {},
   "outputs": [],
   "source": []
  }
 ],
 "metadata": {
  "kernelspec": {
   "display_name": "Python 3 (ipykernel)",
   "language": "python",
   "name": "python3"
  },
  "language_info": {
   "codemirror_mode": {
    "name": "ipython",
    "version": 3
   },
   "file_extension": ".py",
   "mimetype": "text/x-python",
   "name": "python",
   "nbconvert_exporter": "python",
   "pygments_lexer": "ipython3",
   "version": "3.10.12"
  }
 },
 "nbformat": 4,
 "nbformat_minor": 5
}
