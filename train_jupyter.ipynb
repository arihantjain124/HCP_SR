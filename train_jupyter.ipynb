{
 "cells": [
  {
   "cell_type": "code",
   "execution_count": 1,
   "id": "ab39d566",
   "metadata": {},
   "outputs": [
    {
     "name": "stdout",
     "output_type": "stream",
     "text": [
      "number of common Subjects  171\n",
      "['104416' '102816' '146735' '134627' '134829' '164636' '131722' '157336'\n",
      " '156334' '155938' '167440' '148133' '135124' '130114' '146937' '146432'\n",
      " '158035' '164131' '105923' '137128' '125525' '115017' '162935' '144226'\n",
      " '145834' '159239' '132118' '130518' '140117' '109123' '146129' '118225'\n",
      " '111312' '165436' '102311' '128935' '100610' '126426' '108323' '115825'\n",
      " '114823' '111514' '116726' '167036' '158136']\n"
     ]
    }
   ],
   "source": [
    "from option import args\n",
    "import torch\n",
    "import utility\n",
    "import data\n",
    "import utils\n",
    "import model\n",
    "import loss\n",
    "from trainer import Trainer\n",
    "import os\n",
    "from torch.utils.tensorboard import SummaryWriter\n",
    "import numpy as np\n",
    "import matplotlib.pyplot as plt\n",
    "\n",
    "np.random.seed(args.seed)\n",
    "ids = utils.get_ids()\n",
    "# ids.sort()\n",
    "total_vols = args.no_vols+args.test_vols\n",
    "ids.sort()\n",
    "ids = ids[:total_vols]\n",
    "ids = np.random.choice(ids,total_vols,replace = False)\n",
    "print(ids)"
   ]
  },
  {
   "cell_type": "code",
   "execution_count": 2,
   "id": "b58da5b0",
   "metadata": {},
   "outputs": [
    {
     "name": "stdout",
     "output_type": "stream",
     "text": [
      "dmri_rdn,attn_False,3d,rdb,30_train,15_test,growth32,loss_1*MSE,start_var_False,batch_size8,jupyter\n"
     ]
    }
   ],
   "source": [
    "\n",
    "args.run_name = \"jupyter\"\n",
    "if(args.model_type == '2d'):\n",
    "    args.block_size = (32,32,1)\n",
    "\n",
    "if (args.run_name == '..'):\n",
    "    args.run_name = f\"{args.model},attn_{args.attention},{args.model_type},{args.encoder},{args.no_vols}_train,{args.test_vols}_test,growth{args.growth},loss_{args.loss},start_var_{args.start_var},batch_size{args.batch_size}\"\n",
    "else:\n",
    "    args.run_name = f\"{args.model},attn_{args.attention},{args.model_type},{args.encoder},{args.no_vols}_train,{args.test_vols}_test,growth{args.growth},loss_{args.loss},start_var_{args.start_var},batch_size{args.batch_size},{args.run_name}\"\n",
    "print(args.run_name)\n",
    "\n",
    "\n"
   ]
  },
  {
   "cell_type": "code",
   "execution_count": 3,
   "id": "08290863",
   "metadata": {},
   "outputs": [
    {
     "name": "stdout",
     "output_type": "stream",
     "text": [
      "Loading Done\n"
     ]
    }
   ],
   "source": [
    "checkpoint = utility.checkpoint(args)       ## setting the log and the train information\n",
    "if checkpoint.ok:\n",
    "    loader = data.Data(args,ids= ids)"
   ]
  },
  {
   "cell_type": "code",
   "execution_count": 4,
   "id": "b4226994",
   "metadata": {},
   "outputs": [],
   "source": [
    "t  = next(iter(loader.training_data))"
   ]
  },
  {
   "cell_type": "code",
   "execution_count": 5,
   "id": "b59cff0b",
   "metadata": {},
   "outputs": [
    {
     "data": {
      "text/plain": [
       "(torch.Size([1, 8, 32, 4, 32, 7]),\n",
       " torch.Size([1, 8, 32, 4, 32, 5]),\n",
       " tensor([[1., 1., 1.]], dtype=torch.float64))"
      ]
     },
     "execution_count": 5,
     "metadata": {},
     "output_type": "execute_result"
    }
   ],
   "source": [
    "t[0].shape,t[1].shape,t[2]"
   ]
  },
  {
   "cell_type": "code",
   "execution_count": 6,
   "id": "89d3929d",
   "metadata": {
    "scrolled": false
   },
   "outputs": [
    {
     "data": {
      "text/plain": [
       "<matplotlib.image.AxesImage at 0x7f5a4cc6b700>"
      ]
     },
     "execution_count": 6,
     "metadata": {},
     "output_type": "execute_result"
    },
    {
     "data": {
      "image/png": "[encoded data removed]",
      "text/plain": [
       "<Figure size 640x480 with 2 Axes>"
      ]
     },
     "metadata": {},
     "output_type": "display_data"
    }
   ],
   "source": [
    "%matplotlib inline\n",
    "fig,ax = plt.subplots(1,2)\n",
    "i=6\n",
    "lr = t[0][0,i,:,:,0,0].numpy().squeeze()\n",
    "hr = t[1][0,i,:,:,0,0].numpy().squeeze()\n",
    "ax[0].imshow(lr)\n",
    "ax[1].imshow(hr)\n",
    "# plt.show()"
   ]
  },
  {
   "cell_type": "code",
   "execution_count": 7,
   "id": "e53507e3",
   "metadata": {},
   "outputs": [],
   "source": [
    "t  = next(iter(loader.testing_data))"
   ]
  },
  {
   "cell_type": "code",
   "execution_count": 8,
   "id": "64803636",
   "metadata": {},
   "outputs": [
    {
     "data": {
      "text/plain": [
       "(torch.Size([1, 16, 32, 32, 4, 7]),\n",
       " torch.Size([1, 16, 32, 32, 4, 5]),\n",
       " torch.Size([1, 16, 32, 32, 4, 5]))"
      ]
     },
     "execution_count": 8,
     "metadata": {},
     "output_type": "execute_result"
    }
   ],
   "source": [
    "t[0].shape,t[1].shape,t[3].shape"
   ]
  },
  {
   "cell_type": "code",
   "execution_count": 9,
   "id": "6294efa7",
   "metadata": {},
   "outputs": [
    {
     "data": {
      "image/png": "[encoded data removed]",
      "text/plain": [
       "<Figure size 640x480 with 3 Axes>"
      ]
     },
     "metadata": {},
     "output_type": "display_data"
    }
   ],
   "source": [
    "i=6\n",
    "fig,ax = plt.subplots(1,3)\n",
    "\n",
    "lr = t[0][0,i,:,:,2,0].numpy().squeeze()\n",
    "hr = t[1][0,i,:,:,2,0].numpy().squeeze()\n",
    "out = t[3][0,i,:,:,2,0].numpy().squeeze()\n",
    "ax[0].imshow(lr)\n",
    "ax[1].imshow(hr)\n",
    "ax[2].imshow(out)\n",
    "plt.show()"
   ]
  },
  {
   "cell_type": "code",
   "execution_count": 10,
   "id": "7e641c9b",
   "metadata": {},
   "outputs": [
    {
     "name": "stdout",
     "output_type": "stream",
     "text": [
      "Making model... here\n",
      "Preparing loss function:\n",
      "1.000 * MSE\n"
     ]
    }
   ],
   "source": [
    "logger = SummaryWriter('runs/'+ args.run_name)\n",
    "model = model.Model(args)\n",
    "loss = loss.Loss(args, checkpoint)"
   ]
  },
  {
   "cell_type": "code",
   "execution_count": 15,
   "id": "d1470069",
   "metadata": {
    "scrolled": true
   },
   "outputs": [
    {
     "data": {
      "text/plain": [
       "Model(\n",
       "  (model): DMRI_RDN_3d(\n",
       "    (encoder): RDN(\n",
       "      (SFENet1): Conv3d(7, 32, kernel_size=(3, 3, 3), stride=(1, 1, 1), padding=(1, 1, 1))\n",
       "      (SFENet2): Conv3d(32, 32, kernel_size=(3, 3, 3), stride=(1, 1, 1), padding=(1, 1, 1))\n",
       "      (RDBs): ModuleList(\n",
       "        (0-4): 5 x RDB(\n",
       "          (convs): Sequential(\n",
       "            (0): RDB_Conv(\n",
       "              (conv): Sequential(\n",
       "                (0): Conv3d(32, 32, kernel_size=(3, 3, 3), stride=(1, 1, 1), padding=(1, 1, 1))\n",
       "                (1): ReLU()\n",
       "              )\n",
       "            )\n",
       "            (1): RDB_Conv(\n",
       "              (conv): Sequential(\n",
       "                (0): Conv3d(64, 32, kernel_size=(3, 3, 3), stride=(1, 1, 1), padding=(1, 1, 1))\n",
       "                (1): ReLU()\n",
       "              )\n",
       "            )\n",
       "            (2): RDB_Conv(\n",
       "              (conv): Sequential(\n",
       "                (0): Conv3d(96, 32, kernel_size=(3, 3, 3), stride=(1, 1, 1), padding=(1, 1, 1))\n",
       "                (1): ReLU()\n",
       "              )\n",
       "            )\n",
       "            (3): RDB_Conv(\n",
       "              (conv): Sequential(\n",
       "                (0): Conv3d(128, 32, kernel_size=(3, 3, 3), stride=(1, 1, 1), padding=(1, 1, 1))\n",
       "                (1): ReLU()\n",
       "              )\n",
       "            )\n",
       "            (4): RDB_Conv(\n",
       "              (conv): Sequential(\n",
       "                (0): Conv3d(160, 32, kernel_size=(3, 3, 3), stride=(1, 1, 1), padding=(1, 1, 1))\n",
       "                (1): ReLU()\n",
       "              )\n",
       "            )\n",
       "            (5): RDB_Conv(\n",
       "              (conv): Sequential(\n",
       "                (0): Conv3d(192, 32, kernel_size=(3, 3, 3), stride=(1, 1, 1), padding=(1, 1, 1))\n",
       "                (1): ReLU()\n",
       "              )\n",
       "            )\n",
       "            (6): RDB_Conv(\n",
       "              (conv): Sequential(\n",
       "                (0): Conv3d(224, 32, kernel_size=(3, 3, 3), stride=(1, 1, 1), padding=(1, 1, 1))\n",
       "                (1): ReLU()\n",
       "              )\n",
       "            )\n",
       "            (7): RDB_Conv(\n",
       "              (conv): Sequential(\n",
       "                (0): Conv3d(256, 32, kernel_size=(3, 3, 3), stride=(1, 1, 1), padding=(1, 1, 1))\n",
       "                (1): ReLU()\n",
       "              )\n",
       "            )\n",
       "          )\n",
       "          (LFF): Conv3d(288, 32, kernel_size=(1, 1, 1), stride=(1, 1, 1))\n",
       "        )\n",
       "      )\n",
       "      (GFF): Sequential(\n",
       "        (0): Conv3d(160, 32, kernel_size=(1, 1, 1), stride=(1, 1, 1))\n",
       "        (1): Conv3d(32, 32, kernel_size=(3, 3, 3), stride=(1, 1, 1), padding=(1, 1, 1))\n",
       "      )\n",
       "    )\n",
       "    (decoder): ImplicitDecoder_3d(\n",
       "      (K): ModuleList(\n",
       "        (0): Sequential(\n",
       "          (0): Conv3d(864, 64, kernel_size=(1, 1, 1), stride=(1, 1, 1))\n",
       "          (1): ReLU()\n",
       "          (2): InstanceNorm3d(64, eps=1e-05, momentum=0.1, affine=True, track_running_stats=False)\n",
       "        )\n",
       "        (1): Sequential(\n",
       "          (0): Conv3d(64, 32, kernel_size=(1, 1, 1), stride=(1, 1, 1))\n",
       "          (1): ReLU()\n",
       "          (2): InstanceNorm3d(32, eps=1e-05, momentum=0.1, affine=True, track_running_stats=False)\n",
       "        )\n",
       "        (2): Sequential(\n",
       "          (0): Conv3d(32, 16, kernel_size=(1, 1, 1), stride=(1, 1, 1))\n",
       "          (1): ReLU()\n",
       "          (2): InstanceNorm3d(16, eps=1e-05, momentum=0.1, affine=True, track_running_stats=False)\n",
       "        )\n",
       "        (3): Sequential(\n",
       "          (0): Conv3d(16, 16, kernel_size=(1, 1, 1), stride=(1, 1, 1))\n",
       "          (1): ReLU()\n",
       "          (2): InstanceNorm3d(16, eps=1e-05, momentum=0.1, affine=True, track_running_stats=False)\n",
       "        )\n",
       "        (4): Sequential(\n",
       "          (0): Conv3d(16, 32, kernel_size=(1, 1, 1), stride=(1, 1, 1))\n",
       "          (1): ReLU()\n",
       "          (2): InstanceNorm3d(32, eps=1e-05, momentum=0.1, affine=True, track_running_stats=False)\n",
       "        )\n",
       "        (5): Sequential(\n",
       "          (0): Conv3d(32, 64, kernel_size=(1, 1, 1), stride=(1, 1, 1))\n",
       "          (1): ReLU()\n",
       "          (2): InstanceNorm3d(64, eps=1e-05, momentum=0.1, affine=True, track_running_stats=False)\n",
       "        )\n",
       "      )\n",
       "      (Q): ModuleList(\n",
       "        (0): Sequential(\n",
       "          (0): Conv3d(4, 64, kernel_size=(1, 1, 1), stride=(1, 1, 1))\n",
       "          (1): SineAct()\n",
       "        )\n",
       "        (1): Sequential(\n",
       "          (0): Conv3d(64, 32, kernel_size=(1, 1, 1), stride=(1, 1, 1))\n",
       "          (1): SineAct()\n",
       "        )\n",
       "        (2): Sequential(\n",
       "          (0): Conv3d(32, 16, kernel_size=(1, 1, 1), stride=(1, 1, 1))\n",
       "          (1): SineAct()\n",
       "        )\n",
       "        (3): Sequential(\n",
       "          (0): Conv3d(16, 16, kernel_size=(1, 1, 1), stride=(1, 1, 1))\n",
       "          (1): SineAct()\n",
       "        )\n",
       "        (4): Sequential(\n",
       "          (0): Conv3d(16, 32, kernel_size=(1, 1, 1), stride=(1, 1, 1))\n",
       "          (1): SineAct()\n",
       "        )\n",
       "        (5): Sequential(\n",
       "          (0): Conv3d(32, 64, kernel_size=(1, 1, 1), stride=(1, 1, 1))\n",
       "          (1): SineAct()\n",
       "        )\n",
       "      )\n",
       "      (last_layer): Conv3d(64, 5, kernel_size=(1, 1, 1), stride=(1, 1, 1))\n",
       "      (in_branch): Sequential(\n",
       "        (0): Conv3d(864, 32, kernel_size=(1, 1, 1), stride=(1, 1, 1))\n",
       "        (1): ReLU()\n",
       "        (2): Conv3d(32, 64, kernel_size=(1, 1, 1), stride=(1, 1, 1))\n",
       "        (3): ReLU()\n",
       "        (4): Conv3d(64, 5, kernel_size=(1, 1, 1), stride=(1, 1, 1))\n",
       "        (5): ReLU()\n",
       "      )\n",
       "    )\n",
       "  )\n",
       ")"
      ]
     },
     "execution_count": 15,
     "metadata": {},
     "output_type": "execute_result"
    },
    {
     "name": "stderr",
     "output_type": "stream",
     "text": [
      "\n",
      "nan:   5%|█                  | 25/471 [00:22<00:48,  9.19it/s, scale=[1. 1. 1.], blk_size=[8, 32, 4, 32, 7], non_zero=0]\u001b[A"
     ]
    }
   ],
   "source": [
    "model"
   ]
  },
  {
   "cell_type": "code",
   "execution_count": null,
   "id": "f607f9d1",
   "metadata": {},
   "outputs": [],
   "source": []
  },
  {
   "cell_type": "code",
   "execution_count": 12,
   "id": "ecfffe34",
   "metadata": {},
   "outputs": [],
   "source": [
    "t = Trainer(args, loader, model, loss, checkpoint,logger)"
   ]
  },
  {
   "cell_type": "code",
   "execution_count": 14,
   "id": "06358061",
   "metadata": {
    "scrolled": false
   },
   "outputs": [
    {
     "name": "stdout",
     "output_type": "stream",
     "text": [
      "[Epoch 0]\tLearning rate: 5.00e-3\n"
     ]
    },
    {
     "name": "stderr",
     "output_type": "stream",
     "text": [
      "\n",
      "  0%|                                                                                           | 0/471 [00:00<?, ?it/s]\u001b[A\n",
      "nan:   0%|▏                                                                             | 1/471 [00:00<00:16, 28.91it/s]\u001b[A\n",
      "nan:   0%|                    | 1/471 [00:00<00:17, 26.12it/s, scale=[1. 1. 1.], blk_size=[8, 32, 4, 32, 7], non_zero=0]\u001b[A\n",
      "nan:   0%|                    | 2/471 [00:00<00:20, 22.75it/s, scale=[1. 1. 1.], blk_size=[8, 32, 4, 32, 7], non_zero=0]\u001b[A\n",
      "nan:   0%|                    | 2/471 [00:00<00:21, 21.89it/s, scale=[1. 1. 1.], blk_size=[8, 4, 32, 32, 7], non_zero=0]\u001b[A\n",
      "nan:   1%|▏                   | 3/471 [00:00<00:49,  9.40it/s, scale=[1. 1. 1.], blk_size=[8, 4, 32, 32, 7], non_zero=0]\u001b[A\n",
      "nan:   1%|▏                   | 3/471 [00:00<00:49,  9.40it/s, scale=[1. 1. 1.], blk_size=[8, 4, 32, 32, 7], non_zero=0]\u001b[A\n",
      "nan:   1%|▏                   | 3/471 [00:00<00:49,  9.40it/s, scale=[1. 1. 1.], blk_size=[8, 32, 4, 32, 7], non_zero=0]\u001b[A\n",
      "nan:   1%|▏                   | 4/471 [00:00<01:26,  5.39it/s, scale=[1. 1. 1.], blk_size=[8, 32, 4, 32, 7], non_zero=0]\u001b[A\n",
      "nan:   1%|▏                   | 4/471 [00:00<01:26,  5.39it/s, scale=[1. 1. 1.], blk_size=[8, 32, 4, 32, 7], non_zero=0]\u001b[A\n",
      "nan:   1%|▏                   | 4/471 [00:00<01:26,  5.39it/s, scale=[1. 1. 1.], blk_size=[8, 32, 32, 4, 7], non_zero=0]\u001b[A\n",
      "nan:   1%|▏                   | 5/471 [00:00<01:26,  5.39it/s, scale=[1. 1. 1.], blk_size=[8, 32, 32, 4, 7], non_zero=0]\u001b[A\n",
      "nan:   1%|▏                   | 5/471 [00:00<01:26,  5.39it/s, scale=[1. 1. 1.], blk_size=[8, 32, 4, 32, 7], non_zero=0]\u001b[A\n",
      "nan:   1%|▎                   | 6/471 [00:00<01:16,  6.07it/s, scale=[1. 1. 1.], blk_size=[8, 32, 4, 32, 7], non_zero=0]\u001b[A\n",
      "nan:   1%|▎                   | 6/471 [00:00<01:16,  6.07it/s, scale=[1. 1. 1.], blk_size=[8, 32, 4, 32, 7], non_zero=0]\u001b[A\n",
      "nan:   1%|▎                   | 6/471 [00:00<01:16,  6.07it/s, scale=[1. 1. 1.], blk_size=[8, 32, 4, 32, 7], non_zero=0]\u001b[A\n",
      "nan:   1%|▎                   | 7/471 [00:01<02:27,  3.15it/s, scale=[1. 1. 1.], blk_size=[8, 32, 4, 32, 7], non_zero=0]\u001b[A\n",
      "nan:   1%|▎                   | 7/471 [00:01<02:27,  3.15it/s, scale=[1. 1. 1.], blk_size=[8, 32, 4, 32, 7], non_zero=0]\u001b[A\n",
      "nan:   1%|▎                   | 7/471 [00:01<02:27,  3.15it/s, scale=[1. 1. 1.], blk_size=[8, 4, 32, 32, 7], non_zero=0]\u001b[A\n",
      "nan:   2%|▎                   | 8/471 [00:01<02:26,  3.15it/s, scale=[1. 1. 1.], blk_size=[8, 4, 32, 32, 7], non_zero=0]\u001b[A\n",
      "nan:   2%|▎                   | 8/471 [00:01<02:26,  3.15it/s, scale=[1. 1. 1.], blk_size=[8, 32, 32, 4, 7], non_zero=0]\u001b[A\n",
      "nan:   2%|▍                   | 9/471 [00:02<01:52,  4.10it/s, scale=[1. 1. 1.], blk_size=[8, 32, 32, 4, 7], non_zero=0]\u001b[A\n",
      "nan:   2%|▍                   | 9/471 [00:02<01:52,  4.10it/s, scale=[1. 1. 1.], blk_size=[8, 32, 32, 4, 7], non_zero=0]\u001b[A\n",
      "nan:   2%|▍                   | 9/471 [00:02<01:52,  4.10it/s, scale=[1. 1. 1.], blk_size=[8, 32, 32, 4, 7], non_zero=0]\u001b[A\n",
      "nan:   2%|▍                  | 10/471 [00:02<01:52,  4.10it/s, scale=[1. 1. 1.], blk_size=[8, 32, 32, 4, 7], non_zero=0]\u001b[A\n",
      "nan:   2%|▍                  | 10/471 [00:02<01:52,  4.10it/s, scale=[1. 1. 1.], blk_size=[8, 4, 32, 32, 7], non_zero=0]\u001b[A\n",
      "nan:   2%|▍                  | 11/471 [00:02<01:52,  4.10it/s, scale=[1. 1. 1.], blk_size=[8, 4, 32, 32, 7], non_zero=0]\u001b[A\n",
      "nan:   2%|▍                  | 11/471 [00:02<01:52,  4.10it/s, scale=[1. 1. 1.], blk_size=[8, 32, 4, 32, 7], non_zero=0]\u001b[A\n",
      "nan:   3%|▍                  | 12/471 [00:02<01:52,  4.10it/s, scale=[1. 1. 1.], blk_size=[8, 32, 4, 32, 7], non_zero=0]\u001b[A\n",
      "nan:   3%|▍                  | 12/471 [00:02<01:52,  4.10it/s, scale=[1. 1. 1.], blk_size=[8, 32, 32, 4, 7], non_zero=0]\u001b[A\n",
      "nan:   3%|▌                  | 13/471 [00:02<00:58,  7.84it/s, scale=[1. 1. 1.], blk_size=[8, 32, 32, 4, 7], non_zero=0]\u001b[A\n",
      "nan:   3%|▌                  | 13/471 [00:02<00:58,  7.84it/s, scale=[1. 1. 1.], blk_size=[8, 32, 32, 4, 7], non_zero=0]\u001b[A\n",
      "nan:   3%|▌                  | 13/471 [00:02<00:58,  7.84it/s, scale=[1. 1. 1.], blk_size=[8, 32, 32, 4, 7], non_zero=0]\u001b[A\n",
      "nan:   3%|▌                  | 14/471 [00:02<00:58,  7.84it/s, scale=[1. 1. 1.], blk_size=[8, 32, 32, 4, 7], non_zero=0]\u001b[A\n",
      "nan:   3%|▌                  | 14/471 [00:02<00:58,  7.84it/s, scale=[1. 1. 1.], blk_size=[8, 32, 4, 32, 7], non_zero=0]\u001b[A\n",
      "nan:   3%|▌                  | 15/471 [00:02<00:58,  7.84it/s, scale=[1. 1. 1.], blk_size=[8, 32, 4, 32, 7], non_zero=0]\u001b[A\n",
      "nan:   3%|▌                  | 15/471 [00:02<00:58,  7.84it/s, scale=[1. 1. 1.], blk_size=[8, 32, 4, 32, 7], non_zero=0]\u001b[A\n",
      "nan:   3%|▋                  | 16/471 [00:02<00:58,  7.84it/s, scale=[1. 1. 1.], blk_size=[8, 32, 4, 32, 7], non_zero=0]\u001b[A\n",
      "nan:   3%|▋                  | 16/471 [00:02<00:58,  7.84it/s, scale=[1. 1. 1.], blk_size=[8, 4, 32, 32, 7], non_zero=0]\u001b[A\n",
      "nan:   4%|▋                  | 17/471 [00:02<00:49,  9.24it/s, scale=[1. 1. 1.], blk_size=[8, 4, 32, 32, 7], non_zero=0]\u001b[A\n",
      "nan:   4%|▋                  | 17/471 [00:02<00:49,  9.24it/s, scale=[1. 1. 1.], blk_size=[8, 4, 32, 32, 7], non_zero=0]\u001b[A\n",
      "nan:   4%|▋                  | 17/471 [00:02<00:49,  9.24it/s, scale=[1. 1. 1.], blk_size=[8, 4, 32, 32, 7], non_zero=0]\u001b[A\n",
      "nan:   4%|▋                  | 18/471 [00:02<00:49,  9.24it/s, scale=[1. 1. 1.], blk_size=[8, 4, 32, 32, 7], non_zero=0]\u001b[A\n",
      "nan:   4%|▋                  | 18/471 [00:02<00:49,  9.24it/s, scale=[1. 1. 1.], blk_size=[8, 4, 32, 32, 7], non_zero=0]\u001b[A\n",
      "nan:   4%|▊                  | 19/471 [00:02<01:05,  6.87it/s, scale=[1. 1. 1.], blk_size=[8, 4, 32, 32, 7], non_zero=0]\u001b[A\n",
      "nan:   4%|▊                  | 19/471 [00:03<01:05,  6.87it/s, scale=[1. 1. 1.], blk_size=[8, 4, 32, 32, 7], non_zero=0]\u001b[A\n",
      "nan:   4%|▊                  | 19/471 [00:03<01:05,  6.87it/s, scale=[1. 1. 1.], blk_size=[8, 32, 4, 32, 7], non_zero=0]\u001b[A\n",
      "nan:   4%|▊                  | 20/471 [00:03<01:05,  6.87it/s, scale=[1. 1. 1.], blk_size=[8, 32, 4, 32, 7], non_zero=0]\u001b[A\n",
      "nan:   4%|▊                  | 20/471 [00:03<01:05,  6.87it/s, scale=[1. 1. 1.], blk_size=[8, 4, 32, 32, 7], non_zero=0]\u001b[A\n",
      "nan:   4%|▊                  | 21/471 [00:03<01:05,  6.87it/s, scale=[1. 1. 1.], blk_size=[8, 4, 32, 32, 7], non_zero=0]\u001b[A\n",
      "nan:   4%|▊                  | 21/471 [00:03<01:05,  6.87it/s, scale=[1. 1. 1.], blk_size=[8, 32, 32, 4, 7], non_zero=0]\u001b[A\n",
      "nan:   5%|▉                  | 22/471 [00:03<01:05,  6.87it/s, scale=[1. 1. 1.], blk_size=[8, 32, 32, 4, 7], non_zero=0]\u001b[A\n",
      "nan:   5%|▉                  | 22/471 [00:03<01:05,  6.87it/s, scale=[1. 1. 1.], blk_size=[8, 4, 32, 32, 7], non_zero=0]\u001b[A\n",
      "nan:   5%|▉                  | 23/471 [00:03<00:44, 10.07it/s, scale=[1. 1. 1.], blk_size=[8, 4, 32, 32, 7], non_zero=0]\u001b[A\n",
      "nan:   5%|▉                  | 23/471 [00:03<00:44, 10.07it/s, scale=[1. 1. 1.], blk_size=[8, 4, 32, 32, 7], non_zero=0]\u001b[A\n",
      "nan:   5%|▉                  | 23/471 [00:03<00:44, 10.07it/s, scale=[1. 1. 1.], blk_size=[8, 32, 4, 32, 7], non_zero=0]\u001b[A\n",
      "nan:   5%|▉                  | 24/471 [00:03<00:44, 10.07it/s, scale=[1. 1. 1.], blk_size=[8, 32, 4, 32, 7], non_zero=0]\u001b[A\n",
      "nan:   5%|▉                  | 24/471 [00:03<00:44, 10.07it/s, scale=[1. 1. 1.], blk_size=[8, 32, 4, 32, 7], non_zero=0]\u001b[A\n",
      "nan:   5%|█                  | 25/471 [00:03<00:48,  9.19it/s, scale=[1. 1. 1.], blk_size=[8, 32, 4, 32, 7], non_zero=0]\u001b[A"
     ]
    },
    {
     "ename": "KeyboardInterrupt",
     "evalue": "",
     "output_type": "error",
     "traceback": [
      "\u001b[0;31m---------------------------------------------------------------------------\u001b[0m",
      "\u001b[0;31mKeyboardInterrupt\u001b[0m                         Traceback (most recent call last)",
      "Cell \u001b[0;32mIn[14], line 1\u001b[0m\n\u001b[0;32m----> 1\u001b[0m \u001b[43mt\u001b[49m\u001b[38;5;241;43m.\u001b[39;49m\u001b[43mtrain\u001b[49m\u001b[43m(\u001b[49m\u001b[43m)\u001b[49m\n",
      "File \u001b[0;32m/workspace/Code/HCP_SR/trainer.py:77\u001b[0m, in \u001b[0;36mTrainer.train\u001b[0;34m(self)\u001b[0m\n\u001b[1;32m     73\u001b[0m     lr \u001b[38;5;241m=\u001b[39m torch\u001b[38;5;241m.\u001b[39mpermute(lr_tensor, (\u001b[38;5;241m0\u001b[39m,\u001b[38;5;241m3\u001b[39m,\u001b[38;5;241m1\u001b[39m,\u001b[38;5;241m2\u001b[39m))\n\u001b[1;32m     76\u001b[0m \u001b[38;5;66;03m# inference\u001b[39;00m\n\u001b[0;32m---> 77\u001b[0m pred \u001b[38;5;241m=\u001b[39m \u001b[38;5;28;43mself\u001b[39;49m\u001b[38;5;241;43m.\u001b[39;49m\u001b[43mmodel\u001b[49m\u001b[38;5;241;43m.\u001b[39;49m\u001b[43mforward\u001b[49m\u001b[43m(\u001b[49m\u001b[43mlr\u001b[49m\u001b[43m,\u001b[49m\u001b[43mscale\u001b[49m\u001b[43m)\u001b[49m\n\u001b[1;32m     80\u001b[0m \u001b[38;5;28;01mif\u001b[39;00m(\u001b[38;5;28mlen\u001b[39m(lr_tensor\u001b[38;5;241m.\u001b[39mshape) \u001b[38;5;241m==\u001b[39m \u001b[38;5;241m5\u001b[39m):\n\u001b[1;32m     81\u001b[0m     \u001b[38;5;66;03m# print(pred.shape,lr.shape)\u001b[39;00m\n\u001b[1;32m     82\u001b[0m     pred_tensor \u001b[38;5;241m=\u001b[39m torch\u001b[38;5;241m.\u001b[39mpermute(pred, (\u001b[38;5;241m0\u001b[39m,\u001b[38;5;241m2\u001b[39m,\u001b[38;5;241m3\u001b[39m,\u001b[38;5;241m4\u001b[39m,\u001b[38;5;241m1\u001b[39m))\u001b[38;5;241m.\u001b[39mfloat()\n",
      "File \u001b[0;32m/workspace/Code/HCP_SR/model/__init__.py:32\u001b[0m, in \u001b[0;36mModel.forward\u001b[0;34m(self, x, sca)\u001b[0m\n\u001b[1;32m     30\u001b[0m \u001b[38;5;28;01mdef\u001b[39;00m \u001b[38;5;21mforward\u001b[39m(\u001b[38;5;28mself\u001b[39m, x ,sca):\n\u001b[1;32m     31\u001b[0m     \u001b[38;5;66;03m# print(x.shape,sca)\u001b[39;00m\n\u001b[0;32m---> 32\u001b[0m     \u001b[38;5;28;01mreturn\u001b[39;00m \u001b[38;5;28;43mself\u001b[39;49m\u001b[38;5;241;43m.\u001b[39;49m\u001b[43mmodel\u001b[49m\u001b[43m(\u001b[49m\u001b[43mx\u001b[49m\u001b[43m,\u001b[49m\u001b[43msca\u001b[49m\u001b[43m)\u001b[49m\n",
      "File \u001b[0;32m/usr/local/lib/python3.10/dist-packages/torch/nn/modules/module.py:1518\u001b[0m, in \u001b[0;36mModule._wrapped_call_impl\u001b[0;34m(self, *args, **kwargs)\u001b[0m\n\u001b[1;32m   1516\u001b[0m     \u001b[38;5;28;01mreturn\u001b[39;00m \u001b[38;5;28mself\u001b[39m\u001b[38;5;241m.\u001b[39m_compiled_call_impl(\u001b[38;5;241m*\u001b[39margs, \u001b[38;5;241m*\u001b[39m\u001b[38;5;241m*\u001b[39mkwargs)  \u001b[38;5;66;03m# type: ignore[misc]\u001b[39;00m\n\u001b[1;32m   1517\u001b[0m \u001b[38;5;28;01melse\u001b[39;00m:\n\u001b[0;32m-> 1518\u001b[0m     \u001b[38;5;28;01mreturn\u001b[39;00m \u001b[38;5;28;43mself\u001b[39;49m\u001b[38;5;241;43m.\u001b[39;49m\u001b[43m_call_impl\u001b[49m\u001b[43m(\u001b[49m\u001b[38;5;241;43m*\u001b[39;49m\u001b[43margs\u001b[49m\u001b[43m,\u001b[49m\u001b[43m \u001b[49m\u001b[38;5;241;43m*\u001b[39;49m\u001b[38;5;241;43m*\u001b[39;49m\u001b[43mkwargs\u001b[49m\u001b[43m)\u001b[49m\n",
      "File \u001b[0;32m/usr/local/lib/python3.10/dist-packages/torch/nn/modules/module.py:1527\u001b[0m, in \u001b[0;36mModule._call_impl\u001b[0;34m(self, *args, **kwargs)\u001b[0m\n\u001b[1;32m   1522\u001b[0m \u001b[38;5;66;03m# If we don't have any hooks, we want to skip the rest of the logic in\u001b[39;00m\n\u001b[1;32m   1523\u001b[0m \u001b[38;5;66;03m# this function, and just call forward.\u001b[39;00m\n\u001b[1;32m   1524\u001b[0m \u001b[38;5;28;01mif\u001b[39;00m \u001b[38;5;129;01mnot\u001b[39;00m (\u001b[38;5;28mself\u001b[39m\u001b[38;5;241m.\u001b[39m_backward_hooks \u001b[38;5;129;01mor\u001b[39;00m \u001b[38;5;28mself\u001b[39m\u001b[38;5;241m.\u001b[39m_backward_pre_hooks \u001b[38;5;129;01mor\u001b[39;00m \u001b[38;5;28mself\u001b[39m\u001b[38;5;241m.\u001b[39m_forward_hooks \u001b[38;5;129;01mor\u001b[39;00m \u001b[38;5;28mself\u001b[39m\u001b[38;5;241m.\u001b[39m_forward_pre_hooks\n\u001b[1;32m   1525\u001b[0m         \u001b[38;5;129;01mor\u001b[39;00m _global_backward_pre_hooks \u001b[38;5;129;01mor\u001b[39;00m _global_backward_hooks\n\u001b[1;32m   1526\u001b[0m         \u001b[38;5;129;01mor\u001b[39;00m _global_forward_hooks \u001b[38;5;129;01mor\u001b[39;00m _global_forward_pre_hooks):\n\u001b[0;32m-> 1527\u001b[0m     \u001b[38;5;28;01mreturn\u001b[39;00m \u001b[43mforward_call\u001b[49m\u001b[43m(\u001b[49m\u001b[38;5;241;43m*\u001b[39;49m\u001b[43margs\u001b[49m\u001b[43m,\u001b[49m\u001b[43m \u001b[49m\u001b[38;5;241;43m*\u001b[39;49m\u001b[38;5;241;43m*\u001b[39;49m\u001b[43mkwargs\u001b[49m\u001b[43m)\u001b[49m\n\u001b[1;32m   1529\u001b[0m \u001b[38;5;28;01mtry\u001b[39;00m:\n\u001b[1;32m   1530\u001b[0m     result \u001b[38;5;241m=\u001b[39m \u001b[38;5;28;01mNone\u001b[39;00m\n",
      "File \u001b[0;32m/workspace/Code/HCP_SR/model/dmri_model.py:66\u001b[0m, in \u001b[0;36mDMRI_RDN_3d.forward\u001b[0;34m(self, inp, scale)\u001b[0m\n\u001b[1;32m     63\u001b[0m feat \u001b[38;5;241m=\u001b[39m \u001b[38;5;28mself\u001b[39m\u001b[38;5;241m.\u001b[39mencoder(inp)\n\u001b[1;32m     64\u001b[0m \u001b[38;5;66;03m#feat = self.encoder((inp-0.5)/0.5)\u001b[39;00m\n\u001b[1;32m     65\u001b[0m \u001b[38;5;66;03m# print(size)\u001b[39;00m\n\u001b[0;32m---> 66\u001b[0m pred \u001b[38;5;241m=\u001b[39m \u001b[38;5;28;43mself\u001b[39;49m\u001b[38;5;241;43m.\u001b[39;49m\u001b[43mdecoder\u001b[49m\u001b[43m(\u001b[49m\u001b[43mfeat\u001b[49m\u001b[43m,\u001b[49m\u001b[43msize\u001b[49m\u001b[43m)\u001b[49m\n\u001b[1;32m     68\u001b[0m \u001b[38;5;28;01mreturn\u001b[39;00m pred\n",
      "File \u001b[0;32m/usr/local/lib/python3.10/dist-packages/torch/nn/modules/module.py:1518\u001b[0m, in \u001b[0;36mModule._wrapped_call_impl\u001b[0;34m(self, *args, **kwargs)\u001b[0m\n\u001b[1;32m   1516\u001b[0m     \u001b[38;5;28;01mreturn\u001b[39;00m \u001b[38;5;28mself\u001b[39m\u001b[38;5;241m.\u001b[39m_compiled_call_impl(\u001b[38;5;241m*\u001b[39margs, \u001b[38;5;241m*\u001b[39m\u001b[38;5;241m*\u001b[39mkwargs)  \u001b[38;5;66;03m# type: ignore[misc]\u001b[39;00m\n\u001b[1;32m   1517\u001b[0m \u001b[38;5;28;01melse\u001b[39;00m:\n\u001b[0;32m-> 1518\u001b[0m     \u001b[38;5;28;01mreturn\u001b[39;00m \u001b[38;5;28;43mself\u001b[39;49m\u001b[38;5;241;43m.\u001b[39;49m\u001b[43m_call_impl\u001b[49m\u001b[43m(\u001b[49m\u001b[38;5;241;43m*\u001b[39;49m\u001b[43margs\u001b[49m\u001b[43m,\u001b[49m\u001b[43m \u001b[49m\u001b[38;5;241;43m*\u001b[39;49m\u001b[38;5;241;43m*\u001b[39;49m\u001b[43mkwargs\u001b[49m\u001b[43m)\u001b[49m\n",
      "File \u001b[0;32m/usr/local/lib/python3.10/dist-packages/torch/nn/modules/module.py:1527\u001b[0m, in \u001b[0;36mModule._call_impl\u001b[0;34m(self, *args, **kwargs)\u001b[0m\n\u001b[1;32m   1522\u001b[0m \u001b[38;5;66;03m# If we don't have any hooks, we want to skip the rest of the logic in\u001b[39;00m\n\u001b[1;32m   1523\u001b[0m \u001b[38;5;66;03m# this function, and just call forward.\u001b[39;00m\n\u001b[1;32m   1524\u001b[0m \u001b[38;5;28;01mif\u001b[39;00m \u001b[38;5;129;01mnot\u001b[39;00m (\u001b[38;5;28mself\u001b[39m\u001b[38;5;241m.\u001b[39m_backward_hooks \u001b[38;5;129;01mor\u001b[39;00m \u001b[38;5;28mself\u001b[39m\u001b[38;5;241m.\u001b[39m_backward_pre_hooks \u001b[38;5;129;01mor\u001b[39;00m \u001b[38;5;28mself\u001b[39m\u001b[38;5;241m.\u001b[39m_forward_hooks \u001b[38;5;129;01mor\u001b[39;00m \u001b[38;5;28mself\u001b[39m\u001b[38;5;241m.\u001b[39m_forward_pre_hooks\n\u001b[1;32m   1525\u001b[0m         \u001b[38;5;129;01mor\u001b[39;00m _global_backward_pre_hooks \u001b[38;5;129;01mor\u001b[39;00m _global_backward_hooks\n\u001b[1;32m   1526\u001b[0m         \u001b[38;5;129;01mor\u001b[39;00m _global_forward_hooks \u001b[38;5;129;01mor\u001b[39;00m _global_forward_pre_hooks):\n\u001b[0;32m-> 1527\u001b[0m     \u001b[38;5;28;01mreturn\u001b[39;00m \u001b[43mforward_call\u001b[49m\u001b[43m(\u001b[49m\u001b[38;5;241;43m*\u001b[39;49m\u001b[43margs\u001b[49m\u001b[43m,\u001b[49m\u001b[43m \u001b[49m\u001b[38;5;241;43m*\u001b[39;49m\u001b[38;5;241;43m*\u001b[39;49m\u001b[43mkwargs\u001b[49m\u001b[43m)\u001b[49m\n\u001b[1;32m   1529\u001b[0m \u001b[38;5;28;01mtry\u001b[39;00m:\n\u001b[1;32m   1530\u001b[0m     result \u001b[38;5;241m=\u001b[39m \u001b[38;5;28;01mNone\u001b[39;00m\n",
      "File \u001b[0;32m/workspace/Code/HCP_SR/model/arb_decoder.py:105\u001b[0m, in \u001b[0;36mImplicitDecoder_3d.forward\u001b[0;34m(self, x, size)\u001b[0m\n\u001b[1;32m    100\u001b[0m B, C, H_in, W_in,D_in \u001b[38;5;241m=\u001b[39m x\u001b[38;5;241m.\u001b[39mshape\n\u001b[1;32m    103\u001b[0m rel_coord \u001b[38;5;241m=\u001b[39m (\u001b[38;5;28mself\u001b[39m\u001b[38;5;241m.\u001b[39m_make_pos_encoding(x, size)\u001b[38;5;241m.\u001b[39mexpand(B, \u001b[38;5;241m-\u001b[39m\u001b[38;5;241m1\u001b[39m, \u001b[38;5;241m*\u001b[39msize))\n\u001b[0;32m--> 105\u001b[0m ratio \u001b[38;5;241m=\u001b[39m (\u001b[43mx\u001b[49m\u001b[38;5;241;43m.\u001b[39;49m\u001b[43mnew_tensor\u001b[49m\u001b[43m(\u001b[49m\u001b[43m[\u001b[49m\u001b[43mmath\u001b[49m\u001b[38;5;241;43m.\u001b[39;49m\u001b[43msqrt\u001b[49m\u001b[43m(\u001b[49m\u001b[43m(\u001b[49m\u001b[43mH_in\u001b[49m\u001b[38;5;241;43m*\u001b[39;49m\u001b[43mW_in\u001b[49m\u001b[38;5;241;43m*\u001b[39;49m\u001b[43mD_in\u001b[49m\u001b[43m)\u001b[49m\u001b[38;5;241;43m/\u001b[39;49m\u001b[43m(\u001b[49m\u001b[43msize\u001b[49m\u001b[43m[\u001b[49m\u001b[38;5;241;43m0\u001b[39;49m\u001b[43m]\u001b[49m\u001b[38;5;241;43m*\u001b[39;49m\u001b[43msize\u001b[49m\u001b[43m[\u001b[49m\u001b[38;5;241;43m1\u001b[39;49m\u001b[43m]\u001b[49m\u001b[38;5;241;43m*\u001b[39;49m\u001b[43msize\u001b[49m\u001b[43m[\u001b[49m\u001b[38;5;241;43m2\u001b[39;49m\u001b[43m]\u001b[49m\u001b[43m)\u001b[49m\u001b[43m)\u001b[49m\u001b[43m]\u001b[49m\u001b[43m)\u001b[49m\u001b[38;5;241m.\u001b[39mview(\u001b[38;5;241m1\u001b[39m, \u001b[38;5;241m-\u001b[39m\u001b[38;5;241m1\u001b[39m, \u001b[38;5;241m1\u001b[39m, \u001b[38;5;241m1\u001b[39m)\u001b[38;5;241m.\u001b[39mexpand(B, \u001b[38;5;241m-\u001b[39m\u001b[38;5;241m1\u001b[39m, \u001b[38;5;241m*\u001b[39msize))\n\u001b[1;32m    107\u001b[0m syn_inp \u001b[38;5;241m=\u001b[39m torch\u001b[38;5;241m.\u001b[39mcat([rel_coord, ratio], dim\u001b[38;5;241m=\u001b[39m\u001b[38;5;241m1\u001b[39m)\n\u001b[1;32m    109\u001b[0m x \u001b[38;5;241m=\u001b[39m F\u001b[38;5;241m.\u001b[39minterpolate(unfoldNd\u001b[38;5;241m.\u001b[39munfoldNd(x, \u001b[38;5;241m3\u001b[39m, padding\u001b[38;5;241m=\u001b[39m\u001b[38;5;241m1\u001b[39m)\u001b[38;5;241m.\u001b[39mview(B, C\u001b[38;5;241m*\u001b[39m\u001b[38;5;241m27\u001b[39m, H_in, W_in,D_in), size\u001b[38;5;241m=\u001b[39mratio\u001b[38;5;241m.\u001b[39mshape[\u001b[38;5;241m-\u001b[39m\u001b[38;5;241m3\u001b[39m:],mode \u001b[38;5;241m=\u001b[39m \u001b[38;5;124m\"\u001b[39m\u001b[38;5;124mtrilinear\u001b[39m\u001b[38;5;124m\"\u001b[39m)\n",
      "\u001b[0;31mKeyboardInterrupt\u001b[0m: "
     ]
    }
   ],
   "source": [
    "t.train()"
   ]
  },
  {
   "cell_type": "code",
   "execution_count": null,
   "id": "66f0a453",
   "metadata": {},
   "outputs": [],
   "source": [
    "q = Trainer(args, loader, model, loss, checkpoint,logger)"
   ]
  },
  {
   "cell_type": "code",
   "execution_count": null,
   "id": "d996d6b2",
   "metadata": {},
   "outputs": [],
   "source": [
    "q.test()"
   ]
  },
  {
   "cell_type": "code",
   "execution_count": 36,
   "id": "8564084a",
   "metadata": {},
   "outputs": [
    {
     "name": "stderr",
     "output_type": "stream",
     "text": [
      "100%|███| 240/240 [00:56<00:00,  4.90it/s, scale=[1. 1. 1.], blk_size=[8, 4, 32, 32, 7], hfen=nan, psnr=nan, non_zero=0]"
     ]
    },
    {
     "name": "stdout",
     "output_type": "stream",
     "text": [
      "Unexpected exception formatting exception. Falling back to standard exception\n"
     ]
    },
    {
     "name": "stderr",
     "output_type": "stream",
     "text": [
      "Traceback (most recent call last):\n",
      "  File \"/usr/local/lib/python3.10/dist-packages/IPython/core/interactiveshell.py\", line 3526, in run_code\n",
      "    exec(code_obj, self.user_global_ns, self.user_ns)\n",
      "  File \"/tmp/ipykernel_17298/2615950094.py\", line 1, in <module>\n",
      "    t.test()\n",
      "  File \"/workspace/Code/HCP_SR/trainer.py\", line 190, in test\n",
      "  File \"/usr/local/lib/python3.10/dist-packages/torch/utils/tensorboard/writer.py\", line 517, in add_histogram\n",
      "    histogram(tag, values, bins, max_bins=max_bins), global_step, walltime\n",
      "  File \"/usr/local/lib/python3.10/dist-packages/torch/utils/tensorboard/summary.py\", line 459, in histogram\n",
      "    hist = make_histogram(values.astype(float), bins, max_bins)\n",
      "  File \"/usr/local/lib/python3.10/dist-packages/torch/utils/tensorboard/summary.py\", line 504, in make_histogram\n",
      "    raise ValueError(\"The histogram is empty, please file a bug report.\")\n",
      "ValueError: The histogram is empty, please file a bug report.\n",
      "\n",
      "During handling of the above exception, another exception occurred:\n",
      "\n",
      "Traceback (most recent call last):\n",
      "  File \"/usr/local/lib/python3.10/dist-packages/IPython/core/interactiveshell.py\", line 2120, in showtraceback\n",
      "    stb = self.InteractiveTB.structured_traceback(\n",
      "  File \"/usr/local/lib/python3.10/dist-packages/IPython/core/ultratb.py\", line 1435, in structured_traceback\n",
      "    return FormattedTB.structured_traceback(\n",
      "  File \"/usr/local/lib/python3.10/dist-packages/IPython/core/ultratb.py\", line 1326, in structured_traceback\n",
      "    return VerboseTB.structured_traceback(\n",
      "  File \"/usr/local/lib/python3.10/dist-packages/IPython/core/ultratb.py\", line 1173, in structured_traceback\n",
      "    formatted_exception = self.format_exception_as_a_whole(etype, evalue, etb, number_of_lines_of_context,\n",
      "  File \"/usr/local/lib/python3.10/dist-packages/IPython/core/ultratb.py\", line 1088, in format_exception_as_a_whole\n",
      "    frames.append(self.format_record(record))\n",
      "  File \"/usr/local/lib/python3.10/dist-packages/IPython/core/ultratb.py\", line 970, in format_record\n",
      "    frame_info.lines, Colors, self.has_colors, lvals\n",
      "  File \"/usr/local/lib/python3.10/dist-packages/IPython/core/ultratb.py\", line 792, in lines\n",
      "    return self._sd.lines\n",
      "  File \"/usr/local/lib/python3.10/dist-packages/stack_data/utils.py\", line 145, in cached_property_wrapper\n",
      "    value = obj.__dict__[self.func.__name__] = self.func(obj)\n",
      "  File \"/usr/local/lib/python3.10/dist-packages/stack_data/core.py\", line 734, in lines\n",
      "    pieces = self.included_pieces\n",
      "  File \"/usr/local/lib/python3.10/dist-packages/stack_data/utils.py\", line 145, in cached_property_wrapper\n",
      "    value = obj.__dict__[self.func.__name__] = self.func(obj)\n",
      "  File \"/usr/local/lib/python3.10/dist-packages/stack_data/core.py\", line 681, in included_pieces\n",
      "    pos = scope_pieces.index(self.executing_piece)\n",
      "  File \"/usr/local/lib/python3.10/dist-packages/stack_data/utils.py\", line 145, in cached_property_wrapper\n",
      "    value = obj.__dict__[self.func.__name__] = self.func(obj)\n",
      "  File \"/usr/local/lib/python3.10/dist-packages/stack_data/core.py\", line 660, in executing_piece\n",
      "    return only(\n",
      "  File \"/usr/local/lib/python3.10/dist-packages/executing/executing.py\", line 116, in only\n",
      "    raise NotOneValueFound('Expected one value, found 0')\n",
      "executing.executing.NotOneValueFound: Expected one value, found 0\n"
     ]
    }
   ],
   "source": [
    "t.test()"
   ]
  },
  {
   "cell_type": "code",
   "execution_count": 58,
   "id": "80aa69ae",
   "metadata": {
    "scrolled": false
   },
   "outputs": [
    {
     "name": "stdout",
     "output_type": "stream",
     "text": [
      "[Epoch 0]\tLearning rate: 5.00e-3\n"
     ]
    },
    {
     "name": "stderr",
     "output_type": "stream",
     "text": [
      "  0%|                                                                                           | 0/214 [00:00<?, ?it/s]/usr/local/lib/python3.10/dist-packages/torch/functional.py:504: UserWarning: torch.meshgrid: in an upcoming release, it will be required to pass the indexing argument. (Triggered internally at /opt/pytorch/pytorch/aten/src/ATen/native/TensorShape.cpp:3516.)\n",
      "  return _VF.meshgrid(tensors, **kwargs)  # type: ignore[attr-defined]\n",
      "[MSE: 0.3611]: 100%|███████████████████| 214/214 [00:13<00:00, 15.50it/s, scale=[1. 1. 1.], blk_size=[16, 32, 4, 32, 7]]\n",
      " 15%|██▎            | 17/110 [00:06<00:37,  2.50it/s, scale=[1. 1. 1.], blk_size=[16, 4, 32, 32, 7], hfen=nan, psnr=nan]"
     ]
    },
    {
     "ename": "KeyboardInterrupt",
     "evalue": "",
     "output_type": "error",
     "traceback": [
      "\u001b[0;31m---------------------------------------------------------------------------\u001b[0m",
      "\u001b[0;31mKeyboardInterrupt\u001b[0m                         Traceback (most recent call last)",
      "Cell \u001b[0;32mIn[58], line 3\u001b[0m\n\u001b[1;32m      1\u001b[0m \u001b[38;5;28;01mwhile\u001b[39;00m \u001b[38;5;129;01mnot\u001b[39;00m t\u001b[38;5;241m.\u001b[39mterminate():\n\u001b[1;32m      2\u001b[0m     t\u001b[38;5;241m.\u001b[39mtrain()\n\u001b[0;32m----> 3\u001b[0m     \u001b[43mt\u001b[49m\u001b[38;5;241;43m.\u001b[39;49m\u001b[43mtest\u001b[49m\u001b[43m(\u001b[49m\u001b[43m)\u001b[49m\n\u001b[1;32m      4\u001b[0m     \u001b[38;5;66;03m# break\u001b[39;00m\n\u001b[1;32m      5\u001b[0m \n\u001b[1;32m      6\u001b[0m \u001b[38;5;66;03m# checkpoint.done()\u001b[39;00m\n",
      "File \u001b[0;32m/workspace/Code/HCP_SR/trainer.py:182\u001b[0m, in \u001b[0;36mtest\u001b[0;34m(self)\u001b[0m\n\u001b[1;32m    178\u001b[0m     psnr, hfen \u001b[38;5;241m=\u001b[39m utility\u001b[38;5;241m.\u001b[39mcompute_scores(hr_tensor,pred_tensor,out_tensor,scale,mask \u001b[38;5;241m=\u001b[39m \u001b[38;5;28;01mFalse\u001b[39;00m)\n\u001b[1;32m    181\u001b[0m eval_hfen_avg\u001b[38;5;241m.\u001b[39mappend(hfen)\n\u001b[0;32m--> 182\u001b[0m eval_psnr_avg\u001b[38;5;241m.\u001b[39mappend(psnr)\n\u001b[1;32m    183\u001b[0m pbar\u001b[38;5;241m.\u001b[39mset_postfix({\u001b[38;5;124m\"\u001b[39m\u001b[38;5;124mscale\u001b[39m\u001b[38;5;124m\"\u001b[39m:scale,\u001b[38;5;124m\"\u001b[39m\u001b[38;5;124mblk_size\u001b[39m\u001b[38;5;124m\"\u001b[39m:\u001b[38;5;28mlist\u001b[39m(lr_tensor\u001b[38;5;241m.\u001b[39mshape),\u001b[38;5;124m\"\u001b[39m\u001b[38;5;124mhfen\u001b[39m\u001b[38;5;124m\"\u001b[39m:hfen,\u001b[38;5;124m\"\u001b[39m\u001b[38;5;124mpsnr\u001b[39m\u001b[38;5;124m\"\u001b[39m:psnr,\u001b[38;5;124m\"\u001b[39m\u001b[38;5;124mnon_zero\u001b[39m\u001b[38;5;124m\"\u001b[39m:\u001b[38;5;28mlen\u001b[39m(pred[pred\u001b[38;5;241m>\u001b[39m\u001b[38;5;241m0\u001b[39m])})\n\u001b[1;32m    184\u001b[0m torch\u001b[38;5;241m.\u001b[39mcuda\u001b[38;5;241m.\u001b[39mempty_cache()\n",
      "File \u001b[0;32m/workspace/Code/HCP_SR/utility.py:361\u001b[0m, in \u001b[0;36mcompute_scores\u001b[0;34m(hr, pred, out, scale, logger, iter, mask, epoch)\u001b[0m\n\u001b[1;32m    358\u001b[0m     out \u001b[38;5;241m=\u001b[39m out\u001b[38;5;241m.\u001b[39msqueeze()\n\u001b[1;32m    360\u001b[0m psnr \u001b[38;5;241m=\u001b[39m \u001b[38;5;28mfloat\u001b[39m(metrics\u001b[38;5;241m.\u001b[39mpeak_signal_noise_ratio(hr,pred,data_range\u001b[38;5;241m=\u001b[39m\u001b[38;5;241m1\u001b[39m))\n\u001b[0;32m--> 361\u001b[0m hfen \u001b[38;5;241m=\u001b[39m \u001b[43mhfen_metric\u001b[49m\u001b[43m(\u001b[49m\u001b[43mhr\u001b[49m\u001b[43m,\u001b[49m\u001b[43mpred\u001b[49m\u001b[43m)\u001b[49m\n\u001b[1;32m    363\u001b[0m \u001b[38;5;28;01mif\u001b[39;00m(logger \u001b[38;5;241m!=\u001b[39m \u001b[38;5;28;01mNone\u001b[39;00m):\n\u001b[1;32m    364\u001b[0m     logger_sampling(hr,pred,out,scale,logger,\u001b[38;5;28miter\u001b[39m,epoch,hfen)\n",
      "File \u001b[0;32m/workspace/Code/HCP_SR/utility.py:330\u001b[0m, in \u001b[0;36mhfen_metric\u001b[0;34m(reference, input_volume)\u001b[0m\n\u001b[1;32m    328\u001b[0m \u001b[38;5;28;01mdef\u001b[39;00m \u001b[38;5;21mhfen_metric\u001b[39m(reference, input_volume):\n\u001b[1;32m    329\u001b[0m     \u001b[38;5;66;03m# Apply Laplacian of Gaussian (LoG) filter to reference and input volumes\u001b[39;00m\n\u001b[0;32m--> 330\u001b[0m     log_reference \u001b[38;5;241m=\u001b[39m \u001b[43mgaussian_laplace\u001b[49m\u001b[43m(\u001b[49m\u001b[43mreference\u001b[49m\u001b[43m,\u001b[49m\u001b[43m \u001b[49m\u001b[43msigma\u001b[49m\u001b[38;5;241;43m=\u001b[39;49m\u001b[38;5;241;43m3\u001b[39;49m\u001b[43m)\u001b[49m\n\u001b[1;32m    331\u001b[0m     log_input \u001b[38;5;241m=\u001b[39m gaussian_laplace(input_volume, sigma\u001b[38;5;241m=\u001b[39m\u001b[38;5;241m3\u001b[39m)\n\u001b[1;32m    333\u001b[0m     \u001b[38;5;66;03m# Calculate the L2 norm of the difference between filtered volumes\u001b[39;00m\n",
      "File \u001b[0;32m/usr/local/lib/python3.10/dist-packages/scipy/ndimage/_filters.py:592\u001b[0m, in \u001b[0;36mgaussian_laplace\u001b[0;34m(input, sigma, output, mode, cval, **kwargs)\u001b[0m\n\u001b[1;32m    588\u001b[0m     order[axis] \u001b[38;5;241m=\u001b[39m \u001b[38;5;241m2\u001b[39m\n\u001b[1;32m    589\u001b[0m     \u001b[38;5;28;01mreturn\u001b[39;00m gaussian_filter(\u001b[38;5;28minput\u001b[39m, sigma, order, output, mode, cval,\n\u001b[1;32m    590\u001b[0m                            \u001b[38;5;241m*\u001b[39m\u001b[38;5;241m*\u001b[39mkwargs)\n\u001b[0;32m--> 592\u001b[0m \u001b[38;5;28;01mreturn\u001b[39;00m \u001b[43mgeneric_laplace\u001b[49m\u001b[43m(\u001b[49m\u001b[38;5;28;43minput\u001b[39;49m\u001b[43m,\u001b[49m\u001b[43m \u001b[49m\u001b[43mderivative2\u001b[49m\u001b[43m,\u001b[49m\u001b[43m \u001b[49m\u001b[43moutput\u001b[49m\u001b[43m,\u001b[49m\u001b[43m \u001b[49m\u001b[43mmode\u001b[49m\u001b[43m,\u001b[49m\u001b[43m \u001b[49m\u001b[43mcval\u001b[49m\u001b[43m,\u001b[49m\n\u001b[1;32m    593\u001b[0m \u001b[43m                       \u001b[49m\u001b[43mextra_arguments\u001b[49m\u001b[38;5;241;43m=\u001b[39;49m\u001b[43m(\u001b[49m\u001b[43msigma\u001b[49m\u001b[43m,\u001b[49m\u001b[43m)\u001b[49m\u001b[43m,\u001b[49m\n\u001b[1;32m    594\u001b[0m \u001b[43m                       \u001b[49m\u001b[43mextra_keywords\u001b[49m\u001b[38;5;241;43m=\u001b[39;49m\u001b[43mkwargs\u001b[49m\u001b[43m)\u001b[49m\n",
      "File \u001b[0;32m/usr/local/lib/python3.10/dist-packages/scipy/ndimage/_filters.py:508\u001b[0m, in \u001b[0;36mgeneric_laplace\u001b[0;34m(input, derivative2, output, mode, cval, extra_arguments, extra_keywords)\u001b[0m\n\u001b[1;32m    506\u001b[0m \u001b[38;5;28;01mif\u001b[39;00m \u001b[38;5;28mlen\u001b[39m(axes) \u001b[38;5;241m>\u001b[39m \u001b[38;5;241m0\u001b[39m:\n\u001b[1;32m    507\u001b[0m     modes \u001b[38;5;241m=\u001b[39m _ni_support\u001b[38;5;241m.\u001b[39m_normalize_sequence(mode, \u001b[38;5;28mlen\u001b[39m(axes))\n\u001b[0;32m--> 508\u001b[0m     \u001b[43mderivative2\u001b[49m\u001b[43m(\u001b[49m\u001b[38;5;28;43minput\u001b[39;49m\u001b[43m,\u001b[49m\u001b[43m \u001b[49m\u001b[43maxes\u001b[49m\u001b[43m[\u001b[49m\u001b[38;5;241;43m0\u001b[39;49m\u001b[43m]\u001b[49m\u001b[43m,\u001b[49m\u001b[43m \u001b[49m\u001b[43moutput\u001b[49m\u001b[43m,\u001b[49m\u001b[43m \u001b[49m\u001b[43mmodes\u001b[49m\u001b[43m[\u001b[49m\u001b[38;5;241;43m0\u001b[39;49m\u001b[43m]\u001b[49m\u001b[43m,\u001b[49m\u001b[43m \u001b[49m\u001b[43mcval\u001b[49m\u001b[43m,\u001b[49m\n\u001b[1;32m    509\u001b[0m \u001b[43m                \u001b[49m\u001b[38;5;241;43m*\u001b[39;49m\u001b[43mextra_arguments\u001b[49m\u001b[43m,\u001b[49m\u001b[43m \u001b[49m\u001b[38;5;241;43m*\u001b[39;49m\u001b[38;5;241;43m*\u001b[39;49m\u001b[43mextra_keywords\u001b[49m\u001b[43m)\u001b[49m\n\u001b[1;32m    510\u001b[0m     \u001b[38;5;28;01mfor\u001b[39;00m ii \u001b[38;5;129;01min\u001b[39;00m \u001b[38;5;28mrange\u001b[39m(\u001b[38;5;241m1\u001b[39m, \u001b[38;5;28mlen\u001b[39m(axes)):\n\u001b[1;32m    511\u001b[0m         tmp \u001b[38;5;241m=\u001b[39m derivative2(\u001b[38;5;28minput\u001b[39m, axes[ii], output\u001b[38;5;241m.\u001b[39mdtype, modes[ii], cval,\n\u001b[1;32m    512\u001b[0m                           \u001b[38;5;241m*\u001b[39mextra_arguments, \u001b[38;5;241m*\u001b[39m\u001b[38;5;241m*\u001b[39mextra_keywords)\n",
      "File \u001b[0;32m/usr/local/lib/python3.10/dist-packages/scipy/ndimage/_filters.py:589\u001b[0m, in \u001b[0;36mgaussian_laplace.<locals>.derivative2\u001b[0;34m(input, axis, output, mode, cval, sigma, **kwargs)\u001b[0m\n\u001b[1;32m    587\u001b[0m order \u001b[38;5;241m=\u001b[39m [\u001b[38;5;241m0\u001b[39m] \u001b[38;5;241m*\u001b[39m \u001b[38;5;28minput\u001b[39m\u001b[38;5;241m.\u001b[39mndim\n\u001b[1;32m    588\u001b[0m order[axis] \u001b[38;5;241m=\u001b[39m \u001b[38;5;241m2\u001b[39m\n\u001b[0;32m--> 589\u001b[0m \u001b[38;5;28;01mreturn\u001b[39;00m \u001b[43mgaussian_filter\u001b[49m\u001b[43m(\u001b[49m\u001b[38;5;28;43minput\u001b[39;49m\u001b[43m,\u001b[49m\u001b[43m \u001b[49m\u001b[43msigma\u001b[49m\u001b[43m,\u001b[49m\u001b[43m \u001b[49m\u001b[43morder\u001b[49m\u001b[43m,\u001b[49m\u001b[43m \u001b[49m\u001b[43moutput\u001b[49m\u001b[43m,\u001b[49m\u001b[43m \u001b[49m\u001b[43mmode\u001b[49m\u001b[43m,\u001b[49m\u001b[43m \u001b[49m\u001b[43mcval\u001b[49m\u001b[43m,\u001b[49m\n\u001b[1;32m    590\u001b[0m \u001b[43m                       \u001b[49m\u001b[38;5;241;43m*\u001b[39;49m\u001b[38;5;241;43m*\u001b[39;49m\u001b[43mkwargs\u001b[49m\u001b[43m)\u001b[49m\n",
      "File \u001b[0;32m/usr/local/lib/python3.10/dist-packages/scipy/ndimage/_filters.py:379\u001b[0m, in \u001b[0;36mgaussian_filter\u001b[0;34m(input, sigma, order, output, mode, cval, truncate, radius, axes)\u001b[0m\n\u001b[1;32m    377\u001b[0m \u001b[38;5;28;01mif\u001b[39;00m \u001b[38;5;28mlen\u001b[39m(axes) \u001b[38;5;241m>\u001b[39m \u001b[38;5;241m0\u001b[39m:\n\u001b[1;32m    378\u001b[0m     \u001b[38;5;28;01mfor\u001b[39;00m axis, sigma, order, mode, radius \u001b[38;5;129;01min\u001b[39;00m axes:\n\u001b[0;32m--> 379\u001b[0m         \u001b[43mgaussian_filter1d\u001b[49m\u001b[43m(\u001b[49m\u001b[38;5;28;43minput\u001b[39;49m\u001b[43m,\u001b[49m\u001b[43m \u001b[49m\u001b[43msigma\u001b[49m\u001b[43m,\u001b[49m\u001b[43m \u001b[49m\u001b[43maxis\u001b[49m\u001b[43m,\u001b[49m\u001b[43m \u001b[49m\u001b[43morder\u001b[49m\u001b[43m,\u001b[49m\u001b[43m \u001b[49m\u001b[43moutput\u001b[49m\u001b[43m,\u001b[49m\n\u001b[1;32m    380\u001b[0m \u001b[43m                          \u001b[49m\u001b[43mmode\u001b[49m\u001b[43m,\u001b[49m\u001b[43m \u001b[49m\u001b[43mcval\u001b[49m\u001b[43m,\u001b[49m\u001b[43m \u001b[49m\u001b[43mtruncate\u001b[49m\u001b[43m,\u001b[49m\u001b[43m \u001b[49m\u001b[43mradius\u001b[49m\u001b[38;5;241;43m=\u001b[39;49m\u001b[43mradius\u001b[49m\u001b[43m)\u001b[49m\n\u001b[1;32m    381\u001b[0m         \u001b[38;5;28minput\u001b[39m \u001b[38;5;241m=\u001b[39m output\n\u001b[1;32m    382\u001b[0m \u001b[38;5;28;01melse\u001b[39;00m:\n",
      "File \u001b[0;32m/usr/local/lib/python3.10/dist-packages/scipy/ndimage/_filters.py:277\u001b[0m, in \u001b[0;36mgaussian_filter1d\u001b[0;34m(input, sigma, axis, order, output, mode, cval, truncate, radius)\u001b[0m\n\u001b[1;32m    275\u001b[0m \u001b[38;5;66;03m# Since we are calling correlate, not convolve, revert the kernel\u001b[39;00m\n\u001b[1;32m    276\u001b[0m weights \u001b[38;5;241m=\u001b[39m _gaussian_kernel1d(sigma, order, lw)[::\u001b[38;5;241m-\u001b[39m\u001b[38;5;241m1\u001b[39m]\n\u001b[0;32m--> 277\u001b[0m \u001b[38;5;28;01mreturn\u001b[39;00m \u001b[43mcorrelate1d\u001b[49m\u001b[43m(\u001b[49m\u001b[38;5;28;43minput\u001b[39;49m\u001b[43m,\u001b[49m\u001b[43m \u001b[49m\u001b[43mweights\u001b[49m\u001b[43m,\u001b[49m\u001b[43m \u001b[49m\u001b[43maxis\u001b[49m\u001b[43m,\u001b[49m\u001b[43m \u001b[49m\u001b[43moutput\u001b[49m\u001b[43m,\u001b[49m\u001b[43m \u001b[49m\u001b[43mmode\u001b[49m\u001b[43m,\u001b[49m\u001b[43m \u001b[49m\u001b[43mcval\u001b[49m\u001b[43m,\u001b[49m\u001b[43m \u001b[49m\u001b[38;5;241;43m0\u001b[39;49m\u001b[43m)\u001b[49m\n",
      "File \u001b[0;32m/usr/local/lib/python3.10/dist-packages/scipy/ndimage/_filters.py:134\u001b[0m, in \u001b[0;36mcorrelate1d\u001b[0;34m(input, weights, axis, output, mode, cval, origin)\u001b[0m\n\u001b[1;32m    130\u001b[0m     \u001b[38;5;28;01mraise\u001b[39;00m \u001b[38;5;167;01mValueError\u001b[39;00m(\u001b[38;5;124m'\u001b[39m\u001b[38;5;124mInvalid origin; origin must satisfy \u001b[39m\u001b[38;5;124m'\u001b[39m\n\u001b[1;32m    131\u001b[0m                      \u001b[38;5;124m'\u001b[39m\u001b[38;5;124m-(len(weights) // 2) <= origin <= \u001b[39m\u001b[38;5;124m'\u001b[39m\n\u001b[1;32m    132\u001b[0m                      \u001b[38;5;124m'\u001b[39m\u001b[38;5;124m(len(weights)-1) // 2\u001b[39m\u001b[38;5;124m'\u001b[39m)\n\u001b[1;32m    133\u001b[0m mode \u001b[38;5;241m=\u001b[39m _ni_support\u001b[38;5;241m.\u001b[39m_extend_mode_to_code(mode)\n\u001b[0;32m--> 134\u001b[0m \u001b[43m_nd_image\u001b[49m\u001b[38;5;241;43m.\u001b[39;49m\u001b[43mcorrelate1d\u001b[49m\u001b[43m(\u001b[49m\u001b[38;5;28;43minput\u001b[39;49m\u001b[43m,\u001b[49m\u001b[43m \u001b[49m\u001b[43mweights\u001b[49m\u001b[43m,\u001b[49m\u001b[43m \u001b[49m\u001b[43maxis\u001b[49m\u001b[43m,\u001b[49m\u001b[43m \u001b[49m\u001b[43moutput\u001b[49m\u001b[43m,\u001b[49m\u001b[43m \u001b[49m\u001b[43mmode\u001b[49m\u001b[43m,\u001b[49m\u001b[43m \u001b[49m\u001b[43mcval\u001b[49m\u001b[43m,\u001b[49m\n\u001b[1;32m    135\u001b[0m \u001b[43m                      \u001b[49m\u001b[43morigin\u001b[49m\u001b[43m)\u001b[49m\n\u001b[1;32m    136\u001b[0m \u001b[38;5;28;01mreturn\u001b[39;00m output\n",
      "\u001b[0;31mKeyboardInterrupt\u001b[0m: "
     ]
    }
   ],
   "source": [
    "\n",
    "while not t.terminate():\n",
    "    t.train()\n",
    "    t.test()\n",
    "    # break\n",
    "\n",
    "# checkpoint.done()"
   ]
  },
  {
   "cell_type": "code",
   "execution_count": null,
   "id": "e914282b",
   "metadata": {},
   "outputs": [],
   "source": []
  }
 ],
 "metadata": {
  "kernelspec": {
   "display_name": "Python 3 (ipykernel)",
   "language": "python",
   "name": "python3"
  },
  "language_info": {
   "codemirror_mode": {
    "name": "ipython",
    "version": 3
   },
   "file_extension": ".py",
   "mimetype": "text/x-python",
   "name": "python",
   "nbconvert_exporter": "python",
   "pygments_lexer": "ipython3",
   "version": "3.10.12"
  }
 },
 "nbformat": 4,
 "nbformat_minor": 5
}
