{
 "cells": [
  {
   "cell_type": "code",
   "execution_count": 34,
   "id": "a958fcde",
   "metadata": {},
   "outputs": [],
   "source": [
    "from models.deepdti import DeepDTI"
   ]
  },
  {
   "cell_type": "code",
   "execution_count": 35,
   "id": "32a27815",
   "metadata": {},
   "outputs": [
    {
     "name": "stdout",
     "output_type": "stream",
     "text": [
      "torch.Size([1, 5, 64, 64, 64])\n"
     ]
    }
   ],
   "source": [
    "import torch\n",
    "model = DeepDTI()\n",
    "input_tensor = torch.randn(1, 8, 64, 64, 64)  # Batch size 1, 4D input tensor\n",
    "output_tensor = model(input_tensor)\n",
    "print(output_tensor.shape)  # Check the shape of the output"
   ]
  },
  {
   "cell_type": "code",
   "execution_count": 36,
   "id": "a2e0770e",
   "metadata": {},
   "outputs": [
    {
     "name": "stdout",
     "output_type": "stream",
     "text": [
      "Namespace(batch_size=4, block_size=(64, 64, 64), crop_depth=30, debug=False, dir='/storage', preload=True, sort=True, typ='upsampled')\n"
     ]
    }
   ],
   "source": [
    "import argparse, os\n",
    "import torch\n",
    "import torch.nn as nn\n",
    "import torch.optim as optim\n",
    "from torch.utils.data import DataLoader\n",
    "import matplotlib.pyplot as plt\n",
    "import numpy as np\n",
    "import cupy as cp\n",
    "import cucim\n",
    "import data.utils_metrics as utils_met\n",
    "import cucim.skimage.metrics as met\n",
    "parser = argparse.ArgumentParser(description=\"IMDN\")\n",
    "parser.add_argument(\"--block_size\", type=tuple, default=(64,64,64),\n",
    "                    help=\"Block Size\")\n",
    "parser.add_argument(\"--crop_depth\", type=int, default=30,\n",
    "                    help=\"crop across z-axis\")\n",
    "parser.add_argument(\"--dir\", type=str,\n",
    "                    help=\"dataset_directory\")\n",
    "parser.add_argument(\"--batch_size\", type=int,\n",
    "                    help=\"dataset_directory\")\n",
    "parser.add_argument(\"--sort\", type=bool,\n",
    "                    help=\"dataset_directory\")\n",
    "parser.add_argument(\"--debug\", type=bool,\n",
    "                    help=\"dataset_directory\")\n",
    "parser.add_argument(\"--preload\", type=bool,\n",
    "                    help=\"dataset_directory\")\n",
    "args = list(parser.parse_known_args())[0]\n",
    "args.preload = True\n",
    "args.debug = False\n",
    "args.dir = \"/storage\"\n",
    "args.batch_size = 4\n",
    "args.sort = True\n",
    "args.typ = 'upsampled'\n",
    "print(args)"
   ]
  },
  {
   "cell_type": "code",
   "execution_count": 37,
   "id": "5e340211",
   "metadata": {},
   "outputs": [],
   "source": [
    "import utils\n",
    "import data.HCP_dataset_h5 as HCP_dataset\n",
    "\n",
    "ids = utils.get_ids()\n",
    "ids.sort()\n",
    "ids = ids[:5]\n",
    "dataset_hcp = HCP_dataset\n",
    "dataset_hcp.load_data(args.dir,ids)\n",
    "training_dataset = dataset_hcp.hcp_data(args,ids)\n",
    "testing_dataset = dataset_hcp.hcp_data_test(args,ids)"
   ]
  },
  {
   "cell_type": "code",
   "execution_count": 39,
   "id": "ddb9f368",
   "metadata": {},
   "outputs": [],
   "source": [
    "def resize(data):\n",
    "    x,y = [],[]\n",
    "    mask = []\n",
    "    for i in range(len(data)):\n",
    "        mask.append(data[i][0][:,:,:,7])\n",
    "#         print(data[i][0].shape)\n",
    "        x.append(data[i][0])\n",
    "        y.append(np.concatenate([np.expand_dims(data[i][1],axis = 3),np.expand_dims(data[i][2],axis = 3),data[i][3]], axis=3))\n",
    "    return torch.from_numpy(np.stack(x)),torch.from_numpy(np.stack(y)),torch.from_numpy(np.stack(mask))\n"
   ]
  },
  {
   "cell_type": "code",
   "execution_count": 31,
   "id": "2cc9c05f",
   "metadata": {},
   "outputs": [],
   "source": [
    "def resize(data):\n",
    "    x,y = [],[]\n",
    "    mask = []\n",
    "    for i in range(len(data)):\n",
    "        mask.append(data[i][0][:,:,:,7])\n",
    "        x.append(data[i][0].reshape((data[i][0].shape[0]*data[i][0].shape[1],data[i][0].shape[2],data[i][0].shape[3])))\n",
    "        y.append(np.concatenate([np.expand_dims(data[i][1],axis = 3),np.expand_dims(data[i][2],axis = 3),data[i][3]], axis=3))\n",
    "    return torch.from_numpy(np.stack(x)),torch.from_numpy(np.stack(y)),torch.from_numpy(np.stack(mask))"
   ]
  },
  {
   "cell_type": "code",
   "execution_count": 40,
   "id": "2354fdaa",
   "metadata": {},
   "outputs": [],
   "source": [
    "training_data_loader = DataLoader(dataset=training_dataset, batch_size=4, shuffle=True, pin_memory=True, drop_last=True,collate_fn=resize)\n",
    "testing_data_loader = DataLoader(dataset=testing_dataset, batch_size=1,pin_memory=True,collate_fn=resize)"
   ]
  },
  {
   "cell_type": "code",
   "execution_count": 91,
   "id": "3b903c85",
   "metadata": {},
   "outputs": [
    {
     "name": "stdout",
     "output_type": "stream",
     "text": [
      "torch.Size([4, 64, 64, 64, 8]) torch.Size([4, 64, 64, 64, 5]) torch.Size([4, 64, 64, 64])\n"
     ]
    }
   ],
   "source": [
    "for iteration, (lr_tensor, hr_tensor,mask) in enumerate(training_data_loader, 1):\n",
    "    print(lr_tensor.shape,hr_tensor.shape,mask.shape)\n",
    "    break"
   ]
  },
  {
   "cell_type": "code",
   "execution_count": 42,
   "id": "06baf6c1",
   "metadata": {},
   "outputs": [
    {
     "data": {
      "text/plain": [
       "tensor([[False, False, False,  ...,  True,  True,  True],\n",
       "        [False, False, False,  ...,  True,  True,  True],\n",
       "        [False, False, False,  ...,  True,  True,  True],\n",
       "        ...,\n",
       "        [False, False, False,  ..., False, False, False],\n",
       "        [False, False, False,  ..., False, False, False],\n",
       "        [False, False, False,  ..., False, False, False]])"
      ]
     },
     "execution_count": 42,
     "metadata": {},
     "output_type": "execute_result"
    }
   ],
   "source": [
    "lr_tensor[0,:,:,20,7].bool()"
   ]
  },
  {
   "cell_type": "code",
   "execution_count": 48,
   "id": "a98e5a46",
   "metadata": {},
   "outputs": [],
   "source": [
    "mask = mask.bool()"
   ]
  },
  {
   "cell_type": "code",
   "execution_count": 50,
   "id": "d926ac40",
   "metadata": {},
   "outputs": [
    {
     "data": {
      "text/plain": [
       "torch.Size([4, 64, 64, 64])"
      ]
     },
     "execution_count": 50,
     "metadata": {},
     "output_type": "execute_result"
    }
   ],
   "source": [
    "mask.shape"
   ]
  },
  {
   "cell_type": "code",
   "execution_count": 43,
   "id": "f001a5e0",
   "metadata": {},
   "outputs": [
    {
     "data": {
      "text/plain": [
       "<matplotlib.colorbar.Colorbar at 0x7fcb0de8d280>"
      ]
     },
     "execution_count": 43,
     "metadata": {},
     "output_type": "execute_result"
    },
    {
     "data": {
      "image/png": "[encoded data removed]",
      "text/plain": [
       "<Figure size 640x480 with 2 Axes>"
      ]
     },
     "metadata": {},
     "output_type": "display_data"
    }
   ],
   "source": [
    "plt.imshow(lr_tensor[0,:,:,0,7])\n",
    "plt.colorbar()"
   ]
  },
  {
   "cell_type": "code",
   "execution_count": 44,
   "id": "c91f43ce",
   "metadata": {},
   "outputs": [],
   "source": [
    "import data.utils_metrics as utils_met\n",
    "# utils_met.MaskedL1Loss.to(device)"
   ]
  },
  {
   "cell_type": "code",
   "execution_count": 45,
   "id": "8777063f",
   "metadata": {},
   "outputs": [],
   "source": [
    "loss = utils_met.MaskedL1Loss()"
   ]
  },
  {
   "cell_type": "code",
   "execution_count": 46,
   "id": "2f684d4a",
   "metadata": {},
   "outputs": [
    {
     "data": {
      "text/plain": [
       "(torch.Size([4, 64, 64, 64, 8]),\n",
       " torch.Size([4, 64, 64, 64, 5]),\n",
       " torch.Size([4, 64, 64, 64]))"
      ]
     },
     "execution_count": 46,
     "metadata": {},
     "output_type": "execute_result"
    }
   ],
   "source": [
    "lr_tensor.shape,hr_tensor.shape,mask.shape"
   ]
  },
  {
   "cell_type": "code",
   "execution_count": 59,
   "id": "4e32ffcc",
   "metadata": {},
   "outputs": [],
   "source": [
    "mask = torch.unsqueeze(mask,4)"
   ]
  },
  {
   "cell_type": "code",
   "execution_count": null,
   "id": "84959688",
   "metadata": {},
   "outputs": [],
   "source": []
  },
  {
   "cell_type": "code",
   "execution_count": 99,
   "id": "ecd99886",
   "metadata": {},
   "outputs": [],
   "source": [
    "import cupy as cp\n",
    "import cucim.skimage.metrics as metrics\n",
    "import torch\n",
    "import torch.nn as nn\n",
    "\n",
    "def compute_ssim(hr,pred,mask):\n",
    "    mask = mask.bool()\n",
    "    mask = torch.unsqueeze(mask,4)\n",
    "    mask = cp.array(mask)\n",
    "    hr = cp.array(hr.squeeze()) * mask\n",
    "    pred = cp.array(pred.squeeze()) * mask\n",
    "    print(pred.shape,hr.shape,mask.shape)\n",
    "    return abs(float(metrics.structural_similarity(hr,pred,channel_axis =4,data_range=1)))"
   ]
  },
  {
   "cell_type": "code",
   "execution_count": 100,
   "id": "16977582",
   "metadata": {},
   "outputs": [
    {
     "name": "stdout",
     "output_type": "stream",
     "text": [
      "(4, 64, 64, 64, 5) (4, 64, 64, 64, 5) (4, 64, 64, 64, 1)\n"
     ]
    },
    {
     "ename": "ValueError",
     "evalue": "win_size exceeds image extent. Either ensure that your images are at least 7x7; or pass win_size explicitly in the function call, with an odd value less than or equal to the smaller side of your images. If your images are multichannel (with color channels), set channel_axis to the axis number corresponding to the channels.",
     "output_type": "error",
     "traceback": [
      "\u001b[0;31m---------------------------------------------------------------------------\u001b[0m",
      "\u001b[0;31mValueError\u001b[0m                                Traceback (most recent call last)",
      "Cell \u001b[0;32mIn[100], line 1\u001b[0m\n\u001b[0;32m----> 1\u001b[0m \u001b[43mcompute_ssim\u001b[49m\u001b[43m(\u001b[49m\u001b[43mhr_tensor\u001b[49m\u001b[43m,\u001b[49m\u001b[43mhr_tensor\u001b[49m\u001b[43m,\u001b[49m\u001b[43m \u001b[49m\u001b[43mmask\u001b[49m\u001b[43m)\u001b[49m\n",
      "Cell \u001b[0;32mIn[99], line 13\u001b[0m, in \u001b[0;36mcompute_ssim\u001b[0;34m(hr, pred, mask)\u001b[0m\n\u001b[1;32m     11\u001b[0m pred \u001b[38;5;241m=\u001b[39m cp\u001b[38;5;241m.\u001b[39marray(pred\u001b[38;5;241m.\u001b[39msqueeze()) \u001b[38;5;241m*\u001b[39m mask\n\u001b[1;32m     12\u001b[0m \u001b[38;5;28mprint\u001b[39m(pred\u001b[38;5;241m.\u001b[39mshape,hr\u001b[38;5;241m.\u001b[39mshape,mask\u001b[38;5;241m.\u001b[39mshape)\n\u001b[0;32m---> 13\u001b[0m \u001b[38;5;28;01mreturn\u001b[39;00m \u001b[38;5;28mabs\u001b[39m(\u001b[38;5;28mfloat\u001b[39m(\u001b[43mmetrics\u001b[49m\u001b[38;5;241;43m.\u001b[39;49m\u001b[43mstructural_similarity\u001b[49m\u001b[43m(\u001b[49m\u001b[43mhr\u001b[49m\u001b[43m,\u001b[49m\u001b[43mpred\u001b[49m\u001b[43m,\u001b[49m\u001b[43mchannel_axis\u001b[49m\u001b[43m \u001b[49m\u001b[38;5;241;43m=\u001b[39;49m\u001b[38;5;241;43m4\u001b[39;49m\u001b[43m,\u001b[49m\u001b[43mdata_range\u001b[49m\u001b[38;5;241;43m=\u001b[39;49m\u001b[38;5;241;43m1\u001b[39;49m\u001b[43m)\u001b[49m))\n",
      "File \u001b[0;32m/usr/local/lib/python3.8/dist-packages/cucim/skimage/metrics/_structural_similarity.py:181\u001b[0m, in \u001b[0;36mstructural_similarity\u001b[0;34m(im1, im2, win_size, gradient, data_range, channel_axis, gaussian_weights, full, **kwargs)\u001b[0m\n\u001b[1;32m    179\u001b[0m _at \u001b[38;5;241m=\u001b[39m functools\u001b[38;5;241m.\u001b[39mpartial(utils\u001b[38;5;241m.\u001b[39mslice_at_axis, axis\u001b[38;5;241m=\u001b[39mchannel_axis)\n\u001b[1;32m    180\u001b[0m \u001b[38;5;28;01mfor\u001b[39;00m ch \u001b[38;5;129;01min\u001b[39;00m \u001b[38;5;28mrange\u001b[39m(nch):\n\u001b[0;32m--> 181\u001b[0m     ch_result \u001b[38;5;241m=\u001b[39m \u001b[43mstructural_similarity\u001b[49m\u001b[43m(\u001b[49m\u001b[43mim1\u001b[49m\u001b[43m[\u001b[49m\u001b[43m_at\u001b[49m\u001b[43m(\u001b[49m\u001b[43mch\u001b[49m\u001b[43m)\u001b[49m\u001b[43m]\u001b[49m\u001b[43m,\u001b[49m\n\u001b[1;32m    182\u001b[0m \u001b[43m                                      \u001b[49m\u001b[43mim2\u001b[49m\u001b[43m[\u001b[49m\u001b[43m_at\u001b[49m\u001b[43m(\u001b[49m\u001b[43mch\u001b[49m\u001b[43m)\u001b[49m\u001b[43m]\u001b[49m\u001b[43m,\u001b[49m\u001b[43m \u001b[49m\u001b[38;5;241;43m*\u001b[39;49m\u001b[38;5;241;43m*\u001b[39;49m\u001b[43margs\u001b[49m\u001b[43m)\u001b[49m\n\u001b[1;32m    183\u001b[0m     \u001b[38;5;28;01mif\u001b[39;00m gradient \u001b[38;5;129;01mand\u001b[39;00m full:\n\u001b[1;32m    184\u001b[0m         mssim[ch], G[_at(ch)], S[_at(ch)] \u001b[38;5;241m=\u001b[39m ch_result\n",
      "File \u001b[0;32m/usr/local/lib/python3.8/dist-packages/cucim/skimage/metrics/_structural_similarity.py:226\u001b[0m, in \u001b[0;36mstructural_similarity\u001b[0;34m(im1, im2, win_size, gradient, data_range, channel_axis, gaussian_weights, full, **kwargs)\u001b[0m\n\u001b[1;32m    223\u001b[0m         win_size \u001b[38;5;241m=\u001b[39m \u001b[38;5;241m7\u001b[39m  \u001b[38;5;66;03m# backwards compatibility\u001b[39;00m\n\u001b[1;32m    225\u001b[0m \u001b[38;5;28;01mif\u001b[39;00m \u001b[38;5;28many\u001b[39m(s \u001b[38;5;241m<\u001b[39m win_size \u001b[38;5;28;01mfor\u001b[39;00m s \u001b[38;5;129;01min\u001b[39;00m im1\u001b[38;5;241m.\u001b[39mshape):\n\u001b[0;32m--> 226\u001b[0m     \u001b[38;5;28;01mraise\u001b[39;00m \u001b[38;5;167;01mValueError\u001b[39;00m(\n\u001b[1;32m    227\u001b[0m         \u001b[38;5;124m'\u001b[39m\u001b[38;5;124mwin_size exceeds image extent. \u001b[39m\u001b[38;5;124m'\u001b[39m\n\u001b[1;32m    228\u001b[0m         \u001b[38;5;124m'\u001b[39m\u001b[38;5;124mEither ensure that your images are \u001b[39m\u001b[38;5;124m'\u001b[39m\n\u001b[1;32m    229\u001b[0m         \u001b[38;5;124m'\u001b[39m\u001b[38;5;124mat least 7x7; or pass win_size explicitly \u001b[39m\u001b[38;5;124m'\u001b[39m\n\u001b[1;32m    230\u001b[0m         \u001b[38;5;124m'\u001b[39m\u001b[38;5;124min the function call, with an odd value \u001b[39m\u001b[38;5;124m'\u001b[39m\n\u001b[1;32m    231\u001b[0m         \u001b[38;5;124m'\u001b[39m\u001b[38;5;124mless than or equal to the smaller side of your \u001b[39m\u001b[38;5;124m'\u001b[39m\n\u001b[1;32m    232\u001b[0m         \u001b[38;5;124m'\u001b[39m\u001b[38;5;124mimages. If your images are multichannel \u001b[39m\u001b[38;5;124m'\u001b[39m\n\u001b[1;32m    233\u001b[0m         \u001b[38;5;124m'\u001b[39m\u001b[38;5;124m(with color channels), set channel_axis to \u001b[39m\u001b[38;5;124m'\u001b[39m\n\u001b[1;32m    234\u001b[0m         \u001b[38;5;124m'\u001b[39m\u001b[38;5;124mthe axis number corresponding to the channels.\u001b[39m\u001b[38;5;124m'\u001b[39m)\n\u001b[1;32m    236\u001b[0m \u001b[38;5;28;01mif\u001b[39;00m \u001b[38;5;129;01mnot\u001b[39;00m (win_size \u001b[38;5;241m%\u001b[39m \u001b[38;5;241m2\u001b[39m \u001b[38;5;241m==\u001b[39m \u001b[38;5;241m1\u001b[39m):\n\u001b[1;32m    237\u001b[0m     \u001b[38;5;28;01mraise\u001b[39;00m \u001b[38;5;167;01mValueError\u001b[39;00m(\u001b[38;5;124m'\u001b[39m\u001b[38;5;124mWindow size must be odd.\u001b[39m\u001b[38;5;124m'\u001b[39m)\n",
      "\u001b[0;31mValueError\u001b[0m: win_size exceeds image extent. Either ensure that your images are at least 7x7; or pass win_size explicitly in the function call, with an odd value less than or equal to the smaller side of your images. If your images are multichannel (with color channels), set channel_axis to the axis number corresponding to the channels."
     ]
    }
   ],
   "source": [
    "compute_ssim(hr_tensor,hr_tensor, mask)"
   ]
  },
  {
   "cell_type": "code",
   "execution_count": 83,
   "id": "bb701c7b",
   "metadata": {},
   "outputs": [],
   "source": [
    "\n",
    "mask = torch.unsqueeze(mask,4)"
   ]
  },
  {
   "cell_type": "code",
   "execution_count": 84,
   "id": "464f2e28",
   "metadata": {},
   "outputs": [
    {
     "data": {
      "text/plain": [
       "torch.Size([4, 64, 64, 64, 1])"
      ]
     },
     "execution_count": 84,
     "metadata": {},
     "output_type": "execute_result"
    }
   ],
   "source": [
    "mask.shape"
   ]
  },
  {
   "cell_type": "code",
   "execution_count": 60,
   "id": "4962724c",
   "metadata": {},
   "outputs": [
    {
     "data": {
      "text/plain": [
       "torch.Size([4, 64, 64, 64, 1])"
      ]
     },
     "execution_count": 60,
     "metadata": {},
     "output_type": "execute_result"
    }
   ],
   "source": [
    "mask.shape"
   ]
  },
  {
   "cell_type": "code",
   "execution_count": 61,
   "id": "4f2dea93",
   "metadata": {},
   "outputs": [],
   "source": [
    "\n",
    "masked_input = torch.masked_select(lr_tensor, mask)\n",
    "\n"
   ]
  },
  {
   "cell_type": "code",
   "execution_count": 62,
   "id": "7128ec45",
   "metadata": {},
   "outputs": [],
   "source": [
    "masked_target = torch.masked_select(hr_tensor, mask)"
   ]
  },
  {
   "cell_type": "code",
   "execution_count": 63,
   "id": "15d7e2e2",
   "metadata": {},
   "outputs": [
    {
     "data": {
      "text/plain": [
       "torch.Size([4945976])"
      ]
     },
     "execution_count": 63,
     "metadata": {},
     "output_type": "execute_result"
    }
   ],
   "source": [
    "masked_input.shape"
   ]
  },
  {
   "cell_type": "code",
   "execution_count": null,
   "id": "6c77dd4e",
   "metadata": {},
   "outputs": [],
   "source": []
  }
 ],
 "metadata": {
  "kernelspec": {
   "display_name": "Python 3 (ipykernel)",
   "language": "python",
   "name": "python3"
  },
  "language_info": {
   "codemirror_mode": {
    "name": "ipython",
    "version": 3
   },
   "file_extension": ".py",
   "mimetype": "text/x-python",
   "name": "python",
   "nbconvert_exporter": "python",
   "pygments_lexer": "ipython3",
   "version": "3.8.10"
  }
 },
 "nbformat": 4,
 "nbformat_minor": 5
}
