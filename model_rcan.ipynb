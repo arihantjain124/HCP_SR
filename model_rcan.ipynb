{
 "cells": [
  {
   "cell_type": "code",
   "execution_count": 1,
   "id": "1685d447",
   "metadata": {},
   "outputs": [
    {
     "name": "stdout",
     "output_type": "stream",
     "text": [
      "number of common Subjects  171\n"
     ]
    },
    {
     "name": "stderr",
     "output_type": "stream",
     "text": [
      "/usr/local/lib/python3.8/dist-packages/tqdm/auto.py:21: TqdmWarning: IProgress not found. Please update jupyter and ipywidgets. See https://ipywidgets.readthedocs.io/en/stable/user_install.html\n",
      "  from .autonotebook import tqdm as notebook_tqdm\n"
     ]
    }
   ],
   "source": [
    "from option import args\n",
    "import torch\n",
    "import utility\n",
    "import data\n",
    "import utils\n",
    "import model as models\n",
    "import loss as losses\n",
    "from trainer import Trainer\n",
    "import os\n",
    "from torch.utils.tensorboard import SummaryWriter\n",
    "# os.environ[\"CUDA_VISIBLE_DEVICES\"] = \"1\"\n",
    "import matplotlib.pyplot as plt"
   ]
  },
  {
   "cell_type": "code",
   "execution_count": 2,
   "id": "de16bdc8",
   "metadata": {},
   "outputs": [],
   "source": [
    "args.no_vols,args.test_vols = 5,2\n",
    "args.run_name = \"\"\n",
    "args.var_blk_size = False\n",
    "args.block_size = (32,32,8)"
   ]
  },
  {
   "cell_type": "code",
   "execution_count": 3,
   "id": "f31bd57d",
   "metadata": {},
   "outputs": [],
   "source": [
    "args.model = 'drmi_rcan'"
   ]
  },
  {
   "cell_type": "code",
   "execution_count": 4,
   "id": "a0ced90b",
   "metadata": {},
   "outputs": [],
   "source": [
    "\n",
    "\n",
    "ids = utils.get_ids()\n",
    "ids.sort()\n",
    "total_vols = args.no_vols+args.test_vols\n",
    "temp = ids[:total_vols]\n",
    "# temp.extend(ids[offset:args.test_vols+offset])\n",
    "ids = temp\n",
    "# print(ids)\n",
    "if (args.run_name == '..'):\n",
    "    args.run_name = f\"{args.model},{args.batch_size}_batch,{args.no_vols}_vols,{args.test_vols}_test,blk_{args.block_size},loss_{args.loss},growth_{args.growth},ss{args.start_stable},opt_{args.optimizer},var_{args.var_blk_size}\"\n",
    "else:\n",
    "    args.run_name = f\"{args.model},{args.batch_size}_batch,{args.no_vols}_vols,{args.test_vols}_test,blk_{args.block_size},loss_{args.loss},growth_{args.growth},ss{args.start_stable},opt_{args.optimizer},var_{args.var_blk_size},{args.run_name}\"\n",
    "\n"
   ]
  },
  {
   "cell_type": "code",
   "execution_count": 5,
   "id": "97c43255",
   "metadata": {},
   "outputs": [
    {
     "name": "stdout",
     "output_type": "stream",
     "text": [
      "drmi_rcan,16_batch,5_vols,2_test,blk_(32, 32, 8),loss_1*MSE,growth_32,ssFalse,opt_ADAM,var_False,\n"
     ]
    }
   ],
   "source": [
    "print(args.run_name)"
   ]
  },
  {
   "cell_type": "code",
   "execution_count": 6,
   "id": "47470a1c",
   "metadata": {},
   "outputs": [
    {
     "name": "stdout",
     "output_type": "stream",
     "text": [
      "Loading Done\n"
     ]
    }
   ],
   "source": [
    "torch.manual_seed(args.seed)\n",
    "checkpoint = utility.checkpoint(args)       ## setting the log and the train information\n",
    "if checkpoint.ok:\n",
    "    loader = data.Data(args,ids= ids)  \n",
    "    logger = SummaryWriter('runs/'+ args.run_name)"
   ]
  },
  {
   "cell_type": "code",
   "execution_count": 7,
   "id": "b53fc8c3",
   "metadata": {},
   "outputs": [
    {
     "data": {
      "text/plain": [
       "(8, 32, 32, 7)"
      ]
     },
     "execution_count": 7,
     "metadata": {},
     "output_type": "execute_result"
    }
   ],
   "source": [
    "loader.training_dataset[0][0].shape"
   ]
  },
  {
   "cell_type": "code",
   "execution_count": 8,
   "id": "f8ecf545",
   "metadata": {
    "scrolled": true
   },
   "outputs": [
    {
     "name": "stdout",
     "output_type": "stream",
     "text": [
      "0 (8, 32, 32, 7) (13, 51, 54) [1.6 1.6 1.7]\n"
     ]
    }
   ],
   "source": [
    "for i in range(len(loader.training_dataset)):\n",
    "    print(i,loader.training_dataset[i][0].shape,loader.training_dataset[i][1].shape,loader.training_dataset[i][4])\n",
    "    break"
   ]
  },
  {
   "cell_type": "code",
   "execution_count": 9,
   "id": "344dcd07",
   "metadata": {},
   "outputs": [
    {
     "name": "stdout",
     "output_type": "stream",
     "text": [
      "Making model... here\n",
      "Preparing loss function:\n",
      "1.000 * MSE\n"
     ]
    }
   ],
   "source": [
    "args.model = 'dmri_rcan'\n",
    "model = models.Model(args)\n",
    "loss = losses.Loss(args, checkpoint)"
   ]
  },
  {
   "cell_type": "code",
   "execution_count": 10,
   "id": "5583569c",
   "metadata": {},
   "outputs": [
    {
     "name": "stdout",
     "output_type": "stream",
     "text": [
      "16\n"
     ]
    }
   ],
   "source": [
    "\n",
    "t = Trainer(args, loader, model, loss, checkpoint,logger)"
   ]
  },
  {
   "cell_type": "code",
   "execution_count": 11,
   "id": "4853a189",
   "metadata": {},
   "outputs": [
    {
     "name": "stdout",
     "output_type": "stream",
     "text": [
      "[Epoch 0]\tLearning rate: 2.00e-3\n"
     ]
    },
    {
     "name": "stderr",
     "output_type": "stream",
     "text": [
      "[MSE: 0.0015]: 100%|██████████████████████████████████████████████████████████████████████████████████████████████████████████| 486/486 [00:06<00:00, 74.68it/s, scale=[1.2 1.1 1.3], blk_size=[16, 7, 32, 32, 8]]\n"
     ]
    }
   ],
   "source": [
    "t.train()"
   ]
  },
  {
   "cell_type": "code",
   "execution_count": 12,
   "id": "b96aeed4",
   "metadata": {},
   "outputs": [
    {
     "name": "stderr",
     "output_type": "stream",
     "text": [
      "\r",
      "  0%|                                                                                                                                                                                     | 0/200 [00:00<?, ?it/s]"
     ]
    },
    {
     "name": "stdout",
     "output_type": "stream",
     "text": [
      "torch.Size([8, 8, 32, 32, 7])\n"
     ]
    },
    {
     "name": "stderr",
     "output_type": "stream",
     "text": [
      "  5%|█████▊                                                                                                               | 10/200 [00:01<00:20,  9.20it/s, scale=[1.4 1.5 1.5], blk_size=[8, 32, 32], hfen=0.596]"
     ]
    },
    {
     "name": "stdout",
     "output_type": "stream",
     "text": [
      "torch.Size([8, 8, 32, 32, 7])\n"
     ]
    },
    {
     "name": "stderr",
     "output_type": "stream",
     "text": [
      " 10%|███████████                                                                                                          | 19/200 [00:01<00:18,  9.81it/s, scale=[1.4 1.5 1.5], blk_size=[8, 32, 32], hfen=0.632]"
     ]
    },
    {
     "name": "stdout",
     "output_type": "stream",
     "text": [
      "torch.Size([8, 8, 32, 32, 7])\n"
     ]
    },
    {
     "name": "stderr",
     "output_type": "stream",
     "text": [
      " 14%|████████████████▌                                                                                                     | 28/200 [00:02<00:18,  9.45it/s, scale=[1.4 1.5 1.5], blk_size=[8, 32, 32], hfen=0.71]"
     ]
    },
    {
     "name": "stdout",
     "output_type": "stream",
     "text": [
      "torch.Size([8, 8, 32, 32, 7])\n"
     ]
    },
    {
     "name": "stderr",
     "output_type": "stream",
     "text": [
      " 18%|█████████████████████▋                                                                                               | 37/200 [00:03<00:16,  9.73it/s, scale=[1.4 1.5 1.5], blk_size=[8, 32, 32], hfen=0.623]"
     ]
    },
    {
     "name": "stdout",
     "output_type": "stream",
     "text": [
      "torch.Size([8, 8, 32, 32, 7])\n"
     ]
    },
    {
     "name": "stderr",
     "output_type": "stream",
     "text": [
      " 23%|██████████████████████████▉                                                                                          | 46/200 [00:04<00:16,  9.39it/s, scale=[1.4 1.5 1.5], blk_size=[8, 32, 32], hfen=0.677]"
     ]
    },
    {
     "name": "stdout",
     "output_type": "stream",
     "text": [
      "torch.Size([8, 8, 32, 32, 7])\n"
     ]
    },
    {
     "name": "stderr",
     "output_type": "stream",
     "text": [
      " 28%|████████████████████████████████▏                                                                                    | 55/200 [00:05<00:15,  9.30it/s, scale=[1.4 1.5 1.5], blk_size=[8, 32, 32], hfen=0.546]"
     ]
    },
    {
     "name": "stdout",
     "output_type": "stream",
     "text": [
      "torch.Size([8, 8, 32, 32, 7])\n"
     ]
    },
    {
     "name": "stderr",
     "output_type": "stream",
     "text": [
      " 32%|█████████████████████████████████████▍                                                                               | 64/200 [00:06<00:14,  9.62it/s, scale=[1.4 1.5 1.5], blk_size=[8, 32, 32], hfen=0.654]"
     ]
    },
    {
     "name": "stdout",
     "output_type": "stream",
     "text": [
      "torch.Size([8, 8, 32, 32, 7])\n"
     ]
    },
    {
     "name": "stderr",
     "output_type": "stream",
     "text": [
      " 36%|██████████████████████████████████████████▋                                                                          | 73/200 [00:07<00:12,  9.87it/s, scale=[1.4 1.5 1.5], blk_size=[8, 32, 32], hfen=0.663]"
     ]
    },
    {
     "name": "stdout",
     "output_type": "stream",
     "text": [
      "torch.Size([8, 8, 32, 32, 7])\n"
     ]
    },
    {
     "name": "stderr",
     "output_type": "stream",
     "text": [
      " 41%|███████████████████████████████████████████████▉                                                                     | 82/200 [00:08<00:12,  9.58it/s, scale=[1.4 1.5 1.5], blk_size=[8, 32, 32], hfen=0.657]"
     ]
    },
    {
     "name": "stdout",
     "output_type": "stream",
     "text": [
      "torch.Size([8, 8, 32, 32, 7])\n"
     ]
    },
    {
     "name": "stderr",
     "output_type": "stream",
     "text": [
      " 46%|█████████████████████████████████████████████████████▏                                                               | 91/200 [00:09<00:11,  9.89it/s, scale=[1.4 1.5 1.5], blk_size=[8, 32, 32], hfen=0.554]"
     ]
    },
    {
     "name": "stdout",
     "output_type": "stream",
     "text": [
      "torch.Size([8, 8, 32, 32, 7])\n"
     ]
    },
    {
     "name": "stderr",
     "output_type": "stream",
     "text": [
      " 50%|██████████████████████████████████████████████████████████                                                          | 100/200 [00:10<00:10,  9.97it/s, scale=[1.4 1.5 1.5], blk_size=[8, 32, 32], hfen=0.563]"
     ]
    },
    {
     "name": "stdout",
     "output_type": "stream",
     "text": [
      "torch.Size([8, 32, 32, 8, 7])\n"
     ]
    },
    {
     "name": "stderr",
     "output_type": "stream",
     "text": [
      " 55%|████████████████████████████████████████████████████████████████▎                                                     | 109/200 [00:11<00:09,  9.25it/s, scale=[1.6 1.6 1.5], blk_size=[32, 32, 8], hfen=0.6]"
     ]
    },
    {
     "name": "stdout",
     "output_type": "stream",
     "text": [
      "torch.Size([8, 32, 32, 8, 7])\n"
     ]
    },
    {
     "name": "stderr",
     "output_type": "stream",
     "text": [
      " 59%|████████████████████████████████████████████████████████████████████▍                                               | 118/200 [00:12<00:09,  8.77it/s, scale=[1.6 1.6 1.5], blk_size=[32, 32, 8], hfen=0.508]"
     ]
    },
    {
     "name": "stdout",
     "output_type": "stream",
     "text": [
      "torch.Size([8, 32, 32, 8, 7])\n"
     ]
    },
    {
     "name": "stderr",
     "output_type": "stream",
     "text": [
      " 64%|█████████████████████████████████████████████████████████████████████████▋                                          | 127/200 [00:13<00:08,  8.92it/s, scale=[1.6 1.6 1.5], blk_size=[32, 32, 8], hfen=0.374]"
     ]
    },
    {
     "name": "stdout",
     "output_type": "stream",
     "text": [
      "torch.Size([8, 32, 32, 8, 7])\n"
     ]
    },
    {
     "name": "stderr",
     "output_type": "stream",
     "text": [
      " 68%|███████████████████████████████████████████████████████████████████████████████▌                                     | 136/200 [00:14<00:07,  8.62it/s, scale=[1.6 1.6 1.5], blk_size=[32, 32, 8], hfen=0.55]"
     ]
    },
    {
     "name": "stdout",
     "output_type": "stream",
     "text": [
      "torch.Size([8, 32, 32, 8, 7])\n"
     ]
    },
    {
     "name": "stderr",
     "output_type": "stream",
     "text": [
      " 72%|████████████████████████████████████████████████████████████████████████████████████▊                                | 145/200 [00:15<00:06,  8.76it/s, scale=[1.6 1.6 1.5], blk_size=[32, 32, 8], hfen=0.87]"
     ]
    },
    {
     "name": "stdout",
     "output_type": "stream",
     "text": [
      "torch.Size([8, 32, 32, 8, 7])\n"
     ]
    },
    {
     "name": "stderr",
     "output_type": "stream",
     "text": [
      " 77%|█████████████████████████████████████████████████████████████████████████████████████████▎                          | 154/200 [00:16<00:05,  8.47it/s, scale=[1.6 1.6 1.5], blk_size=[32, 32, 8], hfen=0.739]"
     ]
    },
    {
     "name": "stdout",
     "output_type": "stream",
     "text": [
      "torch.Size([8, 32, 32, 8, 7])\n"
     ]
    },
    {
     "name": "stderr",
     "output_type": "stream",
     "text": [
      " 82%|██████████████████████████████████████████████████████████████████████████████████████████████▌                     | 163/200 [00:17<00:04,  8.64it/s, scale=[1.6 1.6 1.5], blk_size=[32, 32, 8], hfen=0.776]"
     ]
    },
    {
     "name": "stdout",
     "output_type": "stream",
     "text": [
      "torch.Size([8, 32, 32, 8, 7])\n"
     ]
    },
    {
     "name": "stderr",
     "output_type": "stream",
     "text": [
      " 86%|███████████████████████████████████████████████████████████████████████████████████████████████████▊                | 172/200 [00:18<00:03,  8.69it/s, scale=[1.6 1.6 1.5], blk_size=[32, 32, 8], hfen=0.568]"
     ]
    },
    {
     "name": "stdout",
     "output_type": "stream",
     "text": [
      "torch.Size([8, 32, 32, 8, 7])\n"
     ]
    },
    {
     "name": "stderr",
     "output_type": "stream",
     "text": [
      " 90%|████████████████████████████████████████████████████████████████████████████████████████████████████████▉           | 181/200 [00:19<00:02,  8.86it/s, scale=[1.6 1.6 1.5], blk_size=[32, 32, 8], hfen=0.687]"
     ]
    },
    {
     "name": "stdout",
     "output_type": "stream",
     "text": [
      "torch.Size([8, 32, 32, 8, 7])\n"
     ]
    },
    {
     "name": "stderr",
     "output_type": "stream",
     "text": [
      " 95%|██████████████████████████████████████████████████████████████████████████████████████████████████████████████▏     | 190/200 [00:20<00:01,  8.55it/s, scale=[1.6 1.6 1.5], blk_size=[32, 32, 8], hfen=0.789]"
     ]
    },
    {
     "name": "stdout",
     "output_type": "stream",
     "text": [
      "torch.Size([8, 32, 32, 8, 7])\n"
     ]
    },
    {
     "name": "stderr",
     "output_type": "stream",
     "text": [
      "100%|████████████████████████████████████████████████████████████████████████████████████████████████████████████████████| 200/200 [00:21<00:00,  9.09it/s, scale=[1.6 1.6 1.5], blk_size=[32, 32, 8], hfen=0.696]\n"
     ]
    }
   ],
   "source": [
    "t.test()"
   ]
  },
  {
   "cell_type": "code",
   "execution_count": 13,
   "id": "40bd8cf7",
   "metadata": {},
   "outputs": [
    {
     "data": {
      "text/plain": [
       "8"
      ]
     },
     "execution_count": 13,
     "metadata": {},
     "output_type": "execute_result"
    }
   ],
   "source": [
    "len(loader.testing_dataset[0])"
   ]
  },
  {
   "cell_type": "code",
   "execution_count": 14,
   "id": "dff8892e",
   "metadata": {},
   "outputs": [
    {
     "name": "stdout",
     "output_type": "stream",
     "text": [
      "(8, 32, 32, 7)\n",
      "(11, 48, 48)\n",
      "(11, 48, 48)\n",
      "(11, 48, 48, 3)\n",
      "(3,)\n",
      "(8, 32, 32)\n",
      "(8, 32, 32)\n",
      "(8, 32, 32, 3)\n"
     ]
    }
   ],
   "source": [
    "for i in range(8):\n",
    "    print(loader.testing_dataset[0][i].shape)"
   ]
  },
  {
   "cell_type": "code",
   "execution_count": 17,
   "id": "3fc9b428",
   "metadata": {},
   "outputs": [
    {
     "data": {
      "text/plain": [
       "3"
      ]
     },
     "execution_count": 17,
     "metadata": {},
     "output_type": "execute_result"
    }
   ],
   "source": [
    "import numpy as np\n"
   ]
  },
  {
   "cell_type": "code",
   "execution_count": 29,
   "id": "b34160f9",
   "metadata": {},
   "outputs": [
    {
     "data": {
      "text/plain": [
       "0"
      ]
     },
     "execution_count": 29,
     "metadata": {},
     "output_type": "execute_result"
    }
   ],
   "source": [
    "np.random.randint(2)"
   ]
  },
  {
   "cell_type": "code",
   "execution_count": null,
   "id": "02f5d3f0",
   "metadata": {},
   "outputs": [],
   "source": []
  }
 ],
 "metadata": {
  "kernelspec": {
   "display_name": "Python 3 (ipykernel)",
   "language": "python",
   "name": "python3"
  },
  "language_info": {
   "codemirror_mode": {
    "name": "ipython",
    "version": 3
   },
   "file_extension": ".py",
   "mimetype": "text/x-python",
   "name": "python",
   "nbconvert_exporter": "python",
   "pygments_lexer": "ipython3",
   "version": "3.8.10"
  }
 },
 "nbformat": 4,
 "nbformat_minor": 5
}
