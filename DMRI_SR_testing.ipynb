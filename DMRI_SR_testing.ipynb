{
 "cells": [
  {
   "cell_type": "code",
   "execution_count": 1,
   "id": "06aefe48",
   "metadata": {},
   "outputs": [],
   "source": [
    "from model import rdn\n",
    "import argparse, os\n",
    "import numpy as np\n",
    "import matplotlib.pyplot as plt\n",
    "import torch\n",
    "from model import dmri_arb"
   ]
  },
  {
   "cell_type": "code",
   "execution_count": 8,
   "id": "13287e4d",
   "metadata": {},
   "outputs": [],
   "source": [
    "temp = torch.randn(1, 7, 145,174,174)"
   ]
  },
  {
   "cell_type": "code",
   "execution_count": 9,
   "id": "d384c117",
   "metadata": {},
   "outputs": [],
   "source": [
    "t7 = [173,207,173]\n",
    "t3 = [145,174,174]"
   ]
  },
  {
   "cell_type": "markdown",
   "id": "484a4f46",
   "metadata": {},
   "source": [
    "7T scan resolution : 173, 207, 173\n",
    "\n",
    "3T scan resolution : 145, 174, 174"
   ]
  },
  {
   "cell_type": "code",
   "execution_count": 10,
   "id": "83f27f5f",
   "metadata": {},
   "outputs": [],
   "source": [
    "s = [t7[i]/t3[i] for i in range(3)]"
   ]
  },
  {
   "cell_type": "code",
   "execution_count": 11,
   "id": "e5ed8d44",
   "metadata": {},
   "outputs": [
    {
     "data": {
      "text/plain": [
       "[1.193103448275862, 1.1896551724137931, 0.9942528735632183]"
      ]
     },
     "execution_count": 11,
     "metadata": {},
     "output_type": "execute_result"
    }
   ],
   "source": [
    "s"
   ]
  },
  {
   "cell_type": "code",
   "execution_count": 12,
   "id": "d5b2705c",
   "metadata": {},
   "outputs": [],
   "source": [
    "model = dmri_arb.DMRI_SR()"
   ]
  },
  {
   "cell_type": "code",
   "execution_count": 13,
   "id": "df9d1c1d",
   "metadata": {},
   "outputs": [],
   "source": [
    "temp2 = model.encoder(temp)"
   ]
  },
  {
   "cell_type": "code",
   "execution_count": 14,
   "id": "b524ff2e",
   "metadata": {},
   "outputs": [
    {
     "data": {
      "text/plain": [
       "torch.Size([1, 16, 145, 174, 174])"
      ]
     },
     "execution_count": 14,
     "metadata": {},
     "output_type": "execute_result"
    }
   ],
   "source": [
    "temp2.shape"
   ]
  },
  {
   "cell_type": "code",
   "execution_count": 15,
   "id": "0179a239",
   "metadata": {},
   "outputs": [],
   "source": [
    "model.set_scale(scale = s)"
   ]
  },
  {
   "cell_type": "code",
   "execution_count": 16,
   "id": "29659415",
   "metadata": {},
   "outputs": [
    {
     "name": "stdout",
     "output_type": "stream",
     "text": [
      "28 s ± 7.03 s per loop (mean ± std. dev. of 7 runs, 1 loop each)\n"
     ]
    }
   ],
   "source": [
    "%%timeit\n",
    "temp3 = model(temp)"
   ]
  },
  {
   "cell_type": "code",
   "execution_count": 20,
   "id": "2d3e63b6",
   "metadata": {},
   "outputs": [
    {
     "data": {
      "text/plain": [
       "torch.Size([1, 5, 173, 207, 173])"
      ]
     },
     "execution_count": 20,
     "metadata": {},
     "output_type": "execute_result"
    }
   ],
   "source": [
    "temp3.shape"
   ]
  },
  {
   "cell_type": "code",
   "execution_count": 19,
   "id": "7044bc2c",
   "metadata": {},
   "outputs": [],
   "source": [
    "temp3 = model(temp)"
   ]
  },
  {
   "cell_type": "code",
   "execution_count": null,
   "id": "51f8e84e",
   "metadata": {},
   "outputs": [],
   "source": []
  }
 ],
 "metadata": {
  "kernelspec": {
   "display_name": "Python 3 (ipykernel)",
   "language": "python",
   "name": "python3"
  },
  "language_info": {
   "codemirror_mode": {
    "name": "ipython",
    "version": 3
   },
   "file_extension": ".py",
   "mimetype": "text/x-python",
   "name": "python",
   "nbconvert_exporter": "python",
   "pygments_lexer": "ipython3",
   "version": "3.10.12"
  }
 },
 "nbformat": 4,
 "nbformat_minor": 5
}
