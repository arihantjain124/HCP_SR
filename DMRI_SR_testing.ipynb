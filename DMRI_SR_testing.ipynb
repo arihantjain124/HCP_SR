{
 "cells": [
  {
   "cell_type": "code",
   "execution_count": 1,
   "id": "06aefe48",
   "metadata": {},
   "outputs": [],
   "source": [
    "from model import rdn\n",
    "import argparse, os\n",
    "import numpy as np\n",
    "import matplotlib.pyplot as plt\n",
    "import torch\n",
    "from model import dmri_arb"
   ]
  },
  {
   "cell_type": "code",
   "execution_count": 2,
   "id": "13287e4d",
   "metadata": {},
   "outputs": [],
   "source": [
    "temp = torch.randn(8, 6, 16,16,16)"
   ]
  },
  {
   "cell_type": "code",
   "execution_count": 3,
   "id": "e5ed8d44",
   "metadata": {},
   "outputs": [
    {
     "data": {
      "text/plain": [
       "torch.Size([8, 6, 16, 16, 16])"
      ]
     },
     "execution_count": 3,
     "metadata": {},
     "output_type": "execute_result"
    }
   ],
   "source": [
    "temp.shape"
   ]
  },
  {
   "cell_type": "code",
   "execution_count": 4,
   "id": "d5b2705c",
   "metadata": {},
   "outputs": [],
   "source": [
    "model = dmri_arb.DMRI_SR()"
   ]
  },
  {
   "cell_type": "code",
   "execution_count": 5,
   "id": "973c1282",
   "metadata": {
    "scrolled": false
   },
   "outputs": [],
   "source": [
    "# model"
   ]
  },
  {
   "cell_type": "code",
   "execution_count": 11,
   "id": "0179a239",
   "metadata": {},
   "outputs": [],
   "source": [
    "model.set_scale(1.2,1.5)"
   ]
  },
  {
   "cell_type": "code",
   "execution_count": 12,
   "id": "29659415",
   "metadata": {},
   "outputs": [
    {
     "data": {
      "text/plain": [
       "torch.Size([8, 6, 19, 24])"
      ]
     },
     "execution_count": 12,
     "metadata": {},
     "output_type": "execute_result"
    }
   ],
   "source": [
    "model(temp).shape"
   ]
  },
  {
   "cell_type": "code",
   "execution_count": null,
   "id": "98455d5e",
   "metadata": {},
   "outputs": [],
   "source": []
  }
 ],
 "metadata": {
  "kernelspec": {
   "display_name": "Python 3 (ipykernel)",
   "language": "python",
   "name": "python3"
  },
  "language_info": {
   "codemirror_mode": {
    "name": "ipython",
    "version": 3
   },
   "file_extension": ".py",
   "mimetype": "text/x-python",
   "name": "python",
   "nbconvert_exporter": "python",
   "pygments_lexer": "ipython3",
   "version": "3.8.10"
  }
 },
 "nbformat": 4,
 "nbformat_minor": 5
}
