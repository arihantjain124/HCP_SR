{
 "cells": [
  {
   "cell_type": "code",
   "execution_count": 1,
   "id": "6994d270",
   "metadata": {},
   "outputs": [],
   "source": [
    "import argparse, os\n",
    "import torch\n",
    "import torch.nn as nn\n",
    "import torch.optim as optim\n",
    "from torch.utils.data import DataLoader\n",
    "import matplotlib.pyplot as plt"
   ]
  },
  {
   "cell_type": "code",
   "execution_count": 2,
   "id": "06fc2873",
   "metadata": {},
   "outputs": [
    {
     "data": {
      "text/plain": [
       "_StoreAction(option_strings=['--dir'], dest='dir', nargs=None, const=None, default=None, type=<class 'str'>, choices=None, required=False, help='dataset_directory', metavar=None)"
      ]
     },
     "execution_count": 2,
     "metadata": {},
     "output_type": "execute_result"
    }
   ],
   "source": [
    "parser = argparse.ArgumentParser(description=\"IMDN\")\n",
    "parser.add_argument(\"--block_size\", type=int, default=64,\n",
    "                    help=\"Block Size\")\n",
    "parser.add_argument(\"--crop_depth\", type=int, default=30,\n",
    "                    help=\"crop across z-axis\")\n",
    "parser.add_argument(\"--dir\", type=str,\n",
    "                    help=\"dataset_directory\")"
   ]
  },
  {
   "cell_type": "code",
   "execution_count": 3,
   "id": "c13f4904",
   "metadata": {},
   "outputs": [],
   "source": [
    "args = list(parser.parse_known_args())[0]"
   ]
  },
  {
   "cell_type": "code",
   "execution_count": 4,
   "id": "9f0b4600",
   "metadata": {},
   "outputs": [],
   "source": [
    "args.dir = \"/storage/users/arihant\""
   ]
  },
  {
   "cell_type": "code",
   "execution_count": 5,
   "id": "b83b0d52",
   "metadata": {},
   "outputs": [],
   "source": [
    "import data.HCP_dataset"
   ]
  },
  {
   "cell_type": "code",
   "execution_count": 6,
   "id": "cfce84c7",
   "metadata": {},
   "outputs": [
    {
     "name": "stdout",
     "output_type": "stream",
     "text": [
      "number of common Subjects  171\n"
     ]
    }
   ],
   "source": [
    "import utils\n",
    "ids = utils.get_ids()"
   ]
  },
  {
   "cell_type": "code",
   "execution_count": 7,
   "id": "ae9da75e",
   "metadata": {},
   "outputs": [],
   "source": [
    "training_dataset = data.HCP_dataset.hcp_data(args,ids)"
   ]
  },
  {
   "cell_type": "code",
   "execution_count": 8,
   "id": "03ce80c6",
   "metadata": {},
   "outputs": [
    {
     "data": {
      "text/plain": [
       "171"
      ]
     },
     "execution_count": 8,
     "metadata": {},
     "output_type": "execute_result"
    }
   ],
   "source": [
    "training_dataset.tot"
   ]
  },
  {
   "cell_type": "code",
   "execution_count": 9,
   "id": "63306c1b",
   "metadata": {},
   "outputs": [],
   "source": [
    "training_dataloader = torch.utils.data.DataLoader(training_dataset, num_workers=1,batch_size = 4)"
   ]
  },
  {
   "cell_type": "code",
   "execution_count": 10,
   "id": "d3f69f60",
   "metadata": {},
   "outputs": [
    {
     "name": "stdout",
     "output_type": "stream",
     "text": [
      "0 -1 0\n",
      "467351\n"
     ]
    },
    {
     "name": "stderr",
     "output_type": "stream",
     "text": [
      "/home/arihant/DWI_SR/HCP_SR/data/utils_dataloader.py:147: RuntimeWarning: invalid value encountered in arccos\n",
      "  ang_error = np.degrees(np.arccos(abs(dsm_rot @ dirs.T)))\n"
     ]
    }
   ],
   "source": [
    "dataset_iter = iter(training_dataset)"
   ]
  },
  {
   "cell_type": "code",
   "execution_count": 11,
   "id": "aa15ef78",
   "metadata": {},
   "outputs": [
    {
     "name": "stdout",
     "output_type": "stream",
     "text": [
      "0 0 60\n",
      "1 0 60\n",
      "2 0 60\n",
      "3 0 60\n",
      "4 0 60\n",
      "5 0 60\n",
      "6 0 60\n",
      "7 0 60\n",
      "8 0 60\n",
      "9 0 60\n",
      "10 0 60\n",
      "11 0 60\n",
      "12 0 60\n",
      "13 0 60\n",
      "14 0 60\n",
      "15 0 60\n",
      "16 0 60\n",
      "17 0 60\n",
      "18 0 60\n",
      "19 0 60\n",
      "20 0 60\n",
      "21 0 60\n",
      "22 0 60\n",
      "23 0 60\n",
      "24 0 60\n",
      "25 0 60\n",
      "26 0 60\n",
      "27 0 60\n",
      "28 0 60\n",
      "29 0 60\n",
      "30 0 60\n",
      "31 0 60\n",
      "32 0 60\n",
      "33 0 60\n",
      "34 0 60\n",
      "35 0 60\n",
      "36 0 60\n",
      "37 0 60\n",
      "38 0 60\n",
      "39 0 60\n",
      "40 0 60\n",
      "41 0 60\n",
      "42 0 60\n",
      "43 0 60\n",
      "44 0 60\n",
      "45 0 60\n",
      "46 0 60\n",
      "47 0 60\n",
      "48 0 60\n",
      "49 0 60\n",
      "50 0 60\n",
      "51 0 60\n",
      "52 0 60\n",
      "53 0 60\n",
      "54 0 60\n",
      "55 0 60\n",
      "56 0 60\n",
      "57 0 60\n",
      "58 0 60\n",
      "59 0 60\n",
      "60 0 60\n",
      "177645\n",
      "0 1 60\n",
      "1 1 60\n",
      "2 1 60\n",
      "3 1 60\n",
      "4 1 60\n",
      "5 1 60\n",
      "6 1 60\n",
      "7 1 60\n",
      "8 1 60\n",
      "9 1 60\n",
      "10 1 60\n",
      "11 1 60\n",
      "12 1 60\n",
      "13 1 60\n",
      "14 1 60\n",
      "15 1 60\n",
      "16 1 60\n",
      "17 1 60\n",
      "18 1 60\n",
      "19 1 60\n",
      "20 1 60\n",
      "21 1 60\n",
      "22 1 60\n",
      "23 1 60\n",
      "24 1 60\n",
      "25 1 60\n",
      "26 1 60\n",
      "27 1 60\n",
      "28 1 60\n",
      "29 1 60\n",
      "30 1 60\n",
      "31 1 60\n",
      "32 1 60\n",
      "33 1 60\n",
      "34 1 60\n",
      "35 1 60\n",
      "36 1 60\n",
      "37 1 60\n",
      "38 1 60\n",
      "39 1 60\n",
      "40 1 60\n",
      "41 1 60\n",
      "42 1 60\n",
      "43 1 60\n",
      "44 1 60\n",
      "45 1 60\n",
      "46 1 60\n",
      "47 1 60\n",
      "48 1 60\n",
      "49 1 60\n",
      "50 1 60\n",
      "51 1 60\n",
      "52 1 60\n",
      "53 1 60\n",
      "54 1 60\n",
      "55 1 60\n",
      "56 1 60\n",
      "57 1 60\n",
      "58 1 60\n",
      "59 1 60\n"
     ]
    }
   ],
   "source": [
    "for i in range(121):\n",
    "    iter(training_dataset)"
   ]
  },
  {
   "cell_type": "code",
   "execution_count": 12,
   "id": "37acc23a",
   "metadata": {},
   "outputs": [
    {
     "name": "stdout",
     "output_type": "stream",
     "text": [
      "60 1 60\n",
      "826353\n",
      "(64, 64, 64, 8)\n"
     ]
    }
   ],
   "source": [
    "for i in iter(training_dataset):\n",
    "    print(i[0].shape)"
   ]
  },
  {
   "cell_type": "code",
   "execution_count": 13,
   "id": "556db6ce",
   "metadata": {},
   "outputs": [],
   "source": [
    "d= next(dataset_iter)"
   ]
  },
  {
   "cell_type": "code",
   "execution_count": 14,
   "id": "6efae2ad",
   "metadata": {},
   "outputs": [
    {
     "data": {
      "text/plain": [
       "(64, 64, 64, 8)"
      ]
     },
     "execution_count": 14,
     "metadata": {},
     "output_type": "execute_result"
    }
   ],
   "source": [
    "d[0].shape"
   ]
  },
  {
   "cell_type": "code",
   "execution_count": 15,
   "id": "72b5e455",
   "metadata": {},
   "outputs": [
    {
     "data": {
      "text/plain": [
       "(64, 64, 64, 7)"
      ]
     },
     "execution_count": 15,
     "metadata": {},
     "output_type": "execute_result"
    }
   ],
   "source": [
    "d[1].shape"
   ]
  },
  {
   "cell_type": "code",
   "execution_count": 16,
   "id": "7d282cf7",
   "metadata": {},
   "outputs": [
    {
     "name": "stdout",
     "output_type": "stream",
     "text": [
      "0 2 60\n"
     ]
    }
   ],
   "source": [
    "d = iter(training_dataloader)"
   ]
  },
  {
   "cell_type": "code",
   "execution_count": null,
   "id": "dab30be3",
   "metadata": {},
   "outputs": [],
   "source": [
    "temp[0].shape"
   ]
  },
  {
   "cell_type": "code",
   "execution_count": null,
   "id": "4f561093",
   "metadata": {},
   "outputs": [],
   "source": [
    "temp[1].shape"
   ]
  },
  {
   "cell_type": "code",
   "execution_count": null,
   "id": "517a8138",
   "metadata": {},
   "outputs": [],
   "source": []
  },
  {
   "cell_type": "code",
   "execution_count": null,
   "id": "25102de5",
   "metadata": {},
   "outputs": [],
   "source": []
  },
  {
   "cell_type": "code",
   "execution_count": null,
   "id": "7669c618",
   "metadata": {},
   "outputs": [],
   "source": []
  },
  {
   "cell_type": "code",
   "execution_count": null,
   "id": "c2bdf101",
   "metadata": {},
   "outputs": [],
   "source": []
  }
 ],
 "metadata": {
  "kernelspec": {
   "display_name": "Python 3 (ipykernel)",
   "language": "python",
   "name": "python3"
  },
  "language_info": {
   "codemirror_mode": {
    "name": "ipython",
    "version": 3
   },
   "file_extension": ".py",
   "mimetype": "text/x-python",
   "name": "python",
   "nbconvert_exporter": "python",
   "pygments_lexer": "ipython3",
   "version": "3.10.9"
  }
 },
 "nbformat": 4,
 "nbformat_minor": 5
}
