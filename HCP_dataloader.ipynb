{
 "cells": [
  {
   "cell_type": "code",
   "execution_count": 1,
   "id": "bcee3c1a",
   "metadata": {},
   "outputs": [
    {
     "name": "stdout",
     "output_type": "stream",
     "text": [
      "number of common Subjects  171\n"
     ]
    }
   ],
   "source": [
    "import argparse, os\n",
    "import torch\n",
    "import torch.nn as nn\n",
    "import torch.optim as optim\n",
    "from torch.utils.data import DataLoader\n",
    "import utils\n",
    "import matplotlib.pyplot as plt"
   ]
  },
  {
   "cell_type": "code",
   "execution_count": 2,
   "id": "ab2fa2e4",
   "metadata": {},
   "outputs": [
    {
     "data": {
      "text/plain": [
       "_StoreAction(option_strings=['--dir'], dest='dir', nargs=None, const=None, default=None, type=<class 'str'>, choices=None, required=False, help='dataset_directory', metavar=None)"
      ]
     },
     "execution_count": 2,
     "metadata": {},
     "output_type": "execute_result"
    }
   ],
   "source": [
    "parser = argparse.ArgumentParser(description=\"IMDN\")\n",
    "parser.add_argument(\"--block_size\", type=int, default=64,\n",
    "                    help=\"Block Size\")\n",
    "parser.add_argument(\"--crop_depth\", type=int, default=30,\n",
    "                    help=\"crop across z-axis\")\n",
    "parser.add_argument(\"--dir\", type=str,\n",
    "                    help=\"dataset_directory\")"
   ]
  },
  {
   "cell_type": "code",
   "execution_count": 3,
   "id": "bbff6b7a",
   "metadata": {},
   "outputs": [],
   "source": [
    "args = list(parser.parse_known_args())[0]"
   ]
  },
  {
   "cell_type": "code",
   "execution_count": 4,
   "id": "4e78adf7",
   "metadata": {},
   "outputs": [],
   "source": [
    "args.dir = \"/storage/users/arihant\""
   ]
  },
  {
   "cell_type": "code",
   "execution_count": 5,
   "id": "183fc493",
   "metadata": {},
   "outputs": [],
   "source": [
    "import HCP_dataset"
   ]
  },
  {
   "cell_type": "code",
   "execution_count": 6,
   "id": "c0a29cd2",
   "metadata": {},
   "outputs": [],
   "source": [
    "ids = utils.get_ids()"
   ]
  },
  {
   "cell_type": "code",
   "execution_count": 7,
   "id": "8e3d1d42",
   "metadata": {},
   "outputs": [],
   "source": [
    "training_dataset = HCP_dataset.hcp_data(args,ids)"
   ]
  },
  {
   "cell_type": "code",
   "execution_count": 8,
   "id": "cf582290",
   "metadata": {},
   "outputs": [
    {
     "data": {
      "text/plain": [
       "171"
      ]
     },
     "execution_count": 8,
     "metadata": {},
     "output_type": "execute_result"
    }
   ],
   "source": [
    "training_dataset.tot"
   ]
  },
  {
   "cell_type": "code",
   "execution_count": 9,
   "id": "0639e97f",
   "metadata": {},
   "outputs": [],
   "source": [
    "training_dataloader = torch.utils.data.DataLoader(training_dataset, num_workers=0)"
   ]
  },
  {
   "cell_type": "code",
   "execution_count": null,
   "id": "194a55d2",
   "metadata": {},
   "outputs": [],
   "source": [
    "next(iter(training_dataloader))"
   ]
  },
  {
   "cell_type": "code",
   "execution_count": null,
   "id": "77af8b8a",
   "metadata": {},
   "outputs": [],
   "source": [
    "temp = next(iter(training_dataloader))"
   ]
  }
 ],
 "metadata": {
  "kernelspec": {
   "display_name": "Python 3 (ipykernel)",
   "language": "python",
   "name": "python3"
  },
  "language_info": {
   "codemirror_mode": {
    "name": "ipython",
    "version": 3
   },
   "file_extension": ".py",
   "mimetype": "text/x-python",
   "name": "python",
   "nbconvert_exporter": "python",
   "pygments_lexer": "ipython3",
   "version": "3.10.9"
  }
 },
 "nbformat": 4,
 "nbformat_minor": 5
}
