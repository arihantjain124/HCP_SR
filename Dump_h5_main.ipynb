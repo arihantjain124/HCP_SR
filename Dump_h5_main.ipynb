{
 "cells": [
  {
   "cell_type": "markdown",
   "id": "5e9de043",
   "metadata": {},
   "source": [
    "### Importing function and setting up dirs"
   ]
  },
  {
   "cell_type": "code",
   "execution_count": 1,
   "id": "8747fd75",
   "metadata": {},
   "outputs": [
    {
     "name": "stderr",
     "output_type": "stream",
     "text": [
      "/usr/local/lib/python3.8/dist-packages/tqdm/auto.py:21: TqdmWarning: IProgress not found. Please update jupyter and ipywidgets. See https://ipywidgets.readthedocs.io/en/stable/user_install.html\n",
      "  from .autonotebook import tqdm as notebook_tqdm\n"
     ]
    }
   ],
   "source": [
    "import os\n",
    "from dipy.segment.mask import median_otsu\n",
    "from dipy.reconst.dti import fractional_anisotropy, color_fa\n",
    "import dipy.reconst.dti as dti\n",
    "import h5py"
   ]
  },
  {
   "cell_type": "code",
   "execution_count": 2,
   "id": "0d543756",
   "metadata": {},
   "outputs": [
    {
     "name": "stdout",
     "output_type": "stream",
     "text": [
      "number of common Subjects  171\n"
     ]
    }
   ],
   "source": [
    "base_dir = \"/storage\"\n",
    "base_dir_7t = [base_dir + \"/HCP_7T/\" + i   for i in os.listdir(base_dir + \"/HCP_7T\") if len(i) == 6]\n",
    "base_dir_3t = [base_dir + \"/HCP_3T/\" + i   for i in os.listdir(base_dir + \"/HCP_3T\") if len(i) == 6]\n",
    "\n",
    "path_7t = {}\n",
    "path_3t = {}\n",
    "\n",
    "\n",
    "\n",
    "for i in base_dir_7t:\n",
    "    path_7t[i[-6:]] = {\"3d_scan\" : i + \"/T1w/T1w_acpc_dc_restore_1.05.nii.gz\" ,\"data\" : i + \"/T1w/Diffusion_7T/data.nii.gz\" \n",
    "                       , \"bvals\" : i + \"/T1w/Diffusion_7T/bvals\" , \"bvecs\" : i + \"/T1w/Diffusion_7T/bvecs\"\n",
    "                      , \"brain_mask\" : i + \"/T1w/Diffusion_7T/nodif_brain_mask.nii.gz\"\n",
    "                      , \"grad_dev\" : i + \"/T1w/Diffusion_7T/grad_dev.nii.gz\"}\n",
    "for i in base_dir_3t:\n",
    "    path_3t[i[-6:]] = {\"3d_scan\" : i + \"/T1w/T1w_acpc_dc_restore_1.25.nii.gz\" , \"data\" : i + \"/T1w/Diffusion/data.nii.gz\" \n",
    "                       , \"bvals\" : i + \"/T1w/Diffusion/bvals\" , \"bvecs\" : i + \"/T1w/Diffusion/bvecs\"\n",
    "                       , \"brain_mask\" : i + \"/T1w/Diffusion/nodif_brain_mask.nii.gz\"\n",
    "                      , \"grad_dev\" : i + \"/T1w/Diffusion/grad_dev.nii.gz\"}\n",
    "    \n",
    "    \n",
    "path = {'3T': path_3t, \"7T\": path_7t}\n",
    "p = list(path_7t.keys())\n",
    "q = list(path_3t.keys())\n",
    "common = list(set(p) & set(q))\n",
    "common.sort()\n",
    "print(\"number of common Subjects \",len(common))"
   ]
  },
  {
   "cell_type": "code",
   "execution_count": 3,
   "id": "13eb32f0",
   "metadata": {},
   "outputs": [
    {
     "data": {
      "text/plain": [
       "{'3d_scan': '/storage/HCP_3T/100610/T1w/T1w_acpc_dc_restore_1.25.nii.gz',\n",
       " 'data': '/storage/HCP_3T/100610/T1w/Diffusion/data.nii.gz',\n",
       " 'bvals': '/storage/HCP_3T/100610/T1w/Diffusion/bvals',\n",
       " 'bvecs': '/storage/HCP_3T/100610/T1w/Diffusion/bvecs',\n",
       " 'brain_mask': '/storage/HCP_3T/100610/T1w/Diffusion/nodif_brain_mask.nii.gz',\n",
       " 'grad_dev': '/storage/HCP_3T/100610/T1w/Diffusion/grad_dev.nii.gz'}"
      ]
     },
     "execution_count": 3,
     "metadata": {},
     "output_type": "execute_result"
    }
   ],
   "source": [
    "path_3t[common[0]]"
   ]
  },
  {
   "cell_type": "code",
   "execution_count": 4,
   "id": "06e847d2",
   "metadata": {},
   "outputs": [],
   "source": [
    "# for i in common:\n",
    "#     name = \"/storage/HCP_7T/\" + i + \"/\" + i + \"_GT.h5\"\n",
    "#     print(i,os.path.isfile(name))"
   ]
  },
  {
   "cell_type": "markdown",
   "id": "66969a55",
   "metadata": {},
   "source": [
    "### Functions to read the files in nifty"
   ]
  },
  {
   "cell_type": "code",
   "execution_count": 5,
   "id": "c60e09f5",
   "metadata": {},
   "outputs": [],
   "source": [
    "def get_ids():\n",
    "    return common\n",
    "\n",
    "def load_hcp(id_load,res,crop = True):\n",
    "    \n",
    "    load_from = path[res][id_load]\n",
    "    \n",
    "    data,affine = load_nifti(load_from[\"data\"])\n",
    "    \n",
    "    mask,affine = load_nifti(load_from[\"brain_mask\"])\n",
    "    \n",
    "    bvals, bvecs = read_bvals_bvecs(load_from['bvals'], load_from['bvecs'])\n",
    "    \n",
    "    gtab = gradient_table(bvals, bvecs)\n",
    "    \n",
    "    if(crop):\n",
    "        maskdata, mask = median_otsu(data, vol_idx=range(0, data.shape[-1]),autocrop=True, dilate=2)\n",
    "        return maskdata,mask,gtab\n",
    "    \n",
    "    return data,mask,gtab\n",
    "    \n",
    "def load_gtab(id_load,res):\n",
    "    load_from = path[res][id_load]\n",
    "    bvals, bvecs = read_bvals_bvecs(load_from['bvals'], load_from['bvecs'])\n",
    "    gtab = gradient_table(bvals, bvecs)\n",
    "    return gtab"
   ]
  },
  {
   "cell_type": "markdown",
   "id": "dab7222e",
   "metadata": {},
   "source": [
    "### Referred from DeepDTI paper"
   ]
  },
  {
   "cell_type": "code",
   "execution_count": 6,
   "id": "cd07b9af",
   "metadata": {},
   "outputs": [],
   "source": [
    "from dipy.io.image import load_nifti\n",
    "from dipy.io import read_bvals_bvecs\n",
    "from dipy.core.gradients import gradient_table\n",
    "import numpy as np\n",
    "import os\n",
    "import matplotlib.pyplot as plt\n",
    "from numpy.linalg import eig\n",
    "from numpy.linalg import inv\n",
    "from numpy.linalg import pinv\n",
    "# from numpy.linalg import lstsq\n",
    "from scipy.linalg import lstsq\n",
    "from numpy.linalg import solve\n",
    "from numpy import inf\n",
    "import numpy as np\n",
    "\n",
    "import torchio as tio\n",
    "import SimpleITK as sitk\n",
    "import skimage.metrics as sm\n",
    "\n",
    "\n",
    "dsm = np.array([0.91, 0.416, 0,0, 0.91, 0.416,0.416, 0, 0.91,0.91, -0.416, 0,0, 0.91, -0.416,-0.416, 0, 0.91])\n",
    "dsm = dsm.reshape(6,3)\n",
    "dsm_norm = np.copy(dsm)\n",
    "dsm_mag = np.sqrt(dsm[:,0]**2 + dsm[:,1]**2 + dsm[:,2]**2)\n",
    "for i in range(3):\n",
    "    dsm_norm[:,i] = dsm[:,i] / dsm_mag\n",
    "\n",
    "def rot3d(arg):\n",
    "    x,y,z = arg[0],arg[1],arg[2]\n",
    "    Rx = np.array([[1 ,0 ,0 ],[0,np.cos(x),-np.sin(x)],[0 ,np.sin(x) ,np.cos(x)]])\n",
    "    Ry = np.array([[np.cos(y),0 ,np.sin(y) ],[0,1,0],[-np.sin(y),0,np.cos(y)]])\n",
    "    Rz = np.array([[np.cos(z) ,-np.sin(z) ,0 ],[np.sin(z),np.cos(z),0],[0 ,0,1]])\n",
    "    R = Rx @ Ry @ Rz\n",
    "    return R\n",
    "\n",
    "def amatrix(mat):\n",
    "    \n",
    "    a = [mat[:,0] * mat[:,0],2 * mat[:,0] * mat[:,1], 2* mat[:,0] * mat[:,2],\n",
    "        mat[:,1] * mat[:,1],2 * mat[:,1] * mat[:,2], mat[:,2] * mat[:,2]]\n",
    "    return np.array(a).T\n",
    "\n",
    "def optimal_dirs(gtab,num_iter,num_dirs,debug = False,base_bval = 5):\n",
    "    rotang_all = []\n",
    "    angerr_all  = []\n",
    "    condnum_all = []\n",
    "    ind_all = []\n",
    "    dirs = np.array(gtab.bvecs[np.where(gtab.bvals != base_bval)[0]])\n",
    "    for i in range(0,num_iter):\n",
    "        \n",
    "        d = np.random.rand(1,3) * 2 * np.pi\n",
    "        rotang = d[0]\n",
    "        R = rot3d(rotang)\n",
    "        dsm_rot = (rot3d(d[0]) @ dsm_norm.T).T\n",
    "        \n",
    "        ang_error = np.degrees(np.arccos(abs(dsm_rot @ dirs.T)))\n",
    "        minerrors,idx = np.amin(ang_error,1),np.argmin(ang_error,1)\n",
    "\n",
    "        mean_ang_err = np.mean(np.amin(ang_error,1))\n",
    "        condnum = np.linalg.cond(amatrix(dirs[idx]))\n",
    "        \n",
    "        idx.sort()\n",
    "        if (mean_ang_err < 5 and condnum < 1.6):\n",
    "            if ((len(ind_all) == 0 ) or  len(np.where((ind_all == idx).all(axis=1))[0]) == 0 ):\n",
    "                angerr_all.append(mean_ang_err)\n",
    "                condnum_all.append(condnum)\n",
    "                ind_all.append(idx)\n",
    "                rotang_all.append(rotang)\n",
    "    condnum_all = np.array(condnum_all)\n",
    "    indx  = condnum_all.argsort()[:num_dirs]\n",
    "    if (debug):\n",
    "        print(\"Lowest Condition Number : \",condnum_all[indx])\n",
    "    ind_use = np.array(ind_all)[indx]\n",
    "    condnum_use = condnum_all[condnum_all.argsort()[:5]]\n",
    "    angerr_use = np.array(angerr_all)[indx]\n",
    "    rotang_use = np.array(rotang_all)[indx]\n",
    "    return ind_use,condnum_all[indx]\n",
    "\n",
    "\n"
   ]
  },
  {
   "cell_type": "code",
   "execution_count": 7,
   "id": "e4517b4d",
   "metadata": {},
   "outputs": [],
   "source": [
    "def resampler(data,idx,b0):\n",
    "    resampled_img = []\n",
    "    resampled_img.append(data[:,:,:,int(b0)])\n",
    "    for i in idx:\n",
    "        resampled_img.append(data[:,:,:,int(i)])\n",
    "    data = np.stack(resampled_img, axis=3)\n",
    "    return data"
   ]
  },
  {
   "cell_type": "code",
   "execution_count": 8,
   "id": "34629d00",
   "metadata": {},
   "outputs": [],
   "source": [
    "limited_common = common[:50]"
   ]
  },
  {
   "cell_type": "code",
   "execution_count": 9,
   "id": "10f9351d",
   "metadata": {},
   "outputs": [
    {
     "data": {
      "text/plain": [
       "50"
      ]
     },
     "execution_count": 9,
     "metadata": {},
     "output_type": "execute_result"
    }
   ],
   "source": [
    "len(limited_common)"
   ]
  },
  {
   "cell_type": "code",
   "execution_count": 10,
   "id": "552d3736",
   "metadata": {
    "scrolled": true
   },
   "outputs": [
    {
     "data": {
      "text/plain": [
       "['100610',\n",
       " '102311',\n",
       " '102816',\n",
       " '104416',\n",
       " '105923',\n",
       " '108323',\n",
       " '109123',\n",
       " '111312',\n",
       " '111514',\n",
       " '114823',\n",
       " '115017',\n",
       " '115825',\n",
       " '116726',\n",
       " '118225',\n",
       " '125525',\n",
       " '126426',\n",
       " '128935',\n",
       " '130114',\n",
       " '130518',\n",
       " '131722',\n",
       " '132118',\n",
       " '134627',\n",
       " '134829',\n",
       " '135124',\n",
       " '137128',\n",
       " '140117',\n",
       " '144226',\n",
       " '145834',\n",
       " '146129',\n",
       " '146432',\n",
       " '146735',\n",
       " '146937',\n",
       " '148133',\n",
       " '155938',\n",
       " '156334',\n",
       " '157336',\n",
       " '158035',\n",
       " '158136',\n",
       " '159239',\n",
       " '162935',\n",
       " '164131',\n",
       " '164636',\n",
       " '165436',\n",
       " '167036',\n",
       " '167440',\n",
       " '169040',\n",
       " '169343',\n",
       " '169444',\n",
       " '169747',\n",
       " '171633']"
      ]
     },
     "execution_count": 10,
     "metadata": {},
     "output_type": "execute_result"
    }
   ],
   "source": [
    "limited_common"
   ]
  },
  {
   "cell_type": "markdown",
   "id": "f2d7eff0",
   "metadata": {},
   "source": [
    "### Normalization "
   ]
  },
  {
   "cell_type": "code",
   "execution_count": 11,
   "id": "f13bb8fd",
   "metadata": {},
   "outputs": [],
   "source": [
    "import torchio as tio\n",
    "transform = tio.transforms.RescaleIntensity(masking_method=lambda x: x > 0)"
   ]
  },
  {
   "cell_type": "markdown",
   "id": "b272a8f0",
   "metadata": {},
   "source": [
    "## 3T dump"
   ]
  },
  {
   "cell_type": "code",
   "execution_count": 12,
   "id": "00634030",
   "metadata": {},
   "outputs": [],
   "source": [
    "shape_file = {}\n",
    "shape_file_7t = {}"
   ]
  },
  {
   "cell_type": "code",
   "execution_count": null,
   "id": "76fbe13c",
   "metadata": {
    "scrolled": false
   },
   "outputs": [
    {
     "name": "stdout",
     "output_type": "stream",
     "text": [
      "Current ID 100610\n"
     ]
    },
    {
     "name": "stderr",
     "output_type": "stream",
     "text": [
      "/tmp/ipykernel_261254/3393162375.py:55: RuntimeWarning: invalid value encountered in arccos\n",
      "  ang_error = np.degrees(np.arccos(abs(dsm_rot @ dirs.T)))\n"
     ]
    },
    {
     "name": "stdout",
     "output_type": "stream",
     "text": [
      "Lowest Condition Number :  [1.41846062 1.42797114 1.44295595 1.45095832 1.45105456]\n",
      "/storage/HCP_3T/100610/100610.h5 Done\n",
      "Current ID 102311\n",
      "Lowest Condition Number :  [1.42013738 1.42610658 1.43492422 1.44878411 1.4493136 ]\n",
      "/storage/HCP_3T/102311/102311.h5 Done\n",
      "Current ID 102816\n"
     ]
    }
   ],
   "source": [
    "for i in limited_common:\n",
    "    name = \"/storage/HCP_3T/\" + i + \"/\" + i + \".h5\"\n",
    "    if(not os.path.isfile(name) or True):\n",
    "        print(\"Current ID\",i)\n",
    "        \n",
    "        data,mask,gtab = load_hcp(i,'3T')\n",
    "        \n",
    "        hf = h5py.File(name, 'w')\n",
    "        \n",
    "        idx,cond= optimal_dirs(gtab,10000,5,debug = True,base_bval = int(min(gtab.bvals)))\n",
    "\n",
    "        idx = np.where(gtab.bvals>int(min(gtab.bvals)))[0][idx]\n",
    "\n",
    "        for j in range(1):\n",
    "            sample = np.random.randint(0,len(np.where(gtab.bvals==int(min(gtab.bvals)))[0]))\n",
    "            ## picking one base bval volume randomly from the data\n",
    "            sample = np.where(gtab.bvals==int(min(gtab.bvals)))[0][sample]\n",
    "            \n",
    "            ## picking the bvals,bvecs and corresponding vols from the data \n",
    "            bvals6 = np.insert(gtab.bvals[idx[j]],0,gtab.bvals[sample])\n",
    "            bvecs6 = np.insert(gtab.bvecs[idx[j]],0,gtab.bvecs[sample],axis = 0)\n",
    "            data6 = resampler(data,idx[j],sample)\n",
    "            data6 = transform(data6)\n",
    "            shape_file[i] = (data6.shape)\n",
    "            hf.create_dataset('volumes'+ str(j), data=data6)\n",
    "            hf.create_dataset('bvals'+ str(j), data=bvals6)\n",
    "            hf.create_dataset('bvecs'+ str(j), data=bvecs6)\n",
    "\n",
    "        hf.create_dataset('idx', data=idx)\n",
    "        hf.create_dataset('cond', data=cond)\n",
    "        hf.create_dataset('mask', data=mask)\n",
    "\n",
    "        hf.close()\n",
    "\n",
    "        print(name,\"Done\")\n",
    "\n",
    "        "
   ]
  },
  {
   "cell_type": "code",
   "execution_count": null,
   "id": "e86bf99a",
   "metadata": {},
   "outputs": [],
   "source": [
    "hf.close()"
   ]
  },
  {
   "cell_type": "markdown",
   "id": "89c0aee2",
   "metadata": {},
   "source": [
    "### 7T dump"
   ]
  },
  {
   "cell_type": "code",
   "execution_count": null,
   "id": "fcd298ad",
   "metadata": {},
   "outputs": [],
   "source": [
    "# for i in limited_common:\n",
    "#     name = \"/storage/HCP_7T/\" + i + \"/\" + i + \".h5\"\n",
    "#     if(not os.path.isfile(name) or True):\n",
    "#         print(\"Current ID\",i)\n",
    "\n",
    "#         gtab = load_gtab(i,'7T')\n",
    "\n",
    "#         data_sitk = sitk.ReadImage(path['7T'][i]['data'])\n",
    "#         mask_sitk = sitk.ReadImage(path['7T'][i]['brain_mask'])\n",
    "#         hf = h5py.File(name, 'w')\n",
    "\n",
    "#         idx,cond= optimal_dirs(gtab,10000,5,debug = True,base_bval = int(min(gtab.bvals)))\n",
    "\n",
    "#         idx = np.where(gtab.bvals>int(min(gtab.bvals)))[0][idx]\n",
    "\n",
    "#         for j in range(1):\n",
    "#             sample = np.random.randint(0,len(np.where(gtab.bvals==int(min(gtab.bvals)))[0]))\n",
    "#             sample = np.where(gtab.bvals==int(min(gtab.bvals)))[0][sample]\n",
    "\n",
    "#             bvals6 = np.insert(gtab.bvals[idx[j]],0,gtab.bvals[sample])\n",
    "#             bvecs6 = np.insert(gtab.bvecs[idx[j]],0,gtab.bvecs[sample],axis = 0)\n",
    "#             data6,mask6 = resampler(data_sitk,idx[j],sample)\n",
    "#             shape_file_7t[i] = (data6.shape)\n",
    "#             hf.create_dataset('volumes'+ str(j), data=data6)\n",
    "#             hf.create_dataset('bvals'+ str(j), data=bvals6)\n",
    "#             hf.create_dataset('bvecs'+ str(j), data=bvecs6)\n",
    "\n",
    "#         hf.create_dataset('idx', data=idx)\n",
    "#         hf.create_dataset('cond', data=cond)\n",
    "#         mask = mask_sitk\n",
    "#         hf.create_dataset('mask', data=np.transpose(sitk.GetArrayFromImage(mask), (2,1,0)))\n",
    "\n",
    "#         hf.close()\n",
    "\n",
    "#         print(name,\"Done\")\n"
   ]
  },
  {
   "cell_type": "markdown",
   "id": "c8764b3e",
   "metadata": {},
   "source": [
    "## Post Processing"
   ]
  },
  {
   "cell_type": "code",
   "execution_count": null,
   "id": "3822482c",
   "metadata": {},
   "outputs": [],
   "source": [
    "def get_output(data,gtab,mask):\n",
    "    \n",
    "    tenmodel = dti.TensorModel(gtab)\n",
    "    tenfit = tenmodel.fit(data,mask=mask)\n",
    "    tensor_vals = dti.lower_triangular(tenfit.quadratic_form)\n",
    "    FA = fractional_anisotropy(tenfit.evals)\n",
    "    MD = dti.mean_diffusivity(tenfit.evals)\n",
    "    FA[np.isnan(FA)] = 0\n",
    "    FA = np.clip(FA, 0, 1)\n",
    "    RGB = color_fa(FA, tenfit.evecs)\n",
    "    return RGB,FA,MD,tensor_vals"
   ]
  },
  {
   "cell_type": "markdown",
   "id": "f66697f3",
   "metadata": {},
   "source": [
    "## Code for preprocessing at 3T"
   ]
  },
  {
   "cell_type": "code",
   "execution_count": null,
   "id": "d8bd6891",
   "metadata": {},
   "outputs": [],
   "source": [
    "\n",
    "#     data,mask,gtab = load_hcp(i,'3T')\n",
    "#     name = \"/storage/HCP_3T/\" + i + \"/\" + i + \"_GT.h5\"\n",
    "#     hf = h5py.File(name, 'w')\n",
    "    \n",
    "#     tenmodel = dti.TensorModel(gtab)\n",
    "#     maskdata, mask = median_otsu(data, vol_idx=range(0, data.shape[-1]),autocrop=False, dilate=2)\n",
    "#     tenfit = tenmodel.fit(data,mask=mask)\n",
    "#     tensor_vals = dti.lower_triangular(tenfit.quadratic_form)\n",
    "#     FA = fractional_anisotropy(tenfit.evals)\n",
    "#     MD = dti.mean_diffusivity(tenfit.evals)\n",
    "#     FA[np.isnan(FA)] = 0\n",
    "#     FA = np.clip(FA, 0, 1)\n",
    "#     RGB = color_fa(FA, tenfit.evecs)\n",
    "    \n",
    "#     hf.create_dataset('tensor_vals', data=tensor_vals)\n",
    "#     hf.create_dataset('ADC', data=MD)\n",
    "#     hf.create_dataset('FA', data=FA)\n",
    "#     hf.create_dataset('color_FA', data=RGB)\n",
    "    \n",
    "#     hf.close()\n",
    "#     print(name,\"Done\")"
   ]
  },
  {
   "cell_type": "markdown",
   "id": "4045379b",
   "metadata": {},
   "source": [
    "## Code for preprocessing at 7T"
   ]
  },
  {
   "cell_type": "code",
   "execution_count": null,
   "id": "9529230a",
   "metadata": {},
   "outputs": [],
   "source": [
    "for i in limited_common:\n",
    "    name = \"/storage/HCP_7T/\" + i + \"/\" + i + \"_GT.h5\"\n",
    "    if(not os.path.isfile(name) or True):\n",
    "        \n",
    "        print(\"Current ID\",i)\n",
    "        \n",
    "        data_7t,mask_7t,gtab_7t  = load_hcp(i,'7T',crop=True)\n",
    "        shape_file_7t[i] = (data_7t.shape)\n",
    "        \n",
    "        data_7t = transform(data_7t)\n",
    "        \n",
    "        hf = h5py.File(name, 'w')\n",
    "        \n",
    "        r,f,md,ten_vals = get_output(data_7t,gtab_7t,mask_7t)\n",
    "\n",
    "        hf.create_dataset('tensor_vals', data=transform(ten_vals))\n",
    "        hf.create_dataset('ADC', data=transform(md))\n",
    "        hf.create_dataset('FA', data=transform(f))\n",
    "        hf.create_dataset('color_FA', data=transform(r))\n",
    "\n",
    "        hf.close()\n",
    "        print(name,\"Done\")"
   ]
  },
  {
   "cell_type": "code",
   "execution_count": null,
   "id": "e4fcb945",
   "metadata": {},
   "outputs": [],
   "source": [
    "hf.close()"
   ]
  },
  {
   "cell_type": "code",
   "execution_count": null,
   "id": "2933838c",
   "metadata": {},
   "outputs": [],
   "source": [
    "len(shape_file_7t)"
   ]
  },
  {
   "cell_type": "markdown",
   "id": "af9bbee1",
   "metadata": {},
   "source": [
    "## Analysis of Dump"
   ]
  },
  {
   "cell_type": "code",
   "execution_count": null,
   "id": "73857827",
   "metadata": {},
   "outputs": [],
   "source": [
    "import os\n",
    "from dipy.segment.mask import median_otsu\n",
    "from dipy.reconst.dti import fractional_anisotropy, color_fa\n",
    "import dipy.reconst.dti as dti\n",
    "import h5py\n",
    "import matplotlib.pyplot as plt"
   ]
  },
  {
   "cell_type": "code",
   "execution_count": null,
   "id": "c40e27c7",
   "metadata": {
    "scrolled": false
   },
   "outputs": [],
   "source": [
    "for i in limited_common:\n",
    "    name = \"/storage/HCP_7T/\" + i + \"/\" + i + \"_GT.h5\"\n",
    "    hf = h5py.File(name, 'r')\n",
    "#     shape_file_7t[i] = np.array(hf.get(\"ADC\")).shape"
   ]
  },
  {
   "cell_type": "code",
   "execution_count": null,
   "id": "fb7943e5",
   "metadata": {},
   "outputs": [],
   "source": [
    "name = \"/storage/HCP_7T/\" + common[0] + \"/\" + common[0] + \"_GT.h5\"\n",
    "hf = h5py.File(name, 'r')\n",
    "name = \"/storage/HCP_3T/\" + common[0] + \"/\" + common[0] + \".h5\"\n",
    "hf_lr = h5py.File(name, 'r')"
   ]
  },
  {
   "cell_type": "code",
   "execution_count": null,
   "id": "01fe2254",
   "metadata": {},
   "outputs": [],
   "source": [
    "name"
   ]
  },
  {
   "cell_type": "code",
   "execution_count": null,
   "id": "39ff347c",
   "metadata": {},
   "outputs": [],
   "source": [
    "import numpy as np"
   ]
  },
  {
   "cell_type": "code",
   "execution_count": null,
   "id": "5657b950",
   "metadata": {},
   "outputs": [],
   "source": [
    "for i in list(hf_lr.keys()):\n",
    "    print(i,np.array(hf_lr.get(i)).shape)"
   ]
  },
  {
   "cell_type": "code",
   "execution_count": null,
   "id": "f205984e",
   "metadata": {},
   "outputs": [],
   "source": [
    "for i in list(hf.keys()):\n",
    "    print(i,np.array(hf.get(i)).shape)"
   ]
  },
  {
   "cell_type": "code",
   "execution_count": null,
   "id": "41192fd9",
   "metadata": {},
   "outputs": [],
   "source": []
  },
  {
   "cell_type": "code",
   "execution_count": null,
   "id": "ab5695c0",
   "metadata": {},
   "outputs": [],
   "source": [
    "%matplotlib inline\n",
    "hist,bins = {},{}\n",
    "# hist['lr'],bins['lr'] = np.histogram(norm(np.array(hf_lr.get('volumes0'))))\n",
    "hist['lr_n'],bins['lr_n'] = np.histogram(transform(np.array(hf_lr.get('volumes0'))))\n",
    "hist['md'],bins['md'] = np.histogram(transform(np.expand_dims(np.array(hf.get(\"ADC\")),axis=0)))\n",
    "# hist['adc'],bins['adc'] = np.histogram(transform(np.expand_dims(MD,axis=0)))\n",
    "\n",
    "hist['fa'],bins['fa'] = np.histogram(transform(np.expand_dims(np.array(hf.get(\"FA\")),axis=0)))\n",
    "hist['rgb'],bins['rgb'] = np.histogram(transform(np.array(hf.get(\"color_FA\"))))\n",
    "\n",
    "for i in hist.keys():\n",
    "    plt.plot(bins[i][:-1],hist[i],label=i)\n",
    "plt.legend()"
   ]
  },
  {
   "cell_type": "code",
   "execution_count": null,
   "id": "3d54f49d",
   "metadata": {},
   "outputs": [],
   "source": [
    "for i in hist.keys():\n",
    "    plt.plot(bins[i][:-1],hist[i],label=i)\n",
    "plt.legend()"
   ]
  },
  {
   "cell_type": "code",
   "execution_count": null,
   "id": "542b8052",
   "metadata": {},
   "outputs": [],
   "source": []
  },
  {
   "cell_type": "code",
   "execution_count": null,
   "id": "b808853f",
   "metadata": {},
   "outputs": [],
   "source": [
    "plt.plot(bins['hr'][:-1], hist['hr'],label=\"all vols\")\n",
    "\n",
    "# plt.plot(bins['hr6'][1:-1], hist['hr6'][1:],label=\"6 vols\")\n",
    "\n",
    "plt.plot(bins['hr6_mask'][:-1], hist['hr6_mask'],label=\"data_masked\")\n",
    "\n",
    "# plt.yscale(\"log\")\n",
    "plt.legend()\n",
    "plt.grid()"
   ]
  },
  {
   "cell_type": "code",
   "execution_count": null,
   "id": "11288066",
   "metadata": {},
   "outputs": [],
   "source": [
    "np.array(hf.get('idx'))"
   ]
  },
  {
   "cell_type": "code",
   "execution_count": null,
   "id": "82a51c78",
   "metadata": {},
   "outputs": [],
   "source": [
    "np.array(hf.get('bvals0'))"
   ]
  },
  {
   "cell_type": "code",
   "execution_count": null,
   "id": "dba37a9c",
   "metadata": {},
   "outputs": [],
   "source": [
    "plt.imshow(np.array(hf.get('volumes0'))[:,:,20,6])"
   ]
  },
  {
   "cell_type": "code",
   "execution_count": null,
   "id": "14737ca2",
   "metadata": {},
   "outputs": [],
   "source": [
    "for i in list(hf_lr.keys()):\n",
    "    print(i,np.array(hf_lr.get(i)).shape)"
   ]
  },
  {
   "cell_type": "code",
   "execution_count": null,
   "id": "9a08dd79",
   "metadata": {},
   "outputs": [],
   "source": [
    "np.array(hf_lr.get('bvals0'))"
   ]
  },
  {
   "cell_type": "code",
   "execution_count": null,
   "id": "a65a3bcd",
   "metadata": {},
   "outputs": [],
   "source": [
    "i=70\n",
    "f, axis = plt.subplots(1, 2)\n",
    "f.set_figwidth(20)\n",
    "f.set_figheight(10)\n",
    "temp = np.transpose(hf_lr.get('mask'), (2,1,0))\n",
    "# temp = np.fliplr(np.rot90(hf_lr.get('volumes0')[i,:,:,0],k=3))\n",
    "axis[0].imshow(hf_lr.get('volumes0')[:,:,i,0])\n",
    "axis[1].set_title('FA \"fractional anisotropy\"')\n",
    "axis[1].imshow(np.array(hf.get('volumes0'))[:,:,i,0])\n",
    "# axis[2].set_title('MD \"Mean Diffusivity or Average Diffusion Coefficent(ADC)\"')\n",
    "# axis[2].imshow(np.array(hf.get('ADC'))[:,:,i])\n",
    "# axis[3].set_title('MD_RGB \"Principal Diffusion Directions\"')\n",
    "# axis[3].imshow(np.array(hf.get('color_FA'))[:,:,i])"
   ]
  },
  {
   "cell_type": "code",
   "execution_count": null,
   "id": "33e74297",
   "metadata": {},
   "outputs": [],
   "source": []
  },
  {
   "cell_type": "code",
   "execution_count": null,
   "id": "281aa6c3",
   "metadata": {},
   "outputs": [],
   "source": [
    "np.array(hf.get('ADC')).max(),np.array(hf.get('ADC')).min()"
   ]
  },
  {
   "cell_type": "code",
   "execution_count": null,
   "id": "e0e99833",
   "metadata": {},
   "outputs": [],
   "source": [
    "np.array(hf.get('FA')).max(),np.array(hf.get('FA')).min()"
   ]
  },
  {
   "cell_type": "code",
   "execution_count": null,
   "id": "ebc3c878",
   "metadata": {},
   "outputs": [],
   "source": [
    "np.array(hf.get('color_FA')).max(),np.array(hf.get('color_FA')).min()"
   ]
  },
  {
   "cell_type": "code",
   "execution_count": null,
   "id": "5894fded",
   "metadata": {},
   "outputs": [],
   "source": [
    "i=70\n",
    "f, axis = plt.subplots(1, 3)\n",
    "f.set_figwidth(20)\n",
    "f.set_figheight(10)\n",
    "axis[0].set_title('FA \"fractional anisotropy\"')\n",
    "axis[0].imshow(np.array(hf.get('FA'))[:,:,i])\n",
    "axis[1].set_title('MD \"Mean Diffusivity or Average Diffusion Coefficent(ADC)\"')\n",
    "axis[1].imshow(np.array(hf.get('ADC'))[:,:,i])\n",
    "axis[2].set_title('MD_RGB \"Principal Diffusion Directions\"')\n",
    "axis[2].imshow(np.array(hf.get('color_FA'))[:,:,i])\n",
    "# plt.colorbar()"
   ]
  },
  {
   "cell_type": "code",
   "execution_count": null,
   "id": "2edfb4de",
   "metadata": {},
   "outputs": [],
   "source": [
    "plt.imshow(np.array(hf.get('FA'))[:,:,i])\n",
    "plt.colorbar()"
   ]
  },
  {
   "cell_type": "code",
   "execution_count": null,
   "id": "834802af",
   "metadata": {},
   "outputs": [],
   "source": [
    "np.array(hf.get('ADC')).max(),np.array(hf.get('ADC')).min()"
   ]
  }
 ],
 "metadata": {
  "kernelspec": {
   "display_name": "Python 3 (ipykernel)",
   "language": "python",
   "name": "python3"
  },
  "language_info": {
   "codemirror_mode": {
    "name": "ipython",
    "version": 3
   },
   "file_extension": ".py",
   "mimetype": "text/x-python",
   "name": "python",
   "nbconvert_exporter": "python",
   "pygments_lexer": "ipython3",
   "version": "3.8.10"
  }
 },
 "nbformat": 4,
 "nbformat_minor": 5
}
