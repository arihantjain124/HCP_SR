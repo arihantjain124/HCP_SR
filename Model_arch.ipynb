{
 "cells": [
  {
   "cell_type": "code",
   "execution_count": 1,
   "id": "adba9aa9",
   "metadata": {},
   "outputs": [
    {
     "name": "stdout",
     "output_type": "stream",
     "text": [
      "number of common Subjects  171\n"
     ]
    },
    {
     "name": "stderr",
     "output_type": "stream",
     "text": [
      "/usr/local/lib/python3.8/dist-packages/tqdm/auto.py:21: TqdmWarning: IProgress not found. Please update jupyter and ipywidgets. See https://ipywidgets.readthedocs.io/en/stable/user_install.html\n",
      "  from .autonotebook import tqdm as notebook_tqdm\n"
     ]
    }
   ],
   "source": [
    "import model\n",
    "import os\n",
    "from option import args\n",
    "import torch\n",
    "import matplotlib.pyplot as plt\n",
    "from mpl_toolkits.axes_grid1 import make_axes_locatable\n",
    "import data\n",
    "import utils\n",
    "import numpy as np\n"
   ]
  },
  {
   "cell_type": "code",
   "execution_count": 2,
   "id": "f6ee4a1d",
   "metadata": {},
   "outputs": [],
   "source": [
    "ids = utils.get_ids()\n",
    "ids.sort()\n",
    "args.model = 'dmri_rcan'\n",
    "args.model_type = '3d'\n",
    "offset = 50\n",
    "args.no_vols = 10\n",
    "args.growth=32\n",
    "args.test_vols = 2\n",
    "total_vols = args.no_vols+args.test_vols\n",
    "temp = ids[:args.no_vols]\n",
    "temp.extend(ids[offset:args.test_vols+offset])\n",
    "ids = temp"
   ]
  },
  {
   "cell_type": "code",
   "execution_count": 3,
   "id": "e1446671",
   "metadata": {},
   "outputs": [
    {
     "name": "stdout",
     "output_type": "stream",
     "text": [
      "Loading Done\n"
     ]
    }
   ],
   "source": [
    "loader = data.Data(args,ids= ids)"
   ]
  },
  {
   "cell_type": "code",
   "execution_count": 4,
   "id": "4906c0b7",
   "metadata": {},
   "outputs": [
    {
     "data": {
      "text/plain": [
       "963"
      ]
     },
     "execution_count": 4,
     "metadata": {},
     "output_type": "execute_result"
    }
   ],
   "source": [
    "len(loader.training_dataset)"
   ]
  },
  {
   "cell_type": "code",
   "execution_count": 5,
   "id": "e60543a1",
   "metadata": {},
   "outputs": [],
   "source": [
    "tm = next(iter(loader.training_data))"
   ]
  },
  {
   "cell_type": "code",
   "execution_count": 6,
   "id": "ca2cc618",
   "metadata": {},
   "outputs": [
    {
     "name": "stdout",
     "output_type": "stream",
     "text": [
      "torch.Size([1, 32, 32, 8, 7])\n",
      "torch.Size([1, 54, 51, 13, 5])\n",
      "tensor([[1.7000, 1.6000, 1.6000]], dtype=torch.float64) [tensor([[   5., 2995., 1005., 1000.,  995., 3010., 1990.]],\n",
      "       dtype=torch.float64), tensor([[[ 0.5504, -0.6384,  0.5380],\n",
      "         [-0.8719, -0.4870, -0.0522],\n",
      "         [ 0.1082, -0.8352, -0.5391],\n",
      "         [ 0.9303, -0.3669,  0.0040],\n",
      "         [-0.0087,  0.9410, -0.3383],\n",
      "         [ 0.4909,  0.0722, -0.8682],\n",
      "         [ 0.3497,  0.0127,  0.9368]]], dtype=torch.float64)]\n"
     ]
    }
   ],
   "source": [
    "for i in range(2):\n",
    "    print(tm[i].shape)\n",
    "\n",
    "print(tm[2],tm[3])\n"
   ]
  },
  {
   "cell_type": "code",
   "execution_count": 7,
   "id": "5a707313",
   "metadata": {},
   "outputs": [],
   "source": [
    "lr_tensor = torch.permute(tm[0], (0,4,1,2,3))\n",
    "hr_tensor = torch.permute(tm[1], (0,4,1,2,3))"
   ]
  },
  {
   "cell_type": "code",
   "execution_count": 8,
   "id": "873683b4",
   "metadata": {},
   "outputs": [],
   "source": [
    "from model.models import ConvBlock_3d"
   ]
  },
  {
   "cell_type": "code",
   "execution_count": 9,
   "id": "d871fe16",
   "metadata": {},
   "outputs": [],
   "source": [
    "blk = ConvBlock_3d(in_chans = 7,out_chans = 32)"
   ]
  },
  {
   "cell_type": "code",
   "execution_count": 10,
   "id": "0e64420d",
   "metadata": {},
   "outputs": [
    {
     "data": {
      "text/plain": [
       "(torch.Size([1, 39, 32, 32, 8]), torch.Size([1, 7, 32, 32, 8]))"
      ]
     },
     "execution_count": 10,
     "metadata": {},
     "output_type": "execute_result"
    }
   ],
   "source": [
    "blk(lr_tensor).shape,lr_tensor.shape"
   ]
  },
  {
   "cell_type": "code",
   "execution_count": 11,
   "id": "6b12b0f2",
   "metadata": {},
   "outputs": [],
   "source": [
    "import model.rdn as rdn"
   ]
  },
  {
   "cell_type": "code",
   "execution_count": 12,
   "id": "c9f86a31",
   "metadata": {},
   "outputs": [],
   "source": [
    "encoder = rdn.make_rdn(enc = 'rdn')"
   ]
  },
  {
   "cell_type": "code",
   "execution_count": 13,
   "id": "a7985887",
   "metadata": {},
   "outputs": [
    {
     "data": {
      "text/plain": [
       "(torch.Size([1, 16, 32, 32, 8]), torch.Size([1, 7, 32, 32, 8]))"
      ]
     },
     "execution_count": 13,
     "metadata": {},
     "output_type": "execute_result"
    }
   ],
   "source": [
    "encoder(lr_tensor).shape,lr_tensor.shape"
   ]
  },
  {
   "cell_type": "code",
   "execution_count": 14,
   "id": "b087c2d5",
   "metadata": {},
   "outputs": [],
   "source": [
    "encoder = rdn.make_rdn(enc = 'r')"
   ]
  },
  {
   "cell_type": "code",
   "execution_count": 15,
   "id": "9c10b18a",
   "metadata": {},
   "outputs": [
    {
     "data": {
      "text/plain": [
       "(torch.Size([1, 16, 32, 32, 8]),\n",
       " torch.Size([1, 7, 32, 32, 8]),\n",
       " torch.Size([1, 5, 54, 51, 13]))"
      ]
     },
     "execution_count": 15,
     "metadata": {},
     "output_type": "execute_result"
    }
   ],
   "source": [
    "encoder(lr_tensor).shape,lr_tensor.shape,hr_tensor.shape"
   ]
  },
  {
   "cell_type": "code",
   "execution_count": 16,
   "id": "ea9a65fb",
   "metadata": {},
   "outputs": [],
   "source": [
    "from model.arb_decoder import ImplicitDecoder_3d"
   ]
  },
  {
   "cell_type": "code",
   "execution_count": 17,
   "id": "6ad80216",
   "metadata": {},
   "outputs": [],
   "source": [
    "decoder = ImplicitDecoder_3d(in_channels = 16)"
   ]
  },
  {
   "cell_type": "code",
   "execution_count": 18,
   "id": "18213131",
   "metadata": {},
   "outputs": [
    {
     "name": "stdout",
     "output_type": "stream",
     "text": [
      "torch.Size([1, 4, 11, 45, 48]) torch.Size([1, 432, 11, 45, 48])\n"
     ]
    },
    {
     "name": "stderr",
     "output_type": "stream",
     "text": [
      "/usr/local/lib/python3.8/dist-packages/torch/functional.py:504: UserWarning: torch.meshgrid: in an upcoming release, it will be required to pass the indexing argument. (Triggered internally at /opt/pytorch/pytorch/aten/src/ATen/native/TensorShape.cpp:3488.)\n",
      "  return _VF.meshgrid(tensors, **kwargs)  # type: ignore[attr-defined]\n"
     ]
    }
   ],
   "source": [
    "buf = decoder(encoder(lr_tensor),size = [11, 45, 48])"
   ]
  },
  {
   "cell_type": "code",
   "execution_count": 20,
   "id": "ba887aae",
   "metadata": {},
   "outputs": [
    {
     "data": {
      "text/plain": [
       "torch.Size([1, 5, 11, 45, 48])"
      ]
     },
     "execution_count": 20,
     "metadata": {},
     "output_type": "execute_result"
    }
   ],
   "source": [
    "buf[0].shape"
   ]
  },
  {
   "cell_type": "code",
   "execution_count": 26,
   "id": "8d386881",
   "metadata": {},
   "outputs": [
    {
     "data": {
      "text/plain": [
       "torch.Size([1, 11, 45, 48])"
      ]
     },
     "execution_count": 26,
     "metadata": {},
     "output_type": "execute_result"
    }
   ],
   "source": [
    "buf[0][0,4:,...].shape"
   ]
  },
  {
   "cell_type": "code",
   "execution_count": 27,
   "id": "b7828547",
   "metadata": {},
   "outputs": [
    {
     "data": {
      "image/png": "[encoded data removed]",
      "text/plain": [
       "<Figure size 640x480 with 3 Axes>"
      ]
     },
     "metadata": {},
     "output_type": "display_data"
    }
   ],
   "source": [
    "\n",
    "fig ,ax = plt.subplots(1,3)\n",
    "ax.imshow(lr_tensor[0,])"
   ]
  },
  {
   "cell_type": "code",
   "execution_count": null,
   "id": "a64812f2",
   "metadata": {},
   "outputs": [],
   "source": []
  }
 ],
 "metadata": {
  "kernelspec": {
   "display_name": "Python 3 (ipykernel)",
   "language": "python",
   "name": "python3"
  },
  "language_info": {
   "codemirror_mode": {
    "name": "ipython",
    "version": 3
   },
   "file_extension": ".py",
   "mimetype": "text/x-python",
   "name": "python",
   "nbconvert_exporter": "python",
   "pygments_lexer": "ipython3",
   "version": "3.8.10"
  }
 },
 "nbformat": 4,
 "nbformat_minor": 5
}
