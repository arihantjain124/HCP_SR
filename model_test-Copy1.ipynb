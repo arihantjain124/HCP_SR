{
 "cells": [
  {
   "cell_type": "code",
   "execution_count": 1,
   "id": "ab39d566",
   "metadata": {},
   "outputs": [
    {
     "name": "stderr",
     "output_type": "stream",
     "text": [
      "/usr/local/lib/python3.10/dist-packages/tqdm/auto.py:21: TqdmWarning: IProgress not found. Please update jupyter and ipywidgets. See https://ipywidgets.readthedocs.io/en/stable/user_install.html\n",
      "  from .autonotebook import tqdm as notebook_tqdm\n"
     ]
    },
    {
     "name": "stdout",
     "output_type": "stream",
     "text": [
      "number of common Subjects  171\n",
      "['104416' '128935' '109123' '115017' '102816' '125525' '105923' '130114'\n",
      " '111312' '102311' '118225' '100610' '131722' '130518' '114823' '126426'\n",
      " '111514' '116726' '115825' '108323']\n"
     ]
    }
   ],
   "source": [
    "from option import args\n",
    "import torch\n",
    "import utility\n",
    "import data\n",
    "import utils\n",
    "import model\n",
    "import loss\n",
    "from trainer import Trainer\n",
    "import os\n",
    "from torch.utils.tensorboard import SummaryWriter\n",
    "import numpy as np\n",
    "import matplotlib.pyplot as plt\n",
    "from tqdm import tqdm\n",
    "\n",
    "np.random.seed(args.seed)\n",
    "ids = utils.get_ids()\n",
    "# ids.sort()\n",
    "total_vols = args.no_vols+args.test_vols\n",
    "ids.sort()\n",
    "\n",
    "ids = ids[:total_vols]\n",
    "ids = np.random.choice(ids,total_vols,replace = False)\n",
    "print(ids)"
   ]
  },
  {
   "cell_type": "code",
   "execution_count": 2,
   "id": "6a2bb2e9",
   "metadata": {},
   "outputs": [
    {
     "name": "stdout",
     "output_type": "stream",
     "text": [
      "dmri_rdn,attn_False,3d,rdb,10_train,10_test,growth32,loss_1*MSE,start_var_False,batch_size16,jupyter\n"
     ]
    }
   ],
   "source": [
    "args.run_name = \"jupyter\"\n",
    "if(args.model_type == '2d'):\n",
    "    args.block_size = (32,32,1)\n",
    "\n",
    "if (args.run_name == '..'):\n",
    "    args.run_name = f\"{args.model},attn_{args.attention},{args.model_type},{args.encoder},{args.no_vols}_train,{args.test_vols}_test,growth{args.growth},loss_{args.loss},start_var_{args.start_var},batch_size{args.batch_size}\"\n",
    "else:\n",
    "    args.run_name = f\"{args.model},attn_{args.attention},{args.model_type},{args.encoder},{args.no_vols}_train,{args.test_vols}_test,growth{args.growth},loss_{args.loss},start_var_{args.start_var},batch_size{args.batch_size},{args.run_name}\"\n",
    "print(args.run_name)\n"
   ]
  },
  {
   "cell_type": "code",
   "execution_count": 3,
   "id": "5b973d7d",
   "metadata": {
    "scrolled": false
   },
   "outputs": [
    {
     "name": "stdout",
     "output_type": "stream",
     "text": [
      "Loading Done\n"
     ]
    }
   ],
   "source": [
    "logger = SummaryWriter('runs/'+ args.run_name)\n",
    "\n",
    "checkpoint = utility.checkpoint(args)       ## setting the log and the train information\n",
    "if checkpoint.ok:\n",
    "    loader = data.Data(args,ids= ids)\n",
    "    logger = SummaryWriter('runs/'+ args.run_name)"
   ]
  },
  {
   "cell_type": "code",
   "execution_count": 4,
   "id": "0aa56853",
   "metadata": {
    "scrolled": true
   },
   "outputs": [],
   "source": [
    "t = next(iter(loader.training_data))"
   ]
  },
  {
   "cell_type": "code",
   "execution_count": 5,
   "id": "3135e5c6",
   "metadata": {},
   "outputs": [],
   "source": [
    "rel_coord = t[3]"
   ]
  },
  {
   "cell_type": "code",
   "execution_count": 6,
   "id": "a4d6876c",
   "metadata": {},
   "outputs": [
    {
     "data": {
      "text/plain": [
       "torch.Size([1, 16, 3, 32, 4, 32])"
      ]
     },
     "execution_count": 6,
     "metadata": {},
     "output_type": "execute_result"
    }
   ],
   "source": [
    "rel_coord.shape"
   ]
  },
  {
   "cell_type": "code",
   "execution_count": 11,
   "id": "fcce82af",
   "metadata": {},
   "outputs": [
    {
     "data": {
      "text/plain": [
       "tensor([32, 50, 42])"
      ]
     },
     "execution_count": 11,
     "metadata": {},
     "output_type": "execute_result"
    }
   ],
   "source": [
    "rel_coord[0][:,0,0,0]"
   ]
  },
  {
   "cell_type": "code",
   "execution_count": 11,
   "id": "e631ff60",
   "metadata": {},
   "outputs": [
    {
     "data": {
      "text/plain": [
       "torch.Size([8, 3, 32, 4, 32])"
      ]
     },
     "execution_count": 11,
     "metadata": {},
     "output_type": "execute_result"
    }
   ],
   "source": [
    "rel_coord.shape"
   ]
  },
  {
   "cell_type": "code",
   "execution_count": null,
   "id": "00afed62",
   "metadata": {},
   "outputs": [],
   "source": [
    "t[]"
   ]
  },
  {
   "cell_type": "code",
   "execution_count": 39,
   "id": "8e8381e1",
   "metadata": {},
   "outputs": [],
   "source": [
    "blk_hr = [ [i.item() for i in list(t[2][0][j]) ] for j in range(8)]\n",
    "blk_lr = [ [i.item() for i in list(t[1][0][j]) ] for j in range(8)]"
   ]
  },
  {
   "cell_type": "code",
   "execution_count": 152,
   "id": "b7eb06a2",
   "metadata": {},
   "outputs": [
    {
     "data": {
      "text/plain": [
       "8"
      ]
     },
     "execution_count": 152,
     "metadata": {},
     "output_type": "execute_result"
    }
   ],
   "source": [
    "len(t[2][0])"
   ]
  },
  {
   "cell_type": "code",
   "execution_count": 139,
   "id": "b06b27f7",
   "metadata": {},
   "outputs": [],
   "source": [
    "\n",
    "blk_hr = [ [i.item() for i in list(t[2][0][j]) ] for j in range(8)]\n",
    "blk_lr = [ [i.item() for i in list(t[1][0][j]) ] for j in range(8)]\n",
    "res = []\n",
    "for n in range(len(blk_hr)):\n",
    "    blk_x1,blk_x2,blk_y1,blk_y2,blk_z1,blk_z2 = blk_hr[n]\n",
    "    t = []\n",
    "    for i in range(blk_x1,blk_x2+1):\n",
    "        l = []\n",
    "        for j in range(blk_y1,blk_y2+1):\n",
    "            q = []\n",
    "            for k in range(blk_z1,blk_z2+1):\n",
    "                q.append((i,j,k))\n",
    "            l.append(q)\n",
    "            q = []\n",
    "        t.append(l)\n",
    "        l = []\n",
    "    res.append(t)\n",
    "            "
   ]
  },
  {
   "cell_type": "code",
   "execution_count": 153,
   "id": "b99d3979",
   "metadata": {},
   "outputs": [],
   "source": [
    "res = np.asarray(res)"
   ]
  },
  {
   "cell_type": "code",
   "execution_count": 154,
   "id": "e9754832",
   "metadata": {},
   "outputs": [
    {
     "data": {
      "text/plain": [
       "(8, 32, 32, 4, 3)"
      ]
     },
     "execution_count": 154,
     "metadata": {},
     "output_type": "execute_result"
    }
   ],
   "source": [
    "res.shape\n"
   ]
  },
  {
   "cell_type": "code",
   "execution_count": 155,
   "id": "d1739f3a",
   "metadata": {},
   "outputs": [],
   "source": [
    "b,h,w,d,c = res.shape\n",
    "res = res.reshape(b,c,h,w,d)"
   ]
  },
  {
   "cell_type": "code",
   "execution_count": 159,
   "id": "32cde141",
   "metadata": {},
   "outputs": [],
   "source": []
  },
  {
   "cell_type": "code",
   "execution_count": 161,
   "id": "96c7eebb",
   "metadata": {},
   "outputs": [
    {
     "data": {
      "text/plain": [
       "(8, 3, 32, 32, 4)"
      ]
     },
     "execution_count": 161,
     "metadata": {},
     "output_type": "execute_result"
    }
   ],
   "source": [
    "res.shape"
   ]
  },
  {
   "cell_type": "code",
   "execution_count": 172,
   "id": "6ab0aa93",
   "metadata": {},
   "outputs": [],
   "source": [
    "chk = res[0,:,0,0,3]"
   ]
  },
  {
   "cell_type": "code",
   "execution_count": 173,
   "id": "3ae41d43",
   "metadata": {},
   "outputs": [
    {
     "data": {
      "text/plain": [
       "((3,), array([64, 53, 95]))"
      ]
     },
     "execution_count": 173,
     "metadata": {},
     "output_type": "execute_result"
    }
   ],
   "source": [
    "chk.shape,chk"
   ]
  },
  {
   "cell_type": "code",
   "execution_count": 52,
   "id": "8744c9bc",
   "metadata": {},
   "outputs": [
    {
     "data": {
      "text/plain": [
       "array([64, 65, 66, 67, 68, 69, 70, 71, 72, 73, 74, 75, 76, 77, 78, 79, 80,\n",
       "       81, 82, 83, 84, 85, 86, 87, 88, 89, 90, 91, 92, 93, 94, 95])"
      ]
     },
     "execution_count": 52,
     "metadata": {},
     "output_type": "execute_result"
    }
   ],
   "source": [
    "np.arange(blk_hr[0][0],blk_hr[0][1]+1)x"
   ]
  },
  {
   "cell_type": "code",
   "execution_count": 57,
   "id": "b5786eaf",
   "metadata": {},
   "outputs": [
    {
     "data": {
      "text/plain": [
       "array([32, 33, 34, 35, 36, 37, 38, 39, 40, 41, 42, 43, 44, 45, 46, 47, 48,\n",
       "       49, 50, 51, 52, 53, 54, 55, 56, 57, 58, 59, 60, 61, 62, 63])"
      ]
     },
     "execution_count": 57,
     "metadata": {},
     "output_type": "execute_result"
    }
   ],
   "source": [
    "np.arange(blk_hr[0][2],blk_hr[0][3]+1)"
   ]
  },
  {
   "cell_type": "code",
   "execution_count": 58,
   "id": "c5c47b7b",
   "metadata": {},
   "outputs": [
    {
     "data": {
      "text/plain": [
       "array([92, 93, 94, 95])"
      ]
     },
     "execution_count": 58,
     "metadata": {},
     "output_type": "execute_result"
    }
   ],
   "source": [
    "np.arange(blk_hr[0][4],blk_hr[0][5]+1)"
   ]
  },
  {
   "cell_type": "code",
   "execution_count": 110,
   "id": "68c0b840",
   "metadata": {},
   "outputs": [
    {
     "name": "stderr",
     "output_type": "stream",
     "text": [
      "/usr/local/lib/python3.10/dist-packages/torch/functional.py:504: UserWarning: torch.meshgrid: in an upcoming release, it will be required to pass the indexing argument. (Triggered internally at /opt/pytorch/pytorch/aten/src/ATen/native/TensorShape.cpp:3516.)\n",
      "  return _VF.meshgrid(tensors, **kwargs)  # type: ignore[attr-defined]\n"
     ]
    }
   ],
   "source": [
    "import numpy as np\n",
    "x = torch.arange(64, 96, 1)\n",
    "y = torch.arange(32, 64, 1)\n",
    "z = torch.arange(92, 96, 1)\n",
    "X= torch.meshgrid(x,y,z)"
   ]
  },
  {
   "cell_type": "code",
   "execution_count": 116,
   "id": "60208345",
   "metadata": {},
   "outputs": [
    {
     "data": {
      "text/plain": [
       "torch.Size([32, 32, 4])"
      ]
     },
     "execution_count": 116,
     "metadata": {},
     "output_type": "execute_result"
    }
   ],
   "source": [
    "X[0].shape"
   ]
  },
  {
   "cell_type": "code",
   "execution_count": 117,
   "id": "6b93c427",
   "metadata": {},
   "outputs": [
    {
     "data": {
      "text/plain": [
       "torch.Size([32, 32, 4])"
      ]
     },
     "execution_count": 117,
     "metadata": {},
     "output_type": "execute_result"
    }
   ],
   "source": [
    "X[1].shape"
   ]
  },
  {
   "cell_type": "code",
   "execution_count": 123,
   "id": "19a6635c",
   "metadata": {},
   "outputs": [
    {
     "data": {
      "text/plain": [
       "tensor([[32, 32, 32, 32],\n",
       "        [33, 33, 33, 33],\n",
       "        [34, 34, 34, 34],\n",
       "        [35, 35, 35, 35],\n",
       "        [36, 36, 36, 36],\n",
       "        [37, 37, 37, 37],\n",
       "        [38, 38, 38, 38],\n",
       "        [39, 39, 39, 39],\n",
       "        [40, 40, 40, 40],\n",
       "        [41, 41, 41, 41],\n",
       "        [42, 42, 42, 42],\n",
       "        [43, 43, 43, 43],\n",
       "        [44, 44, 44, 44],\n",
       "        [45, 45, 45, 45],\n",
       "        [46, 46, 46, 46],\n",
       "        [47, 47, 47, 47],\n",
       "        [48, 48, 48, 48],\n",
       "        [49, 49, 49, 49],\n",
       "        [50, 50, 50, 50],\n",
       "        [51, 51, 51, 51],\n",
       "        [52, 52, 52, 52],\n",
       "        [53, 53, 53, 53],\n",
       "        [54, 54, 54, 54],\n",
       "        [55, 55, 55, 55],\n",
       "        [56, 56, 56, 56],\n",
       "        [57, 57, 57, 57],\n",
       "        [58, 58, 58, 58],\n",
       "        [59, 59, 59, 59],\n",
       "        [60, 60, 60, 60],\n",
       "        [61, 61, 61, 61],\n",
       "        [62, 62, 62, 62],\n",
       "        [63, 63, 63, 63]])"
      ]
     },
     "execution_count": 123,
     "metadata": {},
     "output_type": "execute_result"
    }
   ],
   "source": [
    "X[1][0,:,:]"
   ]
  },
  {
   "cell_type": "code",
   "execution_count": 70,
   "id": "0f30fe52",
   "metadata": {},
   "outputs": [],
   "source": [
    "XY=np.array([X.flatten(),Y.flatten()]).T"
   ]
  },
  {
   "cell_type": "code",
   "execution_count": 71,
   "id": "8ae85a2b",
   "metadata": {
    "scrolled": false
   },
   "outputs": [
    {
     "data": {
      "text/plain": [
       "(3969, 2)"
      ]
     },
     "execution_count": 71,
     "metadata": {},
     "output_type": "execute_result"
    }
   ],
   "source": [
    "XY.shape"
   ]
  },
  {
   "cell_type": "code",
   "execution_count": 41,
   "id": "256e825a",
   "metadata": {},
   "outputs": [
    {
     "data": {
      "text/plain": [
       "[64, 95, 32, 63, 92, 95]"
      ]
     },
     "execution_count": 41,
     "metadata": {},
     "output_type": "execute_result"
    }
   ],
   "source": [
    "blk_hr[0][1]"
   ]
  },
  {
   "cell_type": "code",
   "execution_count": 44,
   "id": "3818d258",
   "metadata": {},
   "outputs": [
    {
     "data": {
      "text/plain": [
       "32"
      ]
     },
     "execution_count": 44,
     "metadata": {},
     "output_type": "execute_result"
    }
   ],
   "source": [
    "len(np.arange(blk_hr[0][0],blk_hr[0][1]+1))"
   ]
  },
  {
   "cell_type": "code",
   "execution_count": 4,
   "id": "11a7cbc5",
   "metadata": {},
   "outputs": [
    {
     "name": "stdout",
     "output_type": "stream",
     "text": [
      "Making model... here\n",
      "Preparing loss function:\n",
      "1.000 * MSE\n"
     ]
    }
   ],
   "source": [
    "model = model.Model(args)\n",
    "loss = loss.Loss(args, checkpoint)\n",
    "t = Trainer(args, loader, model, loss, checkpoint,logger)"
   ]
  },
  {
   "cell_type": "code",
   "execution_count": 5,
   "id": "4ead1448",
   "metadata": {},
   "outputs": [
    {
     "name": "stdout",
     "output_type": "stream",
     "text": [
      "Preparing loss function:\n",
      "1.000 * MSE\n",
      "[Epoch 0]\tLearning rate: 5.00e-3\n"
     ]
    },
    {
     "name": "stderr",
     "output_type": "stream",
     "text": [
      "  0%|                                                                                           | 0/214 [00:00<?, ?it/s]/usr/local/lib/python3.10/dist-packages/torch/functional.py:504: UserWarning: torch.meshgrid: in an upcoming release, it will be required to pass the indexing argument. (Triggered internally at /opt/pytorch/pytorch/aten/src/ATen/native/TensorShape.cpp:3516.)\n",
      "  return _VF.meshgrid(tensors, **kwargs)  # type: ignore[attr-defined]\n",
      "[MSE: 234436427776.0000]: 100%|████████| 214/214 [00:10<00:00, 21.03it/s, scale=[1. 1. 1.], blk_size=[16, 32, 32, 4, 7]]\n",
      " 30%|██▋      | 33/110 [00:11<00:23,  3.34it/s, scale=[1. 1. 1.], blk_size=[16, 32, 4, 32, 7], hfen=1.13e+12, psnr=-226]"
     ]
    },
    {
     "ename": "KeyboardInterrupt",
     "evalue": "",
     "output_type": "error",
     "traceback": [
      "\u001b[0;31m---------------------------------------------------------------------------\u001b[0m",
      "\u001b[0;31mKeyboardInterrupt\u001b[0m                         Traceback (most recent call last)",
      "Cell \u001b[0;32mIn[5], line 5\u001b[0m\n\u001b[1;32m      3\u001b[0m \u001b[38;5;28;01mwhile\u001b[39;00m \u001b[38;5;129;01mnot\u001b[39;00m t\u001b[38;5;241m.\u001b[39mterminate():\n\u001b[1;32m      4\u001b[0m     t\u001b[38;5;241m.\u001b[39mtrain()\n\u001b[0;32m----> 5\u001b[0m     \u001b[43mt\u001b[49m\u001b[38;5;241;43m.\u001b[39;49m\u001b[43mtest\u001b[49m\u001b[43m(\u001b[49m\u001b[43m)\u001b[49m\n",
      "File \u001b[0;32m/workspace/Code/HCP_SR/trainer.py:175\u001b[0m, in \u001b[0;36mTrainer.test\u001b[0;34m(self)\u001b[0m\n\u001b[1;32m    173\u001b[0m     \u001b[38;5;28mself\u001b[39m\u001b[38;5;241m.\u001b[39miter \u001b[38;5;241m+\u001b[39m\u001b[38;5;241m=\u001b[39m\u001b[38;5;241m1\u001b[39m\n\u001b[1;32m    174\u001b[0m \u001b[38;5;28;01melse\u001b[39;00m:\n\u001b[0;32m--> 175\u001b[0m     psnr, hfen \u001b[38;5;241m=\u001b[39m \u001b[43mutility\u001b[49m\u001b[38;5;241;43m.\u001b[39;49m\u001b[43mcompute_scores\u001b[49m\u001b[43m(\u001b[49m\u001b[43mhr_tensor\u001b[49m\u001b[43m,\u001b[49m\u001b[43mpred_tensor\u001b[49m\u001b[43m,\u001b[49m\u001b[43mout_tensor\u001b[49m\u001b[43m,\u001b[49m\u001b[43mscale\u001b[49m\u001b[43m,\u001b[49m\u001b[43mmask\u001b[49m\u001b[43m \u001b[49m\u001b[38;5;241;43m=\u001b[39;49m\u001b[43m \u001b[49m\u001b[38;5;28;43;01mFalse\u001b[39;49;00m\u001b[43m)\u001b[49m\n\u001b[1;32m    178\u001b[0m eval_hfen_avg\u001b[38;5;241m.\u001b[39mappend(hfen)\n\u001b[1;32m    179\u001b[0m eval_psnr_avg\u001b[38;5;241m.\u001b[39mappend(psnr)\n",
      "File \u001b[0;32m/workspace/Code/HCP_SR/utility.py:361\u001b[0m, in \u001b[0;36mcompute_scores\u001b[0;34m(hr, pred, out, scale, logger, iter, mask, epoch)\u001b[0m\n\u001b[1;32m    358\u001b[0m     out \u001b[38;5;241m=\u001b[39m out\u001b[38;5;241m.\u001b[39msqueeze()\n\u001b[1;32m    360\u001b[0m psnr \u001b[38;5;241m=\u001b[39m \u001b[38;5;28mfloat\u001b[39m(metrics\u001b[38;5;241m.\u001b[39mpeak_signal_noise_ratio(hr,pred,data_range\u001b[38;5;241m=\u001b[39m\u001b[38;5;241m1\u001b[39m))\n\u001b[0;32m--> 361\u001b[0m hfen \u001b[38;5;241m=\u001b[39m \u001b[43mhfen_metric\u001b[49m\u001b[43m(\u001b[49m\u001b[43mhr\u001b[49m\u001b[43m,\u001b[49m\u001b[43mpred\u001b[49m\u001b[43m)\u001b[49m\n\u001b[1;32m    363\u001b[0m \u001b[38;5;28;01mif\u001b[39;00m(logger \u001b[38;5;241m!=\u001b[39m \u001b[38;5;28;01mNone\u001b[39;00m):\n\u001b[1;32m    364\u001b[0m     logger_sampling(hr,pred,out,scale,logger,\u001b[38;5;28miter\u001b[39m,epoch,hfen)\n",
      "File \u001b[0;32m/workspace/Code/HCP_SR/utility.py:330\u001b[0m, in \u001b[0;36mhfen_metric\u001b[0;34m(reference, input_volume)\u001b[0m\n\u001b[1;32m    328\u001b[0m \u001b[38;5;28;01mdef\u001b[39;00m \u001b[38;5;21mhfen_metric\u001b[39m(reference, input_volume):\n\u001b[1;32m    329\u001b[0m     \u001b[38;5;66;03m# Apply Laplacian of Gaussian (LoG) filter to reference and input volumes\u001b[39;00m\n\u001b[0;32m--> 330\u001b[0m     log_reference \u001b[38;5;241m=\u001b[39m \u001b[43mgaussian_laplace\u001b[49m\u001b[43m(\u001b[49m\u001b[43mreference\u001b[49m\u001b[43m,\u001b[49m\u001b[43m \u001b[49m\u001b[43msigma\u001b[49m\u001b[38;5;241;43m=\u001b[39;49m\u001b[38;5;241;43m3\u001b[39;49m\u001b[43m)\u001b[49m\n\u001b[1;32m    331\u001b[0m     log_input \u001b[38;5;241m=\u001b[39m gaussian_laplace(input_volume, sigma\u001b[38;5;241m=\u001b[39m\u001b[38;5;241m3\u001b[39m)\n\u001b[1;32m    333\u001b[0m     \u001b[38;5;66;03m# Calculate the L2 norm of the difference between filtered volumes\u001b[39;00m\n",
      "File \u001b[0;32m/usr/local/lib/python3.10/dist-packages/scipy/ndimage/_filters.py:592\u001b[0m, in \u001b[0;36mgaussian_laplace\u001b[0;34m(input, sigma, output, mode, cval, **kwargs)\u001b[0m\n\u001b[1;32m    588\u001b[0m     order[axis] \u001b[38;5;241m=\u001b[39m \u001b[38;5;241m2\u001b[39m\n\u001b[1;32m    589\u001b[0m     \u001b[38;5;28;01mreturn\u001b[39;00m gaussian_filter(\u001b[38;5;28minput\u001b[39m, sigma, order, output, mode, cval,\n\u001b[1;32m    590\u001b[0m                            \u001b[38;5;241m*\u001b[39m\u001b[38;5;241m*\u001b[39mkwargs)\n\u001b[0;32m--> 592\u001b[0m \u001b[38;5;28;01mreturn\u001b[39;00m \u001b[43mgeneric_laplace\u001b[49m\u001b[43m(\u001b[49m\u001b[38;5;28;43minput\u001b[39;49m\u001b[43m,\u001b[49m\u001b[43m \u001b[49m\u001b[43mderivative2\u001b[49m\u001b[43m,\u001b[49m\u001b[43m \u001b[49m\u001b[43moutput\u001b[49m\u001b[43m,\u001b[49m\u001b[43m \u001b[49m\u001b[43mmode\u001b[49m\u001b[43m,\u001b[49m\u001b[43m \u001b[49m\u001b[43mcval\u001b[49m\u001b[43m,\u001b[49m\n\u001b[1;32m    593\u001b[0m \u001b[43m                       \u001b[49m\u001b[43mextra_arguments\u001b[49m\u001b[38;5;241;43m=\u001b[39;49m\u001b[43m(\u001b[49m\u001b[43msigma\u001b[49m\u001b[43m,\u001b[49m\u001b[43m)\u001b[49m\u001b[43m,\u001b[49m\n\u001b[1;32m    594\u001b[0m \u001b[43m                       \u001b[49m\u001b[43mextra_keywords\u001b[49m\u001b[38;5;241;43m=\u001b[39;49m\u001b[43mkwargs\u001b[49m\u001b[43m)\u001b[49m\n",
      "File \u001b[0;32m/usr/local/lib/python3.10/dist-packages/scipy/ndimage/_filters.py:511\u001b[0m, in \u001b[0;36mgeneric_laplace\u001b[0;34m(input, derivative2, output, mode, cval, extra_arguments, extra_keywords)\u001b[0m\n\u001b[1;32m    508\u001b[0m     derivative2(\u001b[38;5;28minput\u001b[39m, axes[\u001b[38;5;241m0\u001b[39m], output, modes[\u001b[38;5;241m0\u001b[39m], cval,\n\u001b[1;32m    509\u001b[0m                 \u001b[38;5;241m*\u001b[39mextra_arguments, \u001b[38;5;241m*\u001b[39m\u001b[38;5;241m*\u001b[39mextra_keywords)\n\u001b[1;32m    510\u001b[0m     \u001b[38;5;28;01mfor\u001b[39;00m ii \u001b[38;5;129;01min\u001b[39;00m \u001b[38;5;28mrange\u001b[39m(\u001b[38;5;241m1\u001b[39m, \u001b[38;5;28mlen\u001b[39m(axes)):\n\u001b[0;32m--> 511\u001b[0m         tmp \u001b[38;5;241m=\u001b[39m \u001b[43mderivative2\u001b[49m\u001b[43m(\u001b[49m\u001b[38;5;28;43minput\u001b[39;49m\u001b[43m,\u001b[49m\u001b[43m \u001b[49m\u001b[43maxes\u001b[49m\u001b[43m[\u001b[49m\u001b[43mii\u001b[49m\u001b[43m]\u001b[49m\u001b[43m,\u001b[49m\u001b[43m \u001b[49m\u001b[43moutput\u001b[49m\u001b[38;5;241;43m.\u001b[39;49m\u001b[43mdtype\u001b[49m\u001b[43m,\u001b[49m\u001b[43m \u001b[49m\u001b[43mmodes\u001b[49m\u001b[43m[\u001b[49m\u001b[43mii\u001b[49m\u001b[43m]\u001b[49m\u001b[43m,\u001b[49m\u001b[43m \u001b[49m\u001b[43mcval\u001b[49m\u001b[43m,\u001b[49m\n\u001b[1;32m    512\u001b[0m \u001b[43m                          \u001b[49m\u001b[38;5;241;43m*\u001b[39;49m\u001b[43mextra_arguments\u001b[49m\u001b[43m,\u001b[49m\u001b[43m \u001b[49m\u001b[38;5;241;43m*\u001b[39;49m\u001b[38;5;241;43m*\u001b[39;49m\u001b[43mextra_keywords\u001b[49m\u001b[43m)\u001b[49m\n\u001b[1;32m    513\u001b[0m         output \u001b[38;5;241m+\u001b[39m\u001b[38;5;241m=\u001b[39m tmp\n\u001b[1;32m    514\u001b[0m \u001b[38;5;28;01melse\u001b[39;00m:\n",
      "File \u001b[0;32m/usr/local/lib/python3.10/dist-packages/scipy/ndimage/_filters.py:589\u001b[0m, in \u001b[0;36mgaussian_laplace.<locals>.derivative2\u001b[0;34m(input, axis, output, mode, cval, sigma, **kwargs)\u001b[0m\n\u001b[1;32m    587\u001b[0m order \u001b[38;5;241m=\u001b[39m [\u001b[38;5;241m0\u001b[39m] \u001b[38;5;241m*\u001b[39m \u001b[38;5;28minput\u001b[39m\u001b[38;5;241m.\u001b[39mndim\n\u001b[1;32m    588\u001b[0m order[axis] \u001b[38;5;241m=\u001b[39m \u001b[38;5;241m2\u001b[39m\n\u001b[0;32m--> 589\u001b[0m \u001b[38;5;28;01mreturn\u001b[39;00m \u001b[43mgaussian_filter\u001b[49m\u001b[43m(\u001b[49m\u001b[38;5;28;43minput\u001b[39;49m\u001b[43m,\u001b[49m\u001b[43m \u001b[49m\u001b[43msigma\u001b[49m\u001b[43m,\u001b[49m\u001b[43m \u001b[49m\u001b[43morder\u001b[49m\u001b[43m,\u001b[49m\u001b[43m \u001b[49m\u001b[43moutput\u001b[49m\u001b[43m,\u001b[49m\u001b[43m \u001b[49m\u001b[43mmode\u001b[49m\u001b[43m,\u001b[49m\u001b[43m \u001b[49m\u001b[43mcval\u001b[49m\u001b[43m,\u001b[49m\n\u001b[1;32m    590\u001b[0m \u001b[43m                       \u001b[49m\u001b[38;5;241;43m*\u001b[39;49m\u001b[38;5;241;43m*\u001b[39;49m\u001b[43mkwargs\u001b[49m\u001b[43m)\u001b[49m\n",
      "File \u001b[0;32m/usr/local/lib/python3.10/dist-packages/scipy/ndimage/_filters.py:379\u001b[0m, in \u001b[0;36mgaussian_filter\u001b[0;34m(input, sigma, order, output, mode, cval, truncate, radius, axes)\u001b[0m\n\u001b[1;32m    377\u001b[0m \u001b[38;5;28;01mif\u001b[39;00m \u001b[38;5;28mlen\u001b[39m(axes) \u001b[38;5;241m>\u001b[39m \u001b[38;5;241m0\u001b[39m:\n\u001b[1;32m    378\u001b[0m     \u001b[38;5;28;01mfor\u001b[39;00m axis, sigma, order, mode, radius \u001b[38;5;129;01min\u001b[39;00m axes:\n\u001b[0;32m--> 379\u001b[0m         \u001b[43mgaussian_filter1d\u001b[49m\u001b[43m(\u001b[49m\u001b[38;5;28;43minput\u001b[39;49m\u001b[43m,\u001b[49m\u001b[43m \u001b[49m\u001b[43msigma\u001b[49m\u001b[43m,\u001b[49m\u001b[43m \u001b[49m\u001b[43maxis\u001b[49m\u001b[43m,\u001b[49m\u001b[43m \u001b[49m\u001b[43morder\u001b[49m\u001b[43m,\u001b[49m\u001b[43m \u001b[49m\u001b[43moutput\u001b[49m\u001b[43m,\u001b[49m\n\u001b[1;32m    380\u001b[0m \u001b[43m                          \u001b[49m\u001b[43mmode\u001b[49m\u001b[43m,\u001b[49m\u001b[43m \u001b[49m\u001b[43mcval\u001b[49m\u001b[43m,\u001b[49m\u001b[43m \u001b[49m\u001b[43mtruncate\u001b[49m\u001b[43m,\u001b[49m\u001b[43m \u001b[49m\u001b[43mradius\u001b[49m\u001b[38;5;241;43m=\u001b[39;49m\u001b[43mradius\u001b[49m\u001b[43m)\u001b[49m\n\u001b[1;32m    381\u001b[0m         \u001b[38;5;28minput\u001b[39m \u001b[38;5;241m=\u001b[39m output\n\u001b[1;32m    382\u001b[0m \u001b[38;5;28;01melse\u001b[39;00m:\n",
      "File \u001b[0;32m/usr/local/lib/python3.10/dist-packages/scipy/ndimage/_filters.py:277\u001b[0m, in \u001b[0;36mgaussian_filter1d\u001b[0;34m(input, sigma, axis, order, output, mode, cval, truncate, radius)\u001b[0m\n\u001b[1;32m    275\u001b[0m \u001b[38;5;66;03m# Since we are calling correlate, not convolve, revert the kernel\u001b[39;00m\n\u001b[1;32m    276\u001b[0m weights \u001b[38;5;241m=\u001b[39m _gaussian_kernel1d(sigma, order, lw)[::\u001b[38;5;241m-\u001b[39m\u001b[38;5;241m1\u001b[39m]\n\u001b[0;32m--> 277\u001b[0m \u001b[38;5;28;01mreturn\u001b[39;00m \u001b[43mcorrelate1d\u001b[49m\u001b[43m(\u001b[49m\u001b[38;5;28;43minput\u001b[39;49m\u001b[43m,\u001b[49m\u001b[43m \u001b[49m\u001b[43mweights\u001b[49m\u001b[43m,\u001b[49m\u001b[43m \u001b[49m\u001b[43maxis\u001b[49m\u001b[43m,\u001b[49m\u001b[43m \u001b[49m\u001b[43moutput\u001b[49m\u001b[43m,\u001b[49m\u001b[43m \u001b[49m\u001b[43mmode\u001b[49m\u001b[43m,\u001b[49m\u001b[43m \u001b[49m\u001b[43mcval\u001b[49m\u001b[43m,\u001b[49m\u001b[43m \u001b[49m\u001b[38;5;241;43m0\u001b[39;49m\u001b[43m)\u001b[49m\n",
      "File \u001b[0;32m/usr/local/lib/python3.10/dist-packages/scipy/ndimage/_filters.py:134\u001b[0m, in \u001b[0;36mcorrelate1d\u001b[0;34m(input, weights, axis, output, mode, cval, origin)\u001b[0m\n\u001b[1;32m    130\u001b[0m     \u001b[38;5;28;01mraise\u001b[39;00m \u001b[38;5;167;01mValueError\u001b[39;00m(\u001b[38;5;124m'\u001b[39m\u001b[38;5;124mInvalid origin; origin must satisfy \u001b[39m\u001b[38;5;124m'\u001b[39m\n\u001b[1;32m    131\u001b[0m                      \u001b[38;5;124m'\u001b[39m\u001b[38;5;124m-(len(weights) // 2) <= origin <= \u001b[39m\u001b[38;5;124m'\u001b[39m\n\u001b[1;32m    132\u001b[0m                      \u001b[38;5;124m'\u001b[39m\u001b[38;5;124m(len(weights)-1) // 2\u001b[39m\u001b[38;5;124m'\u001b[39m)\n\u001b[1;32m    133\u001b[0m mode \u001b[38;5;241m=\u001b[39m _ni_support\u001b[38;5;241m.\u001b[39m_extend_mode_to_code(mode)\n\u001b[0;32m--> 134\u001b[0m \u001b[43m_nd_image\u001b[49m\u001b[38;5;241;43m.\u001b[39;49m\u001b[43mcorrelate1d\u001b[49m\u001b[43m(\u001b[49m\u001b[38;5;28;43minput\u001b[39;49m\u001b[43m,\u001b[49m\u001b[43m \u001b[49m\u001b[43mweights\u001b[49m\u001b[43m,\u001b[49m\u001b[43m \u001b[49m\u001b[43maxis\u001b[49m\u001b[43m,\u001b[49m\u001b[43m \u001b[49m\u001b[43moutput\u001b[49m\u001b[43m,\u001b[49m\u001b[43m \u001b[49m\u001b[43mmode\u001b[49m\u001b[43m,\u001b[49m\u001b[43m \u001b[49m\u001b[43mcval\u001b[49m\u001b[43m,\u001b[49m\n\u001b[1;32m    135\u001b[0m \u001b[43m                      \u001b[49m\u001b[43morigin\u001b[49m\u001b[43m)\u001b[49m\n\u001b[1;32m    136\u001b[0m \u001b[38;5;28;01mreturn\u001b[39;00m output\n",
      "\u001b[0;31mKeyboardInterrupt\u001b[0m: "
     ]
    }
   ],
   "source": [
    "while not t.terminate():\n",
    "    t.train()\n",
    "    t.test()"
   ]
  },
  {
   "cell_type": "code",
   "execution_count": null,
   "id": "b7d625ae",
   "metadata": {},
   "outputs": [
    {
     "name": "stdout",
     "output_type": "stream",
     "text": [
      "[Epoch 1]\tLearning rate: 5.00e-3\n"
     ]
    },
    {
     "name": "stderr",
     "output_type": "stream",
     "text": [
      "\n",
      "  0%|                                                                                           | 0/214 [00:00<?, ?it/s]\u001b[A\n",
      "[MSE: 23941935008035414999040.0000]:   0%|▏                                             | 1/214 [00:00<00:31,  6.69it/s]\u001b[A\n",
      "[MSE: 23941935008035414999040.0000]:   0%| | 1/214 [00:00<00:32,  6.60it/s, scale=[1. 1. 1.], blk_size=[16, 4, 32, 32, 7\u001b[A\n",
      "[MSE: 23941935008035414999040.0000]:   1%| | 2/214 [00:00<00:19, 10.69it/s, scale=[1. 1. 1.], blk_size=[16, 4, 32, 32, 7\u001b[A\n",
      "[MSE: 23284873333200941744128.0000]:   1%| | 2/214 [00:00<00:19, 10.69it/s, scale=[1. 1. 1.], blk_size=[16, 4, 32, 32, 7\u001b[A\n",
      "[MSE: 23284873333200941744128.0000]:   1%| | 2/214 [00:00<00:19, 10.69it/s, scale=[1. 1. 1.], blk_size=[16, 4, 32, 32, 7\u001b[A\n",
      "[MSE: 26062862468349090070528.0000]:   1%| | 3/214 [00:00<00:19, 10.69it/s, scale=[1. 1. 1.], blk_size=[16, 4, 32, 32, 7\u001b[A\n",
      "[MSE: 26062862468349090070528.0000]:   1%| | 3/214 [00:00<00:19, 10.69it/s, scale=[1. 1. 1.], blk_size=[16, 4, 32, 32, 7\u001b[A\n",
      "[MSE: 26062862468349090070528.0000]:   2%| | 4/214 [00:00<00:24,  8.54it/s, scale=[1. 1. 1.], blk_size=[16, 4, 32, 32, 7\u001b[A\n",
      "[MSE: 31825254220366658666496.0000]:   2%| | 4/214 [00:00<00:24,  8.54it/s, scale=[1. 1. 1.], blk_size=[16, 4, 32, 32, 7\u001b[A\n",
      "[MSE: 31825254220366658666496.0000]:   2%| | 4/214 [00:00<00:24,  8.54it/s, scale=[1. 1. 1.], blk_size=[16, 4, 32, 32, 7\u001b[A\n",
      "[MSE: 31825254220366658666496.0000]:   2%| | 5/214 [00:00<00:24,  8.56it/s, scale=[1. 1. 1.], blk_size=[16, 4, 32, 32, 7\u001b[A\n",
      "[MSE: 25519849950478147256320.0000]:   2%| | 5/214 [00:00<00:24,  8.56it/s, scale=[1. 1. 1.], blk_size=[16, 4, 32, 32, 7\u001b[A\n",
      "[MSE: 25519849950478147256320.0000]:   2%| | 5/214 [00:00<00:24,  8.56it/s, scale=[1. 1. 1.], blk_size=[16, 32, 32, 4, 7\u001b[A\n",
      "[MSE: 25519849950478147256320.0000]:   3%| | 6/214 [00:00<00:25,  8.05it/s, scale=[1. 1. 1.], blk_size=[16, 32, 32, 4, 7\u001b[A\n",
      "[MSE: 21299407394279130136576.0000]:   3%| | 6/214 [00:00<00:25,  8.05it/s, scale=[1. 1. 1.], blk_size=[16, 32, 32, 4, 7\u001b[A\n",
      "[MSE: 21299407394279130136576.0000]:   3%| | 6/214 [00:00<00:25,  8.05it/s, scale=[1. 1. 1.], blk_size=[16, 32, 32, 4, 7\u001b[A\n",
      "[MSE: 21299407394279130136576.0000]:   3%| | 7/214 [00:00<00:26,  7.72it/s, scale=[1. 1. 1.], blk_size=[16, 32, 32, 4, 7\u001b[A\n",
      "[MSE: 18267031308279052500992.0000]:   3%| | 7/214 [00:00<00:26,  7.72it/s, scale=[1. 1. 1.], blk_size=[16, 32, 32, 4, 7\u001b[A\n",
      "[MSE: 18267031308279052500992.0000]:   3%| | 7/214 [00:00<00:26,  7.72it/s, scale=[1. 1. 1.], blk_size=[16, 32, 32, 4, 7\u001b[A\n",
      "[MSE: 18267031308279052500992.0000]:   4%| | 8/214 [00:00<00:27,  7.50it/s, scale=[1. 1. 1.], blk_size=[16, 32, 32, 4, 7\u001b[A\n",
      "[MSE: 20510455552557298221056.0000]:   4%| | 8/214 [00:01<00:27,  7.50it/s, scale=[1. 1. 1.], blk_size=[16, 32, 32, 4, 7\u001b[A\n",
      "[MSE: 20510455552557298221056.0000]:   4%| | 8/214 [00:01<00:27,  7.50it/s, scale=[1. 1. 1.], blk_size=[16, 32, 4, 32, 7\u001b[A\n",
      "[MSE: 20510455552557298221056.0000]:   4%| | 9/214 [00:01<00:26,  7.78it/s, scale=[1. 1. 1.], blk_size=[16, 32, 4, 32, 7\u001b[A\n",
      "[MSE: 18234800171645868703744.0000]:   4%| | 9/214 [00:01<00:26,  7.78it/s, scale=[1. 1. 1.], blk_size=[16, 32, 4, 32, 7\u001b[A\n",
      "[MSE: 18234800171645868703744.0000]:   4%| | 9/214 [00:01<00:26,  7.78it/s, scale=[1. 1. 1.], blk_size=[16, 32, 32, 4, 7\u001b[A\n",
      "[MSE: 18234800171645868703744.0000]:   5%| | 10/214 [00:01<00:28,  7.27it/s, scale=[1. 1. 1.], blk_size=[16, 32, 32, 4, \u001b[A\n",
      "[MSE: 18873703332782784118784.0000]:   5%| | 10/214 [00:01<00:28,  7.27it/s, scale=[1. 1. 1.], blk_size=[16, 32, 32, 4, \u001b[A\n",
      "[MSE: 18873703332782784118784.0000]:   5%| | 10/214 [00:01<00:28,  7.27it/s, scale=[1. 1. 1.], blk_size=[16, 4, 32, 32, \u001b[A\n",
      "[MSE: 18873703332782784118784.0000]:   5%| | 11/214 [00:01<00:41,  4.85it/s, scale=[1. 1. 1.], blk_size=[16, 4, 32, 32, \u001b[A\n",
      "[MSE: 17158857569569758773248.0000]:   5%| | 11/214 [00:01<00:41,  4.85it/s, scale=[1. 1. 1.], blk_size=[16, 4, 32, 32, \u001b[A\n",
      "[MSE: 17158857569569758773248.0000]:   5%| | 11/214 [00:01<00:41,  4.85it/s, scale=[1. 1. 1.], blk_size=[16, 32, 32, 4, \u001b[A\n",
      "[MSE: 17158857569569758773248.0000]:   6%| | 12/214 [00:01<00:39,  5.10it/s, scale=[1. 1. 1.], blk_size=[16, 32, 32, 4, \u001b[A\n",
      "[MSE: 19751486425354685382656.0000]:   6%| | 12/214 [00:01<00:39,  5.10it/s, scale=[1. 1. 1.], blk_size=[16, 32, 32, 4, \u001b[A\n",
      "[MSE: 19751486425354685382656.0000]:   6%| | 12/214 [00:01<00:39,  5.10it/s, scale=[1. 1. 1.], blk_size=[16, 32, 4, 32, \u001b[A\n",
      "[MSE: 19751486425354685382656.0000]:   6%| | 13/214 [00:02<01:00,  3.31it/s, scale=[1. 1. 1.], blk_size=[16, 32, 4, 32, \u001b[A\n",
      "[MSE: 20415551197609719758848.0000]:   6%| | 13/214 [00:02<01:00,  3.31it/s, scale=[1. 1. 1.], blk_size=[16, 32, 4, 32, \u001b[A\n",
      "[MSE: 20415551197609719758848.0000]:   6%| | 13/214 [00:02<01:00,  3.31it/s, scale=[1. 1. 1.], blk_size=[16, 32, 4, 32, \u001b[A\n",
      "[MSE: 20415551197609719758848.0000]:   7%| | 14/214 [00:02<00:50,  3.99it/s, scale=[1. 1. 1.], blk_size=[16, 32, 4, 32, \u001b[A\n",
      "[MSE: 18957418494456160583680.0000]:   7%| | 14/214 [00:02<00:50,  3.99it/s, scale=[1. 1. 1.], blk_size=[16, 32, 4, 32, \u001b[A\n",
      "[MSE: 18957418494456160583680.0000]:   7%| | 14/214 [00:02<00:50,  3.99it/s, scale=[1. 1. 1.], blk_size=[16, 32, 32, 4, \u001b[A\n",
      "[MSE: 18957418494456160583680.0000]:   7%| | 15/214 [00:02<00:43,  4.58it/s, scale=[1. 1. 1.], blk_size=[16, 32, 32, 4, \u001b[A\n",
      "[MSE: 18293575524482774204416.0000]:   7%| | 15/214 [00:02<00:43,  4.58it/s, scale=[1. 1. 1.], blk_size=[16, 32, 32, 4, \u001b[A\n",
      "[MSE: 18293575524482774204416.0000]:   7%| | 15/214 [00:02<00:43,  4.58it/s, scale=[1. 1. 1.], blk_size=[16, 4, 32, 32, \u001b[A\n",
      "[MSE: 18293575524482774204416.0000]:   7%| | 16/214 [00:02<00:38,  5.12it/s, scale=[1. 1. 1.], blk_size=[16, 4, 32, 32, \u001b[A\n",
      "[MSE: 18402993855129460932608.0000]:   7%| | 16/214 [00:02<00:38,  5.12it/s, scale=[1. 1. 1.], blk_size=[16, 4, 32, 32, \u001b[A\n",
      "[MSE: 18402993855129460932608.0000]:   7%| | 16/214 [00:02<00:38,  5.12it/s, scale=[1. 1. 1.], blk_size=[16, 32, 4, 32, \u001b[A\n",
      "[MSE: 18402993855129460932608.0000]:   8%| | 17/214 [00:02<00:34,  5.78it/s, scale=[1. 1. 1.], blk_size=[16, 32, 4, 32, \u001b[A\n",
      "[MSE: 17788275023991525081088.0000]:   8%| | 17/214 [00:03<00:34,  5.78it/s, scale=[1. 1. 1.], blk_size=[16, 32, 4, 32, \u001b[A\n",
      "[MSE: 17788275023991525081088.0000]:   8%| | 17/214 [00:03<00:34,  5.78it/s, scale=[1. 1. 1.], blk_size=[16, 32, 4, 32, \u001b[A\n",
      "[MSE: 17788275023991525081088.0000]:   8%| | 18/214 [00:03<00:30,  6.37it/s, scale=[1. 1. 1.], blk_size=[16, 32, 4, 32, \u001b[A\n",
      "[MSE: 17827877427314807537664.0000]:   8%| | 18/214 [00:03<00:30,  6.37it/s, scale=[1. 1. 1.], blk_size=[16, 32, 4, 32, \u001b[A\n",
      "[MSE: 17827877427314807537664.0000]:   8%| | 18/214 [00:03<00:30,  6.37it/s, scale=[1. 1. 1.], blk_size=[16, 4, 32, 32, \u001b[A\n",
      "[MSE: 17827877427314807537664.0000]:   9%| | 19/214 [00:03<00:28,  6.86it/s, scale=[1. 1. 1.], blk_size=[16, 4, 32, 32, \u001b[A\n",
      "[MSE: 18216423233366383394816.0000]:   9%| | 19/214 [00:03<00:28,  6.86it/s, scale=[1. 1. 1.], blk_size=[16, 4, 32, 32, \u001b[A\n",
      "[MSE: 18216423233366383394816.0000]:   9%| | 19/214 [00:03<00:28,  6.86it/s, scale=[1. 1. 1.], blk_size=[16, 32, 4, 32, \u001b[A\n",
      "[MSE: 18216423233366383394816.0000]:   9%| | 20/214 [00:03<00:40,  4.74it/s, scale=[1. 1. 1.], blk_size=[16, 32, 4, 32, \u001b[A\n",
      "[MSE: 18272515566725282922496.0000]:   9%| | 20/214 [00:03<00:40,  4.74it/s, scale=[1. 1. 1.], blk_size=[16, 32, 4, 32, \u001b[A\n",
      "[MSE: 18272515566725282922496.0000]:   9%| | 20/214 [00:03<00:40,  4.74it/s, scale=[1. 1. 1.], blk_size=[16, 4, 32, 32, \u001b[A\n",
      "[MSE: 18272515566725282922496.0000]:  10%| | 21/214 [00:03<00:35,  5.40it/s, scale=[1. 1. 1.], blk_size=[16, 4, 32, 32, \u001b[A\n",
      "[MSE: 17402396474819259400192.0000]:  10%| | 21/214 [00:03<00:35,  5.40it/s, scale=[1. 1. 1.], blk_size=[16, 4, 32, 32, \u001b[A\n",
      "[MSE: 17402396474819259400192.0000]:  10%| | 21/214 [00:03<00:35,  5.40it/s, scale=[1. 1. 1.], blk_size=[16, 32, 32, 4, \u001b[A\n",
      "[MSE: 17402396474819259400192.0000]:  10%| | 22/214 [00:03<00:33,  5.76it/s, scale=[1. 1. 1.], blk_size=[16, 32, 32, 4, \u001b[A\n",
      "[MSE: 16611378606768371269632.0000]:  10%| | 22/214 [00:03<00:33,  5.76it/s, scale=[1. 1. 1.], blk_size=[16, 32, 32, 4, \u001b[A\n",
      "[MSE: 16611378606768371269632.0000]:  10%| | 22/214 [00:03<00:33,  5.76it/s, scale=[1. 1. 1.], blk_size=[16, 32, 32, 4, \u001b[A\n",
      "[MSE: 16611378606768371269632.0000]:  11%| | 23/214 [00:04<00:44,  4.28it/s, scale=[1. 1. 1.], blk_size=[16, 32, 32, 4, \u001b[A\n",
      "[MSE: 16169295134246521798656.0000]:  11%| | 23/214 [00:04<00:44,  4.28it/s, scale=[1. 1. 1.], blk_size=[16, 32, 32, 4, \u001b[A\n",
      "[MSE: 16169295134246521798656.0000]:  11%| | 23/214 [00:04<00:44,  4.28it/s, scale=[1. 1. 1.], blk_size=[16, 4, 32, 32, \u001b[A\n",
      "[MSE: 16169295134246521798656.0000]:  11%| | 24/214 [00:04<00:50,  3.79it/s, scale=[1. 1. 1.], blk_size=[16, 4, 32, 32, \u001b[A\n",
      "[MSE: 15736437285561340788736.0000]:  11%| | 24/214 [00:04<00:50,  3.79it/s, scale=[1. 1. 1.], blk_size=[16, 4, 32, 32, \u001b[A\n",
      "[MSE: 15736437285561340788736.0000]:  11%| | 24/214 [00:04<00:50,  3.79it/s, scale=[1. 1. 1.], blk_size=[16, 32, 4, 32, \u001b[A\n",
      "[MSE: 15736437285561340788736.0000]:  12%| | 25/214 [00:04<00:53,  3.52it/s, scale=[1. 1. 1.], blk_size=[16, 32, 4, 32, \u001b[A\n",
      "[MSE: 15106979298742928146432.0000]:  12%| | 25/214 [00:04<00:53,  3.52it/s, scale=[1. 1. 1.], blk_size=[16, 32, 4, 32, \u001b[A\n",
      "[MSE: 15106979298742928146432.0000]:  12%| | 25/214 [00:04<00:53,  3.52it/s, scale=[1. 1. 1.], blk_size=[16, 32, 32, 4, \u001b[A\n",
      "[MSE: 15106979298742928146432.0000]:  12%| | 26/214 [00:05<01:11,  2.62it/s, scale=[1. 1. 1.], blk_size=[16, 32, 32, 4, \u001b[A\n",
      "[MSE: 14916046940740742283264.0000]:  12%| | 26/214 [00:05<01:11,  2.62it/s, scale=[1. 1. 1.], blk_size=[16, 32, 32, 4, \u001b[A\n",
      "[MSE: 14916046940740742283264.0000]:  12%| | 26/214 [00:05<01:11,  2.62it/s, scale=[1. 1. 1.], blk_size=[16, 4, 32, 32, \u001b[A\n",
      "[MSE: 14916046940740742283264.0000]:  13%|▏| 27/214 [00:05<00:57,  3.24it/s, scale=[1. 1. 1.], blk_size=[16, 4, 32, 32, \u001b[A\n",
      "[MSE: 14638429297110929113088.0000]:  13%|▏| 27/214 [00:05<00:57,  3.24it/s, scale=[1. 1. 1.], blk_size=[16, 4, 32, 32, \u001b[A\n",
      "[MSE: 14638429297110929113088.0000]:  13%|▏| 27/214 [00:05<00:57,  3.24it/s, scale=[1. 1. 1.], blk_size=[16, 4, 32, 32, \u001b[A\n",
      "[MSE: 14638429297110929113088.0000]:  13%|▏| 28/214 [00:05<00:59,  3.12it/s, scale=[1. 1. 1.], blk_size=[16, 4, 32, 32, \u001b[A\n",
      "[MSE: 14227076136646442221568.0000]:  13%|▏| 28/214 [00:06<00:59,  3.12it/s, scale=[1. 1. 1.], blk_size=[16, 4, 32, 32, \u001b[A\n",
      "[MSE: 14227076136646442221568.0000]:  13%|▏| 28/214 [00:06<00:59,  3.12it/s, scale=[1. 1. 1.], blk_size=[16, 4, 32, 32, \u001b[A\n",
      "[MSE: 14227076136646442221568.0000]:  14%|▏| 29/214 [00:06<00:48,  3.81it/s, scale=[1. 1. 1.], blk_size=[16, 4, 32, 32, \u001b[A\n",
      "[MSE: 13822372541031767867392.0000]:  14%|▏| 29/214 [00:06<00:48,  3.81it/s, scale=[1. 1. 1.], blk_size=[16, 4, 32, 32, \u001b[A\n",
      "[MSE: 13822372541031767867392.0000]:  14%|▏| 29/214 [00:06<00:48,  3.81it/s, scale=[1. 1. 1.], blk_size=[16, 32, 4, 32, \u001b[A\n",
      "[MSE: 13822372541031767867392.0000]:  14%|▏| 30/214 [00:06<00:52,  3.52it/s, scale=[1. 1. 1.], blk_size=[16, 32, 4, 32, \u001b[A\n",
      "[MSE: 13377275034459300691968.0000]:  14%|▏| 30/214 [00:06<00:52,  3.52it/s, scale=[1. 1. 1.], blk_size=[16, 32, 4, 32, \u001b[A\n",
      "[MSE: 13377275034459300691968.0000]:  14%|▏| 30/214 [00:06<00:52,  3.52it/s, scale=[1. 1. 1.], blk_size=[16, 32, 4, 32, \u001b[A\n",
      "[MSE: 13377275034459300691968.0000]:  14%|▏| 31/214 [00:06<00:42,  4.27it/s, scale=[1. 1. 1.], blk_size=[16, 32, 4, 32, \u001b[A\n",
      "[MSE: 12945750251263821348864.0000]:  14%|▏| 31/214 [00:06<00:42,  4.27it/s, scale=[1. 1. 1.], blk_size=[16, 32, 4, 32, \u001b[A\n",
      "[MSE: 12945750251263821348864.0000]:  14%|▏| 31/214 [00:06<00:42,  4.27it/s, scale=[1. 1. 1.], blk_size=[16, 32, 32, 4, \u001b[A\n",
      "[MSE: 12945750251263821348864.0000]:  15%|▏| 32/214 [00:06<00:38,  4.71it/s, scale=[1. 1. 1.], blk_size=[16, 32, 32, 4, \u001b[A\n",
      "[MSE: 12541195274436850221056.0000]:  15%|▏| 32/214 [00:06<00:38,  4.71it/s, scale=[1. 1. 1.], blk_size=[16, 32, 32, 4, \u001b[A\n",
      "[MSE: 12541195274436850221056.0000]:  15%|▏| 32/214 [00:06<00:38,  4.71it/s, scale=[1. 1. 1.], blk_size=[16, 32, 32, 4, \u001b[A\n",
      "[MSE: 12541195274436850221056.0000]:  15%|▏| 33/214 [00:06<00:35,  5.07it/s, scale=[1. 1. 1.], blk_size=[16, 32, 32, 4, \u001b[A\n",
      "[MSE: 12163079805122264432640.0000]:  15%|▏| 33/214 [00:06<00:35,  5.07it/s, scale=[1. 1. 1.], blk_size=[16, 32, 32, 4, \u001b[A\n",
      "[MSE: 12163079805122264432640.0000]:  15%|▏| 33/214 [00:06<00:35,  5.07it/s, scale=[1. 1. 1.], blk_size=[16, 32, 4, 32, \u001b[A\n",
      "[MSE: 12163079805122264432640.0000]:  16%|▏| 34/214 [00:06<00:32,  5.59it/s, scale=[1. 1. 1.], blk_size=[16, 32, 4, 32, \u001b[A\n",
      "[MSE: 11805964620870107267072.0000]:  16%|▏| 34/214 [00:07<00:32,  5.59it/s, scale=[1. 1. 1.], blk_size=[16, 32, 4, 32, \u001b[A\n",
      "[MSE: 11805964620870107267072.0000]:  16%|▏| 34/214 [00:07<00:32,  5.59it/s, scale=[1. 1. 1.], blk_size=[16, 32, 4, 32, \u001b[A\n",
      "[MSE: 11805964620870107267072.0000]:  16%|▏| 35/214 [00:07<00:29,  5.97it/s, scale=[1. 1. 1.], blk_size=[16, 32, 4, 32, \u001b[A\n",
      "[MSE: 11481401454724584046592.0000]:  16%|▏| 35/214 [00:07<00:29,  5.97it/s, scale=[1. 1. 1.], blk_size=[16, 32, 4, 32, \u001b[A\n",
      "[MSE: 11481401454724584046592.0000]:  16%|▏| 35/214 [00:07<00:29,  5.97it/s, scale=[1. 1. 1.], blk_size=[16, 4, 32, 32, \u001b[A\n",
      "[MSE: 11481401454724584046592.0000]:  17%|▏| 36/214 [00:07<00:39,  4.46it/s, scale=[1. 1. 1.], blk_size=[16, 4, 32, 32, \u001b[A\n",
      "[MSE: 11168242528735469764608.0000]:  17%|▏| 36/214 [00:07<00:39,  4.46it/s, scale=[1. 1. 1.], blk_size=[16, 4, 32, 32, \u001b[A\n",
      "[MSE: 11168242528735469764608.0000]:  17%|▏| 36/214 [00:07<00:39,  4.46it/s, scale=[1. 1. 1.], blk_size=[16, 4, 32, 32, \u001b[A\n",
      "[MSE: 11168242528735469764608.0000]:  17%|▏| 37/214 [00:07<00:35,  5.05it/s, scale=[1. 1. 1.], blk_size=[16, 4, 32, 32, \u001b[A\n",
      "[MSE: 10868472804438527967232.0000]:  17%|▏| 37/214 [00:07<00:35,  5.05it/s, scale=[1. 1. 1.], blk_size=[16, 4, 32, 32, \u001b[A\n",
      "[MSE: 10868472804438527967232.0000]:  17%|▏| 37/214 [00:07<00:35,  5.05it/s, scale=[1. 1. 1.], blk_size=[16, 4, 32, 32, \u001b[A\n",
      "[MSE: 10868472804438527967232.0000]:  18%|▏| 38/214 [00:07<00:31,  5.60it/s, scale=[1. 1. 1.], blk_size=[16, 4, 32, 32, \u001b[A\n",
      "[MSE: 10582558404395191500800.0000]:  18%|▏| 38/214 [00:07<00:31,  5.60it/s, scale=[1. 1. 1.], blk_size=[16, 4, 32, 32, \u001b[A\n",
      "[MSE: 10582558404395191500800.0000]:  18%|▏| 38/214 [00:07<00:31,  5.60it/s, scale=[1. 1. 1.], blk_size=[16, 32, 4, 32, \u001b[A\n",
      "[MSE: 10582558404395191500800.0000]:  18%|▏| 39/214 [00:07<00:27,  6.26it/s, scale=[1. 1. 1.], blk_size=[16, 32, 4, 32, \u001b[A\n",
      "[MSE: 10311275073641274933248.0000]:  18%|▏| 39/214 [00:07<00:27,  6.26it/s, scale=[1. 1. 1.], blk_size=[16, 32, 4, 32, \u001b[A\n",
      "[MSE: 10311275073641274933248.0000]:  18%|▏| 39/214 [00:07<00:27,  6.26it/s, scale=[1. 1. 1.], blk_size=[16, 32, 4, 32, \u001b[A\n",
      "[MSE: 10311275073641274933248.0000]:  19%|▏| 40/214 [00:07<00:25,  6.74it/s, scale=[1. 1. 1.], blk_size=[16, 32, 4, 32, \u001b[A\n",
      "[MSE: 10053493534570215112704.0000]:  19%|▏| 40/214 [00:08<00:25,  6.74it/s, scale=[1. 1. 1.], blk_size=[16, 32, 4, 32, \u001b[A\n",
      "[MSE: 10053493534570215112704.0000]:  19%|▏| 40/214 [00:08<00:25,  6.74it/s, scale=[1. 1. 1.], blk_size=[16, 32, 32, 4, \u001b[A\n",
      "[MSE: 10053493534570215112704.0000]:  19%|▏| 41/214 [00:08<00:25,  6.79it/s, scale=[1. 1. 1.], blk_size=[16, 32, 32, 4, \u001b[A\n",
      "[MSE: 9808286045658773716992.0000]:  19%|▏| 41/214 [00:08<00:25,  6.79it/s, scale=[1. 1. 1.], blk_size=[16, 32, 32, 4, 7\u001b[A\n",
      "[MSE: 9808286045658773716992.0000]:  19%|▏| 41/214 [00:08<00:25,  6.79it/s, scale=[1. 1. 1.], blk_size=[16, 4, 32, 32, 7\u001b[A\n",
      "[MSE: 9808286045658773716992.0000]:  20%|▏| 42/214 [00:08<00:23,  7.19it/s, scale=[1. 1. 1.], blk_size=[16, 4, 32, 32, 7\u001b[A\n",
      "[MSE: 9574755264681197174784.0000]:  20%|▏| 42/214 [00:08<00:23,  7.19it/s, scale=[1. 1. 1.], blk_size=[16, 4, 32, 32, 7\u001b[A\n",
      "[MSE: 9574755264681197174784.0000]:  20%|▏| 42/214 [00:08<00:23,  7.19it/s, scale=[1. 1. 1.], blk_size=[16, 32, 32, 4, 7\u001b[A\n",
      "[MSE: 9574755264681197174784.0000]:  20%|▏| 43/214 [00:08<00:24,  7.11it/s, scale=[1. 1. 1.], blk_size=[16, 32, 32, 4, 7\u001b[A\n",
      "[MSE: 9352087166004838268928.0000]:  20%|▏| 43/214 [00:08<00:24,  7.11it/s, scale=[1. 1. 1.], blk_size=[16, 32, 32, 4, 7\u001b[A\n",
      "[MSE: 9352087166004838268928.0000]:  20%|▏| 43/214 [00:08<00:24,  7.11it/s, scale=[1. 1. 1.], blk_size=[16, 32, 4, 32, 7\u001b[A\n",
      "[MSE: 9352087166004838268928.0000]:  21%|▏| 44/214 [00:08<00:34,  4.99it/s, scale=[1. 1. 1.], blk_size=[16, 32, 4, 32, 7\u001b[A\n",
      "[MSE: 9139539781591087710208.0000]:  21%|▏| 44/214 [00:08<00:34,  4.99it/s, scale=[1. 1. 1.], blk_size=[16, 32, 4, 32, 7\u001b[A\n",
      "[MSE: 9139539781591087710208.0000]:  21%|▏| 44/214 [00:08<00:34,  4.99it/s, scale=[1. 1. 1.], blk_size=[16, 4, 32, 32, 7\u001b[A\n",
      "[MSE: 9139539781591087710208.0000]:  21%|▏| 45/214 [00:08<00:29,  5.67it/s, scale=[1. 1. 1.], blk_size=[16, 4, 32, 32, 7\u001b[A\n"
     ]
    },
    {
     "name": "stderr",
     "output_type": "stream",
     "text": [
      "[MSE: 8936438697395746766848.0000]:  21%|▏| 45/214 [00:08<00:29,  5.67it/s, scale=[1. 1. 1.], blk_size=[16, 4, 32, 32, 7\u001b[A\n",
      "[MSE: 8936438697395746766848.0000]:  21%|▏| 45/214 [00:08<00:29,  5.67it/s, scale=[1. 1. 1.], blk_size=[16, 4, 32, 32, 7\u001b[A\n",
      "[MSE: 8936438697395746766848.0000]:  21%|▏| 46/214 [00:09<00:49,  3.36it/s, scale=[1. 1. 1.], blk_size=[16, 4, 32, 32, 7\u001b[A\n",
      "[MSE: 8742168046169772523520.0000]:  21%|▏| 46/214 [00:09<00:49,  3.36it/s, scale=[1. 1. 1.], blk_size=[16, 4, 32, 32, 7\u001b[A\n",
      "[MSE: 8742168046169772523520.0000]:  21%|▏| 46/214 [00:09<00:49,  3.36it/s, scale=[1. 1. 1.], blk_size=[16, 4, 32, 32, 7\u001b[A\n",
      "[MSE: 8742168046169772523520.0000]:  22%|▏| 47/214 [00:09<00:52,  3.20it/s, scale=[1. 1. 1.], blk_size=[16, 4, 32, 32, 7\u001b[A\n",
      "[MSE: 8556164877959743668224.0000]:  22%|▏| 47/214 [00:09<00:52,  3.20it/s, scale=[1. 1. 1.], blk_size=[16, 4, 32, 32, 7\u001b[A\n",
      "[MSE: 8556164877959743668224.0000]:  22%|▏| 47/214 [00:09<00:52,  3.20it/s, scale=[1. 1. 1.], blk_size=[16, 32, 32, 4, 7\u001b[A\n",
      "[MSE: 8556164877959743668224.0000]:  22%|▏| 48/214 [00:09<00:43,  3.80it/s, scale=[1. 1. 1.], blk_size=[16, 32, 32, 4, 7\u001b[A\n",
      "[MSE: 8377911278808512593920.0000]:  22%|▏| 48/214 [00:10<00:43,  3.80it/s, scale=[1. 1. 1.], blk_size=[16, 32, 32, 4, 7\u001b[A\n",
      "[MSE: 8377911278808512593920.0000]:  22%|▏| 48/214 [00:10<00:43,  3.80it/s, scale=[1. 1. 1.], blk_size=[16, 32, 4, 32, 7\u001b[A\n",
      "[MSE: 8377911278808512593920.0000]:  23%|▏| 49/214 [00:10<00:48,  3.44it/s, scale=[1. 1. 1.], blk_size=[16, 32, 4, 32, 7\u001b[A\n",
      "[MSE: 8206933244855298555904.0000]:  23%|▏| 49/214 [00:10<00:48,  3.44it/s, scale=[1. 1. 1.], blk_size=[16, 32, 4, 32, 7\u001b[A\n",
      "[MSE: 8206933244855298555904.0000]:  23%|▏| 49/214 [00:10<00:48,  3.44it/s, scale=[1. 1. 1.], blk_size=[16, 32, 32, 4, 7\u001b[A\n",
      "[MSE: 8206933244855298555904.0000]:  23%|▏| 50/214 [00:10<00:51,  3.18it/s, scale=[1. 1. 1.], blk_size=[16, 32, 32, 4, 7\u001b[A\n",
      "[MSE: 8042795052836153458688.0000]:  23%|▏| 50/214 [00:10<00:51,  3.18it/s, scale=[1. 1. 1.], blk_size=[16, 32, 32, 4, 7\u001b[A\n",
      "[MSE: 8042795052836153458688.0000]:  23%|▏| 50/214 [00:10<00:51,  3.18it/s, scale=[1. 1. 1.], blk_size=[16, 32, 4, 32, 7\u001b[A\n",
      "[MSE: 8042795052836153458688.0000]:  24%|▏| 51/214 [00:10<00:41,  3.90it/s, scale=[1. 1. 1.], blk_size=[16, 32, 4, 32, 7\u001b[A\n",
      "[MSE: 17186763569456997989477253120.0000]:  25%|▏| 53/214 [00:10<00:41,  3.90it/s, scale=[1. 1. 1.], blk_size=[16, 32, 4\u001b[A\n",
      "[MSE: 17186763569456997989477253120.0000]:  25%|▏| 53/214 [00:10<00:41,  3.90it/s, scale=[1. 1. 1.], blk_size=[16, 32, 4\u001b[A\n",
      "[MSE: 17186763569456997989477253120.0000]:  25%|▎| 54/214 [00:11<00:37,  4.23it/s, scale=[1. 1. 1.], blk_size=[16, 32, 4\u001b[A\n",
      "[MSE: 16870294179607488715481415680.0000]:  25%|▎| 54/214 [00:11<00:37,  4.23it/s, scale=[1. 1. 1.], blk_size=[16, 32, 4\u001b[A\n",
      "[MSE: 16870294179607488715481415680.0000]:  25%|▎| 54/214 [00:11<00:37,  4.23it/s, scale=[1. 1. 1.], blk_size=[16, 4, 32\u001b[A\n",
      "[MSE: 16870294179607488715481415680.0000]:  26%|▎| 55/214 [00:11<00:33,  4.71it/s, scale=[1. 1. 1.], blk_size=[16, 4, 32\u001b[A\n",
      "[MSE: 27917679089879044269860192256.0000]:  27%|▎| 57/214 [00:11<00:33,  4.71it/s, scale=[1. 1. 1.], blk_size=[16, 4, 32\u001b[A\n",
      "[MSE: 27917679089879044269860192256.0000]:  27%|▎| 57/214 [00:11<00:33,  4.71it/s, scale=[1. 1. 1.], blk_size=[16, 4, 32\u001b[A\n",
      "[MSE: 27917679089879044269860192256.0000]:  27%|▎| 58/214 [00:11<00:22,  7.01it/s, scale=[1. 1. 1.], blk_size=[16, 4, 32\u001b[A\n",
      "[MSE: 27436340080196348507341193216.0000]:  27%|▎| 58/214 [00:11<00:22,  7.01it/s, scale=[1. 1. 1.], blk_size=[16, 4, 32\u001b[A\n",
      "[MSE: 27436340080196348507341193216.0000]:  27%|▎| 58/214 [00:11<00:22,  7.01it/s, scale=[1. 1. 1.], blk_size=[16, 32, 4\u001b[A\n",
      "[MSE: 27436340080196348507341193216.0000]:  28%|▎| 59/214 [00:11<00:21,  7.20it/s, scale=[1. 1. 1.], blk_size=[16, 32, 4\u001b[A\n",
      "[MSE: 26978841937702420148683538432.0000]:  28%|▎| 59/214 [00:11<00:21,  7.20it/s, scale=[1. 1. 1.], blk_size=[16, 32, 4\u001b[A\n",
      "[MSE: 26978841937702420148683538432.0000]:  28%|▎| 59/214 [00:11<00:21,  7.20it/s, scale=[1. 1. 1.], blk_size=[16, 4, 32\u001b[A\n",
      "[MSE: 26978841937702420148683538432.0000]:  28%|▎| 60/214 [00:11<00:20,  7.40it/s, scale=[1. 1. 1.], blk_size=[16, 4, 32\u001b[A\n",
      "[MSE: 26529194729486262575193653248.0000]:  28%|▎| 60/214 [00:12<00:20,  7.40it/s, scale=[1. 1. 1.], blk_size=[16, 4, 32\u001b[A\n",
      "[MSE: 26529194729486262575193653248.0000]:  28%|▎| 60/214 [00:12<00:20,  7.40it/s, scale=[1. 1. 1.], blk_size=[16, 32, 4\u001b[A\n",
      "[MSE: 26529194729486262575193653248.0000]:  29%|▎| 61/214 [00:12<00:20,  7.59it/s, scale=[1. 1. 1.], blk_size=[16, 32, 4\u001b[A\n",
      "[MSE: 26094293110612865468883533824.0000]:  29%|▎| 61/214 [00:12<00:20,  7.59it/s, scale=[1. 1. 1.], blk_size=[16, 32, 4\u001b[A\n",
      "[MSE: 26094293110612865468883533824.0000]:  29%|▎| 61/214 [00:12<00:20,  7.59it/s, scale=[1. 1. 1.], blk_size=[16, 32, 4\u001b[A\n",
      "[MSE: 26094293110612865468883533824.0000]:  29%|▎| 62/214 [00:12<00:19,  7.74it/s, scale=[1. 1. 1.], blk_size=[16, 32, 4\u001b[A\n",
      "[MSE: 27427228274067651526901366784.0000]:  29%|▎| 63/214 [00:12<00:19,  7.74it/s, scale=[1. 1. 1.], blk_size=[16, 32, 4\u001b[A\n",
      "[MSE: 27427228274067651526901366784.0000]:  29%|▎| 63/214 [00:12<00:19,  7.74it/s, scale=[1. 1. 1.], blk_size=[16, 4, 32\u001b[A\n",
      "[MSE: 27427228274067651526901366784.0000]:  30%|▎| 64/214 [00:12<00:16,  9.20it/s, scale=[1. 1. 1.], blk_size=[16, 4, 32\u001b[A\n",
      "[MSE: 29535573652826391894185476096.0000]:  30%|▎| 65/214 [00:12<00:16,  9.20it/s, scale=[1. 1. 1.], blk_size=[16, 4, 32\u001b[A\n",
      "[MSE: 29535573652826391894185476096.0000]:  30%|▎| 65/214 [00:12<00:16,  9.20it/s, scale=[1. 1. 1.], blk_size=[16, 32, 4\u001b[A\n",
      "[MSE: 29535573652826391894185476096.0000]:  31%|▎| 66/214 [00:12<00:20,  7.17it/s, scale=[1. 1. 1.], blk_size=[16, 32, 4\u001b[A\n",
      "[MSE: 32243952361631515121612226560.0000]:  31%|▎| 67/214 [00:12<00:20,  7.17it/s, scale=[1. 1. 1.], blk_size=[16, 32, 4\u001b[A\n",
      "[MSE: 32243952361631515121612226560.0000]:  31%|▎| 67/214 [00:12<00:20,  7.17it/s, scale=[1. 1. 1.], blk_size=[16, 32, 4\u001b[A\n",
      "[MSE: 32243952361631515121612226560.0000]:  32%|▎| 68/214 [00:13<00:23,  6.32it/s, scale=[1. 1. 1.], blk_size=[16, 32, 4\u001b[A\n",
      "[MSE: 33344426673783801459163267072.0000]:  32%|▎| 69/214 [00:13<00:22,  6.32it/s, scale=[1. 1. 1.], blk_size=[16, 32, 4\u001b[A\n",
      "[MSE: 33344426673783801459163267072.0000]:  32%|▎| 69/214 [00:13<00:22,  6.32it/s, scale=[1. 1. 1.], blk_size=[16, 32, 4\u001b[A\n",
      "[MSE: 33344426673783801459163267072.0000]:  33%|▎| 70/214 [00:13<00:24,  5.93it/s, scale=[1. 1. 1.], blk_size=[16, 32, 4\u001b[A\n",
      "[MSE: 33549887394720493983120752640.0000]:  33%|▎| 71/214 [00:13<00:24,  5.93it/s, scale=[1. 1. 1.], blk_size=[16, 32, 4\u001b[A\n",
      "[MSE: 33549887394720493983120752640.0000]:  33%|▎| 71/214 [00:13<00:24,  5.93it/s, scale=[1. 1. 1.], blk_size=[16, 32, 4\u001b[A\n",
      "[MSE: 33549887394720493983120752640.0000]:  34%|▎| 72/214 [00:13<00:19,  7.12it/s, scale=[1. 1. 1.], blk_size=[16, 32, 4\u001b[A\n",
      "[MSE: 33086228925149662172281831424.0000]:  34%|▎| 72/214 [00:13<00:19,  7.12it/s, scale=[1. 1. 1.], blk_size=[16, 32, 4\u001b[A\n",
      "[MSE: 33086228925149662172281831424.0000]:  34%|▎| 72/214 [00:13<00:19,  7.12it/s, scale=[1. 1. 1.], blk_size=[16, 4, 32\u001b[A\n",
      "[MSE: 33086228925149662172281831424.0000]:  34%|▎| 73/214 [00:13<00:19,  7.17it/s, scale=[1. 1. 1.], blk_size=[16, 4, 32\u001b[A\n",
      "[MSE: 32635009168894709006935785472.0000]:  34%|▎| 73/214 [00:13<00:19,  7.17it/s, scale=[1. 1. 1.], blk_size=[16, 4, 32\u001b[A\n",
      "[MSE: 32635009168894709006935785472.0000]:  34%|▎| 73/214 [00:13<00:19,  7.17it/s, scale=[1. 1. 1.], blk_size=[16, 4, 32\u001b[A\n",
      "[MSE: 32635009168894709006935785472.0000]:  35%|▎| 74/214 [00:13<00:19,  7.21it/s, scale=[1. 1. 1.], blk_size=[16, 4, 32\u001b[A\n",
      "[MSE: 32195212817161817513361670144.0000]:  35%|▎| 74/214 [00:14<00:19,  7.21it/s, scale=[1. 1. 1.], blk_size=[16, 4, 32\u001b[A\n",
      "[MSE: 32195212817161817513361670144.0000]:  35%|▎| 74/214 [00:14<00:19,  7.21it/s, scale=[1. 1. 1.], blk_size=[16, 4, 32\u001b[A\n",
      "[MSE: 32195212817161817513361670144.0000]:  35%|▎| 75/214 [00:14<00:19,  7.22it/s, scale=[1. 1. 1.], blk_size=[16, 4, 32\u001b[A\n",
      "[MSE: 32575984310225321311409799168.0000]:  36%|▎| 76/214 [00:14<00:19,  7.22it/s, scale=[1. 1. 1.], blk_size=[16, 4, 32\u001b[A\n",
      "[MSE: 32575984310225321311409799168.0000]:  36%|▎| 76/214 [00:14<00:19,  7.22it/s, scale=[1. 1. 1.], blk_size=[16, 32, 4\u001b[A\n",
      "[MSE: 32575984310225321311409799168.0000]:  36%|▎| 77/214 [00:14<00:22,  6.00it/s, scale=[1. 1. 1.], blk_size=[16, 32, 4\u001b[A\n",
      "[MSE: 32152919302941236970827808768.0000]:  36%|▎| 77/214 [00:14<00:22,  6.00it/s, scale=[1. 1. 1.], blk_size=[16, 32, 4\u001b[A\n",
      "[MSE: 32152919302941236970827808768.0000]:  36%|▎| 77/214 [00:14<00:22,  6.00it/s, scale=[1. 1. 1.], blk_size=[16, 32, 4\u001b[A\n",
      "[MSE: 32152919302941236970827808768.0000]:  36%|▎| 78/214 [00:14<00:21,  6.23it/s, scale=[1. 1. 1.], blk_size=[16, 32, 4\u001b[A\n",
      "[MSE: 32038269689470127724329697280.0000]:  37%|▎| 79/214 [00:14<00:21,  6.23it/s, scale=[1. 1. 1.], blk_size=[16, 32, 4\u001b[A\n",
      "[MSE: 32038269689470127724329697280.0000]:  37%|▎| 79/214 [00:14<00:21,  6.23it/s, scale=[1. 1. 1.], blk_size=[16, 32, 4\u001b[A\n",
      "[MSE: 32038269689470127724329697280.0000]:  37%|▎| 80/214 [00:14<00:17,  7.55it/s, scale=[1. 1. 1.], blk_size=[16, 32, 4\u001b[A\n",
      "[MSE: 34192750227583263090529009664.0000]:  38%|▍| 81/214 [00:14<00:17,  7.55it/s, scale=[1. 1. 1.], blk_size=[16, 32, 4\u001b[A\n",
      "[MSE: 34192750227583263090529009664.0000]:  38%|▍| 81/214 [00:14<00:17,  7.55it/s, scale=[1. 1. 1.], blk_size=[16, 32, 4\u001b[A\n",
      "[MSE: 34192750227583263090529009664.0000]:  38%|▍| 82/214 [00:14<00:15,  8.72it/s, scale=[1. 1. 1.], blk_size=[16, 32, 4\u001b[A\n",
      "[MSE: 33804602398073516906657087488.0000]:  38%|▍| 82/214 [00:15<00:15,  8.72it/s, scale=[1. 1. 1.], blk_size=[16, 32, 4\u001b[A\n",
      "[MSE: 33804602398073516906657087488.0000]:  38%|▍| 82/214 [00:15<00:15,  8.72it/s, scale=[1. 1. 1.], blk_size=[16, 4, 32\u001b[A\n",
      "[MSE: 33804602398073516906657087488.0000]:  39%|▍| 83/214 [00:15<00:15,  8.63it/s, scale=[1. 1. 1.], blk_size=[16, 4, 32\u001b[A\n",
      "[MSE: 33397319539575182920379269120.0000]:  39%|▍| 83/214 [00:15<00:15,  8.63it/s, scale=[1. 1. 1.], blk_size=[16, 4, 32\u001b[A\n",
      "[MSE: 33397319539575182920379269120.0000]:  39%|▍| 83/214 [00:15<00:15,  8.63it/s, scale=[1. 1. 1.], blk_size=[16, 32, 4\u001b[A\n",
      "[MSE: 33397319539575182920379269120.0000]:  39%|▍| 84/214 [00:15<00:15,  8.56it/s, scale=[1. 1. 1.], blk_size=[16, 32, 4\u001b[A\n",
      "[MSE: 33003814185290621124012408832.0000]:  39%|▍| 84/214 [00:15<00:15,  8.56it/s, scale=[1. 1. 1.], blk_size=[16, 32, 4\u001b[A\n",
      "[MSE: 33003814185290621124012408832.0000]:  39%|▍| 84/214 [00:15<00:15,  8.56it/s, scale=[1. 1. 1.], blk_size=[16, 4, 32\u001b[A\n",
      "[MSE: 33003814185290621124012408832.0000]:  40%|▍| 85/214 [00:15<00:30,  4.29it/s, scale=[1. 1. 1.], blk_size=[16, 4, 32\u001b[A\n",
      "[MSE: 33629107453653873716403109888.0000]:  40%|▍| 86/214 [00:15<00:29,  4.29it/s, scale=[1. 1. 1.], blk_size=[16, 4, 32\u001b[A\n",
      "[MSE: 33629107453653873716403109888.0000]:  40%|▍| 86/214 [00:15<00:29,  4.29it/s, scale=[1. 1. 1.], blk_size=[16, 4, 32\u001b[A\n",
      "[MSE: 33629107453653873716403109888.0000]:  41%|▍| 87/214 [00:15<00:21,  5.86it/s, scale=[1. 1. 1.], blk_size=[16, 4, 32\u001b[A\n",
      "[MSE: 33291828955897599350773121024.0000]:  41%|▍| 87/214 [00:16<00:21,  5.86it/s, scale=[1. 1. 1.], blk_size=[16, 4, 32\u001b[A\n",
      "[MSE: 33291828955897599350773121024.0000]:  41%|▍| 87/214 [00:16<00:21,  5.86it/s, scale=[1. 1. 1.], blk_size=[16, 4, 32\u001b[A\n",
      "[MSE: 33291828955897599350773121024.0000]:  41%|▍| 88/214 [00:16<00:20,  6.24it/s, scale=[1. 1. 1.], blk_size=[16, 4, 32\u001b[A\n",
      "[MSE: 33291828955897599350773121024.0000]:  43%|▍| 91/214 [00:16<00:12,  9.92it/s, scale=[1. 1. 1.], blk_size=[16, 4, 32\u001b[A\n",
      "[MSE: 33291828955897599350773121024.0000]:  44%|▍| 94/214 [00:16<00:09, 13.21it/s, scale=[1. 1. 1.], blk_size=[16, 4, 32\u001b[A\n",
      "[MSE: 33291828955897599350773121024.0000]:  45%|▍| 97/214 [00:16<00:07, 15.32it/s, scale=[1. 1. 1.], blk_size=[16, 4, 32\u001b[A\n",
      "[MSE: 33291828955897599350773121024.0000]:  47%|▍| 100/214 [00:16<00:06, 17.05it/s, scale=[1. 1. 1.], blk_size=[16, 4, 3\u001b[A\n",
      "[MSE: 33291828955897599350773121024.0000]:  48%|▍| 103/214 [00:16<00:05, 18.70it/s, scale=[1. 1. 1.], blk_size=[16, 4, 3\u001b[A\n",
      "[MSE: 33291828955897599350773121024.0000]:  50%|▍| 106/214 [00:16<00:05, 20.41it/s, scale=[1. 1. 1.], blk_size=[16, 4, 3\u001b[A\n",
      "[MSE: 33291828955897599350773121024.0000]:  51%|▌| 109/214 [00:17<00:04, 21.53it/s, scale=[1. 1. 1.], blk_size=[16, 4, 3\u001b[A\n",
      "[MSE: 33291828955897599350773121024.0000]:  52%|▌| 112/214 [00:17<00:04, 22.51it/s, scale=[1. 1. 1.], blk_size=[16, 4, 3\u001b[A\n",
      "[MSE: 33291828955897599350773121024.0000]:  54%|▌| 115/214 [00:17<00:04, 23.08it/s, scale=[1. 1. 1.], blk_size=[16, 4, 3\u001b[A\n"
     ]
    }
   ],
   "source": [
    "t.train()\n"
   ]
  },
  {
   "cell_type": "code",
   "execution_count": null,
   "id": "69f61709",
   "metadata": {},
   "outputs": [],
   "source": [
    "t.test()"
   ]
  }
 ],
 "metadata": {
  "kernelspec": {
   "display_name": "Python 3 (ipykernel)",
   "language": "python",
   "name": "python3"
  },
  "language_info": {
   "codemirror_mode": {
    "name": "ipython",
    "version": 3
   },
   "file_extension": ".py",
   "mimetype": "text/x-python",
   "name": "python",
   "nbconvert_exporter": "python",
   "pygments_lexer": "ipython3",
   "version": "3.10.12"
  }
 },
 "nbformat": 4,
 "nbformat_minor": 5
}
