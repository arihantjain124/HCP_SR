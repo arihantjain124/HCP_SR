{
 "cells": [
  {
   "cell_type": "markdown",
   "id": "d4f2eebb",
   "metadata": {},
   "source": [
    "## Reconstruction of the diffusion signal with the Tensor model\n",
    "\n",
    "The diffusion tensor model is a model that describes the diffusion within a\n",
    "voxel. First proposed by Basser and colleagues [Basser1994]_, it has been very\n",
    "influential in demonstrating the utility of diffusion MRI in characterizing the\n",
    "micro-structure of white matter tissue and of the biophysical properties of\n",
    "tissue, inferred from local diffusion properties and it is still very commonly\n",
    "used."
   ]
  },
  {
   "cell_type": "markdown",
   "id": "99501b75",
   "metadata": {},
   "source": [
    "$$\\frac{S(\\mathbf{g}, b)}{S_0} = e^{-b\\mathbf{g}^T \\mathbf{D} \\mathbf{g}}$$\n"
   ]
  },
  {
   "cell_type": "markdown",
   "id": "37834211",
   "metadata": {},
   "source": [
    "Where $\\mathbf{g}$ is a unit vector in 3 space indicating the direction of\n",
    "measurement and b are the parameters of measurement, such as the strength and\n",
    "duration of diffusion-weighting gradient. $S(\\mathbf{g}, b)$ is the\n",
    "diffusion-weighted signal measured and $S_0$ is the signal conducted in a\n",
    "measurement with no diffusion weighting. $\\mathbf{D}$ is a positive-definite\n",
    "quadratic form, which contains six free parameters to be fit. These six\n",
    "parameters are:"
   ]
  },
  {
   "cell_type": "markdown",
   "id": "cf9eed97",
   "metadata": {},
   "source": [
    "$$\\mathbf{D} = \\begin{pmatrix} D_{xx} & D_{xy} & D_{xz} \\\\\n",
    "                       D_{yx} & D_{yy} & D_{yz} \\\\\n",
    "                       D_{zx} & D_{zy} & D_{zz} \\\\ \\end{pmatrix}$$\n",
    "\n"
   ]
  },
  {
   "cell_type": "markdown",
   "id": "30bb67b8",
   "metadata": {},
   "source": [
    "This matrix is a variance/covariance matrix of the diffusivity along the three\n",
    "spatial dimensions. Note that we can assume that diffusivity has antipodal\n",
    "symmetry, so elements across the diagonal are equal. For example:\n",
    "$D_{xy} = D_{yx}$. This is why there are only 6 free parameters to estimate\n",
    "here.\n",
    "\n",
    "In the following example we show how to reconstruct your diffusion datasets\n",
    "using a single tensor model.\n"
   ]
  },
  {
   "cell_type": "code",
   "execution_count": 39,
   "id": "6a6db6ea",
   "metadata": {},
   "outputs": [],
   "source": [
    "import numpy as np\n",
    "from dipy.io.image import load_nifti, save_nifti\n",
    "from dipy.io.gradients import read_bvals_bvecs\n",
    "from dipy.core.gradients import gradient_table"
   ]
  },
  {
   "cell_type": "code",
   "execution_count": 10,
   "id": "d2b6c5e2",
   "metadata": {},
   "outputs": [
    {
     "name": "stdout",
     "output_type": "stream",
     "text": [
      "number of common Subjects  171\n"
     ]
    }
   ],
   "source": [
    "import os\n",
    "\n",
    "base_dir = \"/storage\"\n",
    "base_dir_7t = [base_dir + \"/HCP_7T/\" + i   for i in os.listdir(base_dir + \"/HCP_7T\") if len(i) == 6]\n",
    "base_dir_3t = [base_dir + \"/HCP_3T/\" + i   for i in os.listdir(base_dir + \"/HCP_3T\") if len(i) == 6]\n",
    "\n",
    "path_7t = {}\n",
    "path_3t = {}\n",
    "\n",
    "\n",
    "\n",
    "for i in base_dir_7t:\n",
    "    path_7t[i[-6:]] = {\"3d_scan\" : i + \"/T1w/T1w_acpc_dc_restore_1.05.nii.gz\" ,\"data\" : i + \"/T1w/Diffusion_7T/data.nii.gz\" \n",
    "                       , \"bvals\" : i + \"/T1w/Diffusion_7T/bvals\" , \"bvecs\" : i + \"/T1w/Diffusion_7T/bvecs\"\n",
    "                      , \"brain_mask\" : i + \"/T1w/Diffusion_7T/nodif_brain_mask.nii.gz\"\n",
    "                      , \"grad_dev\" : i + \"/T1w/Diffusion_7T/grad_dev.nii.gz\"}\n",
    "for i in base_dir_3t:\n",
    "    path_3t[i[-6:]] = {\"3d_scan\" : i + \"/T1w/T1w_acpc_dc_restore_1.25.nii.gz\" , \"data\" : i + \"/T1w/Diffusion/data.nii.gz\" \n",
    "                       , \"bvals\" : i + \"/T1w/Diffusion/bvals\" , \"bvecs\" : i + \"/T1w/Diffusion/bvecs\"\n",
    "                       , \"brain_mask\" : i + \"/T1w/Diffusion/nodif_brain_mask.nii.gz\"\n",
    "                      , \"grad_dev\" : i + \"/T1w/Diffusion/grad_dev.nii.gz\"}\n",
    "    \n",
    "    \n",
    "path = {'3T': path_3t, \"7T\": path_7t}\n",
    "p = list(path_7t.keys())\n",
    "q = list(path_3t.keys())\n",
    "common = list(set(p) & set(q))\n",
    "\n",
    "print(\"number of common Subjects \",len(common))\n",
    "\n",
    "def get_ids():\n",
    "    return common\n",
    "\n",
    "def load_hcp(id_load,res,ret_img = False,crop = 10):\n",
    "    load_from = path[res][id_load]\n",
    "    if ret_img:\n",
    "        data , affine, img = load_nifti(load_from[\"data\"], return_img=ret_img)\n",
    "    else:\n",
    "        data , affine= load_nifti(load_from[\"data\"], return_img=ret_img)\n",
    "    mask,affine = load_nifti(load_from[\"brain_mask\"], return_img=ret_img)\n",
    "    \n",
    "    bvals, bvecs = read_bvals_bvecs(load_from['bvals'], load_from['bvecs'])\n",
    "    gtab = gradient_table(bvals, bvecs)\n",
    "    \n",
    "    return data[:,:,crop:-crop,:],mask[:,:,crop:-crop],gtab"
   ]
  },
  {
   "cell_type": "code",
   "execution_count": 11,
   "id": "9bfc5a43",
   "metadata": {},
   "outputs": [],
   "source": [
    "\n",
    "\"\"\"\n",
    "``dipy.reconst`` is for the reconstruction algorithms which we use to create\n",
    "voxel models from the raw data.\n",
    "\"\"\"\n",
    "import dipy.reconst.dti as dti"
   ]
  },
  {
   "cell_type": "code",
   "execution_count": 40,
   "id": "abe9e2ef",
   "metadata": {},
   "outputs": [],
   "source": [
    "\n",
    "load_from = path['3T'][common[0]]\n",
    "bvals, bvecs = read_bvals_bvecs(load_from['bvals'], load_from['bvecs'])\n",
    "gtab = gradient_table(bvals, bvecs)"
   ]
  },
  {
   "cell_type": "code",
   "execution_count": 43,
   "id": "8abc9c74",
   "metadata": {},
   "outputs": [],
   "source": [
    "bvals6 = bvals[:7]"
   ]
  },
  {
   "cell_type": "code",
   "execution_count": 49,
   "id": "31e34692",
   "metadata": {},
   "outputs": [],
   "source": [
    "bvecs6 = bvecs[:7,:]"
   ]
  },
  {
   "cell_type": "code",
   "execution_count": 51,
   "id": "354feb29",
   "metadata": {},
   "outputs": [],
   "source": [
    "gtab6 = gradient_table(bvals6, bvecs6)"
   ]
  },
  {
   "cell_type": "code",
   "execution_count": 12,
   "id": "07fb57e4",
   "metadata": {},
   "outputs": [
    {
     "data": {
      "text/plain": [
       "'196144'"
      ]
     },
     "execution_count": 12,
     "metadata": {},
     "output_type": "execute_result"
    }
   ],
   "source": [
    "common[0]"
   ]
  },
  {
   "cell_type": "code",
   "execution_count": 19,
   "id": "0870beb6",
   "metadata": {},
   "outputs": [],
   "source": [
    "data,mask_og,gtab = load_hcp(common[0],'3T')\n",
    "\n",
    "# \"\"\"\n",
    "# Next, we read the saved dataset. gtab contains a ``GradientTable``\n",
    "# object (information about the gradients e.g. b-values and b-vectors).\n",
    "# \"\"\""
   ]
  },
  {
   "cell_type": "code",
   "execution_count": 56,
   "id": "d11ee9bc",
   "metadata": {},
   "outputs": [
    {
     "data": {
      "text/plain": [
       "(145, 174, 125, 288)"
      ]
     },
     "execution_count": 56,
     "metadata": {},
     "output_type": "execute_result"
    }
   ],
   "source": [
    "data.shape"
   ]
  },
  {
   "cell_type": "code",
   "execution_count": 58,
   "id": "48275b7a",
   "metadata": {},
   "outputs": [],
   "source": [
    "data6 = data[:,:,:,:7]"
   ]
  },
  {
   "cell_type": "code",
   "execution_count": 63,
   "id": "9bc9be3d",
   "metadata": {},
   "outputs": [
    {
     "data": {
      "text/plain": [
       "((145, 174, 125, 7), (7,), (7, 3))"
      ]
     },
     "execution_count": 63,
     "metadata": {},
     "output_type": "execute_result"
    }
   ],
   "source": [
    "data6.shape,bvals6.shape,bvecs6.shape"
   ]
  },
  {
   "cell_type": "code",
   "execution_count": 16,
   "id": "71aed088",
   "metadata": {},
   "outputs": [
    {
     "name": "stdout",
     "output_type": "stream",
     "text": [
      "data.shape (145, 174, 125, 288)\n"
     ]
    }
   ],
   "source": [
    "print('data.shape (%d, %d, %d, %d)' % data.shape)"
   ]
  },
  {
   "cell_type": "markdown",
   "id": "27205e5f",
   "metadata": {},
   "source": [
    "First of all, we mask and crop the data. This is a quick way to avoid\n",
    "calculating Tensors on the background of the image. This is done using DIPY_'s\n",
    "``mask`` module."
   ]
  },
  {
   "cell_type": "code",
   "execution_count": 65,
   "id": "36cb054e",
   "metadata": {},
   "outputs": [],
   "source": [
    "from dipy.segment.mask import median_otsu\n",
    "\n",
    "maskdata, mask = median_otsu(data6, vol_idx=range(0, 7), median_radius=3,\n",
    "                             numpass=1, autocrop=True, dilate=2)"
   ]
  },
  {
   "cell_type": "code",
   "execution_count": 66,
   "id": "6f1cc846",
   "metadata": {},
   "outputs": [
    {
     "name": "stdout",
     "output_type": "stream",
     "text": [
      "maskdata.shape (105, 137, 106, 7)\n"
     ]
    }
   ],
   "source": [
    "print('maskdata.shape (%d, %d, %d, %d)' % maskdata.shape)"
   ]
  },
  {
   "cell_type": "markdown",
   "id": "cf4e8a64",
   "metadata": {},
   "source": [
    "Now that we have prepared the datasets we can go forward with the voxel\n",
    "reconstruction. First, we instantiate the Tensor model in the following way.\n",
    "\"\"\""
   ]
  },
  {
   "cell_type": "code",
   "execution_count": 67,
   "id": "921deb0a",
   "metadata": {},
   "outputs": [],
   "source": [
    "tenmodel = dti.TensorModel(gtab6)"
   ]
  },
  {
   "cell_type": "markdown",
   "id": "77811cd6",
   "metadata": {},
   "source": [
    "Fitting the data is very simple. We just need to call the fit method of the\n",
    "TensorModel in the following way:"
   ]
  },
  {
   "cell_type": "code",
   "execution_count": 68,
   "id": "f489067f",
   "metadata": {},
   "outputs": [],
   "source": [
    "tenfit = tenmodel.fit(maskdata)"
   ]
  },
  {
   "cell_type": "markdown",
   "id": "8205b919",
   "metadata": {},
   "source": [
    "The fit method creates a ``TensorFit`` object which contains the fitting\n",
    "parameters and other attributes of the model. You can recover the 6 values\n",
    "of the triangular matrix representing the tensor D. By default, in DIPY, values\n",
    "are ordered as (Dxx, Dxy, Dyy, Dxz, Dyz, Dzz). The ``tensor_vals`` variable\n",
    "defined below is a 4D data with last dimension of size 6."
   ]
  },
  {
   "cell_type": "code",
   "execution_count": 69,
   "id": "b09dc3d5",
   "metadata": {},
   "outputs": [
    {
     "data": {
      "text/plain": [
       "(105, 137, 106, 3, 3)"
      ]
     },
     "execution_count": 69,
     "metadata": {},
     "output_type": "execute_result"
    }
   ],
   "source": [
    "tenfit.quadratic_form.shape"
   ]
  },
  {
   "cell_type": "code",
   "execution_count": 70,
   "id": "352f07f6",
   "metadata": {},
   "outputs": [],
   "source": [
    "tensor_vals = dti.lower_triangular(tenfit.quadratic_form)"
   ]
  },
  {
   "cell_type": "code",
   "execution_count": 72,
   "id": "4e2610de",
   "metadata": {},
   "outputs": [
    {
     "data": {
      "text/plain": [
       "(105, 137, 106, 6)"
      ]
     },
     "execution_count": 72,
     "metadata": {},
     "output_type": "execute_result"
    }
   ],
   "source": [
    "tensor_vals.shape"
   ]
  },
  {
   "cell_type": "code",
   "execution_count": 71,
   "id": "b5dc5857",
   "metadata": {},
   "outputs": [
    {
     "data": {
      "text/plain": [
       "array([ 0.00111877,  0.00018884,  0.00063797, -0.00031631, -0.0002067 ,\n",
       "        0.00027747])"
      ]
     },
     "execution_count": 71,
     "metadata": {},
     "output_type": "execute_result"
    }
   ],
   "source": [
    "tensor_vals[25,25,25]"
   ]
  },
  {
   "cell_type": "markdown",
   "id": "a516e8e7",
   "metadata": {},
   "source": [
    "You can also recover other metrics from the model. For example we can generate\n",
    "fractional anisotropy (FA) from the eigen-values of the tensor. FA is used to\n",
    "characterize the degree to which the distribution of diffusion in a voxel is\n",
    "directional. That is, whether there is relatively unrestricted diffusion in one\n",
    "particular direction.\n",
    "\n",
    "Mathematically, FA is defined as the normalized variance of the eigen-values of\n",
    "the tensor:\n",
    "\n",
    "$$\n",
    "        FA = \\sqrt{\\frac{1}{2}\\frac{(\\lambda_1-\\lambda_2)^2+(\\lambda_1-\n",
    "                    \\lambda_3)^2+(\\lambda_2-\\lambda_3)^2}{\\lambda_1^2+\n",
    "                    \\lambda_2^2+\\lambda_3^2}}\n",
    "$$\n",
    "Note that FA should be interpreted carefully. It may be an indication of the\n",
    "density of packing of fibers in a voxel, and the amount of myelin wrapping\n",
    "these axons, but it is not always a measure of \"tissue integrity\". For example,\n",
    "FA may decrease in locations in which there is fanning of white matter fibers,\n",
    "or where more than one population of white matter fibers crosses.\n"
   ]
  },
  {
   "cell_type": "code",
   "execution_count": 73,
   "id": "c95d94b7",
   "metadata": {},
   "outputs": [
    {
     "name": "stdout",
     "output_type": "stream",
     "text": [
      "Computing anisotropy measures (FA, MD, RGB)\n"
     ]
    }
   ],
   "source": [
    "print('Computing anisotropy measures (FA, MD, RGB)')\n",
    "from dipy.reconst.dti import fractional_anisotropy, color_fa\n",
    "\n",
    "FA = fractional_anisotropy(tenfit.evals)\n",
    "\n",
    "# \"\"\"\n",
    "# In the background of the image the fitting will not be accurate there is no\n",
    "# signal and possibly we will find FA values with nans (not a number). We can\n",
    "# easily remove these in the following way.\n",
    "# \"\"\"\n",
    "FA[np.isnan(FA)] = 0\n"
   ]
  },
  {
   "cell_type": "code",
   "execution_count": 74,
   "id": "d4a01714",
   "metadata": {},
   "outputs": [
    {
     "data": {
      "text/plain": [
       "(105, 137, 106)"
      ]
     },
     "execution_count": 74,
     "metadata": {},
     "output_type": "execute_result"
    }
   ],
   "source": [
    "FA.shape"
   ]
  },
  {
   "cell_type": "code",
   "execution_count": 75,
   "id": "226b4fcc",
   "metadata": {},
   "outputs": [],
   "source": [
    "import matplotlib.pyplot as plt"
   ]
  },
  {
   "cell_type": "code",
   "execution_count": 76,
   "id": "f92e730e",
   "metadata": {},
   "outputs": [
    {
     "data": {
      "text/plain": [
       "<matplotlib.image.AxesImage at 0x7f9a5e2223a0>"
      ]
     },
     "execution_count": 76,
     "metadata": {},
     "output_type": "execute_result"
    },
    {
     "data": {
      "image/png": "[encoded data removed]",
      "text/plain": [
       "<Figure size 640x480 with 1 Axes>"
      ]
     },
     "metadata": {},
     "output_type": "display_data"
    }
   ],
   "source": [
    "plt.imshow(FA[:,:,80])"
   ]
  },
  {
   "cell_type": "code",
   "execution_count": 77,
   "id": "c8d67f2a",
   "metadata": {},
   "outputs": [],
   "source": [
    "MD1 = dti.mean_diffusivity(tenfit.evals)"
   ]
  },
  {
   "cell_type": "code",
   "execution_count": 78,
   "id": "f3d4b750",
   "metadata": {},
   "outputs": [
    {
     "data": {
      "text/plain": [
       "(105, 137, 106)"
      ]
     },
     "execution_count": 78,
     "metadata": {},
     "output_type": "execute_result"
    }
   ],
   "source": [
    "MD1.shape"
   ]
  },
  {
   "cell_type": "code",
   "execution_count": 79,
   "id": "22cc83bc",
   "metadata": {},
   "outputs": [
    {
     "data": {
      "text/plain": [
       "<matplotlib.image.AxesImage at 0x7f9a5e138ee0>"
      ]
     },
     "execution_count": 79,
     "metadata": {},
     "output_type": "execute_result"
    },
    {
     "data": {
      "image/png": "[encoded data removed]",
      "text/plain": [
       "<Figure size 640x480 with 1 Axes>"
      ]
     },
     "metadata": {},
     "output_type": "display_data"
    }
   ],
   "source": [
    "plt.imshow(MD1[:,:,80])"
   ]
  },
  {
   "cell_type": "code",
   "execution_count": 80,
   "id": "910e4f7b",
   "metadata": {},
   "outputs": [],
   "source": [
    "FA = np.clip(FA, 0, 1)\n",
    "RGB = color_fa(FA, tenfit.evecs)"
   ]
  },
  {
   "cell_type": "code",
   "execution_count": 82,
   "id": "78f3dd66",
   "metadata": {},
   "outputs": [
    {
     "data": {
      "text/plain": [
       "<matplotlib.image.AxesImage at 0x7f9a5e022280>"
      ]
     },
     "execution_count": 82,
     "metadata": {},
     "output_type": "execute_result"
    },
    {
     "data": {
      "image/png": "[encoded data removed]",
      "text/plain": [
       "<Figure size 640x480 with 1 Axes>"
      ]
     },
     "metadata": {},
     "output_type": "display_data"
    }
   ],
   "source": [
    "plt.imshow(RGB[:,:,80])"
   ]
  },
  {
   "cell_type": "code",
   "execution_count": 3,
   "id": "8318754e",
   "metadata": {},
   "outputs": [
    {
     "name": "stderr",
     "output_type": "stream",
     "text": [
      "/usr/local/lib/python3.8/dist-packages/tqdm/auto.py:21: TqdmWarning: IProgress not found. Please update jupyter and ipywidgets. See https://ipywidgets.readthedocs.io/en/stable/user_install.html\n",
      "  from .autonotebook import tqdm as notebook_tqdm\n",
      "100%|███████████████████████████████████████████████████████████████████████████████████████████████████████████████████████████████████████████████████████████████████████| 5578/5578 [03:32<00:00, 26.21 MB/s]\n",
      "100%|███████████████████████████████████████████████████████████████████████████████████████████████████████████████████████████████████████████████████████████████████████████| 1/1 [00:00<00:00, 2683.50 MB/s]\n",
      "100%|███████████████████████████████████████████████████████████████████████████████████████████████████████████████████████████████████████████████████████████████████████████| 1/1 [00:00<00:00, 1931.97 MB/s]\n"
     ]
    },
    {
     "name": "stdout",
     "output_type": "stream",
     "text": [
      "data.shape (81, 106, 76, 160)\n",
      "maskdata.shape (71, 88, 62, 160)\n",
      "Computing anisotropy measures (FA, MD, RGB)\n",
      "Computing tensor ellipsoids in a part of the splenium of the CC\n"
     ]
    },
    {
     "name": "stderr",
     "output_type": "stream",
     "text": [
      "/usr/local/lib/python3.8/dist-packages/dipy/viz/__init__.py:20: UserWarning: You do not have FURY installed. Therefore, 3D visualization functions will not work for you. Please install or upgrade FURY using pip install -U furyFor detailed installation instructions visit: https://fury.gl/\n",
      "  warnings.warn(\n"
     ]
    },
    {
     "ename": "ImportError",
     "evalue": "cannot import name 'window' from 'dipy.viz' (/usr/local/lib/python3.8/dist-packages/dipy/viz/__init__.py)",
     "output_type": "error",
     "traceback": [
      "\u001b[0;31m---------------------------------------------------------------------------\u001b[0m",
      "\u001b[0;31mImportError\u001b[0m                               Traceback (most recent call last)",
      "Cell \u001b[0;32mIn[3], line 177\u001b[0m\n\u001b[1;32m    174\u001b[0m \u001b[38;5;28;01mfrom\u001b[39;00m \u001b[38;5;21;01mdipy\u001b[39;00m\u001b[38;5;21;01m.\u001b[39;00m\u001b[38;5;21;01mdata\u001b[39;00m \u001b[38;5;28;01mimport\u001b[39;00m get_sphere\n\u001b[1;32m    175\u001b[0m sphere \u001b[38;5;241m=\u001b[39m get_sphere(\u001b[38;5;124m'\u001b[39m\u001b[38;5;124mrepulsion724\u001b[39m\u001b[38;5;124m'\u001b[39m)\n\u001b[0;32m--> 177\u001b[0m \u001b[38;5;28;01mfrom\u001b[39;00m \u001b[38;5;21;01mdipy\u001b[39;00m\u001b[38;5;21;01m.\u001b[39;00m\u001b[38;5;21;01mviz\u001b[39;00m \u001b[38;5;28;01mimport\u001b[39;00m window, actor\n\u001b[1;32m    179\u001b[0m \u001b[38;5;66;03m# Enables/disables interactive visualization\u001b[39;00m\n\u001b[1;32m    180\u001b[0m interactive \u001b[38;5;241m=\u001b[39m \u001b[38;5;28;01mFalse\u001b[39;00m\n",
      "\u001b[0;31mImportError\u001b[0m: cannot import name 'window' from 'dipy.viz' (/usr/local/lib/python3.8/dist-packages/dipy/viz/__init__.py)"
     ]
    }
   ],
   "source": [
    "\"\"\"\n",
    "Saving the FA images is very easy using nibabel_. We need the FA volume and the\n",
    "affine matrix which transform the image's coordinates to the world coordinates.\n",
    "Here, we choose to save the FA in ``float32``.\n",
    "\"\"\"\n",
    "\n",
    "save_nifti('tensor_fa.nii.gz', FA.astype(np.float32), affine)\n",
    "\n",
    "\"\"\"\n",
    "You can now see the result with any nifti viewer or check it slice by slice\n",
    "using matplotlib_'s ``imshow``. In the same way you can save the eigen values,\n",
    "the eigen vectors or any other properties of the tensor.\n",
    "\"\"\"\n",
    "\n",
    "save_nifti('tensor_evecs.nii.gz', tenfit.evecs.astype(np.float32), affine)\n",
    "\n",
    "\"\"\"\n",
    "Other tensor statistics can be calculated from the ``tenfit`` object. For\n",
    "example, a commonly calculated statistic is the mean diffusivity (MD). This is\n",
    "simply the mean of the  eigenvalues of the tensor. Since FA is a normalized\n",
    "measure of variance and MD is the mean, they are often used as complimentary\n",
    "measures. In DIPY, there are two equivalent ways to calculate the mean\n",
    "diffusivity. One is by calling the ``mean_diffusivity`` module function on the\n",
    "eigen-values of the ``TensorFit`` class instance:\n",
    "\"\"\"\n",
    "\n",
    "MD1 = dti.mean_diffusivity(tenfit.evals)\n",
    "save_nifti('tensors_md.nii.gz', MD1.astype(np.float32), affine)\n",
    "\n",
    "\"\"\"\n",
    "The other is to call the ``TensorFit`` class method:\n",
    "\"\"\"\n",
    "\n",
    "MD2 = tenfit.md\n",
    "\n",
    "\"\"\"\n",
    "Obviously, the quantities are identical.\n",
    "\n",
    "We can also compute the colored FA or RGB-map [Pajevic1999]_. First, we make\n",
    "sure that the FA is scaled between 0 and 1, we compute the RGB map and save it.\n",
    "\"\"\"\n",
    "\n",
    "FA = np.clip(FA, 0, 1)\n",
    "RGB = color_fa(FA, tenfit.evecs)\n",
    "save_nifti('tensor_rgb.nii.gz', np.array(255 * RGB, 'uint8'), affine)\n",
    "\n",
    "\"\"\"\n",
    "Let's try to visualize the tensor ellipsoids of a small rectangular\n",
    "area in an axial slice of the splenium of the corpus callosum (CC).\n",
    "\"\"\"\n",
    "\n",
    "print('Computing tensor ellipsoids in a part of the splenium of the CC')\n",
    "\n",
    "from dipy.data import get_sphere\n",
    "sphere = get_sphere('repulsion724')\n",
    "\n",
    "from dipy.viz import window, actor\n",
    "\n",
    "# Enables/disables interactive visualization\n",
    "interactive = False\n",
    "\n",
    "scene = window.Scene()\n",
    "\n",
    "evals = tenfit.evals[13:43, 44:74, 28:29]\n",
    "evecs = tenfit.evecs[13:43, 44:74, 28:29]\n",
    "\n",
    "\"\"\"\n",
    "We can color the ellipsoids using the ``color_fa`` values that we calculated\n",
    "above. In this example we additionally normalize the values to increase the\n",
    "contrast.\n",
    "\"\"\"\n",
    "\n",
    "cfa = RGB[13:43, 44:74, 28:29]\n",
    "cfa /= cfa.max()\n",
    "\n",
    "scene.add(actor.tensor_slicer(evals, evecs, scalar_colors=cfa, sphere=sphere,\n",
    "                              scale=0.3))\n",
    "\n",
    "print('Saving illustration as tensor_ellipsoids.png')\n",
    "window.record(scene, n_frames=1, out_path='tensor_ellipsoids.png',\n",
    "              size=(600, 600))\n",
    "if interactive:\n",
    "    window.show(scene)\n",
    "\n",
    "\"\"\"\n",
    ".. figure:: tensor_ellipsoids.png\n",
    "   :align: center\n",
    "\n",
    "   Tensor Ellipsoids.\n",
    "\"\"\"\n",
    "\n",
    "scene.clear()\n",
    "\n",
    "\"\"\"\n",
    "Finally, we can visualize the tensor Orientation Distribution Functions\n",
    "for the same area as we did with the ellipsoids.\n",
    "\"\"\"\n",
    "\n",
    "tensor_odfs = tenmodel.fit(data[20:50, 55:85, 38:39]).odf(sphere)\n",
    "\n",
    "odf_actor = actor.odf_slicer(tensor_odfs, sphere=sphere, scale=0.5,\n",
    "                             colormap=None)\n",
    "scene.add(odf_actor)\n",
    "print('Saving illustration as tensor_odfs.png')\n",
    "window.record(scene, n_frames=1, out_path='tensor_odfs.png', size=(600, 600))\n",
    "if interactive:\n",
    "    window.show(scene)\n",
    "\n",
    "\"\"\"\n",
    ".. figure:: tensor_odfs.png\n",
    "   :align: center\n",
    "\n",
    "   Tensor ODFs.\n",
    "\n",
    "Note that while the tensor model is an accurate and reliable model of the\n",
    "diffusion signal in the white matter, it has the drawback that it only has one\n",
    "principal diffusion direction. Therefore, in locations in the brain that\n",
    "contain multiple fiber populations crossing each other, the tensor model may\n",
    "indicate that the principal diffusion direction is intermediate to these\n",
    "directions. Therefore, using the principal diffusion direction for tracking in\n",
    "these locations may be misleading and may lead to errors in defining the\n",
    "tracks. Fortunately, other reconstruction methods can be used to represent the\n",
    "diffusion and fiber orientations in those locations. These are presented in\n",
    "other examples.\n",
    "\n",
    "References\n",
    "----------\n",
    "\n",
    ".. [Basser1994] Basser PJ, Mattielo J, LeBihan (1994). MR diffusion tensor\n",
    "   spectroscopy and imaging.\n",
    "\n",
    ".. [Pajevic1999] Pajevic S, Pierpaoli (1999). Color schemes to represent the\n",
    "   orientation of anisotropic tissues from diffusion tensor data: application\n",
    "   to white matter fiber tract mapping in the human brain.\n",
    "\n",
    ".. include:: ../links_names.inc\n",
    "\n",
    "\"\"\""
   ]
  },
  {
   "cell_type": "code",
   "execution_count": null,
   "id": "41004c6e",
   "metadata": {},
   "outputs": [],
   "source": []
  }
 ],
 "metadata": {
  "kernelspec": {
   "display_name": "Python 3 (ipykernel)",
   "language": "python",
   "name": "python3"
  },
  "language_info": {
   "codemirror_mode": {
    "name": "ipython",
    "version": 3
   },
   "file_extension": ".py",
   "mimetype": "text/x-python",
   "name": "python",
   "nbconvert_exporter": "python",
   "pygments_lexer": "ipython3",
   "version": "3.8.10"
  }
 },
 "nbformat": 4,
 "nbformat_minor": 5
}
