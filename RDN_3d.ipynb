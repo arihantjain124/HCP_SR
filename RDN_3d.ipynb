{
 "cells": [
  {
   "cell_type": "code",
   "execution_count": 1,
   "id": "06aefe48",
   "metadata": {},
   "outputs": [],
   "source": [
    "from model import rdn\n",
    "import argparse, os\n",
    "import numpy as np\n",
    "import matplotlib.pyplot as plt\n",
    "import torch"
   ]
  },
  {
   "cell_type": "code",
   "execution_count": 11,
   "id": "7ecd65e3",
   "metadata": {},
   "outputs": [],
   "source": [
    "# Residual Dense Network for Image Super-Resolution\n",
    "# https://arxiv.org/abs/1802.08797\n",
    "\n",
    "from model import common\n",
    "from argparse import Namespace\n",
    "\n",
    "import torch\n",
    "import torch.nn as nn\n",
    "\n",
    "\n",
    "def make_rdn(inchannel=6, RDNkSize=3, growth = 16, RDNconfig='C'):\n",
    "    args = Namespace()\n",
    "    args.G0 = growth\n",
    "    args.RDNkSize = RDNkSize\n",
    "    args.RDNconfig = RDNconfig\n",
    "\n",
    "    args.n_colors = inchannel\n",
    "    return RDN(args)\n",
    "\n",
    "class RDB_Conv(nn.Module):\n",
    "    def __init__(self, inChannels, growRate, kSize=3):\n",
    "        super(RDB_Conv, self).__init__()\n",
    "        Cin = inChannels\n",
    "        G  = growRate\n",
    "        self.conv = nn.Sequential(*[\n",
    "            nn.Conv2d(Cin, G, kSize, padding=(kSize-1)//2, stride=1),\n",
    "            nn.ReLU()\n",
    "        ])\n",
    "\n",
    "    def forward(self, x):\n",
    "        out = self.conv(x)\n",
    "        return torch.cat((x, out), 1)\n",
    "\n",
    "class RDB(nn.Module):\n",
    "    def __init__(self, growRate0, growRate, nConvLayers, kSize=3):\n",
    "        super(RDB, self).__init__()\n",
    "        G0 = growRate0\n",
    "        G  = growRate\n",
    "        C  = nConvLayers\n",
    "        \n",
    "        convs = []\n",
    "        for c in range(C):\n",
    "            convs.append(RDB_Conv(G0 + c*G, G))\n",
    "        self.convs = nn.Sequential(*convs)\n",
    "        \n",
    "        # Local Feature Fusion\n",
    "        self.LFF = nn.Conv2d(G0 + C*G, G0, 1, padding=0, stride=1)\n",
    "\n",
    "    def forward(self, x):\n",
    "        return self.LFF(self.convs(x)) + x\n",
    "\n",
    "class RDN(nn.Module):\n",
    "    def __init__(self, args):\n",
    "        super(RDN, self).__init__()\n",
    "        G0 = args.G0\n",
    "        kSize = args.RDNkSize\n",
    "\n",
    "        # number of RDB blocks, conv layers, out channels\n",
    "        self.D, C, G = {\n",
    "            'C': (3, 5, 32),\n",
    "        }[args.RDNconfig]\n",
    "\n",
    "        # Shallow feature extraction net\n",
    "        self.SFENet1 = nn.Conv3d(args.n_colors, G0, kSize, padding=(kSize-1)//2, stride=1)\n",
    "        self.SFENet2 = nn.Conv3d(G0, G0, kSize, padding=(kSize-1)//2, stride=1)\n",
    "\n",
    "        # Redidual dense blocks and dense feature fusion\n",
    "        self.RDBs = nn.ModuleList()\n",
    "        for i in range(self.D):\n",
    "            self.RDBs.append(\n",
    "                RDB(growRate0 = G0, growRate = G, nConvLayers = C)\n",
    "            )\n",
    "\n",
    "        # Global Feature Fusion\n",
    "        self.GFF = nn.Sequential(*[\n",
    "            nn.Conv2d(self.D * G0, G0, 1, padding=0, stride=1),\n",
    "            nn.Conv2d(G0, G0, kSize, padding=(kSize-1)//2, stride=1)\n",
    "        ])\n",
    "\n",
    "        self.out_dim = G0\n",
    "\n",
    "    def forward(self, x):\n",
    "        f__1 = self.SFENet1(x)\n",
    "        x  = self.SFENet2(f__1)\n",
    "        \n",
    "        RDBs_out = []\n",
    "        for i in range(self.D):\n",
    "            x = self.RDBs[i](x)\n",
    "            RDBs_out.append(x)\n",
    "\n",
    "        x = self.GFF(torch.cat(RDBs_out,1))\n",
    "        x += f__1\n",
    "\n",
    "        return x\n",
    "        # return self.UPNet(x)"
   ]
  },
  {
   "cell_type": "code",
   "execution_count": 12,
   "id": "46ccae27",
   "metadata": {},
   "outputs": [],
   "source": [
    "enc= make_rdn()"
   ]
  },
  {
   "cell_type": "code",
   "execution_count": 13,
   "id": "ca76a244",
   "metadata": {},
   "outputs": [
    {
     "data": {
      "text/plain": [
       "RDN(\n",
       "  (SFENet1): Conv3d(6, 16, kernel_size=(3, 3, 3), stride=(1, 1, 1), padding=(1, 1, 1))\n",
       "  (SFENet2): Conv3d(16, 16, kernel_size=(3, 3, 3), stride=(1, 1, 1), padding=(1, 1, 1))\n",
       "  (RDBs): ModuleList(\n",
       "    (0-2): 3 x RDB(\n",
       "      (convs): Sequential(\n",
       "        (0): RDB_Conv(\n",
       "          (conv): Sequential(\n",
       "            (0): Conv2d(16, 32, kernel_size=(3, 3), stride=(1, 1), padding=(1, 1))\n",
       "            (1): ReLU()\n",
       "          )\n",
       "        )\n",
       "        (1): RDB_Conv(\n",
       "          (conv): Sequential(\n",
       "            (0): Conv2d(48, 32, kernel_size=(3, 3), stride=(1, 1), padding=(1, 1))\n",
       "            (1): ReLU()\n",
       "          )\n",
       "        )\n",
       "        (2): RDB_Conv(\n",
       "          (conv): Sequential(\n",
       "            (0): Conv2d(80, 32, kernel_size=(3, 3), stride=(1, 1), padding=(1, 1))\n",
       "            (1): ReLU()\n",
       "          )\n",
       "        )\n",
       "        (3): RDB_Conv(\n",
       "          (conv): Sequential(\n",
       "            (0): Conv2d(112, 32, kernel_size=(3, 3), stride=(1, 1), padding=(1, 1))\n",
       "            (1): ReLU()\n",
       "          )\n",
       "        )\n",
       "        (4): RDB_Conv(\n",
       "          (conv): Sequential(\n",
       "            (0): Conv2d(144, 32, kernel_size=(3, 3), stride=(1, 1), padding=(1, 1))\n",
       "            (1): ReLU()\n",
       "          )\n",
       "        )\n",
       "      )\n",
       "      (LFF): Conv2d(176, 16, kernel_size=(1, 1), stride=(1, 1))\n",
       "    )\n",
       "  )\n",
       "  (GFF): Sequential(\n",
       "    (0): Conv2d(48, 16, kernel_size=(1, 1), stride=(1, 1))\n",
       "    (1): Conv2d(16, 16, kernel_size=(3, 3), stride=(1, 1), padding=(1, 1))\n",
       "  )\n",
       ")"
      ]
     },
     "execution_count": 13,
     "metadata": {},
     "output_type": "execute_result"
    }
   ],
   "source": [
    "enc"
   ]
  },
  {
   "cell_type": "code",
   "execution_count": 55,
   "id": "13287e4d",
   "metadata": {},
   "outputs": [],
   "source": [
    "temp = torch.randn(8, 6, 16,16,16)\n",
    "f_1 = enc.SFENet1(temp)\n",
    "f_1 = f_1.reshape(8,16,64,64)"
   ]
  },
  {
   "cell_type": "code",
   "execution_count": 41,
   "id": "dc3d7a15",
   "metadata": {},
   "outputs": [],
   "source": [
    "enc_out = enc.SFENet2(enc.SFENet1(temp))"
   ]
  },
  {
   "cell_type": "code",
   "execution_count": 42,
   "id": "9117996f",
   "metadata": {},
   "outputs": [
    {
     "data": {
      "text/plain": [
       "torch.Size([8, 16, 16, 16, 16])"
      ]
     },
     "execution_count": 42,
     "metadata": {},
     "output_type": "execute_result"
    }
   ],
   "source": [
    "enc_out.shape"
   ]
  },
  {
   "cell_type": "code",
   "execution_count": 43,
   "id": "a111ce44",
   "metadata": {},
   "outputs": [],
   "source": [
    "enc_out_reshape = enc_out.reshape(8,16,64,64)"
   ]
  },
  {
   "cell_type": "code",
   "execution_count": 44,
   "id": "c2d8650a",
   "metadata": {},
   "outputs": [
    {
     "data": {
      "text/plain": [
       "torch.Size([8, 16, 64, 64])"
      ]
     },
     "execution_count": 44,
     "metadata": {},
     "output_type": "execute_result"
    }
   ],
   "source": [
    "enc_out_reshape.shape"
   ]
  },
  {
   "cell_type": "code",
   "execution_count": 45,
   "id": "cc131e1b",
   "metadata": {},
   "outputs": [],
   "source": [
    "D, C, G = {\n",
    "'C': (3, 5, 32),\n",
    "}['C']\n",
    "RDBs = nn.ModuleList()\n",
    "G0 = 16\n",
    "kSize = 3\n",
    "for i in range(5):\n",
    "    RDBs.append(RDB(growRate0 = 16, growRate = G, nConvLayers = C))"
   ]
  },
  {
   "cell_type": "code",
   "execution_count": 46,
   "id": "d8429cb0",
   "metadata": {},
   "outputs": [],
   "source": [
    "dec_temp = enc_out_reshape"
   ]
  },
  {
   "cell_type": "code",
   "execution_count": 47,
   "id": "c231b4d3",
   "metadata": {},
   "outputs": [],
   "source": [
    "RDBs_out = []\n",
    "for i in range(D):\n",
    "    dec_temp = RDBs[i](dec_temp)\n",
    "    RDBs_out.append(dec_temp)"
   ]
  },
  {
   "cell_type": "code",
   "execution_count": 48,
   "id": "b96de912",
   "metadata": {},
   "outputs": [
    {
     "data": {
      "text/plain": [
       "3"
      ]
     },
     "execution_count": 48,
     "metadata": {},
     "output_type": "execute_result"
    }
   ],
   "source": [
    "len(RDBs_out)"
   ]
  },
  {
   "cell_type": "code",
   "execution_count": 49,
   "id": "b799f274",
   "metadata": {},
   "outputs": [
    {
     "name": "stdout",
     "output_type": "stream",
     "text": [
      "torch.Size([8, 16, 64, 64])\n",
      "torch.Size([8, 16, 64, 64])\n",
      "torch.Size([8, 16, 64, 64])\n"
     ]
    }
   ],
   "source": [
    "for i in range(3):\n",
    "    print(RDBs_out[i].shape)"
   ]
  },
  {
   "cell_type": "code",
   "execution_count": 34,
   "id": "fe58acb7",
   "metadata": {},
   "outputs": [
    {
     "data": {
      "text/plain": [
       "torch.Size([8, 48, 64, 64])"
      ]
     },
     "execution_count": 34,
     "metadata": {},
     "output_type": "execute_result"
    }
   ],
   "source": [
    "torch.cat(RDBs_out,1).shape"
   ]
  },
  {
   "cell_type": "code",
   "execution_count": 50,
   "id": "f870e394",
   "metadata": {},
   "outputs": [],
   "source": [
    "GFF = nn.Sequential(*[\n",
    "nn.Conv2d(D * G0, G0, 1, padding=0, stride=1),\n",
    "nn.Conv2d(G0, G0, kSize, padding=(kSize-1)//2, stride=1)\n",
    "])"
   ]
  },
  {
   "cell_type": "code",
   "execution_count": 56,
   "id": "5b574b18",
   "metadata": {},
   "outputs": [],
   "source": [
    "x = GFF(torch.cat(RDBs_out,1))\n",
    "x += f_1"
   ]
  },
  {
   "cell_type": "code",
   "execution_count": 58,
   "id": "6b933cd5",
   "metadata": {},
   "outputs": [
    {
     "data": {
      "text/plain": [
       "torch.Size([8, 16, 64, 64])"
      ]
     },
     "execution_count": 58,
     "metadata": {},
     "output_type": "execute_result"
    }
   ],
   "source": [
    "x.shape"
   ]
  },
  {
   "cell_type": "code",
   "execution_count": null,
   "id": "9d857bfc",
   "metadata": {},
   "outputs": [],
   "source": []
  }
 ],
 "metadata": {
  "kernelspec": {
   "display_name": "Python 3 (ipykernel)",
   "language": "python",
   "name": "python3"
  },
  "language_info": {
   "codemirror_mode": {
    "name": "ipython",
    "version": 3
   },
   "file_extension": ".py",
   "mimetype": "text/x-python",
   "name": "python",
   "nbconvert_exporter": "python",
   "pygments_lexer": "ipython3",
   "version": "3.8.10"
  }
 },
 "nbformat": 4,
 "nbformat_minor": 5
}
