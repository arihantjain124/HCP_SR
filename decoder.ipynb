{
 "cells": [
  {
   "cell_type": "code",
   "execution_count": 6,
   "id": "0fd84e4b",
   "metadata": {},
   "outputs": [],
   "source": [
    "import torch"
   ]
  },
  {
   "cell_type": "code",
   "execution_count": 7,
   "id": "d207e83c",
   "metadata": {},
   "outputs": [],
   "source": [
    "tmp = torch.rand((1,7,32,32,4))"
   ]
  },
  {
   "cell_type": "code",
   "execution_count": 8,
   "id": "7ee4a118",
   "metadata": {},
   "outputs": [],
   "source": [
    "\n",
    "from model.rdn import make_rdn"
   ]
  },
  {
   "cell_type": "code",
   "execution_count": 9,
   "id": "8c7c2c08",
   "metadata": {},
   "outputs": [],
   "source": [
    "encoder = make_rdn(in_chans=7,growth = 32)"
   ]
  },
  {
   "cell_type": "code",
   "execution_count": 10,
   "id": "7f9edc42",
   "metadata": {
    "scrolled": true
   },
   "outputs": [
    {
     "data": {
      "text/plain": [
       "RDN(\n",
       "  (SFENet1): Conv3d(7, 32, kernel_size=(3, 3, 3), stride=(1, 1, 1), padding=(1, 1, 1))\n",
       "  (SFENet2): Conv3d(32, 32, kernel_size=(3, 3, 3), stride=(1, 1, 1), padding=(1, 1, 1))\n",
       "  (RDBs): ModuleList(\n",
       "    (0-4): 5 x RDB(\n",
       "      (convs): Sequential(\n",
       "        (0): RDB_Conv(\n",
       "          (conv): Sequential(\n",
       "            (0): Conv3d(32, 64, kernel_size=(3, 3, 3), stride=(1, 1, 1), padding=(1, 1, 1))\n",
       "            (1): ReLU()\n",
       "          )\n",
       "        )\n",
       "        (1): RDB_Conv(\n",
       "          (conv): Sequential(\n",
       "            (0): Conv3d(96, 64, kernel_size=(3, 3, 3), stride=(1, 1, 1), padding=(1, 1, 1))\n",
       "            (1): ReLU()\n",
       "          )\n",
       "        )\n",
       "        (2): RDB_Conv(\n",
       "          (conv): Sequential(\n",
       "            (0): Conv3d(160, 64, kernel_size=(3, 3, 3), stride=(1, 1, 1), padding=(1, 1, 1))\n",
       "            (1): ReLU()\n",
       "          )\n",
       "        )\n",
       "        (3): RDB_Conv(\n",
       "          (conv): Sequential(\n",
       "            (0): Conv3d(224, 64, kernel_size=(3, 3, 3), stride=(1, 1, 1), padding=(1, 1, 1))\n",
       "            (1): ReLU()\n",
       "          )\n",
       "        )\n",
       "        (4): RDB_Conv(\n",
       "          (conv): Sequential(\n",
       "            (0): Conv3d(288, 64, kernel_size=(3, 3, 3), stride=(1, 1, 1), padding=(1, 1, 1))\n",
       "            (1): ReLU()\n",
       "          )\n",
       "        )\n",
       "        (5): RDB_Conv(\n",
       "          (conv): Sequential(\n",
       "            (0): Conv3d(352, 64, kernel_size=(3, 3, 3), stride=(1, 1, 1), padding=(1, 1, 1))\n",
       "            (1): ReLU()\n",
       "          )\n",
       "        )\n",
       "        (6): RDB_Conv(\n",
       "          (conv): Sequential(\n",
       "            (0): Conv3d(416, 64, kernel_size=(3, 3, 3), stride=(1, 1, 1), padding=(1, 1, 1))\n",
       "            (1): ReLU()\n",
       "          )\n",
       "        )\n",
       "        (7): RDB_Conv(\n",
       "          (conv): Sequential(\n",
       "            (0): Conv3d(480, 64, kernel_size=(3, 3, 3), stride=(1, 1, 1), padding=(1, 1, 1))\n",
       "            (1): ReLU()\n",
       "          )\n",
       "        )\n",
       "        (8): RDB_Conv(\n",
       "          (conv): Sequential(\n",
       "            (0): Conv3d(544, 64, kernel_size=(3, 3, 3), stride=(1, 1, 1), padding=(1, 1, 1))\n",
       "            (1): ReLU()\n",
       "          )\n",
       "        )\n",
       "        (9): RDB_Conv(\n",
       "          (conv): Sequential(\n",
       "            (0): Conv3d(608, 64, kernel_size=(3, 3, 3), stride=(1, 1, 1), padding=(1, 1, 1))\n",
       "            (1): ReLU()\n",
       "          )\n",
       "        )\n",
       "      )\n",
       "      (LFF): Conv3d(672, 32, kernel_size=(1, 1, 1), stride=(1, 1, 1))\n",
       "    )\n",
       "  )\n",
       "  (GFF): Sequential(\n",
       "    (0): Conv3d(160, 32, kernel_size=(1, 1, 1), stride=(1, 1, 1))\n",
       "    (1): Conv3d(32, 32, kernel_size=(3, 3, 3), stride=(1, 1, 1), padding=(1, 1, 1))\n",
       "  )\n",
       ")"
      ]
     },
     "execution_count": 10,
     "metadata": {},
     "output_type": "execute_result"
    }
   ],
   "source": [
    "encoder"
   ]
  },
  {
   "cell_type": "code",
   "execution_count": 11,
   "id": "1f4ba6f2",
   "metadata": {},
   "outputs": [],
   "source": [
    "tmp2 = encoder(tmp)"
   ]
  },
  {
   "cell_type": "code",
   "execution_count": 12,
   "id": "ada935a5",
   "metadata": {},
   "outputs": [
    {
     "data": {
      "text/plain": [
       "torch.Size([1, 32, 32, 32, 4])"
      ]
     },
     "execution_count": 12,
     "metadata": {},
     "output_type": "execute_result"
    }
   ],
   "source": [
    "tmp2.shape"
   ]
  },
  {
   "cell_type": "code",
   "execution_count": 31,
   "id": "3e56ab62",
   "metadata": {},
   "outputs": [],
   "source": [
    "decoder = ImplicitDecoder(in_channels=32)"
   ]
  },
  {
   "cell_type": "code",
   "execution_count": 33,
   "id": "111e1ff4",
   "metadata": {},
   "outputs": [
    {
     "name": "stdout",
     "output_type": "stream",
     "text": [
      "torch.Size([1, 4, 45, 45, 6]) torch.Size([1, 864, 45, 45, 6])\n"
     ]
    },
    {
     "data": {
      "text/plain": [
       "torch.Size([1, 5, 45, 45, 6])"
      ]
     },
     "execution_count": 33,
     "metadata": {},
     "output_type": "execute_result"
    }
   ],
   "source": [
    "decoder(tmp2,(45,45,6)).shape"
   ]
  },
  {
   "cell_type": "code",
   "execution_count": 30,
   "id": "f66f2e27",
   "metadata": {},
   "outputs": [],
   "source": [
    "import torch\n",
    "import torch.nn as nn\n",
    "import torch.nn.functional as F\n",
    "from model import common\n",
    "from argparse import Namespace\n",
    "import random \n",
    "import math\n",
    "from model.rdn import make_rdn\n",
    "from model.resblock import ResBlock_3d\n",
    "import unfoldNd\n",
    "\n",
    "class SineAct(nn.Module):\n",
    "    def __init__(self):\n",
    "        super().__init__()\n",
    "    \n",
    "    def forward(self, x):\n",
    "        return torch.sin(x)\n",
    "\n",
    "class ImplicitDecoder(nn.Module):\n",
    "    def __init__(self, in_channels=64, hidden_dims=[64, 64, 64, 64, 64],out_chans= 5):\n",
    "        super().__init__()\n",
    "\n",
    "        last_dim_K = in_channels * 27\n",
    "        \n",
    "        last_dim_Q = 4\n",
    "\n",
    "        self.K = nn.ModuleList()\n",
    "        self.Q = nn.ModuleList()\n",
    "        \n",
    "        for hidden_dim in hidden_dims:\n",
    "            self.K.append(nn.Sequential(nn.Conv3d(last_dim_K, hidden_dim, 1),\n",
    "                                        nn.ReLU(),\n",
    "                                        ResBlock_3d(channels = hidden_dim, nConvLayers = 4)\n",
    "                                        ))    \n",
    "            self.Q.append(nn.Sequential(nn.Conv3d(last_dim_Q, hidden_dim, 1),\n",
    "                                        SineAct()))\n",
    "            last_dim_K = hidden_dim\n",
    "            last_dim_Q = hidden_dim\n",
    "            \n",
    "        self.last_layer = nn.Conv3d(hidden_dims[-1], out_chans, 1)\n",
    "        \n",
    "        self.in_branch = nn.Sequential(nn.Conv3d(in_channels * 27, hidden_dims[-2], 1),\n",
    "                            nn.ReLU(),\n",
    "                            nn.Conv3d(hidden_dims[-2],hidden_dims[-1], 1),\n",
    "                            nn.ReLU(),\n",
    "                            nn.Conv3d(hidden_dims[-1],out_chans, 1),\n",
    "                            nn.ReLU())\n",
    "        \n",
    "    def _make_pos_encoding(self, x, size): \n",
    "        B, C, H, W, D = x.shape\n",
    "        H_up, W_up, D_up = size\n",
    "       \n",
    "        h_idx = -1 + 1/H + 2/H * torch.arange(H, device=x.device).float()\n",
    "        w_idx = -1 + 1/W + 2/W * torch.arange(W, device=x.device).float()\n",
    "        d_idx = -1 + 1/D + 2/D * torch.arange(D, device=x.device).float()\n",
    "        in_grid = torch.stack(torch.meshgrid(h_idx, w_idx,d_idx), dim=0)\n",
    "\n",
    "        h_idx_up = -1 + 1/H_up + 2/H_up * torch.arange(H_up, device=x.device).float()\n",
    "        w_idx_up = -1 + 1/W_up + 2/W_up * torch.arange(W_up, device=x.device).float()\n",
    "        d_idx_up = -1 + 1/D_up + 2/D_up * torch.arange(D_up, device=x.device).float()\n",
    "        up_grid = torch.stack(torch.meshgrid(h_idx_up, w_idx_up,d_idx_up), dim=0)\n",
    "        \n",
    "        rel_grid = (up_grid - F.interpolate(in_grid.unsqueeze(0), size=(H_up, W_up,D_up), mode='nearest-exact'))\n",
    "        rel_grid[:,0,:,:] *= H\n",
    "        rel_grid[:,1,:,:] *= W\n",
    "        rel_grid[:,2,:,:] *= D\n",
    "\n",
    "        return rel_grid.contiguous().detach()\n",
    "\n",
    "    def step(self, x, syn_inp):\n",
    "        \n",
    "        q = syn_inp\n",
    "        \n",
    "        k = x\n",
    "        \n",
    "        for i in range(len(self.K)):\n",
    "            \n",
    "            k = self.K[i](k)\n",
    "            q = k*self.Q[i](q)\n",
    "            \n",
    "        q = self.last_layer(q)\n",
    "        \n",
    "        return q + self.in_branch(x)\n",
    "\n",
    "\n",
    "    def forward(self, x, size):\n",
    "        B, C, H_in, W_in,D_in = x.shape\n",
    "        \n",
    "        rel_coord = (self._make_pos_encoding(x, size).expand(B, -1, *size))\n",
    "        \n",
    "        ratio = (x.new_tensor([math.sqrt((H_in*W_in*D_in)/(size[0]*size[1]*size[2]))]).view(1, -1, 1, 1).expand(B, -1, *size))\n",
    "        \n",
    "        syn_inp = torch.cat([rel_coord, ratio], dim=1)\n",
    "        \n",
    "        x = F.interpolate(unfoldNd.unfoldNd(x, 3, padding=1).view(B, C*27, H_in, W_in,D_in), size=ratio.shape[-3:],mode = \"trilinear\")\n",
    "        \n",
    "        print(syn_inp.shape,x.shape)\n",
    "        pred = self.step(x, syn_inp)\n",
    "        return pred"
   ]
  },
  {
   "cell_type": "code",
   "execution_count": null,
   "id": "cd2a7722",
   "metadata": {},
   "outputs": [],
   "source": []
  },
  {
   "cell_type": "code",
   "execution_count": null,
   "id": "7de259ee",
   "metadata": {},
   "outputs": [],
   "source": []
  }
 ],
 "metadata": {
  "kernelspec": {
   "display_name": "Python 3 (ipykernel)",
   "language": "python",
   "name": "python3"
  },
  "language_info": {
   "codemirror_mode": {
    "name": "ipython",
    "version": 3
   },
   "file_extension": ".py",
   "mimetype": "text/x-python",
   "name": "python",
   "nbconvert_exporter": "python",
   "pygments_lexer": "ipython3",
   "version": "3.8.10"
  }
 },
 "nbformat": 4,
 "nbformat_minor": 5
}
