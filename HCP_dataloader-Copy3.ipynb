{
 "cells": [
  {
   "cell_type": "code",
   "execution_count": 6,
   "id": "6994d270",
   "metadata": {},
   "outputs": [],
   "source": [
    "import argparse, os\n",
    "import torch\n",
    "import torch.nn as nn\n",
    "import torch.optim as optim\n",
    "from torch.utils.data import DataLoader\n",
    "import matplotlib.pyplot as plt\n",
    "import numpy as np"
   ]
  },
  {
   "cell_type": "code",
   "execution_count": 7,
   "id": "06fc2873",
   "metadata": {},
   "outputs": [
    {
     "name": "stdout",
     "output_type": "stream",
     "text": [
      "Namespace(batch_size=4, block_size=(64, 64, 64), crop_depth=30, debug=False, dir='/storage', preload=True, sort=True, typ='upsampled')\n"
     ]
    }
   ],
   "source": [
    "parser = argparse.ArgumentParser(description=\"IMDN\")\n",
    "parser.add_argument(\"--block_size\", type=tuple, default=(64,64,64),\n",
    "                    help=\"Block Size\")\n",
    "parser.add_argument(\"--crop_depth\", type=int, default=30,\n",
    "                    help=\"crop across z-axis\")\n",
    "parser.add_argument(\"--dir\", type=str,\n",
    "                    help=\"dataset_directory\")\n",
    "parser.add_argument(\"--batch_size\", type=int,\n",
    "                    help=\"dataset_directory\")\n",
    "parser.add_argument(\"--sort\", type=bool,\n",
    "                    help=\"dataset_directory\")\n",
    "parser.add_argument(\"--debug\", type=bool,\n",
    "                    help=\"dataset_directory\")\n",
    "parser.add_argument(\"--preload\", type=bool,\n",
    "                    help=\"dataset_directory\")\n",
    "args = list(parser.parse_known_args())[0]\n",
    "args.preload = True\n",
    "args.debug = False\n",
    "args.dir = \"/storage\"\n",
    "args.batch_size = 4\n",
    "args.sort = True\n",
    "args.typ = 'upsampled'\n",
    "print(args)"
   ]
  },
  {
   "cell_type": "code",
   "execution_count": 8,
   "id": "b83b0d52",
   "metadata": {},
   "outputs": [
    {
     "name": "stdout",
     "output_type": "stream",
     "text": [
      "number of common Subjects  171\n",
      "raw (173, 207, 173, 7)\n",
      "ADC (173, 207, 173)\n",
      "FA (173, 207, 173)\n",
      "RGB (173, 207, 173, 3)\n",
      "raw (173, 207, 173, 7)\n",
      "ADC (173, 207, 173)\n",
      "FA (173, 207, 173)\n",
      "RGB (173, 207, 173, 3)\n"
     ]
    }
   ],
   "source": [
    "import data.HCP_dataset_h5\n",
    "import utils\n",
    "import data.HCP_dataset_h5_test\n",
    "\n",
    "ids = utils.get_ids()\n",
    "ids.sort()\n",
    "ids = ids[:2]\n",
    "training_dataset = data.HCP_dataset_h5.hcp_data(args,ids)\n",
    "testing_dataset = data.HCP_dataset_h5_test.hcp_data(args,ids)"
   ]
  },
  {
   "cell_type": "code",
   "execution_count": 9,
   "id": "9acbcd88",
   "metadata": {},
   "outputs": [
    {
     "data": {
      "text/plain": [
       "2"
      ]
     },
     "execution_count": 9,
     "metadata": {},
     "output_type": "execute_result"
    }
   ],
   "source": [
    "len(testing_dataset)"
   ]
  },
  {
   "cell_type": "code",
   "execution_count": 10,
   "id": "6a282897",
   "metadata": {},
   "outputs": [],
   "source": [
    "x = testing_dataset[0]"
   ]
  },
  {
   "cell_type": "code",
   "execution_count": 11,
   "id": "7bd1ba4f",
   "metadata": {},
   "outputs": [
    {
     "data": {
      "text/plain": [
       "((173, 207, 173, 8), (173, 207, 173), (173, 207, 173), (173, 207, 173, 3))"
      ]
     },
     "execution_count": 11,
     "metadata": {},
     "output_type": "execute_result"
    }
   ],
   "source": [
    "x[0].shape,x[1].shape,x[2].shape,x[3].shape"
   ]
  },
  {
   "cell_type": "code",
   "execution_count": 12,
   "id": "d5990be5",
   "metadata": {},
   "outputs": [
    {
     "data": {
      "text/plain": [
       "45"
      ]
     },
     "execution_count": 12,
     "metadata": {},
     "output_type": "execute_result"
    }
   ],
   "source": [
    "len(training_dataset)"
   ]
  },
  {
   "cell_type": "code",
   "execution_count": 13,
   "id": "7260f32e",
   "metadata": {},
   "outputs": [],
   "source": [
    "import math\n",
    "import torch.nn.functional as F\n",
    "def pad(x):\n",
    "        _, _, h, w = x.shape\n",
    "        w_mult = ((w - 1) | 15) + 1\n",
    "        h_mult = ((h - 1) | 15) + 1\n",
    "        w_pad = [math.floor((w_mult - w) / 2), math.ceil((w_mult - w) / 2)]\n",
    "        h_pad = [math.floor((h_mult - h) / 2), math.ceil((h_mult - h) / 2)]\n",
    "        #print(w_pad,h_pad)\n",
    "        # # TODO: fix this type when PyTorch fixes theirs\n",
    "        # # the documentation lies - this actually takes a list\n",
    "        # # https://github.com/pytorch/pytorch/blob/master/torch/nn/functional.py#L3457\n",
    "        # # https://github.com/pytorch/pytorch/pull/16949\n",
    "        x = F.pad(x, w_pad + h_pad)\n",
    "        return x, (h_pad, w_pad, h_mult, w_mult)\n",
    "\n",
    "def unpad(x,h_pad,w_pad,h_mult,w_mult):\n",
    "    return x[..., h_pad[0] : h_mult - h_pad[1], w_pad[0] : w_mult - w_pad[1]]\n",
    "\n",
    "def resize(data):\n",
    "    x,y = [],[]\n",
    "    for i in range(len(data)):\n",
    "        x.append(data[i][0].reshape((data[i][0].shape[0]*data[i][0].shape[1],data[i][0].shape[2],data[i][0].shape[3])))\n",
    "        y.append(np.concatenate([np.expand_dims(data[i][1],axis = 3),np.expand_dims(data[i][2],axis = 3),data[i][3]], axis=3))\n",
    "#         torch.cat([data[i][3],data[i][2].unsqueeze(3),data[i][1].unsqueeze(3)],axis =3))\n",
    "#         print(data[i][1].shape,data[i][2].shape,data[i][3].shape)\n",
    "#         y.append(np.stack([data[i][1],data[i][2],data[i][3]]))\n",
    "    return torch.from_numpy(np.stack(x)),torch.from_numpy(np.stack(y))"
   ]
  },
  {
   "cell_type": "code",
   "execution_count": 14,
   "id": "3f7e27b5",
   "metadata": {},
   "outputs": [
    {
     "data": {
      "text/plain": [
       "array([27, 45])"
      ]
     },
     "execution_count": 14,
     "metadata": {},
     "output_type": "execute_result"
    }
   ],
   "source": [
    "training_dataset.blk_indx"
   ]
  },
  {
   "cell_type": "code",
   "execution_count": 15,
   "id": "adc77082",
   "metadata": {},
   "outputs": [],
   "source": [
    "x = testing_dataset[0]"
   ]
  },
  {
   "cell_type": "code",
   "execution_count": 16,
   "id": "46431bb1",
   "metadata": {},
   "outputs": [
    {
     "data": {
      "text/plain": [
       "((173, 207, 173, 8), (173, 207, 173), (173, 207, 173), (173, 207, 173, 3))"
      ]
     },
     "execution_count": 16,
     "metadata": {},
     "output_type": "execute_result"
    }
   ],
   "source": [
    "x[0].shape,x[1].shape,x[2].shape,x[3].shape"
   ]
  },
  {
   "cell_type": "code",
   "execution_count": 17,
   "id": "310c7ac7",
   "metadata": {},
   "outputs": [],
   "source": [
    "training_data_loader = DataLoader(dataset=training_dataset, batch_size=12, shuffle=True, pin_memory=True, drop_last=True,collate_fn=resize)\n",
    "testing_data_loader = DataLoader(dataset=testing_dataset, batch_size=1,pin_memory=True,collate_fn=resize)"
   ]
  },
  {
   "cell_type": "code",
   "execution_count": 18,
   "id": "622fbe91",
   "metadata": {},
   "outputs": [],
   "source": [
    "temp = next(iter(testing_data_loader))"
   ]
  },
  {
   "cell_type": "code",
   "execution_count": 19,
   "id": "31aa99a6",
   "metadata": {},
   "outputs": [
    {
     "data": {
      "text/plain": [
       "torch.Size([1, 35811, 173, 8])"
      ]
     },
     "execution_count": 19,
     "metadata": {},
     "output_type": "execute_result"
    }
   ],
   "source": [
    "temp[0].shape"
   ]
  },
  {
   "cell_type": "code",
   "execution_count": 20,
   "id": "d9d19759",
   "metadata": {},
   "outputs": [],
   "source": [
    "# torch.permute(temp[0],(0,3,1,2)).shape"
   ]
  },
  {
   "cell_type": "code",
   "execution_count": 21,
   "id": "d32cad22",
   "metadata": {},
   "outputs": [
    {
     "data": {
      "text/plain": [
       "torch.Size([1, 173, 207, 173, 5])"
      ]
     },
     "execution_count": 21,
     "metadata": {},
     "output_type": "execute_result"
    }
   ],
   "source": [
    "temp[1].shape"
   ]
  },
  {
   "cell_type": "code",
   "execution_count": 22,
   "id": "158f590a",
   "metadata": {},
   "outputs": [],
   "source": [
    "training_data_loader = DataLoader(dataset=training_dataset, batch_size=40, shuffle=True, pin_memory=True, drop_last=True,collate_fn=resize)"
   ]
  },
  {
   "cell_type": "code",
   "execution_count": 23,
   "id": "b5fa904e",
   "metadata": {},
   "outputs": [
    {
     "name": "stdout",
     "output_type": "stream",
     "text": [
      "torch.Size([40, 4096, 64, 8]) torch.Size([40, 64, 64, 64, 5])\n"
     ]
    }
   ],
   "source": [
    "for iteration, (lr_tensor, hr_tensor) in enumerate(training_data_loader, 1):\n",
    "    print(lr_tensor.shape,hr_tensor.shape)\n",
    "    break"
   ]
  },
  {
   "cell_type": "code",
   "execution_count": 24,
   "id": "6d863a42",
   "metadata": {},
   "outputs": [
    {
     "name": "stdout",
     "output_type": "stream",
     "text": [
      "Namespace(n_colors=8, n_feats=4, n_resblocks=8, n_resgroups=8, reduction=16, res_scale=1.2, rgb_range=1, scale=[1.2])\n"
     ]
    }
   ],
   "source": [
    "from Meta_SR_Pytorch.model import metarcan \n",
    "\n",
    "parser = argparse.ArgumentParser(description=\"metarcan\")\n",
    "parser.add_argument(\"--reduction\", type=int,\n",
    "                    help=\"dataset_directory\")\n",
    "parser.add_argument(\"--n_resblocks\", type=int,\n",
    "                    help=\"dataset_directory\")\n",
    "parser.add_argument(\"--n_resgroups\", type=int,\n",
    "                    help=\"dataset_directory\")\n",
    "parser.add_argument(\"--n_feats\", type=int,\n",
    "                    help=\"dataset_directory\")\n",
    "parser.add_argument(\"--scale\", type=int,\n",
    "                    help=\"dataset_directory\")\n",
    "parser.add_argument(\"--rgb_range\", type=int,\n",
    "                    help=\"dataset_directory\")\n",
    "args = list(parser.parse_known_args())[0]\n",
    "args.reduction = 16\n",
    "args.n_resgroups = 8\n",
    "args.n_resblocks = 8\n",
    "args.n_feats = 4\n",
    "args.scale = [1.2]\n",
    "args.n_colors = 8\n",
    "args.rgb_range = 1\n",
    "args.res_scale = 1.2\n",
    "print(args)"
   ]
  },
  {
   "cell_type": "code",
   "execution_count": 25,
   "id": "11832675",
   "metadata": {},
   "outputs": [],
   "source": [
    "# temp_model = metarcan.RCAN(args)"
   ]
  },
  {
   "cell_type": "code",
   "execution_count": 26,
   "id": "d2482f55",
   "metadata": {},
   "outputs": [
    {
     "data": {
      "text/plain": [
       "torch.Size([40, 8, 4096, 64])"
      ]
     },
     "execution_count": 26,
     "metadata": {},
     "output_type": "execute_result"
    }
   ],
   "source": [
    "temp = next(iter(training_data_loader))\n",
    "temp[0] = torch.permute(temp[0],(0,3,1,2))\n",
    "temp[0].shape"
   ]
  },
  {
   "cell_type": "code",
   "execution_count": 27,
   "id": "56b30786",
   "metadata": {},
   "outputs": [
    {
     "data": {
      "text/plain": [
       "torch.Size([40, 64, 64, 64, 5])"
      ]
     },
     "execution_count": 27,
     "metadata": {},
     "output_type": "execute_result"
    }
   ],
   "source": [
    "temp[1].shape"
   ]
  },
  {
   "cell_type": "code",
   "execution_count": 28,
   "id": "02cc649c",
   "metadata": {},
   "outputs": [],
   "source": [
    "from deep_cascade_caunet.models import CSEUnetModel"
   ]
  },
  {
   "cell_type": "code",
   "execution_count": 29,
   "id": "56e6c4c7",
   "metadata": {},
   "outputs": [],
   "source": [
    "model = CSEUnetModel(in_chans = 8,out_chans = 5,chans = 4,num_pool_layers = 2,drop_prob=0.2,reduction=4)"
   ]
  },
  {
   "cell_type": "code",
   "execution_count": 30,
   "id": "2bd419b1",
   "metadata": {},
   "outputs": [],
   "source": [
    "out = model(temp[0])"
   ]
  },
  {
   "cell_type": "code",
   "execution_count": 31,
   "id": "84b7d5b6",
   "metadata": {},
   "outputs": [
    {
     "data": {
      "text/plain": [
       "torch.Size([40, 5, 4096, 64])"
      ]
     },
     "execution_count": 31,
     "metadata": {},
     "output_type": "execute_result"
    }
   ],
   "source": [
    "out.shape"
   ]
  },
  {
   "cell_type": "code",
   "execution_count": 32,
   "id": "d97f92e7",
   "metadata": {},
   "outputs": [],
   "source": [
    "out_temp = torch.permute(out,(0,2,3,1))"
   ]
  },
  {
   "cell_type": "code",
   "execution_count": 33,
   "id": "31cdb311",
   "metadata": {},
   "outputs": [
    {
     "data": {
      "text/plain": [
       "torch.Size([40, 4096, 64, 5])"
      ]
     },
     "execution_count": 33,
     "metadata": {},
     "output_type": "execute_result"
    }
   ],
   "source": [
    "out_temp.shape"
   ]
  },
  {
   "cell_type": "code",
   "execution_count": 34,
   "id": "de953fa5",
   "metadata": {},
   "outputs": [],
   "source": [
    "out_out = out_temp.reshape(40,64,64,64,5)"
   ]
  },
  {
   "cell_type": "code",
   "execution_count": 35,
   "id": "6c40fe02",
   "metadata": {},
   "outputs": [
    {
     "data": {
      "text/plain": [
       "torch.Size([40, 64, 64, 64, 5])"
      ]
     },
     "execution_count": 35,
     "metadata": {},
     "output_type": "execute_result"
    }
   ],
   "source": [
    "out_out.shape"
   ]
  },
  {
   "cell_type": "code",
   "execution_count": 36,
   "id": "6af02123",
   "metadata": {},
   "outputs": [
    {
     "data": {
      "text/plain": [
       "((173, 207, 173, 8), (173, 207, 173), (173, 207, 173), (173, 207, 173, 3))"
      ]
     },
     "execution_count": 36,
     "metadata": {},
     "output_type": "execute_result"
    }
   ],
   "source": [
    "x[0].shape,x[1].shape,x[2].shape,x[3].shape"
   ]
  },
  {
   "cell_type": "code",
   "execution_count": 44,
   "id": "e7fc1b26",
   "metadata": {},
   "outputs": [
    {
     "data": {
      "text/plain": [
       "torch.Size([1, 8, 35811, 173])"
      ]
     },
     "execution_count": 44,
     "metadata": {},
     "output_type": "execute_result"
    }
   ],
   "source": [
    "temp = next(iter(testing_data_loader))\n",
    "temp[0] = torch.permute(temp[0],(0,3,1,2))\n",
    "temp[0].shape"
   ]
  },
  {
   "cell_type": "code",
   "execution_count": 46,
   "id": "0b7c574a",
   "metadata": {},
   "outputs": [],
   "source": [
    "t= pad(temp[0])"
   ]
  },
  {
   "cell_type": "code",
   "execution_count": 47,
   "id": "7f808345",
   "metadata": {},
   "outputs": [
    {
     "data": {
      "text/plain": [
       "torch.Size([1, 8, 35824, 176])"
      ]
     },
     "execution_count": 47,
     "metadata": {},
     "output_type": "execute_result"
    }
   ],
   "source": [
    "t[0].shape"
   ]
  },
  {
   "cell_type": "code",
   "execution_count": 48,
   "id": "47030bfc",
   "metadata": {},
   "outputs": [],
   "source": [
    "y = model(t[0])"
   ]
  },
  {
   "cell_type": "code",
   "execution_count": 49,
   "id": "573fbcac",
   "metadata": {},
   "outputs": [
    {
     "data": {
      "text/plain": [
       "torch.Size([1, 5, 35824, 176])"
      ]
     },
     "execution_count": 49,
     "metadata": {},
     "output_type": "execute_result"
    }
   ],
   "source": [
    "y.shape"
   ]
  },
  {
   "cell_type": "code",
   "execution_count": 50,
   "id": "067cca22",
   "metadata": {},
   "outputs": [
    {
     "data": {
      "text/plain": [
       "([6, 7], [1, 2], 35824, 176)"
      ]
     },
     "execution_count": 50,
     "metadata": {},
     "output_type": "execute_result"
    }
   ],
   "source": [
    "t[1]"
   ]
  },
  {
   "cell_type": "code",
   "execution_count": 51,
   "id": "28e5eaf6",
   "metadata": {},
   "outputs": [],
   "source": [
    "u = unpad(y,t[1][0],t[1][1],t[1][2],t[1][3])"
   ]
  },
  {
   "cell_type": "code",
   "execution_count": 52,
   "id": "0ec0504d",
   "metadata": {},
   "outputs": [
    {
     "data": {
      "text/plain": [
       "torch.Size([1, 5, 35811, 173])"
      ]
     },
     "execution_count": 52,
     "metadata": {},
     "output_type": "execute_result"
    }
   ],
   "source": [
    "u.shape"
   ]
  },
  {
   "cell_type": "code",
   "execution_count": 68,
   "id": "cc89df2c",
   "metadata": {},
   "outputs": [],
   "source": [
    "import monai"
   ]
  },
  {
   "cell_type": "code",
   "execution_count": 69,
   "id": "d80549d2",
   "metadata": {},
   "outputs": [],
   "source": [
    "ssim = monai.losses.ssim_loss.SSIMLoss(spatial_dims =3)"
   ]
  },
  {
   "cell_type": "code",
   "execution_count": 53,
   "id": "90a06c05",
   "metadata": {},
   "outputs": [],
   "source": [
    "out = u.reshape(1, 173, 207, 173, 5)\n",
    "out = torch.permute(out,(0,4,1,2,3))"
   ]
  },
  {
   "cell_type": "code",
   "execution_count": 54,
   "id": "a230dec1",
   "metadata": {},
   "outputs": [
    {
     "data": {
      "text/plain": [
       "torch.Size([1, 5, 173, 207, 173])"
      ]
     },
     "execution_count": 54,
     "metadata": {},
     "output_type": "execute_result"
    }
   ],
   "source": [
    "out.shape"
   ]
  },
  {
   "cell_type": "code",
   "execution_count": 55,
   "id": "995b6785",
   "metadata": {},
   "outputs": [],
   "source": [
    "temp[1].shape\n",
    "hr = torch.permute(temp[1],(0,4,1,2,3))"
   ]
  },
  {
   "cell_type": "code",
   "execution_count": 56,
   "id": "76c1bbef",
   "metadata": {},
   "outputs": [
    {
     "data": {
      "text/plain": [
       "(torch.Size([1, 5, 173, 207, 173]), torch.Size([1, 5, 173, 207, 173]))"
      ]
     },
     "execution_count": 56,
     "metadata": {},
     "output_type": "execute_result"
    }
   ],
   "source": [
    "hr.shape,out.shape"
   ]
  },
  {
   "cell_type": "code",
   "execution_count": null,
   "id": "5f14d978",
   "metadata": {},
   "outputs": [],
   "source": [
    "ssim(hr,out)"
   ]
  },
  {
   "cell_type": "code",
   "execution_count": 64,
   "id": "5bf2e7ec",
   "metadata": {},
   "outputs": [],
   "source": [
    "from torchmetrics import StructuralSimilarityIndexMeasure\n",
    "import torch\n",
    "ssim = StructuralSimilarityIndexMeasure(data_range=1.0)"
   ]
  },
  {
   "cell_type": "code",
   "execution_count": null,
   "id": "7cbd853b",
   "metadata": {},
   "outputs": [],
   "source": []
  }
 ],
 "metadata": {
  "kernelspec": {
   "display_name": "Python 3 (ipykernel)",
   "language": "python",
   "name": "python3"
  },
  "language_info": {
   "codemirror_mode": {
    "name": "ipython",
    "version": 3
   },
   "file_extension": ".py",
   "mimetype": "text/x-python",
   "name": "python",
   "nbconvert_exporter": "python",
   "pygments_lexer": "ipython3",
   "version": "3.8.10"
  }
 },
 "nbformat": 4,
 "nbformat_minor": 5
}
