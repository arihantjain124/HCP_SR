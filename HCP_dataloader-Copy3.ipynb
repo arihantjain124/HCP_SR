{
 "cells": [
  {
   "cell_type": "code",
   "execution_count": 114,
   "id": "6994d270",
   "metadata": {},
   "outputs": [],
   "source": [
    "import argparse, os\n",
    "import torch\n",
    "import torch.nn as nn\n",
    "import torch.optim as optim\n",
    "from torch.utils.data import DataLoader\n",
    "import matplotlib.pyplot as plt\n",
    "import numpy as np"
   ]
  },
  {
   "cell_type": "code",
   "execution_count": 115,
   "id": "8ee1ad4f",
   "metadata": {},
   "outputs": [],
   "source": [
    "# import cucim"
   ]
  },
  {
   "cell_type": "code",
   "execution_count": 116,
   "id": "06fc2873",
   "metadata": {},
   "outputs": [
    {
     "name": "stdout",
     "output_type": "stream",
     "text": [
      "Namespace(batch_size=4, block_size=(64, 64, 64), crop_depth=30, debug=False, dir='/storage', preload=True, sort=True, typ='upsampled')\n"
     ]
    }
   ],
   "source": [
    "parser = argparse.ArgumentParser(description=\"IMDN\")\n",
    "parser.add_argument(\"--block_size\", type=tuple, default=(64,64,64),\n",
    "                    help=\"Block Size\")\n",
    "parser.add_argument(\"--crop_depth\", type=int, default=30,\n",
    "                    help=\"crop across z-axis\")\n",
    "parser.add_argument(\"--dir\", type=str,\n",
    "                    help=\"dataset_directory\")\n",
    "parser.add_argument(\"--batch_size\", type=int,\n",
    "                    help=\"dataset_directory\")\n",
    "parser.add_argument(\"--sort\", type=bool,\n",
    "                    help=\"dataset_directory\")\n",
    "parser.add_argument(\"--debug\", type=bool,\n",
    "                    help=\"dataset_directory\")\n",
    "parser.add_argument(\"--preload\", type=bool,\n",
    "                    help=\"dataset_directory\")\n",
    "args = list(parser.parse_known_args())[0]\n",
    "args.preload = True\n",
    "args.debug = False\n",
    "args.dir = \"/storage\"\n",
    "args.batch_size = 4\n",
    "args.sort = True\n",
    "args.typ = 'upsampled'\n",
    "print(args)"
   ]
  },
  {
   "cell_type": "code",
   "execution_count": 117,
   "id": "b83b0d52",
   "metadata": {},
   "outputs": [],
   "source": [
    "import data.HCP_dataset_h5\n",
    "import utils\n",
    "import data.HCP_dataset_h5_test\n",
    "\n",
    "ids = utils.get_ids()\n",
    "ids.sort()\n",
    "ids = ids[:5]\n",
    "training_dataset = data.HCP_dataset_h5.hcp_data(args,ids)\n",
    "testing_dataset = data.HCP_dataset_h5_test.hcp_data(args,ids)"
   ]
  },
  {
   "cell_type": "code",
   "execution_count": 118,
   "id": "9acbcd88",
   "metadata": {},
   "outputs": [
    {
     "data": {
      "text/plain": [
       "5"
      ]
     },
     "execution_count": 118,
     "metadata": {},
     "output_type": "execute_result"
    }
   ],
   "source": [
    "len(testing_dataset)"
   ]
  },
  {
   "cell_type": "code",
   "execution_count": 119,
   "id": "beb80720",
   "metadata": {},
   "outputs": [
    {
     "data": {
      "text/plain": [
       "108"
      ]
     },
     "execution_count": 119,
     "metadata": {},
     "output_type": "execute_result"
    }
   ],
   "source": [
    "len(training_dataset)"
   ]
  },
  {
   "cell_type": "code",
   "execution_count": 120,
   "id": "6a282897",
   "metadata": {},
   "outputs": [],
   "source": [
    "x = testing_dataset[0]"
   ]
  },
  {
   "cell_type": "code",
   "execution_count": 121,
   "id": "7bd1ba4f",
   "metadata": {},
   "outputs": [
    {
     "data": {
      "text/plain": [
       "((173, 207, 173, 8), (173, 207, 173), (173, 207, 173), (173, 207, 173, 3))"
      ]
     },
     "execution_count": 121,
     "metadata": {},
     "output_type": "execute_result"
    }
   ],
   "source": [
    "x[0].shape,x[1].shape,x[2].shape,x[3].shape"
   ]
  },
  {
   "cell_type": "code",
   "execution_count": 122,
   "id": "d5990be5",
   "metadata": {},
   "outputs": [
    {
     "data": {
      "text/plain": [
       "108"
      ]
     },
     "execution_count": 122,
     "metadata": {},
     "output_type": "execute_result"
    }
   ],
   "source": [
    "len(training_dataset)"
   ]
  },
  {
   "cell_type": "code",
   "execution_count": 179,
   "id": "7260f32e",
   "metadata": {},
   "outputs": [],
   "source": [
    "import math\n",
    "import torch.nn.functional as F\n",
    "def pad(x):\n",
    "        _, _, h, w = x.shape\n",
    "        w_mult = ((w - 1) | 15) + 1\n",
    "        h_mult = ((h - 1) | 15) + 1\n",
    "        w_pad = [math.floor((w_mult - w) / 2), math.ceil((w_mult - w) / 2)]\n",
    "        h_pad = [math.floor((h_mult - h) / 2), math.ceil((h_mult - h) / 2)]\n",
    "        #print(w_pad,h_pad)\n",
    "        # # TODO: fix this type when PyTorch fixes theirs\n",
    "        # # the documentation lies - this actually takes a list\n",
    "        # # https://github.com/pytorch/pytorch/blob/master/torch/nn/functional.py#L3457\n",
    "        # # https://github.com/pytorch/pytorch/pull/16949\n",
    "        x = F.pad(x, w_pad + h_pad)\n",
    "        return x, (h_pad, w_pad, h_mult, w_mult)\n",
    "\n",
    "def unpad(x,h_pad,w_pad,h_mult,w_mult):\n",
    "    return x[..., h_pad[0] : h_mult - h_pad[1], w_pad[0] : w_mult - w_pad[1]]\n",
    "\n",
    "def resize(data):\n",
    "    x,y = [],[]\n",
    "    for i in range(len(data)):\n",
    "        x.append(data[i][0].reshape((data[i][0].shape[0]*data[i][0].shape[1],data[i][0].shape[2],data[i][0].shape[3])))\n",
    "        y.append(np.concatenate([np.expand_dims(data[i][1],axis = 3),np.expand_dims(data[i][2],axis = 3),data[i][3]], axis=3))\n",
    "#         torch.cat([data[i][3],data[i][2].unsqueeze(3),data[i][1].unsqueeze(3)],axis =3))\n",
    "#         print(data[i][1].shape,data[i][2].shape,data[i][3].shape)\n",
    "#         y.append(np.stack([data[i][1],data[i][2],data[i][3]]))\n",
    "    return torch.from_numpy(np.stack(x)),torch.from_numpy(np.stack(y))\n",
    "import torch\n",
    "import torch.nn.functional as F\n",
    "import math\n",
    "\n",
    "def ssim(img1, img2, window_size=11, window_sigma=1.5, data_range=1.0):\n",
    "    # Convert the input images to tensors\n",
    "    img1 = img1.float().cuda()\n",
    "    img2 = img2.float().cuda()\n",
    "\n",
    "    # Define the window used for local SSIM computation\n",
    "    window = create_window(window_size, window_sigma, img1.shape[1]).cuda()\n",
    "\n",
    "    # Compute the mean of img1 and img2\n",
    "    mu1 = F.conv3d(img1, window, padding=window_size // 2, groups=img1.shape[1])\n",
    "    mu2 = F.conv3d(img2, window, padding=window_size // 2, groups=img2.shape[1])\n",
    "\n",
    "    # Compute the variance of img1 and img2\n",
    "    sigma1_sq = F.conv3d(img1 * img1, window, padding=window_size // 2, groups=img1.shape[1]) - mu1 * mu1\n",
    "    sigma2_sq = F.conv3d(img2 * img2, window, padding=window_size // 2, groups=img2.shape[1]) - mu2 * mu2\n",
    "\n",
    "    # Compute the covariance of img1 and img2\n",
    "    sigma12 = F.conv3d(img1 * img2, window, padding=window_size // 2, groups=img1.shape[1]) - mu1 * mu2\n",
    "\n",
    "    # Constants for SSIM calculation\n",
    "    C1 = (0.01 * data_range) ** 2\n",
    "    C2 = (0.03 * data_range) ** 2\n",
    "\n",
    "    # Compute the SSIM index\n",
    "    ssim_map = ((2 * mu1 * mu2 + C1) * (2 * sigma12 + C2)) / ((mu1 ** 2 + mu2 ** 2 + C1) * (sigma1_sq + sigma2_sq + C2))\n",
    "    ssim_index = torch.mean(ssim_map)\n",
    "\n",
    "    return ssim_index.item()\n",
    "\n",
    "def create_window(window_size, window_sigma, num_channels):\n",
    "    # Create a 3D Gaussian window\n",
    "    gauss = torch.Tensor([math.exp(-(x - window_size // 2) ** 2 / (2 * window_sigma ** 2)) for x in range(window_size)])\n",
    "    gauss = gauss / gauss.sum()\n",
    "    window = torch.outer(gauss, gauss).unsqueeze(0).unsqueeze(0).repeat(1, num_channels, 1, 1, 1)\n",
    "    return window\n"
   ]
  },
  {
   "cell_type": "code",
   "execution_count": 148,
   "id": "3f7e27b5",
   "metadata": {},
   "outputs": [
    {
     "data": {
      "text/plain": [
       "array([ 27,  45,  63,  81, 108])"
      ]
     },
     "execution_count": 148,
     "metadata": {},
     "output_type": "execute_result"
    }
   ],
   "source": [
    "training_dataset.blk_indx"
   ]
  },
  {
   "cell_type": "code",
   "execution_count": 126,
   "id": "adc77082",
   "metadata": {},
   "outputs": [],
   "source": [
    "x = testing_dataset[0]"
   ]
  },
  {
   "cell_type": "code",
   "execution_count": 127,
   "id": "46431bb1",
   "metadata": {},
   "outputs": [
    {
     "data": {
      "text/plain": [
       "((173, 207, 173, 8), (173, 207, 173), (173, 207, 173), (173, 207, 173, 3))"
      ]
     },
     "execution_count": 127,
     "metadata": {},
     "output_type": "execute_result"
    }
   ],
   "source": [
    "x[0].shape,x[1].shape,x[2].shape,x[3].shape"
   ]
  },
  {
   "cell_type": "code",
   "execution_count": 128,
   "id": "310c7ac7",
   "metadata": {},
   "outputs": [],
   "source": [
    "training_data_loader = DataLoader(dataset=training_dataset, batch_size=12, shuffle=True, pin_memory=True, drop_last=True,collate_fn=resize)\n",
    "testing_data_loader = DataLoader(dataset=testing_dataset, batch_size=1,pin_memory=True,collate_fn=resize)"
   ]
  },
  {
   "cell_type": "code",
   "execution_count": 129,
   "id": "622fbe91",
   "metadata": {},
   "outputs": [],
   "source": [
    "temp = next(iter(testing_data_loader))"
   ]
  },
  {
   "cell_type": "code",
   "execution_count": 130,
   "id": "31aa99a6",
   "metadata": {},
   "outputs": [
    {
     "data": {
      "text/plain": [
       "torch.Size([1, 35811, 173, 8])"
      ]
     },
     "execution_count": 130,
     "metadata": {},
     "output_type": "execute_result"
    }
   ],
   "source": [
    "temp[0].shape"
   ]
  },
  {
   "cell_type": "code",
   "execution_count": 131,
   "id": "d9d19759",
   "metadata": {},
   "outputs": [],
   "source": [
    "# torch.permute(temp[0],(0,3,1,2)).shape"
   ]
  },
  {
   "cell_type": "code",
   "execution_count": 132,
   "id": "d32cad22",
   "metadata": {},
   "outputs": [
    {
     "data": {
      "text/plain": [
       "torch.Size([1, 173, 207, 173, 5])"
      ]
     },
     "execution_count": 132,
     "metadata": {},
     "output_type": "execute_result"
    }
   ],
   "source": [
    "temp[1].shape"
   ]
  },
  {
   "cell_type": "code",
   "execution_count": 133,
   "id": "158f590a",
   "metadata": {},
   "outputs": [],
   "source": [
    "training_data_loader = DataLoader(dataset=training_dataset, batch_size=40, shuffle=True, pin_memory=True, drop_last=True,collate_fn=resize)"
   ]
  },
  {
   "cell_type": "code",
   "execution_count": 134,
   "id": "b5fa904e",
   "metadata": {},
   "outputs": [
    {
     "name": "stdout",
     "output_type": "stream",
     "text": [
      "torch.Size([40, 4096, 64, 8]) torch.Size([40, 64, 64, 64, 5])\n"
     ]
    }
   ],
   "source": [
    "for iteration, (lr_tensor, hr_tensor) in enumerate(training_data_loader, 1):\n",
    "    print(lr_tensor.shape,hr_tensor.shape)\n",
    "    break"
   ]
  },
  {
   "cell_type": "code",
   "execution_count": 135,
   "id": "6d863a42",
   "metadata": {},
   "outputs": [],
   "source": [
    "# from Meta_SR_Pytorch.model import metarcan \n",
    "\n",
    "# parser = argparse.ArgumentParser(description=\"metarcan\")\n",
    "# parser.add_argument(\"--reduction\", type=int,\n",
    "#                     help=\"dataset_directory\")\n",
    "# parser.add_argument(\"--n_resblocks\", type=int,\n",
    "#                     help=\"dataset_directory\")\n",
    "# parser.add_argument(\"--n_resgroups\", type=int,\n",
    "#                     help=\"dataset_directory\")\n",
    "# parser.add_argument(\"--n_feats\", type=int,\n",
    "#                     help=\"dataset_directory\")\n",
    "# parser.add_argument(\"--scale\", type=int,\n",
    "#                     help=\"dataset_directory\")\n",
    "# parser.add_argument(\"--rgb_range\", type=int,\n",
    "#                     help=\"dataset_directory\")\n",
    "# args = list(parser.parse_known_args())[0]\n",
    "# args.reduction = 16\n",
    "# args.n_resgroups = 8\n",
    "# args.n_resblocks = 8\n",
    "# args.n_feats = 4\n",
    "# args.scale = [1.2]\n",
    "# args.n_colors = 8\n",
    "# args.rgb_range = 1\n",
    "# args.res_scale = 1.2\n",
    "# print(args)"
   ]
  },
  {
   "cell_type": "code",
   "execution_count": 136,
   "id": "11832675",
   "metadata": {},
   "outputs": [],
   "source": [
    "# temp_model = metarcan.RCAN(args)"
   ]
  },
  {
   "cell_type": "code",
   "execution_count": 137,
   "id": "d2482f55",
   "metadata": {},
   "outputs": [
    {
     "data": {
      "text/plain": [
       "torch.Size([40, 8, 4096, 64])"
      ]
     },
     "execution_count": 137,
     "metadata": {},
     "output_type": "execute_result"
    }
   ],
   "source": [
    "temp = next(iter(training_data_loader))\n",
    "temp[0] = torch.permute(temp[0],(0,3,1,2))\n",
    "temp[0].shape"
   ]
  },
  {
   "cell_type": "code",
   "execution_count": 138,
   "id": "56b30786",
   "metadata": {},
   "outputs": [
    {
     "data": {
      "text/plain": [
       "torch.Size([40, 64, 64, 64, 5])"
      ]
     },
     "execution_count": 138,
     "metadata": {},
     "output_type": "execute_result"
    }
   ],
   "source": [
    "temp[1].shape"
   ]
  },
  {
   "cell_type": "code",
   "execution_count": 149,
   "id": "02cc649c",
   "metadata": {},
   "outputs": [],
   "source": [
    "from deep_cascade_caunet.models import CSEUnetModel"
   ]
  },
  {
   "cell_type": "code",
   "execution_count": 150,
   "id": "56e6c4c7",
   "metadata": {},
   "outputs": [],
   "source": [
    "model = CSEUnetModel(in_chans = 8,out_chans = 5,chans = 4,num_pool_layers = 2,drop_prob=0.2,reduction=4)"
   ]
  },
  {
   "cell_type": "code",
   "execution_count": 151,
   "id": "2bd419b1",
   "metadata": {},
   "outputs": [],
   "source": [
    "out = model(temp[0])"
   ]
  },
  {
   "cell_type": "code",
   "execution_count": 152,
   "id": "84b7d5b6",
   "metadata": {},
   "outputs": [
    {
     "data": {
      "text/plain": [
       "torch.Size([40, 5, 4096, 64])"
      ]
     },
     "execution_count": 152,
     "metadata": {},
     "output_type": "execute_result"
    }
   ],
   "source": [
    "out.shape"
   ]
  },
  {
   "cell_type": "code",
   "execution_count": 143,
   "id": "d97f92e7",
   "metadata": {},
   "outputs": [],
   "source": [
    "out_temp = torch.permute(out,(0,2,3,1))"
   ]
  },
  {
   "cell_type": "code",
   "execution_count": 153,
   "id": "31cdb311",
   "metadata": {},
   "outputs": [
    {
     "data": {
      "text/plain": [
       "torch.Size([40, 4096, 64, 5])"
      ]
     },
     "execution_count": 153,
     "metadata": {},
     "output_type": "execute_result"
    }
   ],
   "source": [
    "out_temp.shape"
   ]
  },
  {
   "cell_type": "code",
   "execution_count": 154,
   "id": "de953fa5",
   "metadata": {},
   "outputs": [],
   "source": [
    "out_out = out_temp.reshape(40,64,64,64,5)"
   ]
  },
  {
   "cell_type": "code",
   "execution_count": 155,
   "id": "6c40fe02",
   "metadata": {},
   "outputs": [
    {
     "data": {
      "text/plain": [
       "torch.Size([40, 64, 64, 64, 5])"
      ]
     },
     "execution_count": 155,
     "metadata": {},
     "output_type": "execute_result"
    }
   ],
   "source": [
    "out_out.shape"
   ]
  },
  {
   "cell_type": "code",
   "execution_count": null,
   "id": "520f7941",
   "metadata": {},
   "outputs": [],
   "source": [
    "ssim(out_out[0,:,:,:,:],)"
   ]
  },
  {
   "cell_type": "code",
   "execution_count": 156,
   "id": "1a03d95d",
   "metadata": {},
   "outputs": [],
   "source": [
    "# import monai\n",
    "# ssim = monai.losses.ssim_loss.SSIMLoss(spatial_dims =3)"
   ]
  },
  {
   "cell_type": "code",
   "execution_count": 219,
   "id": "fafec921",
   "metadata": {},
   "outputs": [],
   "source": [
    "out = model(temp[0])\n",
    "out_temp = torch.permute(out,(0,2,3,1))\n",
    "out_out = out_temp.reshape(40,64,64,64,5)\n",
    "hr = torch.permute(temp[1],(0,4,1,2,3)).detach().numpy()\n",
    "pred = torch.permute(out_out,(0,4,1,2,3)).detach().numpy()"
   ]
  },
  {
   "cell_type": "code",
   "execution_count": 220,
   "id": "a51e07d3",
   "metadata": {},
   "outputs": [
    {
     "data": {
      "text/plain": [
       "((40, 5, 64, 64, 64), (40, 5, 64, 64, 64))"
      ]
     },
     "execution_count": 220,
     "metadata": {},
     "output_type": "execute_result"
    }
   ],
   "source": [
    "pred.shape,hr.shape"
   ]
  },
  {
   "cell_type": "code",
   "execution_count": 222,
   "id": "9a1d8ee0",
   "metadata": {},
   "outputs": [
    {
     "data": {
      "text/plain": [
       "<function cucim.skimage.metrics._structural_similarity.structural_similarity(im1, im2, *, win_size=None, gradient=False, data_range=None, channel_axis=None, gaussian_weights=False, full=False, **kwargs)>"
      ]
     },
     "execution_count": 222,
     "metadata": {},
     "output_type": "execute_result"
    }
   ],
   "source": [
    "ssim"
   ]
  },
  {
   "cell_type": "code",
   "execution_count": 228,
   "id": "e0670f53",
   "metadata": {},
   "outputs": [],
   "source": [
    "import cupy as cp"
   ]
  },
  {
   "cell_type": "code",
   "execution_count": 230,
   "id": "975d62c5",
   "metadata": {},
   "outputs": [
    {
     "ename": "OutOfMemoryError",
     "evalue": "Out of memory allocating 419,430,400 bytes (allocated so far: 754,977,280 bytes).",
     "output_type": "error",
     "traceback": [
      "\u001b[0;31m---------------------------------------------------------------------------\u001b[0m",
      "\u001b[0;31mOutOfMemoryError\u001b[0m                          Traceback (most recent call last)",
      "Cell \u001b[0;32mIn[230], line 1\u001b[0m\n\u001b[0;32m----> 1\u001b[0m hr \u001b[38;5;241m=\u001b[39m \u001b[43mcp\u001b[49m\u001b[38;5;241;43m.\u001b[39;49m\u001b[43marray\u001b[49m\u001b[43m(\u001b[49m\u001b[43mhr\u001b[49m\u001b[43m)\u001b[49m\n\u001b[1;32m      2\u001b[0m pred \u001b[38;5;241m=\u001b[39m cp\u001b[38;5;241m.\u001b[39marray(pred)\n",
      "File \u001b[0;32m/usr/local/lib/python3.8/dist-packages/cupy/_creation/from_data.py:46\u001b[0m, in \u001b[0;36marray\u001b[0;34m(obj, dtype, copy, order, subok, ndmin)\u001b[0m\n\u001b[1;32m      7\u001b[0m \u001b[38;5;28;01mdef\u001b[39;00m \u001b[38;5;21marray\u001b[39m(obj, dtype\u001b[38;5;241m=\u001b[39m\u001b[38;5;28;01mNone\u001b[39;00m, copy\u001b[38;5;241m=\u001b[39m\u001b[38;5;28;01mTrue\u001b[39;00m, order\u001b[38;5;241m=\u001b[39m\u001b[38;5;124m'\u001b[39m\u001b[38;5;124mK\u001b[39m\u001b[38;5;124m'\u001b[39m, subok\u001b[38;5;241m=\u001b[39m\u001b[38;5;28;01mFalse\u001b[39;00m, ndmin\u001b[38;5;241m=\u001b[39m\u001b[38;5;241m0\u001b[39m):\n\u001b[1;32m      8\u001b[0m \u001b[38;5;250m    \u001b[39m\u001b[38;5;124;03m\"\"\"Creates an array on the current device.\u001b[39;00m\n\u001b[1;32m      9\u001b[0m \n\u001b[1;32m     10\u001b[0m \u001b[38;5;124;03m    This function currently does not support the ``subok`` option.\u001b[39;00m\n\u001b[0;32m   (...)\u001b[0m\n\u001b[1;32m     44\u001b[0m \n\u001b[1;32m     45\u001b[0m \u001b[38;5;124;03m    \"\"\"\u001b[39;00m\n\u001b[0;32m---> 46\u001b[0m     \u001b[38;5;28;01mreturn\u001b[39;00m \u001b[43m_core\u001b[49m\u001b[38;5;241;43m.\u001b[39;49m\u001b[43marray\u001b[49m\u001b[43m(\u001b[49m\u001b[43mobj\u001b[49m\u001b[43m,\u001b[49m\u001b[43m \u001b[49m\u001b[43mdtype\u001b[49m\u001b[43m,\u001b[49m\u001b[43m \u001b[49m\u001b[43mcopy\u001b[49m\u001b[43m,\u001b[49m\u001b[43m \u001b[49m\u001b[43morder\u001b[49m\u001b[43m,\u001b[49m\u001b[43m \u001b[49m\u001b[43msubok\u001b[49m\u001b[43m,\u001b[49m\u001b[43m \u001b[49m\u001b[43mndmin\u001b[49m\u001b[43m)\u001b[49m\n",
      "File \u001b[0;32mcupy/_core/core.pyx:2390\u001b[0m, in \u001b[0;36mcupy._core.core.array\u001b[0;34m()\u001b[0m\n",
      "File \u001b[0;32mcupy/_core/core.pyx:2399\u001b[0m, in \u001b[0;36mcupy._core.core.array\u001b[0;34m()\u001b[0m\n",
      "File \u001b[0;32mcupy/_core/core.pyx:2428\u001b[0m, in \u001b[0;36mcupy._core.core._array_from_cupy_ndarray\u001b[0;34m()\u001b[0m\n",
      "File \u001b[0;32mcupy/_core/core.pyx:516\u001b[0m, in \u001b[0;36mcupy._core.core._ndarray_base.astype\u001b[0;34m()\u001b[0m\n",
      "File \u001b[0;32mcupy/_core/core.pyx:575\u001b[0m, in \u001b[0;36mcupy._core.core._ndarray_base.astype\u001b[0;34m()\u001b[0m\n",
      "File \u001b[0;32mcupy/_core/core.pyx:136\u001b[0m, in \u001b[0;36mcupy._core.core.ndarray.__new__\u001b[0;34m()\u001b[0m\n",
      "File \u001b[0;32mcupy/_core/core.pyx:224\u001b[0m, in \u001b[0;36mcupy._core.core._ndarray_base._init\u001b[0;34m()\u001b[0m\n",
      "File \u001b[0;32mcupy/cuda/memory.pyx:742\u001b[0m, in \u001b[0;36mcupy.cuda.memory.alloc\u001b[0;34m()\u001b[0m\n",
      "File \u001b[0;32mcupy/cuda/memory.pyx:1419\u001b[0m, in \u001b[0;36mcupy.cuda.memory.MemoryPool.malloc\u001b[0;34m()\u001b[0m\n",
      "File \u001b[0;32mcupy/cuda/memory.pyx:1440\u001b[0m, in \u001b[0;36mcupy.cuda.memory.MemoryPool.malloc\u001b[0;34m()\u001b[0m\n",
      "File \u001b[0;32mcupy/cuda/memory.pyx:1120\u001b[0m, in \u001b[0;36mcupy.cuda.memory.SingleDeviceMemoryPool.malloc\u001b[0;34m()\u001b[0m\n",
      "File \u001b[0;32mcupy/cuda/memory.pyx:1141\u001b[0m, in \u001b[0;36mcupy.cuda.memory.SingleDeviceMemoryPool._malloc\u001b[0;34m()\u001b[0m\n",
      "File \u001b[0;32mcupy/cuda/memory.pyx:1379\u001b[0m, in \u001b[0;36mcupy.cuda.memory.SingleDeviceMemoryPool._try_malloc\u001b[0;34m()\u001b[0m\n",
      "\u001b[0;31mOutOfMemoryError\u001b[0m: Out of memory allocating 419,430,400 bytes (allocated so far: 754,977,280 bytes)."
     ]
    }
   ],
   "source": [
    "hr = cp.array(hr)\n",
    "pred = cp.array(pred)"
   ]
  },
  {
   "cell_type": "code",
   "execution_count": null,
   "id": "cdc1c65d",
   "metadata": {},
   "outputs": [],
   "source": [
    "ssim(hr,pred,channel_axis=1,data_range=1)"
   ]
  },
  {
   "cell_type": "code",
   "execution_count": 176,
   "id": "5d77b6b3",
   "metadata": {},
   "outputs": [
    {
     "data": {
      "text/plain": [
       "<matplotlib.image.AxesImage at 0x7f39405c1d60>"
      ]
     },
     "execution_count": 176,
     "metadata": {},
     "output_type": "execute_result"
    },
    {
     "data": {
      "image/png": "[encoded data removed]",
      "text/plain": [
       "<Figure size 640x480 with 1 Axes>"
      ]
     },
     "metadata": {},
     "output_type": "display_data"
    }
   ],
   "source": [
    "plt.imshow(hr[0,0,:,:,20])"
   ]
  },
  {
   "cell_type": "code",
   "execution_count": 177,
   "id": "63d01416",
   "metadata": {},
   "outputs": [
    {
     "data": {
      "text/plain": [
       "<matplotlib.image.AxesImage at 0x7f39b52000d0>"
      ]
     },
     "execution_count": 177,
     "metadata": {},
     "output_type": "execute_result"
    },
    {
     "data": {
      "image/png": "[encoded data removed]",
      "text/plain": [
       "<Figure size 640x480 with 1 Axes>"
      ]
     },
     "metadata": {},
     "output_type": "display_data"
    }
   ],
   "source": [
    "plt.imshow(pred[0,0,:,:,20])"
   ]
  },
  {
   "cell_type": "code",
   "execution_count": 213,
   "id": "b96b4e1e",
   "metadata": {},
   "outputs": [],
   "source": [
    "l1_crit = nn.L1Loss().to('cuda')"
   ]
  },
  {
   "cell_type": "code",
   "execution_count": 193,
   "id": "f595fe9c",
   "metadata": {},
   "outputs": [
    {
     "data": {
      "text/plain": [
       "tensor(0.1950, dtype=torch.float64)"
      ]
     },
     "execution_count": 193,
     "metadata": {},
     "output_type": "execute_result"
    }
   ],
   "source": [
    "l1_crit(hr, pred)"
   ]
  },
  {
   "cell_type": "code",
   "execution_count": 189,
   "id": "8977e595",
   "metadata": {},
   "outputs": [],
   "source": [
    "import torch\n",
    "import torch.nn.functional as F\n",
    "import math\n",
    "def ssim(tensor1, tensor2, window_size=11, size_average=True):\n",
    "    device = tensor1.device\n",
    "    \n",
    "    def gaussian(window_size, sigma):\n",
    "        gauss = torch.Tensor([np.exp(-(x - window_size//2)**2/float(2*sigma**2)) for x in range(window_size)])\n",
    "        return gauss/gauss.sum()\n",
    "    \n",
    "    def create_window(window_size, channel):\n",
    "        _1D_window = gaussian(window_size, 1.5).unsqueeze(1)\n",
    "        _2D_window = _1D_window.mm(_1D_window.t()).float().unsqueeze(0).unsqueeze(0)\n",
    "        window = _2D_window.expand(channel, 1, window_size, window_size).contiguous()\n",
    "        return window\n",
    "    \n",
    "    def _ssim(img1, img2, window, window_size, channel, size_average=True):\n",
    "        mu1 = F.conv3d(img1, window, padding=window_size//2, groups=channel)\n",
    "        mu2 = F.conv3d(img2, window, padding=window_size//2, groups=channel)\n",
    "        \n",
    "        mu1_sq = mu1.pow(2)\n",
    "        mu2_sq = mu2.pow(2)\n",
    "        mu1_mu2 = mu1 * mu2\n",
    "        \n",
    "        sigma1_sq = F.conv3d(img1 * img1, window, padding=window_size//2, groups=channel) - mu1_sq\n",
    "        sigma2_sq = F.conv3d(img2 * img2, window, padding=window_size//2, groups=channel) - mu2_sq\n",
    "        sigma12 = F.conv3d(img1 * img2, window, padding=window_size//2, groups=channel) - mu1_mu2\n",
    "        \n",
    "        C1 = (0.01 * 255)**2\n",
    "        C2 = (0.03 * 255)**2\n",
    "        \n",
    "        ssim_map = ((2 * mu1_mu2 + C1) * (2 * sigma12 + C2)) / ((mu1_sq + mu2_sq + C1) * (sigma1_sq + sigma2_sq + C2))\n",
    "        \n",
    "        if size_average:\n",
    "            return ssim_map.mean()\n",
    "        else:\n",
    "            return ssim_map.mean(1).mean(1).mean(1)\n",
    "    \n",
    "    channel = tensor1.size(1)\n",
    "    window = create_window(window_size, channel).to(device)\n",
    "    return _ssim(tensor1, tensor2, window, window_size, channel, size_average)"
   ]
  },
  {
   "cell_type": "code",
   "execution_count": 195,
   "id": "3b741c36",
   "metadata": {},
   "outputs": [],
   "source": [
    "from torchmetrics import StructuralSimilarityIndexMeasure\n",
    "ssim = StructuralSimilarityIndexMeasure(data_range=1.0)"
   ]
  },
  {
   "cell_type": "code",
   "execution_count": 194,
   "id": "16c8237d",
   "metadata": {},
   "outputs": [
    {
     "ename": "NameError",
     "evalue": "name 'd' is not defined",
     "output_type": "error",
     "traceback": [
      "\u001b[0;31m---------------------------------------------------------------------------\u001b[0m",
      "\u001b[0;31mNameError\u001b[0m                                 Traceback (most recent call last)",
      "Cell \u001b[0;32mIn[194], line 1\u001b[0m\n\u001b[0;32m----> 1\u001b[0m \u001b[43md\u001b[49m\n",
      "\u001b[0;31mNameError\u001b[0m: name 'd' is not defined"
     ]
    }
   ],
   "source": [
    "d"
   ]
  },
  {
   "cell_type": "code",
   "execution_count": 196,
   "id": "c6347e56",
   "metadata": {},
   "outputs": [],
   "source": [
    "from torchmetrics.functional import structural_similarity_index_measure\n",
    "preds = torch.rand([40, 5, 64, 64,64])\n",
    "target = preds * 0.75"
   ]
  },
  {
   "cell_type": "code",
   "execution_count": 197,
   "id": "c4ec0b1d",
   "metadata": {},
   "outputs": [
    {
     "data": {
      "text/plain": [
       "torch.Size([40, 5, 64, 64, 64])"
      ]
     },
     "execution_count": 197,
     "metadata": {},
     "output_type": "execute_result"
    }
   ],
   "source": [
    "hr.shape"
   ]
  },
  {
   "cell_type": "code",
   "execution_count": 198,
   "id": "5a703be9",
   "metadata": {},
   "outputs": [],
   "source": [
    "hr_np = np.array(hr)\n",
    "pred_np = np.array(pred.detach().numpy())"
   ]
  },
  {
   "cell_type": "code",
   "execution_count": 199,
   "id": "ab036d97",
   "metadata": {},
   "outputs": [
    {
     "data": {
      "text/plain": [
       "tensor(0.9219)"
      ]
     },
     "execution_count": 199,
     "metadata": {},
     "output_type": "execute_result"
    }
   ],
   "source": [
    "structural_similarity_index_measure(preds, target)"
   ]
  },
  {
   "cell_type": "code",
   "execution_count": 67,
   "id": "7a69ee0d",
   "metadata": {},
   "outputs": [],
   "source": [
    "import skimage.metrics as metrics"
   ]
  },
  {
   "cell_type": "code",
   "execution_count": 72,
   "id": "05bac03a",
   "metadata": {},
   "outputs": [
    {
     "data": {
      "text/plain": [
       "((40, 5, 64, 64, 64), (40, 5, 64, 64, 64))"
      ]
     },
     "execution_count": 72,
     "metadata": {},
     "output_type": "execute_result"
    }
   ],
   "source": [
    "hr_np.shape,pred_np.shape"
   ]
  },
  {
   "cell_type": "code",
   "execution_count": 73,
   "id": "373b7e7d",
   "metadata": {},
   "outputs": [
    {
     "name": "stderr",
     "output_type": "stream",
     "text": [
      "/tmp/ipykernel_978987/1053201223.py:1: UserWarning: Inputs have mismatched dtype.  Setting data_range based on image_true.\n",
      "  metrics.peak_signal_noise_ratio(hr_np,pred_np)\n"
     ]
    },
    {
     "data": {
      "text/plain": [
       "6.55933999427658"
      ]
     },
     "execution_count": 73,
     "metadata": {},
     "output_type": "execute_result"
    }
   ],
   "source": [
    "metrics.peak_signal_noise_ratio(hr_np,pred_np)"
   ]
  },
  {
   "cell_type": "code",
   "execution_count": 79,
   "id": "4d351d2f",
   "metadata": {},
   "outputs": [
    {
     "data": {
      "text/plain": [
       "(0.9999999352666846, 0.0, 1.9130101, -1.9448488)"
      ]
     },
     "execution_count": 79,
     "metadata": {},
     "output_type": "execute_result"
    }
   ],
   "source": [
    "hr_np.max(),hr_np.min(),pred_np.max(),pred_np.min()"
   ]
  },
  {
   "cell_type": "code",
   "execution_count": 83,
   "id": "a81be0a3",
   "metadata": {},
   "outputs": [
    {
     "ename": "ModuleNotFoundError",
     "evalue": "No module named 'SSIM_PIL'",
     "output_type": "error",
     "traceback": [
      "\u001b[0;31m---------------------------------------------------------------------------\u001b[0m",
      "\u001b[0;31mModuleNotFoundError\u001b[0m                       Traceback (most recent call last)",
      "Cell \u001b[0;32mIn[83], line 1\u001b[0m\n\u001b[0;32m----> 1\u001b[0m \u001b[38;5;28;01mfrom\u001b[39;00m \u001b[38;5;21;01mSSIM_PIL\u001b[39;00m \u001b[38;5;28;01mimport\u001b[39;00m compare_ssim\n",
      "\u001b[0;31mModuleNotFoundError\u001b[0m: No module named 'SSIM_PIL'"
     ]
    }
   ],
   "source": [
    "from SSIM_PIL import compare_ssim"
   ]
  },
  {
   "cell_type": "code",
   "execution_count": null,
   "id": "583886b6",
   "metadata": {},
   "outputs": [],
   "source": []
  },
  {
   "cell_type": "code",
   "execution_count": null,
   "id": "e583dc7f",
   "metadata": {},
   "outputs": [],
   "source": []
  },
  {
   "cell_type": "code",
   "execution_count": null,
   "id": "9001250a",
   "metadata": {},
   "outputs": [],
   "source": []
  },
  {
   "cell_type": "code",
   "execution_count": 80,
   "id": "b5dcc0df",
   "metadata": {},
   "outputs": [
    {
     "data": {
      "text/plain": [
       "-0.11284204100749448"
      ]
     },
     "execution_count": 80,
     "metadata": {},
     "output_type": "execute_result"
    }
   ],
   "source": [
    "metrics.structural_similarity(hr_np,pred_np,channel_axis = 1,data_range =3.8 )"
   ]
  },
  {
   "cell_type": "code",
   "execution_count": 44,
   "id": "0c780549",
   "metadata": {},
   "outputs": [
    {
     "data": {
      "text/plain": [
       "<matplotlib.image.AxesImage at 0x7f7c1f809190>"
      ]
     },
     "execution_count": 44,
     "metadata": {},
     "output_type": "execute_result"
    },
    {
     "data": {
      "image/png": "[encoded data removed]",
      "text/plain": [
       "<Figure size 640x480 with 1 Axes>"
      ]
     },
     "metadata": {},
     "output_type": "display_data"
    }
   ],
   "source": [
    "plt.imshow(out_out[0,:,:,20,0].detach().numpy())"
   ]
  },
  {
   "cell_type": "code",
   "execution_count": 36,
   "id": "6af02123",
   "metadata": {},
   "outputs": [
    {
     "data": {
      "text/plain": [
       "((173, 207, 173, 8), (173, 207, 173), (173, 207, 173), (173, 207, 173, 3))"
      ]
     },
     "execution_count": 36,
     "metadata": {},
     "output_type": "execute_result"
    }
   ],
   "source": [
    "x[0].shape,x[1].shape,x[2].shape,x[3].shape"
   ]
  },
  {
   "cell_type": "code",
   "execution_count": 44,
   "id": "e7fc1b26",
   "metadata": {},
   "outputs": [
    {
     "data": {
      "text/plain": [
       "torch.Size([1, 8, 35811, 173])"
      ]
     },
     "execution_count": 44,
     "metadata": {},
     "output_type": "execute_result"
    }
   ],
   "source": [
    "temp = next(iter(testing_data_loader))\n",
    "temp[0] = torch.permute(temp[0],(0,3,1,2))\n",
    "temp[0].shape"
   ]
  },
  {
   "cell_type": "code",
   "execution_count": 46,
   "id": "0b7c574a",
   "metadata": {},
   "outputs": [],
   "source": [
    "t= pad(temp[0])"
   ]
  },
  {
   "cell_type": "code",
   "execution_count": 47,
   "id": "7f808345",
   "metadata": {},
   "outputs": [
    {
     "data": {
      "text/plain": [
       "torch.Size([1, 8, 35824, 176])"
      ]
     },
     "execution_count": 47,
     "metadata": {},
     "output_type": "execute_result"
    }
   ],
   "source": [
    "t[0].shape"
   ]
  },
  {
   "cell_type": "code",
   "execution_count": 48,
   "id": "47030bfc",
   "metadata": {},
   "outputs": [],
   "source": [
    "y = model(t[0])"
   ]
  },
  {
   "cell_type": "code",
   "execution_count": 49,
   "id": "573fbcac",
   "metadata": {},
   "outputs": [
    {
     "data": {
      "text/plain": [
       "torch.Size([1, 5, 35824, 176])"
      ]
     },
     "execution_count": 49,
     "metadata": {},
     "output_type": "execute_result"
    }
   ],
   "source": [
    "y.shape"
   ]
  },
  {
   "cell_type": "code",
   "execution_count": 50,
   "id": "067cca22",
   "metadata": {},
   "outputs": [
    {
     "data": {
      "text/plain": [
       "([6, 7], [1, 2], 35824, 176)"
      ]
     },
     "execution_count": 50,
     "metadata": {},
     "output_type": "execute_result"
    }
   ],
   "source": [
    "t[1]"
   ]
  },
  {
   "cell_type": "code",
   "execution_count": 51,
   "id": "28e5eaf6",
   "metadata": {},
   "outputs": [],
   "source": [
    "u = unpad(y,t[1][0],t[1][1],t[1][2],t[1][3])"
   ]
  },
  {
   "cell_type": "code",
   "execution_count": 52,
   "id": "0ec0504d",
   "metadata": {},
   "outputs": [
    {
     "data": {
      "text/plain": [
       "torch.Size([1, 5, 35811, 173])"
      ]
     },
     "execution_count": 52,
     "metadata": {},
     "output_type": "execute_result"
    }
   ],
   "source": [
    "u.shape"
   ]
  },
  {
   "cell_type": "code",
   "execution_count": 53,
   "id": "2c925dce",
   "metadata": {},
   "outputs": [],
   "source": [
    "out = u.reshape(1, 173, 207, 173, 5)\n",
    "out = torch.permute(out,(0,4,1,2,3))"
   ]
  },
  {
   "cell_type": "code",
   "execution_count": 54,
   "id": "5cb16d0a",
   "metadata": {},
   "outputs": [
    {
     "data": {
      "text/plain": [
       "torch.Size([1, 5, 173, 207, 173])"
      ]
     },
     "execution_count": 54,
     "metadata": {},
     "output_type": "execute_result"
    }
   ],
   "source": [
    "out.shape"
   ]
  },
  {
   "cell_type": "code",
   "execution_count": 55,
   "id": "630b5d53",
   "metadata": {},
   "outputs": [],
   "source": [
    "temp[1].shape\n",
    "hr = torch.permute(temp[1],(0,4,1,2,3))"
   ]
  },
  {
   "cell_type": "code",
   "execution_count": 56,
   "id": "2442e2b2",
   "metadata": {},
   "outputs": [
    {
     "data": {
      "text/plain": [
       "(torch.Size([1, 5, 173, 207, 173]), torch.Size([1, 5, 173, 207, 173]))"
      ]
     },
     "execution_count": 56,
     "metadata": {},
     "output_type": "execute_result"
    }
   ],
   "source": [
    "hr.shape,out.shape"
   ]
  },
  {
   "cell_type": "code",
   "execution_count": 70,
   "id": "df9a06d7",
   "metadata": {},
   "outputs": [
    {
     "data": {
      "text/plain": [
       "tensor(1.0011, grad_fn=<MeanBackward0>)"
      ]
     },
     "execution_count": 70,
     "metadata": {},
     "output_type": "execute_result"
    }
   ],
   "source": [
    "ssim(hr,out)"
   ]
  },
  {
   "cell_type": "code",
   "execution_count": 64,
   "id": "86b5155a",
   "metadata": {},
   "outputs": [],
   "source": [
    "from torchmetrics import StructuralSimilarityIndexMeasure\n",
    "import torch\n",
    "ssim = StructuralSimilarityIndexMeasure(data_range=1.0)"
   ]
  },
  {
   "cell_type": "code",
   "execution_count": null,
   "id": "6aa6ee7f",
   "metadata": {},
   "outputs": [],
   "source": []
  }
 ],
 "metadata": {
  "kernelspec": {
   "display_name": "Python 3 (ipykernel)",
   "language": "python",
   "name": "python3"
  },
  "language_info": {
   "codemirror_mode": {
    "name": "ipython",
    "version": 3
   },
   "file_extension": ".py",
   "mimetype": "text/x-python",
   "name": "python",
   "nbconvert_exporter": "python",
   "pygments_lexer": "ipython3",
   "version": "3.8.10"
  }
 },
 "nbformat": 4,
 "nbformat_minor": 5
}
