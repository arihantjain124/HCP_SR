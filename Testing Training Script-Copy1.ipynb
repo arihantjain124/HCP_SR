{
 "cells": [
  {
   "cell_type": "code",
   "execution_count": 1,
   "id": "6994d270",
   "metadata": {},
   "outputs": [
    {
     "name": "stdout",
     "output_type": "stream",
     "text": [
      "number of common Subjects  171\n"
     ]
    }
   ],
   "source": [
    "import argparse, os\n",
    "os.environ[\"CUDA_VISIBLE_DEVICES\"] = \"7\"\n",
    "import torch\n",
    "import torch.nn as nn\n",
    "import torch.optim as optim\n",
    "from torch.utils.data import DataLoader\n",
    "import matplotlib.pyplot as plt\n",
    "import numpy as np\n",
    "import cupy as cp\n",
    "import cucim\n",
    "import data.utils_metrics as utils_met\n",
    "import cucim.skimage.metrics as met\n",
    "\n",
    "import utils\n",
    "import data.HCP_dataset_h5_arb as HCP_dataset"
   ]
  },
  {
   "cell_type": "markdown",
   "id": "a0adebb9",
   "metadata": {},
   "source": [
    "7T scan resolution : 173, 207, 173\n",
    "\n",
    "3T scan resolution : 145, 174, 174"
   ]
  },
  {
   "cell_type": "code",
   "execution_count": 2,
   "id": "06fc2873",
   "metadata": {},
   "outputs": [
    {
     "name": "stdout",
     "output_type": "stream",
     "text": [
      "Namespace(block_size=(16, 16, 16), test_size=(64, 64, 16), crop_depth=15, dir='/storage', batch_size=4, sort=True, debug=True, preload=True, scale=(1, 1, 1), ret_points=True, typ='upsampled')\n"
     ]
    }
   ],
   "source": [
    "parser = argparse.ArgumentParser(description=\"DTI_ARB\")\n",
    "parser.add_argument(\"--block_size\", type=tuple, default=(16,16,16),\n",
    "                    help=\"Block Size\")\n",
    "parser.add_argument(\"--test_size\", type=tuple, default=(64,64,16),\n",
    "                    help=\"test_size\")\n",
    "parser.add_argument(\"--crop_depth\", type=int, default=15,\n",
    "                    help=\"crop across z-axis\")\n",
    "parser.add_argument(\"--dir\", type=str,\n",
    "                    help=\"dataset_directory\")\n",
    "parser.add_argument(\"--batch_size\", type=int,\n",
    "                    help=\"dataset_directory\")\n",
    "parser.add_argument(\"--sort\", type=bool,\n",
    "                    help=\"dataset_directory\")\n",
    "parser.add_argument(\"--debug\", type=bool,\n",
    "                    help=\"dataset_directory\")\n",
    "parser.add_argument(\"--preload\", type=bool,\n",
    "                    help=\"dataset_directory\")\n",
    "parser.add_argument(\"--scale\", type=tuple, default=(1,1,1),\n",
    "                    help=\"test_size\")\n",
    "parser.add_argument(\"--ret_points\", type=bool, default=False,\n",
    "                    help=\"test_size\")\n",
    "args = list(parser.parse_known_args())[0]\n",
    "args.preload = True\n",
    "args.ret_points = True\n",
    "args.debug = True\n",
    "args.dir = \"/storage\"\n",
    "args.batch_size = 4\n",
    "args.sort = True\n",
    "args.typ = 'upsampled'\n",
    "args.scale = (1,1,1)\n",
    "print(args)"
   ]
  },
  {
   "cell_type": "code",
   "execution_count": 3,
   "id": "b83b0d52",
   "metadata": {},
   "outputs": [
    {
     "name": "stdout",
     "output_type": "stream",
     "text": [
      "100610 loaded\n",
      "102311 loaded\n",
      "102816 loaded\n",
      "104416 loaded\n",
      "105923 loaded\n"
     ]
    }
   ],
   "source": [
    "ids = utils.get_ids()\n",
    "ids.sort()\n",
    "ids = ids[:5]\n",
    "dataset_hcp = HCP_dataset\n",
    "dataset_hcp.load_data(args.dir,ids)\n",
    "training_dataset = dataset_hcp.hcp_data(args,ids)\n",
    "# testing_dataset = dataset_hcp.hcp_data_test(args,ids)"
   ]
  },
  {
   "cell_type": "code",
   "execution_count": 28,
   "id": "87305d1b",
   "metadata": {},
   "outputs": [
    {
     "name": "stdout",
     "output_type": "stream",
     "text": [
      "(16, 16, 16, 8) (16, 16, 16) (16, 16, 16) (16, 16, 16, 3)\n"
     ]
    }
   ],
   "source": [
    "x = training_dataset[0]\n",
    "print(x[0].shape,x[1].shape,x[2].shape,x[3].shape,x[4].shape,x[5])"
   ]
  },
  {
   "cell_type": "code",
   "execution_count": 29,
   "id": "beb80720",
   "metadata": {},
   "outputs": [
    {
     "data": {
      "text/plain": [
       "828"
      ]
     },
     "execution_count": 29,
     "metadata": {},
     "output_type": "execute_result"
    }
   ],
   "source": [
    "len(training_dataset)"
   ]
  },
  {
   "cell_type": "code",
   "execution_count": 30,
   "id": "deeec9bf",
   "metadata": {},
   "outputs": [],
   "source": [
    "def resize(data):\n",
    "    x,y = [],[]\n",
    "    for i in range(len(data)):\n",
    "        x.append(data[i][0])\n",
    "        y.append(np.concatenate([np.expand_dims(data[i][1],axis = 3),np.expand_dims(data[i][2],axis = 3),data[i][3]], axis=3))\n",
    "    return torch.from_numpy(np.stack(x)),torch.from_numpy(np.stack(y))"
   ]
  },
  {
   "cell_type": "code",
   "execution_count": 31,
   "id": "d9d2445a",
   "metadata": {},
   "outputs": [],
   "source": [
    "training_data_loader = DataLoader(dataset=training_dataset, batch_size=8, shuffle=True, pin_memory=True, drop_last=True,collate_fn=resize)\n",
    "# testing_data_loader = DataLoader(dataset=testing_dataset, batch_size=1,pin_memory=True,collate_fn=resize)"
   ]
  },
  {
   "cell_type": "code",
   "execution_count": 32,
   "id": "8dc3c3f0",
   "metadata": {},
   "outputs": [
    {
     "data": {
      "text/plain": [
       "103"
      ]
     },
     "execution_count": 32,
     "metadata": {},
     "output_type": "execute_result"
    }
   ],
   "source": [
    "len(training_data_loader)"
   ]
  },
  {
   "cell_type": "code",
   "execution_count": 33,
   "id": "33d51f0d",
   "metadata": {},
   "outputs": [],
   "source": [
    "temp = next(iter(training_data_loader))"
   ]
  },
  {
   "cell_type": "code",
   "execution_count": 34,
   "id": "70e30d82",
   "metadata": {},
   "outputs": [
    {
     "data": {
      "text/plain": [
       "torch.Size([8, 16, 16, 16, 8])"
      ]
     },
     "execution_count": 34,
     "metadata": {},
     "output_type": "execute_result"
    }
   ],
   "source": [
    "temp[0].shape"
   ]
  },
  {
   "cell_type": "code",
   "execution_count": 35,
   "id": "2dd49f90",
   "metadata": {},
   "outputs": [
    {
     "data": {
      "text/plain": [
       "torch.Size([8, 16, 16, 16, 5])"
      ]
     },
     "execution_count": 35,
     "metadata": {},
     "output_type": "execute_result"
    }
   ],
   "source": [
    "temp[1].shape"
   ]
  },
  {
   "cell_type": "code",
   "execution_count": 36,
   "id": "1b9e422c",
   "metadata": {},
   "outputs": [],
   "source": [
    "# l=10\n",
    "# samples = [random.randint(0,len(temp[0])-1) for i in range(l)]"
   ]
  },
  {
   "cell_type": "code",
   "execution_count": null,
   "id": "ee687688",
   "metadata": {},
   "outputs": [],
   "source": []
  },
  {
   "cell_type": "code",
   "execution_count": 17,
   "id": "f2b75c9a",
   "metadata": {},
   "outputs": [
    {
     "ename": "ValueError",
     "evalue": "only one element tensors can be converted to Python scalars",
     "output_type": "error",
     "traceback": [
      "\u001b[0;31m---------------------------------------------------------------------------\u001b[0m",
      "\u001b[0;31mValueError\u001b[0m                                Traceback (most recent call last)",
      "Cell \u001b[0;32mIn[17], line 19\u001b[0m\n\u001b[1;32m     17\u001b[0m img \u001b[38;5;241m=\u001b[39m temp[\u001b[38;5;241m0\u001b[39m][z]\n\u001b[1;32m     18\u001b[0m sliceee \u001b[38;5;241m=\u001b[39m temp[\u001b[38;5;241m0\u001b[39m][z][\u001b[38;5;241m-\u001b[39m\u001b[38;5;241m1\u001b[39m]\n\u001b[0;32m---> 19\u001b[0m y,x,w,d \u001b[38;5;241m=\u001b[39m img[\u001b[38;5;241m0\u001b[39m],img[\u001b[38;5;241m2\u001b[39m],\u001b[38;5;28;43mint\u001b[39;49m\u001b[43m(\u001b[49m\u001b[43mimg\u001b[49m\u001b[43m[\u001b[49m\u001b[38;5;241;43m1\u001b[39;49m\u001b[43m]\u001b[49m\u001b[38;5;241;43m-\u001b[39;49m\u001b[43mimg\u001b[49m\u001b[43m[\u001b[49m\u001b[38;5;241;43m0\u001b[39;49m\u001b[43m]\u001b[49m\u001b[43m)\u001b[49m,\u001b[38;5;28mint\u001b[39m(img[\u001b[38;5;241m3\u001b[39m]\u001b[38;5;241m-\u001b[39mimg[\u001b[38;5;241m2\u001b[39m])\n\u001b[1;32m     20\u001b[0m ax[i][\u001b[38;5;241m0\u001b[39m]\u001b[38;5;241m.\u001b[39madd_patch(Rectangle((x, y), w, d, fill\u001b[38;5;241m=\u001b[39m\u001b[38;5;28;01mFalse\u001b[39;00m, edgecolor\u001b[38;5;241m=\u001b[39m\u001b[38;5;124m'\u001b[39m\u001b[38;5;124mred\u001b[39m\u001b[38;5;124m'\u001b[39m, linewidth\u001b[38;5;241m=\u001b[39m\u001b[38;5;241m1\u001b[39m))\n\u001b[1;32m     21\u001b[0m ax[i][\u001b[38;5;241m0\u001b[39m]\u001b[38;5;241m.\u001b[39mimshow(data_3t[:,:,sliceee,\u001b[38;5;241m0\u001b[39m])\n",
      "\u001b[0;31mValueError\u001b[0m: only one element tensors can be converted to Python scalars"
     ]
    },
    {
     "data": {
      "image/png": "[encoded data removed]",
      "text/plain": [
       "<Figure size 1500x4000 with 40 Axes>"
      ]
     },
     "metadata": {},
     "output_type": "display_data"
    }
   ],
   "source": [
    "import matplotlib.pyplot as plt\n",
    "from matplotlib.patches import Rectangle\n",
    "import random\n",
    "\n",
    "fig, ax = plt.subplots(l,4,gridspec_kw={'width_ratios': [2.5, 1,1,1]})\n",
    "\n",
    "# to change size of subplot's set height of each subplot as 8\n",
    "fig.set_figheight(4*l)\n",
    " \n",
    "# set width of each subplot as 8\n",
    "fig.set_figwidth(15)\n",
    "for i in range(l):\n",
    "    z = samples[i]\n",
    "    img = temp[0][z]\n",
    "    sliceee = temp[0][z][-1]\n",
    "    y,x,w,d = img[0],img[2],int(img[1]-img[0]),int(img[3]-img[2])\n",
    "    ax[i][0].add_patch(Rectangle((x, y), w, d, fill=False, edgecolor='red', linewidth=1))\n",
    "    ax[i][0].imshow(data_3t[:,:,sliceee,0])\n",
    "    ax[i][1].imshow(extracted_3t[z][:,:,0,0])\n",
    "    \n",
    "    img = temp[1][z]\n",
    "    sliceee = temp[1][z][-1]\n",
    "    y,x,w,d = img[0],img[2],int(img[1]-img[0]),int(img[3]-img[2])\n",
    "    ax[i][2].add_patch(Rectangle((x, y), w, d, fill=False, edgecolor='red', linewidth=1))\n",
    "    ax[i][2].imshow(data_7t[:,:,sliceee,0])\n",
    "    ax[i][3].imshow(extracted_7t[z][:,:,0,0])\n",
    "plt.show()"
   ]
  },
  {
   "cell_type": "code",
   "execution_count": 13,
   "id": "837c0d0b",
   "metadata": {},
   "outputs": [],
   "source": [
    "def resize(data):\n",
    "    x,y = [],[]\n",
    "    for i in range(len(data)):\n",
    "        x.append(data[i][0])\n",
    "        y.append(np.concatenate([np.expand_dims(data[i][1],axis = 3),np.expand_dims(data[i][2],axis = 3),data[i][3]], axis=3))\n",
    "    return torch.from_numpy(np.stack(x)),torch.from_numpy(np.stack(y))"
   ]
  },
  {
   "cell_type": "code",
   "execution_count": 16,
   "id": "310c7ac7",
   "metadata": {},
   "outputs": [],
   "source": [
    "training_data_loader = DataLoader(dataset=training_dataset, batch_size=4, shuffle=True, pin_memory=True, drop_last=True,collate_fn=resize)\n",
    "# testing_data_loader = DataLoader(dataset=testing_dataset, batch_size=1,pin_memory=True,collate_fn=resize)"
   ]
  },
  {
   "cell_type": "code",
   "execution_count": 17,
   "id": "c51f0d9e",
   "metadata": {},
   "outputs": [
    {
     "name": "stdout",
     "output_type": "stream",
     "text": [
      "17\n"
     ]
    }
   ],
   "source": [
    "print(len(training_data_loader))"
   ]
  },
  {
   "cell_type": "code",
   "execution_count": 18,
   "id": "fa206c1e",
   "metadata": {},
   "outputs": [
    {
     "data": {
      "text/plain": [
       "71"
      ]
     },
     "execution_count": 18,
     "metadata": {},
     "output_type": "execute_result"
    }
   ],
   "source": [
    "len(training_dataset)"
   ]
  },
  {
   "cell_type": "code",
   "execution_count": 19,
   "id": "622fbe91",
   "metadata": {},
   "outputs": [],
   "source": [
    "temp = next(iter(training_data_loader))"
   ]
  },
  {
   "cell_type": "code",
   "execution_count": 20,
   "id": "31aa99a6",
   "metadata": {},
   "outputs": [
    {
     "data": {
      "text/plain": [
       "torch.Size([4, 32, 32, 32, 8])"
      ]
     },
     "execution_count": 20,
     "metadata": {},
     "output_type": "execute_result"
    }
   ],
   "source": [
    "temp[0].shape"
   ]
  },
  {
   "cell_type": "code",
   "execution_count": 21,
   "id": "d32cad22",
   "metadata": {},
   "outputs": [
    {
     "data": {
      "text/plain": [
       "torch.Size([4, 64, 64, 64, 5])"
      ]
     },
     "execution_count": 21,
     "metadata": {},
     "output_type": "execute_result"
    }
   ],
   "source": [
    "temp[1].shape"
   ]
  },
  {
   "cell_type": "code",
   "execution_count": 22,
   "id": "08da3272",
   "metadata": {},
   "outputs": [
    {
     "data": {
      "text/plain": [
       "device(type='cpu')"
      ]
     },
     "execution_count": 22,
     "metadata": {},
     "output_type": "execute_result"
    }
   ],
   "source": [
    "temp[0].device"
   ]
  },
  {
   "cell_type": "code",
   "execution_count": 23,
   "id": "6c8f53e5",
   "metadata": {},
   "outputs": [
    {
     "name": "stdout",
     "output_type": "stream",
     "text": [
      "cuda:0\n"
     ]
    }
   ],
   "source": [
    "t = temp[0].cuda()\n",
    "print(t.device)"
   ]
  },
  {
   "cell_type": "markdown",
   "id": "32f9c954",
   "metadata": {},
   "source": [
    "## DUAL ARBNET"
   ]
  },
  {
   "cell_type": "code",
   "execution_count": 24,
   "id": "76aba955",
   "metadata": {},
   "outputs": [],
   "source": [
    "from model import rdn\n",
    "import argparse, os\n",
    "import numpy as np\n",
    "import matplotlib.pyplot as plt\n",
    "import torch\n",
    "from model import dmri_arb"
   ]
  },
  {
   "cell_type": "code",
   "execution_count": 25,
   "id": "ab857da9",
   "metadata": {},
   "outputs": [],
   "source": [
    "model = dmri_arb.DMRI_SR()"
   ]
  },
  {
   "cell_type": "code",
   "execution_count": 26,
   "id": "8487508d",
   "metadata": {},
   "outputs": [
    {
     "data": {
      "text/plain": [
       "DMRI_SR(\n",
       "  (encoder): RDN(\n",
       "    (SFENet1): Conv3d(8, 16, kernel_size=(3, 3, 3), stride=(1, 1, 1), padding=(1, 1, 1))\n",
       "    (SFENet2): Conv3d(16, 16, kernel_size=(3, 3, 3), stride=(1, 1, 1), padding=(1, 1, 1))\n",
       "    (RDBs): ModuleList(\n",
       "      (0-2): 3 x RDB(\n",
       "        (convs): Sequential(\n",
       "          (0): RDB_Conv(\n",
       "            (conv): Sequential(\n",
       "              (0): Conv3d(16, 32, kernel_size=(3, 3, 3), stride=(1, 1, 1), padding=(1, 1, 1))\n",
       "              (1): ReLU()\n",
       "            )\n",
       "          )\n",
       "          (1): RDB_Conv(\n",
       "            (conv): Sequential(\n",
       "              (0): Conv3d(48, 32, kernel_size=(3, 3, 3), stride=(1, 1, 1), padding=(1, 1, 1))\n",
       "              (1): ReLU()\n",
       "            )\n",
       "          )\n",
       "          (2): RDB_Conv(\n",
       "            (conv): Sequential(\n",
       "              (0): Conv3d(80, 32, kernel_size=(3, 3, 3), stride=(1, 1, 1), padding=(1, 1, 1))\n",
       "              (1): ReLU()\n",
       "            )\n",
       "          )\n",
       "          (3): RDB_Conv(\n",
       "            (conv): Sequential(\n",
       "              (0): Conv3d(112, 32, kernel_size=(3, 3, 3), stride=(1, 1, 1), padding=(1, 1, 1))\n",
       "              (1): ReLU()\n",
       "            )\n",
       "          )\n",
       "          (4): RDB_Conv(\n",
       "            (conv): Sequential(\n",
       "              (0): Conv3d(144, 32, kernel_size=(3, 3, 3), stride=(1, 1, 1), padding=(1, 1, 1))\n",
       "              (1): ReLU()\n",
       "            )\n",
       "          )\n",
       "        )\n",
       "        (LFF): Conv3d(176, 16, kernel_size=(1, 1, 1), stride=(1, 1, 1))\n",
       "      )\n",
       "    )\n",
       "    (GFF): Sequential(\n",
       "      (0): Conv3d(48, 16, kernel_size=(1, 1, 1), stride=(1, 1, 1))\n",
       "      (1): Conv3d(16, 16, kernel_size=(3, 3, 3), stride=(1, 1, 1), padding=(1, 1, 1))\n",
       "    )\n",
       "  )\n",
       "  (decoder): ImplicitDecoder(\n",
       "    (Q): ModuleList(\n",
       "      (0): Sequential(\n",
       "        (0): Conv3d(432, 64, kernel_size=(1, 1, 1), stride=(1, 1, 1))\n",
       "        (1): SineAct()\n",
       "      )\n",
       "      (1): Sequential(\n",
       "        (0): Conv3d(64, 32, kernel_size=(1, 1, 1), stride=(1, 1, 1))\n",
       "        (1): SineAct()\n",
       "      )\n",
       "      (2): Sequential(\n",
       "        (0): Conv3d(32, 16, kernel_size=(1, 1, 1), stride=(1, 1, 1))\n",
       "        (1): SineAct()\n",
       "      )\n",
       "      (3): Sequential(\n",
       "        (0): Conv3d(16, 16, kernel_size=(1, 1, 1), stride=(1, 1, 1))\n",
       "        (1): SineAct()\n",
       "      )\n",
       "      (4): Sequential(\n",
       "        (0): Conv3d(16, 8, kernel_size=(1, 1, 1), stride=(1, 1, 1))\n",
       "        (1): SineAct()\n",
       "      )\n",
       "    )\n",
       "    (in_branch): Sequential(\n",
       "      (0): Conv3d(432, 16, kernel_size=(1, 1, 1), stride=(1, 1, 1))\n",
       "      (1): ReLU()\n",
       "      (2): Conv3d(16, 8, kernel_size=(1, 1, 1), stride=(1, 1, 1))\n",
       "      (3): ReLU()\n",
       "    )\n",
       "    (mixer): Sequential(\n",
       "      (0): Conv3d(16, 8, kernel_size=(1, 1, 1), stride=(1, 1, 1))\n",
       "      (1): ReLU()\n",
       "    )\n",
       "    (last_layer): Conv3d(8, 5, kernel_size=(1, 1, 1), stride=(1, 1, 1))\n",
       "  )\n",
       ")"
      ]
     },
     "execution_count": 26,
     "metadata": {},
     "output_type": "execute_result"
    }
   ],
   "source": [
    "model"
   ]
  },
  {
   "cell_type": "code",
   "execution_count": 28,
   "id": "d394840a",
   "metadata": {},
   "outputs": [],
   "source": [
    "optimizer = optim.Adam(model.parameters(), lr=0.02)\n",
    "#     scheduler = torch.optim.lr_scheduler.StepLR(optimizer, step_size=800)\n",
    "# scheduler = torch.optim.lr_scheduler.CyclicLR(optimizer,base_lr = lr, max_lr=0.08, step_size_up  = len(training_data_loader) * 4 , mode  = 'exp_range',cycle_momentum=False)\n",
    "scheduler = torch.optim.lr_scheduler.ReduceLROnPlateau(optimizer, mode='min',factor = 0.7,patience=5,min_lr = 0.0005)"
   ]
  },
  {
   "cell_type": "code",
   "execution_count": 32,
   "id": "95f7e2fb",
   "metadata": {},
   "outputs": [],
   "source": [
    "scheduler.step()"
   ]
  },
  {
   "cell_type": "code",
   "execution_count": 43,
   "id": "af181c4d",
   "metadata": {},
   "outputs": [
    {
     "data": {
      "text/plain": [
       "0.02"
      ]
     },
     "execution_count": 43,
     "metadata": {},
     "output_type": "execute_result"
    }
   ],
   "source": [
    "optimizer.defaults['lr']"
   ]
  },
  {
   "cell_type": "code",
   "execution_count": 50,
   "id": "87ee006c",
   "metadata": {},
   "outputs": [],
   "source": [
    "sect = [i+20 for i in range(0,90,10)]"
   ]
  },
  {
   "cell_type": "code",
   "execution_count": 51,
   "id": "d385a0ae",
   "metadata": {},
   "outputs": [
    {
     "data": {
      "text/plain": [
       "[20, 30, 40, 50, 60, 70, 80, 90, 100]"
      ]
     },
     "execution_count": 51,
     "metadata": {},
     "output_type": "execute_result"
    }
   ],
   "source": [
    "sect"
   ]
  },
  {
   "cell_type": "code",
   "execution_count": 36,
   "id": "6d88065e",
   "metadata": {},
   "outputs": [
    {
     "data": {
      "text/plain": [
       "['__class__',\n",
       " '__delattr__',\n",
       " '__dict__',\n",
       " '__dir__',\n",
       " '__doc__',\n",
       " '__eq__',\n",
       " '__format__',\n",
       " '__ge__',\n",
       " '__getattribute__',\n",
       " '__getstate__',\n",
       " '__gt__',\n",
       " '__hash__',\n",
       " '__init__',\n",
       " '__init_subclass__',\n",
       " '__le__',\n",
       " '__lt__',\n",
       " '__module__',\n",
       " '__ne__',\n",
       " '__new__',\n",
       " '__reduce__',\n",
       " '__reduce_ex__',\n",
       " '__repr__',\n",
       " '__setattr__',\n",
       " '__setstate__',\n",
       " '__sizeof__',\n",
       " '__str__',\n",
       " '__subclasshook__',\n",
       " '__weakref__',\n",
       " '_cuda_graph_capture_health_check',\n",
       " '_group_tensors_by_device_and_dtype',\n",
       " '_init_group',\n",
       " '_optimizer_step_code',\n",
       " '_optimizer_step_post_hooks',\n",
       " '_optimizer_step_pre_hooks',\n",
       " '_patch_step_function',\n",
       " '_process_value_according_to_param_policy',\n",
       " '_warned_capturable_if_run_uncaptured',\n",
       " '_zero_grad_profile_name',\n",
       " 'add_param_group',\n",
       " 'defaults',\n",
       " 'load_state_dict',\n",
       " 'param_groups',\n",
       " 'profile_hook_step',\n",
       " 'register_step_post_hook',\n",
       " 'register_step_pre_hook',\n",
       " 'state',\n",
       " 'state_dict',\n",
       " 'step',\n",
       " 'zero_grad']"
      ]
     },
     "execution_count": 36,
     "metadata": {},
     "output_type": "execute_result"
    }
   ],
   "source": [
    "dir(optimizer)"
   ]
  },
  {
   "cell_type": "code",
   "execution_count": 25,
   "id": "823b888c",
   "metadata": {},
   "outputs": [
    {
     "name": "stdout",
     "output_type": "stream",
     "text": [
      "torch.Size([4, 32, 32, 32, 8])\n",
      "torch.Size([4, 8, 32, 32, 32])\n"
     ]
    }
   ],
   "source": [
    "temp = next(iter(training_data_loader))\n",
    "print(temp[0].shape)\n",
    "inp = torch.permute(temp[0], (0,4,1,2,3))\n",
    "print(inp.shape)"
   ]
  },
  {
   "cell_type": "code",
   "execution_count": 26,
   "id": "50beda6d",
   "metadata": {},
   "outputs": [],
   "source": [
    "inp = inp.to(\"cuda\")"
   ]
  },
  {
   "cell_type": "code",
   "execution_count": 27,
   "id": "e791fead",
   "metadata": {},
   "outputs": [],
   "source": [
    "model = model.to(\"cuda\")"
   ]
  },
  {
   "cell_type": "code",
   "execution_count": 28,
   "id": "babb16ab",
   "metadata": {},
   "outputs": [],
   "source": [
    "model.set_scale(scale = (1.2,1.2,1.2))"
   ]
  },
  {
   "cell_type": "code",
   "execution_count": 29,
   "id": "d48eaca9",
   "metadata": {},
   "outputs": [],
   "source": [
    "out = model(inp)"
   ]
  },
  {
   "cell_type": "code",
   "execution_count": 30,
   "id": "b9b293dd",
   "metadata": {},
   "outputs": [
    {
     "data": {
      "text/plain": [
       "torch.Size([4, 5, 38, 38, 38])"
      ]
     },
     "execution_count": 30,
     "metadata": {},
     "output_type": "execute_result"
    }
   ],
   "source": [
    "out.shape"
   ]
  },
  {
   "cell_type": "code",
   "execution_count": 31,
   "id": "6f4a2b27",
   "metadata": {},
   "outputs": [
    {
     "name": "stdout",
     "output_type": "stream",
     "text": [
      "torch.Size([4, 38, 38, 38, 5])\n"
     ]
    }
   ],
   "source": [
    "out = torch.permute(out, (0,2,3,4,1))\n",
    "print(out.shape)"
   ]
  },
  {
   "cell_type": "code",
   "execution_count": 32,
   "id": "be13e845",
   "metadata": {},
   "outputs": [
    {
     "data": {
      "text/plain": [
       "torch.Size([4, 64, 64, 64, 5])"
      ]
     },
     "execution_count": 32,
     "metadata": {},
     "output_type": "execute_result"
    }
   ],
   "source": [
    "temp[1].shape"
   ]
  },
  {
   "cell_type": "code",
   "execution_count": 33,
   "id": "deebe604",
   "metadata": {},
   "outputs": [
    {
     "name": "stdout",
     "output_type": "stream",
     "text": [
      "torch.Size([1, 145, 174, 145, 8]) torch.Size([1, 173, 207, 173, 5])\n",
      "torch.Size([1, 145, 174, 145, 8]) torch.Size([1, 173, 207, 173, 5])\n",
      "torch.Size([1, 145, 174, 143, 8]) torch.Size([1, 173, 207, 173, 5])\n",
      "torch.Size([1, 145, 174, 143, 8]) torch.Size([1, 173, 207, 173, 5])\n",
      "torch.Size([1, 145, 174, 143, 8]) torch.Size([1, 173, 207, 173, 5])\n"
     ]
    }
   ],
   "source": [
    "for iteration, (lr_tensor, hr_tensor) in enumerate(testing_data_loader, 1):\n",
    "    print(lr_tensor.shape,hr_tensor.shape)"
   ]
  },
  {
   "cell_type": "code",
   "execution_count": 34,
   "id": "f38700b1",
   "metadata": {},
   "outputs": [],
   "source": [
    "import numpy as np"
   ]
  },
  {
   "cell_type": "code",
   "execution_count": 35,
   "id": "95fa533e",
   "metadata": {},
   "outputs": [],
   "source": [
    "\n",
    "sect = [10,25,35,45,50]\n",
    "scale = {i:np.random.uniform(1,2,3) for i in sect}\n",
    "scale[0] = (1,1,1)"
   ]
  },
  {
   "cell_type": "code",
   "execution_count": 36,
   "id": "294a804b",
   "metadata": {},
   "outputs": [
    {
     "data": {
      "text/plain": [
       "{10: array([1.81138511, 1.58001414, 1.47434443]),\n",
       " 25: array([1.01124638, 1.22630205, 1.66937451]),\n",
       " 35: array([1.78339203, 1.87363618, 1.8684519 ]),\n",
       " 45: array([1.51703386, 1.24300496, 1.17588612]),\n",
       " 50: array([1.62551997, 1.87603926, 1.70837848]),\n",
       " 0: (1, 1, 1)}"
      ]
     },
     "execution_count": 36,
     "metadata": {},
     "output_type": "execute_result"
    }
   ],
   "source": [
    "scale"
   ]
  },
  {
   "cell_type": "code",
   "execution_count": 37,
   "id": "469ef46a",
   "metadata": {},
   "outputs": [
    {
     "data": {
      "text/plain": [
       "torch.Size([1, 145, 174, 143, 8])"
      ]
     },
     "execution_count": 37,
     "metadata": {},
     "output_type": "execute_result"
    }
   ],
   "source": [
    "lr_tensor.shape"
   ]
  },
  {
   "cell_type": "code",
   "execution_count": null,
   "id": "32e6f975",
   "metadata": {},
   "outputs": [],
   "source": [
    "lr_tensor = lr_tensor[:,3:70,:]"
   ]
  },
  {
   "cell_type": "code",
   "execution_count": 37,
   "id": "ee4d22d7",
   "metadata": {},
   "outputs": [],
   "source": [
    "model.set_scale(scale = (1.2,1.2,1.2))"
   ]
  },
  {
   "cell_type": "code",
   "execution_count": 39,
   "id": "50996a07",
   "metadata": {},
   "outputs": [],
   "source": [
    "inp = torch.permute(lr_tensor, (0,4,1,2,3))"
   ]
  },
  {
   "cell_type": "code",
   "execution_count": 41,
   "id": "5a516ddf",
   "metadata": {},
   "outputs": [],
   "source": [
    "dev = torch.device(\"cuda\")"
   ]
  },
  {
   "cell_type": "code",
   "execution_count": 42,
   "id": "e7504d2b",
   "metadata": {},
   "outputs": [],
   "source": [
    "inp = inp.to(dev)"
   ]
  },
  {
   "cell_type": "code",
   "execution_count": 43,
   "id": "70c21137",
   "metadata": {},
   "outputs": [
    {
     "ename": "RuntimeError",
     "evalue": "GET was unable to find an engine to execute this computation",
     "output_type": "error",
     "traceback": [
      "\u001b[0;31m---------------------------------------------------------------------------\u001b[0m",
      "\u001b[0;31mRuntimeError\u001b[0m                              Traceback (most recent call last)",
      "Cell \u001b[0;32mIn[43], line 1\u001b[0m\n\u001b[0;32m----> 1\u001b[0m out \u001b[38;5;241m=\u001b[39m \u001b[43mmodel\u001b[49m\u001b[43m(\u001b[49m\u001b[43minp\u001b[49m\u001b[43m)\u001b[49m\n",
      "File \u001b[0;32m/usr/local/lib/python3.8/dist-packages/torch/nn/modules/module.py:1423\u001b[0m, in \u001b[0;36mModule._call_impl\u001b[0;34m(self, *input, **kwargs)\u001b[0m\n\u001b[1;32m   1418\u001b[0m \u001b[38;5;66;03m# If we don't have any hooks, we want to skip the rest of the logic in\u001b[39;00m\n\u001b[1;32m   1419\u001b[0m \u001b[38;5;66;03m# this function, and just call forward.\u001b[39;00m\n\u001b[1;32m   1420\u001b[0m \u001b[38;5;28;01mif\u001b[39;00m \u001b[38;5;129;01mnot\u001b[39;00m (\u001b[38;5;28mself\u001b[39m\u001b[38;5;241m.\u001b[39m_backward_hooks \u001b[38;5;129;01mor\u001b[39;00m \u001b[38;5;28mself\u001b[39m\u001b[38;5;241m.\u001b[39m_backward_pre_hooks \u001b[38;5;129;01mor\u001b[39;00m \u001b[38;5;28mself\u001b[39m\u001b[38;5;241m.\u001b[39m_forward_hooks \u001b[38;5;129;01mor\u001b[39;00m \u001b[38;5;28mself\u001b[39m\u001b[38;5;241m.\u001b[39m_forward_pre_hooks\n\u001b[1;32m   1421\u001b[0m         \u001b[38;5;129;01mor\u001b[39;00m _global_backward_pre_hooks \u001b[38;5;129;01mor\u001b[39;00m _global_backward_hooks\n\u001b[1;32m   1422\u001b[0m         \u001b[38;5;129;01mor\u001b[39;00m _global_forward_hooks \u001b[38;5;129;01mor\u001b[39;00m _global_forward_pre_hooks):\n\u001b[0;32m-> 1423\u001b[0m     \u001b[38;5;28;01mreturn\u001b[39;00m \u001b[43mforward_call\u001b[49m\u001b[43m(\u001b[49m\u001b[38;5;241;43m*\u001b[39;49m\u001b[38;5;28;43minput\u001b[39;49m\u001b[43m,\u001b[49m\u001b[43m \u001b[49m\u001b[38;5;241;43m*\u001b[39;49m\u001b[38;5;241;43m*\u001b[39;49m\u001b[43mkwargs\u001b[49m\u001b[43m)\u001b[49m\n\u001b[1;32m   1424\u001b[0m \u001b[38;5;66;03m# Do not call functions when jit is used\u001b[39;00m\n\u001b[1;32m   1425\u001b[0m full_backward_hooks, non_full_backward_hooks \u001b[38;5;241m=\u001b[39m [], []\n",
      "File \u001b[0;32m/workspace/Code/DMRI_SR/model/dmri_arb.py:78\u001b[0m, in \u001b[0;36mDMRI_SR.forward\u001b[0;34m(self, inp)\u001b[0m\n\u001b[1;32m     76\u001b[0m feat \u001b[38;5;241m=\u001b[39m \u001b[38;5;28mself\u001b[39m\u001b[38;5;241m.\u001b[39mencoder(inp)\n\u001b[1;32m     77\u001b[0m \u001b[38;5;66;03m# latent = self.latent_layer(feat)\u001b[39;00m\n\u001b[0;32m---> 78\u001b[0m pred \u001b[38;5;241m=\u001b[39m \u001b[38;5;28;43mself\u001b[39;49m\u001b[38;5;241;43m.\u001b[39;49m\u001b[43mdecoder\u001b[49m\u001b[43m(\u001b[49m\u001b[43mfeat\u001b[49m\u001b[43m,\u001b[49m\u001b[43msize\u001b[49m\u001b[43m)\u001b[49m\n\u001b[1;32m     80\u001b[0m \u001b[38;5;28;01mreturn\u001b[39;00m pred\n",
      "File \u001b[0;32m/usr/local/lib/python3.8/dist-packages/torch/nn/modules/module.py:1423\u001b[0m, in \u001b[0;36mModule._call_impl\u001b[0;34m(self, *input, **kwargs)\u001b[0m\n\u001b[1;32m   1418\u001b[0m \u001b[38;5;66;03m# If we don't have any hooks, we want to skip the rest of the logic in\u001b[39;00m\n\u001b[1;32m   1419\u001b[0m \u001b[38;5;66;03m# this function, and just call forward.\u001b[39;00m\n\u001b[1;32m   1420\u001b[0m \u001b[38;5;28;01mif\u001b[39;00m \u001b[38;5;129;01mnot\u001b[39;00m (\u001b[38;5;28mself\u001b[39m\u001b[38;5;241m.\u001b[39m_backward_hooks \u001b[38;5;129;01mor\u001b[39;00m \u001b[38;5;28mself\u001b[39m\u001b[38;5;241m.\u001b[39m_backward_pre_hooks \u001b[38;5;129;01mor\u001b[39;00m \u001b[38;5;28mself\u001b[39m\u001b[38;5;241m.\u001b[39m_forward_hooks \u001b[38;5;129;01mor\u001b[39;00m \u001b[38;5;28mself\u001b[39m\u001b[38;5;241m.\u001b[39m_forward_pre_hooks\n\u001b[1;32m   1421\u001b[0m         \u001b[38;5;129;01mor\u001b[39;00m _global_backward_pre_hooks \u001b[38;5;129;01mor\u001b[39;00m _global_backward_hooks\n\u001b[1;32m   1422\u001b[0m         \u001b[38;5;129;01mor\u001b[39;00m _global_forward_hooks \u001b[38;5;129;01mor\u001b[39;00m _global_forward_pre_hooks):\n\u001b[0;32m-> 1423\u001b[0m     \u001b[38;5;28;01mreturn\u001b[39;00m \u001b[43mforward_call\u001b[49m\u001b[43m(\u001b[49m\u001b[38;5;241;43m*\u001b[39;49m\u001b[38;5;28;43minput\u001b[39;49m\u001b[43m,\u001b[49m\u001b[43m \u001b[49m\u001b[38;5;241;43m*\u001b[39;49m\u001b[38;5;241;43m*\u001b[39;49m\u001b[43mkwargs\u001b[49m\u001b[43m)\u001b[49m\n\u001b[1;32m   1424\u001b[0m \u001b[38;5;66;03m# Do not call functions when jit is used\u001b[39;00m\n\u001b[1;32m   1425\u001b[0m full_backward_hooks, non_full_backward_hooks \u001b[38;5;241m=\u001b[39m [], []\n",
      "File \u001b[0;32m/workspace/Code/DMRI_SR/model/dmri_arb.py:55\u001b[0m, in \u001b[0;36mImplicitDecoder.forward\u001b[0;34m(self, x, size)\u001b[0m\n\u001b[1;32m     53\u001b[0m ratio \u001b[38;5;241m=\u001b[39m (x\u001b[38;5;241m.\u001b[39mnew_tensor([math\u001b[38;5;241m.\u001b[39msqrt((H_in\u001b[38;5;241m*\u001b[39mW_in\u001b[38;5;241m*\u001b[39mD_in)\u001b[38;5;241m/\u001b[39m(size[\u001b[38;5;241m0\u001b[39m]\u001b[38;5;241m*\u001b[39msize[\u001b[38;5;241m1\u001b[39m]\u001b[38;5;241m*\u001b[39msize[\u001b[38;5;241m2\u001b[39m]))])\u001b[38;5;241m.\u001b[39mview(\u001b[38;5;241m1\u001b[39m, \u001b[38;5;241m-\u001b[39m\u001b[38;5;241m1\u001b[39m, \u001b[38;5;241m1\u001b[39m, \u001b[38;5;241m1\u001b[39m,\u001b[38;5;241m1\u001b[39m)\u001b[38;5;241m.\u001b[39mexpand(B, \u001b[38;5;241m-\u001b[39m\u001b[38;5;241m1\u001b[39m, \u001b[38;5;241m*\u001b[39msize))\n\u001b[1;32m     54\u001b[0m x \u001b[38;5;241m=\u001b[39m F\u001b[38;5;241m.\u001b[39minterpolate(unfoldNd\u001b[38;5;241m.\u001b[39munfoldNd(x, \u001b[38;5;241m3\u001b[39m, padding\u001b[38;5;241m=\u001b[39m\u001b[38;5;241m1\u001b[39m)\u001b[38;5;241m.\u001b[39mview(B, C\u001b[38;5;241m*\u001b[39m\u001b[38;5;241m27\u001b[39m, H_in, W_in,D_in), size\u001b[38;5;241m=\u001b[39mratio\u001b[38;5;241m.\u001b[39mshape[\u001b[38;5;241m-\u001b[39m\u001b[38;5;241m3\u001b[39m:], mode\u001b[38;5;241m=\u001b[39m\u001b[38;5;124m'\u001b[39m\u001b[38;5;124mtrilinear\u001b[39m\u001b[38;5;124m'\u001b[39m)\n\u001b[0;32m---> 55\u001b[0m \u001b[38;5;28;01mreturn\u001b[39;00m \u001b[38;5;28;43mself\u001b[39;49m\u001b[38;5;241;43m.\u001b[39;49m\u001b[43mstep\u001b[49m\u001b[43m(\u001b[49m\u001b[43mx\u001b[49m\u001b[43m)\u001b[49m\n",
      "File \u001b[0;32m/workspace/Code/DMRI_SR/model/dmri_arb.py:44\u001b[0m, in \u001b[0;36mImplicitDecoder.step\u001b[0;34m(self, x)\u001b[0m\n\u001b[1;32m     42\u001b[0m lat \u001b[38;5;241m=\u001b[39m x\n\u001b[1;32m     43\u001b[0m \u001b[38;5;28;01mfor\u001b[39;00m i \u001b[38;5;129;01min\u001b[39;00m \u001b[38;5;28mrange\u001b[39m(\u001b[38;5;28mlen\u001b[39m(\u001b[38;5;28mself\u001b[39m\u001b[38;5;241m.\u001b[39mQ)):\n\u001b[0;32m---> 44\u001b[0m     lat \u001b[38;5;241m=\u001b[39m \u001b[38;5;28;43mself\u001b[39;49m\u001b[38;5;241;43m.\u001b[39;49m\u001b[43mQ\u001b[49m\u001b[43m[\u001b[49m\u001b[43mi\u001b[49m\u001b[43m]\u001b[49m\u001b[43m(\u001b[49m\u001b[43mlat\u001b[49m\u001b[43m)\u001b[49m\n\u001b[1;32m     45\u001b[0m feat \u001b[38;5;241m=\u001b[39m \u001b[38;5;28mself\u001b[39m\u001b[38;5;241m.\u001b[39min_branch(x)\n\u001b[1;32m     47\u001b[0m feat \u001b[38;5;241m=\u001b[39m torch\u001b[38;5;241m.\u001b[39mcat([lat,feat],dim\u001b[38;5;241m=\u001b[39m\u001b[38;5;241m1\u001b[39m)\n",
      "File \u001b[0;32m/usr/local/lib/python3.8/dist-packages/torch/nn/modules/module.py:1423\u001b[0m, in \u001b[0;36mModule._call_impl\u001b[0;34m(self, *input, **kwargs)\u001b[0m\n\u001b[1;32m   1418\u001b[0m \u001b[38;5;66;03m# If we don't have any hooks, we want to skip the rest of the logic in\u001b[39;00m\n\u001b[1;32m   1419\u001b[0m \u001b[38;5;66;03m# this function, and just call forward.\u001b[39;00m\n\u001b[1;32m   1420\u001b[0m \u001b[38;5;28;01mif\u001b[39;00m \u001b[38;5;129;01mnot\u001b[39;00m (\u001b[38;5;28mself\u001b[39m\u001b[38;5;241m.\u001b[39m_backward_hooks \u001b[38;5;129;01mor\u001b[39;00m \u001b[38;5;28mself\u001b[39m\u001b[38;5;241m.\u001b[39m_backward_pre_hooks \u001b[38;5;129;01mor\u001b[39;00m \u001b[38;5;28mself\u001b[39m\u001b[38;5;241m.\u001b[39m_forward_hooks \u001b[38;5;129;01mor\u001b[39;00m \u001b[38;5;28mself\u001b[39m\u001b[38;5;241m.\u001b[39m_forward_pre_hooks\n\u001b[1;32m   1421\u001b[0m         \u001b[38;5;129;01mor\u001b[39;00m _global_backward_pre_hooks \u001b[38;5;129;01mor\u001b[39;00m _global_backward_hooks\n\u001b[1;32m   1422\u001b[0m         \u001b[38;5;129;01mor\u001b[39;00m _global_forward_hooks \u001b[38;5;129;01mor\u001b[39;00m _global_forward_pre_hooks):\n\u001b[0;32m-> 1423\u001b[0m     \u001b[38;5;28;01mreturn\u001b[39;00m \u001b[43mforward_call\u001b[49m\u001b[43m(\u001b[49m\u001b[38;5;241;43m*\u001b[39;49m\u001b[38;5;28;43minput\u001b[39;49m\u001b[43m,\u001b[49m\u001b[43m \u001b[49m\u001b[38;5;241;43m*\u001b[39;49m\u001b[38;5;241;43m*\u001b[39;49m\u001b[43mkwargs\u001b[49m\u001b[43m)\u001b[49m\n\u001b[1;32m   1424\u001b[0m \u001b[38;5;66;03m# Do not call functions when jit is used\u001b[39;00m\n\u001b[1;32m   1425\u001b[0m full_backward_hooks, non_full_backward_hooks \u001b[38;5;241m=\u001b[39m [], []\n",
      "File \u001b[0;32m/usr/local/lib/python3.8/dist-packages/torch/nn/modules/container.py:204\u001b[0m, in \u001b[0;36mSequential.forward\u001b[0;34m(self, input)\u001b[0m\n\u001b[1;32m    202\u001b[0m \u001b[38;5;28;01mdef\u001b[39;00m \u001b[38;5;21mforward\u001b[39m(\u001b[38;5;28mself\u001b[39m, \u001b[38;5;28minput\u001b[39m):\n\u001b[1;32m    203\u001b[0m     \u001b[38;5;28;01mfor\u001b[39;00m module \u001b[38;5;129;01min\u001b[39;00m \u001b[38;5;28mself\u001b[39m:\n\u001b[0;32m--> 204\u001b[0m         \u001b[38;5;28minput\u001b[39m \u001b[38;5;241m=\u001b[39m \u001b[43mmodule\u001b[49m\u001b[43m(\u001b[49m\u001b[38;5;28;43minput\u001b[39;49m\u001b[43m)\u001b[49m\n\u001b[1;32m    205\u001b[0m     \u001b[38;5;28;01mreturn\u001b[39;00m \u001b[38;5;28minput\u001b[39m\n",
      "File \u001b[0;32m/usr/local/lib/python3.8/dist-packages/torch/nn/modules/module.py:1423\u001b[0m, in \u001b[0;36mModule._call_impl\u001b[0;34m(self, *input, **kwargs)\u001b[0m\n\u001b[1;32m   1418\u001b[0m \u001b[38;5;66;03m# If we don't have any hooks, we want to skip the rest of the logic in\u001b[39;00m\n\u001b[1;32m   1419\u001b[0m \u001b[38;5;66;03m# this function, and just call forward.\u001b[39;00m\n\u001b[1;32m   1420\u001b[0m \u001b[38;5;28;01mif\u001b[39;00m \u001b[38;5;129;01mnot\u001b[39;00m (\u001b[38;5;28mself\u001b[39m\u001b[38;5;241m.\u001b[39m_backward_hooks \u001b[38;5;129;01mor\u001b[39;00m \u001b[38;5;28mself\u001b[39m\u001b[38;5;241m.\u001b[39m_backward_pre_hooks \u001b[38;5;129;01mor\u001b[39;00m \u001b[38;5;28mself\u001b[39m\u001b[38;5;241m.\u001b[39m_forward_hooks \u001b[38;5;129;01mor\u001b[39;00m \u001b[38;5;28mself\u001b[39m\u001b[38;5;241m.\u001b[39m_forward_pre_hooks\n\u001b[1;32m   1421\u001b[0m         \u001b[38;5;129;01mor\u001b[39;00m _global_backward_pre_hooks \u001b[38;5;129;01mor\u001b[39;00m _global_backward_hooks\n\u001b[1;32m   1422\u001b[0m         \u001b[38;5;129;01mor\u001b[39;00m _global_forward_hooks \u001b[38;5;129;01mor\u001b[39;00m _global_forward_pre_hooks):\n\u001b[0;32m-> 1423\u001b[0m     \u001b[38;5;28;01mreturn\u001b[39;00m \u001b[43mforward_call\u001b[49m\u001b[43m(\u001b[49m\u001b[38;5;241;43m*\u001b[39;49m\u001b[38;5;28;43minput\u001b[39;49m\u001b[43m,\u001b[49m\u001b[43m \u001b[49m\u001b[38;5;241;43m*\u001b[39;49m\u001b[38;5;241;43m*\u001b[39;49m\u001b[43mkwargs\u001b[49m\u001b[43m)\u001b[49m\n\u001b[1;32m   1424\u001b[0m \u001b[38;5;66;03m# Do not call functions when jit is used\u001b[39;00m\n\u001b[1;32m   1425\u001b[0m full_backward_hooks, non_full_backward_hooks \u001b[38;5;241m=\u001b[39m [], []\n",
      "File \u001b[0;32m/usr/local/lib/python3.8/dist-packages/torch/nn/modules/conv.py:613\u001b[0m, in \u001b[0;36mConv3d.forward\u001b[0;34m(self, input)\u001b[0m\n\u001b[1;32m    612\u001b[0m \u001b[38;5;28;01mdef\u001b[39;00m \u001b[38;5;21mforward\u001b[39m(\u001b[38;5;28mself\u001b[39m, \u001b[38;5;28minput\u001b[39m: Tensor) \u001b[38;5;241m-\u001b[39m\u001b[38;5;241m>\u001b[39m Tensor:\n\u001b[0;32m--> 613\u001b[0m     \u001b[38;5;28;01mreturn\u001b[39;00m \u001b[38;5;28;43mself\u001b[39;49m\u001b[38;5;241;43m.\u001b[39;49m\u001b[43m_conv_forward\u001b[49m\u001b[43m(\u001b[49m\u001b[38;5;28;43minput\u001b[39;49m\u001b[43m,\u001b[49m\u001b[43m \u001b[49m\u001b[38;5;28;43mself\u001b[39;49m\u001b[38;5;241;43m.\u001b[39;49m\u001b[43mweight\u001b[49m\u001b[43m,\u001b[49m\u001b[43m \u001b[49m\u001b[38;5;28;43mself\u001b[39;49m\u001b[38;5;241;43m.\u001b[39;49m\u001b[43mbias\u001b[49m\u001b[43m)\u001b[49m\n",
      "File \u001b[0;32m/usr/local/lib/python3.8/dist-packages/torch/nn/modules/conv.py:608\u001b[0m, in \u001b[0;36mConv3d._conv_forward\u001b[0;34m(self, input, weight, bias)\u001b[0m\n\u001b[1;32m    596\u001b[0m \u001b[38;5;28;01mif\u001b[39;00m \u001b[38;5;28mself\u001b[39m\u001b[38;5;241m.\u001b[39mpadding_mode \u001b[38;5;241m!=\u001b[39m \u001b[38;5;124m\"\u001b[39m\u001b[38;5;124mzeros\u001b[39m\u001b[38;5;124m\"\u001b[39m:\n\u001b[1;32m    597\u001b[0m     \u001b[38;5;28;01mreturn\u001b[39;00m F\u001b[38;5;241m.\u001b[39mconv3d(\n\u001b[1;32m    598\u001b[0m         F\u001b[38;5;241m.\u001b[39mpad(\n\u001b[1;32m    599\u001b[0m             \u001b[38;5;28minput\u001b[39m, \u001b[38;5;28mself\u001b[39m\u001b[38;5;241m.\u001b[39m_reversed_padding_repeated_twice, mode\u001b[38;5;241m=\u001b[39m\u001b[38;5;28mself\u001b[39m\u001b[38;5;241m.\u001b[39mpadding_mode\n\u001b[0;32m   (...)\u001b[0m\n\u001b[1;32m    606\u001b[0m         \u001b[38;5;28mself\u001b[39m\u001b[38;5;241m.\u001b[39mgroups,\n\u001b[1;32m    607\u001b[0m     )\n\u001b[0;32m--> 608\u001b[0m \u001b[38;5;28;01mreturn\u001b[39;00m \u001b[43mF\u001b[49m\u001b[38;5;241;43m.\u001b[39;49m\u001b[43mconv3d\u001b[49m\u001b[43m(\u001b[49m\n\u001b[1;32m    609\u001b[0m \u001b[43m    \u001b[49m\u001b[38;5;28;43minput\u001b[39;49m\u001b[43m,\u001b[49m\u001b[43m \u001b[49m\u001b[43mweight\u001b[49m\u001b[43m,\u001b[49m\u001b[43m \u001b[49m\u001b[43mbias\u001b[49m\u001b[43m,\u001b[49m\u001b[43m \u001b[49m\u001b[38;5;28;43mself\u001b[39;49m\u001b[38;5;241;43m.\u001b[39;49m\u001b[43mstride\u001b[49m\u001b[43m,\u001b[49m\u001b[43m \u001b[49m\u001b[38;5;28;43mself\u001b[39;49m\u001b[38;5;241;43m.\u001b[39;49m\u001b[43mpadding\u001b[49m\u001b[43m,\u001b[49m\u001b[43m \u001b[49m\u001b[38;5;28;43mself\u001b[39;49m\u001b[38;5;241;43m.\u001b[39;49m\u001b[43mdilation\u001b[49m\u001b[43m,\u001b[49m\u001b[43m \u001b[49m\u001b[38;5;28;43mself\u001b[39;49m\u001b[38;5;241;43m.\u001b[39;49m\u001b[43mgroups\u001b[49m\n\u001b[1;32m    610\u001b[0m \u001b[43m\u001b[49m\u001b[43m)\u001b[49m\n",
      "\u001b[0;31mRuntimeError\u001b[0m: GET was unable to find an engine to execute this computation"
     ]
    }
   ],
   "source": [
    "out = model(inp)"
   ]
  },
  {
   "cell_type": "code",
   "execution_count": null,
   "id": "aaf51d8d",
   "metadata": {},
   "outputs": [],
   "source": []
  }
 ],
 "metadata": {
  "kernelspec": {
   "display_name": "Python 3 (ipykernel)",
   "language": "python",
   "name": "python3"
  },
  "language_info": {
   "codemirror_mode": {
    "name": "ipython",
    "version": 3
   },
   "file_extension": ".py",
   "mimetype": "text/x-python",
   "name": "python",
   "nbconvert_exporter": "python",
   "pygments_lexer": "ipython3",
   "version": "3.10.12"
  }
 },
 "nbformat": 4,
 "nbformat_minor": 5
}
