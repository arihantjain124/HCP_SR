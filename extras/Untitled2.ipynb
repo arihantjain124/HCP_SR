{
 "cells": [
  {
   "cell_type": "code",
   "execution_count": 2,
   "id": "ce1d3db9",
   "metadata": {},
   "outputs": [
    {
     "name": "stderr",
     "output_type": "stream",
     "text": [
      "usage: ipykernel_launcher.py [-h] [--debug] [--n_threads N_THREADS]\n",
      "                             [--cpu CPU] [--n_GPUs N_GPUS] [--seed SEED]\n",
      "                             [--dir_data DIR_DATA] [--name_train NAME_TRAIN]\n",
      "                             [--name_test NAME_TEST] [--ref_list REF_LIST]\n",
      "                             [--ref_mat REF_MAT] [--data_train DATA_TRAIN]\n",
      "                             [--data_test DATA_TEST] [--data_range DATA_RANGE]\n",
      "                             [--ext EXT] [--asymm] [--scale SCALE]\n",
      "                             [--scale2 SCALE2] [--patch_size PATCH_SIZE]\n",
      "                             [--rgb_range RGB_RANGE] [--n_colors N_COLORS]\n",
      "                             [--chop CHOP] [--no_augment]\n",
      "                             [--ref_type REF_TYPE]\n",
      "                             [--ref_type_test REF_TYPE_TEST] [--model MODEL]\n",
      "                             [--act ACT] [--pre_train PRE_TRAIN]\n",
      "                             [--extend EXTEND] [--res_scale RES_SCALE]\n",
      "                             [--shift_mean SHIFT_MEAN] [--dilation]\n",
      "                             [--precision {single,half}] [--reset]\n",
      "                             [--test_every TEST_EVERY] [--epochs EPOCHS]\n",
      "                             [--batch_size BATCH_SIZE]\n",
      "                             [--split_batch SPLIT_BATCH] [--self_ensemble]\n",
      "                             [--test_only] [--gan_k GAN_K] [--lr LR]\n",
      "                             [--lr_decay LR_DECAY] [--decay_type DECAY_TYPE]\n",
      "                             [--gamma GAMMA] [--optimizer {SGD,ADAM,RMSprop}]\n",
      "                             [--momentum MOMENTUM] [--beta1 BETA1]\n",
      "                             [--beta2 BETA2] [--epsilon EPSILON]\n",
      "                             [--weight_decay WEIGHT_DECAY]\n",
      "                             [--start_epoch START_EPOCH] [--loss LOSS]\n",
      "                             [--skip_threshold SKIP_THRESHOLD] [--save SAVE]\n",
      "                             [--load LOAD] [--resume RESUME] [--save_models]\n",
      "                             [--print_every PRINT_EVERY] [--save_results]\n",
      "                             [--save_every SAVE_EVERY]\n",
      "                             [--savefigfilename SAVEFIGFILENAME]\n",
      "                             [--dir_img DIR_IMG] [--sr_size SR_SIZE]\n",
      "ipykernel_launcher.py: error: unrecognized arguments: -f /root/.local/share/jupyter/runtime/kernel-aede8371-72d3-4465-902b-f5007a64fd73.json\n"
     ]
    },
    {
     "ename": "SystemExit",
     "evalue": "2",
     "output_type": "error",
     "traceback": [
      "An exception has occurred, use %tb to see the full traceback.\n",
      "\u001b[0;31mSystemExit\u001b[0m\u001b[0;31m:\u001b[0m 2\n"
     ]
    },
    {
     "name": "stderr",
     "output_type": "stream",
     "text": [
      "/usr/local/lib/python3.10/dist-packages/IPython/core/interactiveshell.py:3516: UserWarning: To exit: use 'exit', 'quit', or Ctrl-D.\n",
      "  warn(\"To exit: use 'exit', 'quit', or Ctrl-D.\", stacklevel=1)\n"
     ]
    }
   ],
   "source": [
    "from options import args"
   ]
  },
  {
   "cell_type": "code",
   "execution_count": null,
   "id": "2b2bf1d1",
   "metadata": {},
   "outputs": [],
   "source": [
    "args"
   ]
  },
  {
   "cell_type": "code",
   "execution_count": 18,
   "id": "7ad522cd",
   "metadata": {},
   "outputs": [
    {
     "data": {
      "text/plain": [
       "'0,40,80,120'"
      ]
     },
     "execution_count": 18,
     "metadata": {},
     "output_type": "execute_result"
    }
   ],
   "source": [
    "','.join(map(str,temp[0]))"
   ]
  },
  {
   "cell_type": "code",
   "execution_count": 16,
   "id": "2357ccc6",
   "metadata": {},
   "outputs": [],
   "source": [
    "temp = random_scale(0)"
   ]
  },
  {
   "cell_type": "code",
   "execution_count": 8,
   "id": "54055cb6",
   "metadata": {},
   "outputs": [
    {
     "data": {
      "text/plain": [
       "[0, 40, 80, 120]"
      ]
     },
     "execution_count": 8,
     "metadata": {},
     "output_type": "execute_result"
    }
   ],
   "source": [
    "sect"
   ]
  },
  {
   "cell_type": "code",
   "execution_count": null,
   "id": "29c8ed58",
   "metadata": {},
   "outputs": [],
   "source": []
  },
  {
   "cell_type": "code",
   "execution_count": null,
   "id": "efef98b6",
   "metadata": {},
   "outputs": [],
   "source": []
  },
  {
   "cell_type": "code",
   "execution_count": 5,
   "id": "6c06287a",
   "metadata": {},
   "outputs": [],
   "source": [
    "import torch\n",
    "\n",
    "inp = torch.randn(2, 3, 4, 4)"
   ]
  },
  {
   "cell_type": "code",
   "execution_count": 6,
   "id": "87c2996c",
   "metadata": {},
   "outputs": [
    {
     "data": {
      "text/plain": [
       "torch.Size([2, 3, 4, 4])"
      ]
     },
     "execution_count": 6,
     "metadata": {},
     "output_type": "execute_result"
    }
   ],
   "source": [
    "inp.shape"
   ]
  },
  {
   "cell_type": "code",
   "execution_count": 19,
   "id": "c9ef7c60",
   "metadata": {},
   "outputs": [
    {
     "name": "stdout",
     "output_type": "stream",
     "text": [
      "torch.Size([2, 12, 9])\n"
     ]
    }
   ],
   "source": [
    "output = torch.nn.functional.unfold(inp,2 , padding =0)\n",
    "\n",
    "print(output.shape)"
   ]
  },
  {
   "cell_type": "code",
   "execution_count": 20,
   "id": "444a01ba",
   "metadata": {},
   "outputs": [
    {
     "data": {
      "text/plain": [
       "tensor([[[[-6.0913e-01,  1.9495e-01, -5.1631e-02,  1.1776e+00],\n",
       "          [-7.7701e-01,  4.1846e-01, -4.9383e-01,  1.2510e+00],\n",
       "          [ 1.1663e+00,  1.3526e+00,  8.5393e-01, -1.3981e+00],\n",
       "          [ 1.4301e+00, -6.8826e-01, -4.5677e-01, -7.5764e-01]],\n",
       "\n",
       "         [[-2.0655e-01, -2.8350e-01,  9.0486e-01,  1.4871e+00],\n",
       "          [ 1.1761e+00, -1.4945e-01,  1.1371e+00, -7.0481e-01],\n",
       "          [ 1.0744e-01,  7.3933e-01,  9.5152e-01, -5.7497e-01],\n",
       "          [-1.4240e+00,  1.6270e+00,  1.7676e+00,  1.1575e+00]],\n",
       "\n",
       "         [[-4.7161e-01, -4.9605e-02, -1.4323e+00, -2.7495e-01],\n",
       "          [-3.0074e-02,  1.2856e+00,  3.0703e-01, -3.3366e-01],\n",
       "          [-3.9323e-01,  1.1032e+00, -4.1461e-01,  1.8750e+00],\n",
       "          [ 1.4163e+00, -1.3597e+00, -3.0215e+00,  1.0919e+00]]],\n",
       "\n",
       "\n",
       "        [[[ 3.8834e-01, -4.6257e-01, -2.3323e+00,  7.2347e-01],\n",
       "          [ 1.0801e+00,  3.5730e-01, -1.5163e+00, -2.5317e-01],\n",
       "          [-1.5701e+00, -8.6825e-01,  3.1491e-01, -3.3983e-01],\n",
       "          [-3.2713e-03, -1.4344e-01,  5.2902e-01, -1.1961e+00]],\n",
       "\n",
       "         [[ 7.0758e-01, -6.5245e-01,  7.4285e-01, -3.0373e-01],\n",
       "          [ 3.5850e+00,  3.1258e-01,  1.0974e+00,  2.1299e-02],\n",
       "          [ 9.4353e-01, -5.2151e-01,  7.8520e-01, -7.7591e-01],\n",
       "          [ 4.8871e-01, -1.7194e+00,  1.5433e-02, -4.5590e-01]],\n",
       "\n",
       "         [[ 2.2299e-01, -7.0458e-02,  7.9692e-01,  6.4031e-01],\n",
       "          [-8.2361e-01,  5.4082e-01, -5.6166e-01,  6.9092e-01],\n",
       "          [ 1.9244e-01,  2.2772e-01,  3.1977e-01,  5.1932e-01],\n",
       "          [-1.3098e+00,  2.9486e-01,  1.4735e+00, -6.6829e-02]]]])"
      ]
     },
     "execution_count": 20,
     "metadata": {},
     "output_type": "execute_result"
    }
   ],
   "source": [
    "inp"
   ]
  },
  {
   "cell_type": "code",
   "execution_count": 21,
   "id": "5fa9a8da",
   "metadata": {},
   "outputs": [
    {
     "data": {
      "text/plain": [
       "tensor([[-0.6091,  0.1949, -0.0516, -0.7770,  0.4185, -0.4938,  1.1663,  1.3526,\n",
       "          0.8539],\n",
       "        [ 0.1949, -0.0516,  1.1776,  0.4185, -0.4938,  1.2510,  1.3526,  0.8539,\n",
       "         -1.3981],\n",
       "        [-0.7770,  0.4185, -0.4938,  1.1663,  1.3526,  0.8539,  1.4301, -0.6883,\n",
       "         -0.4568],\n",
       "        [ 0.4185, -0.4938,  1.2510,  1.3526,  0.8539, -1.3981, -0.6883, -0.4568,\n",
       "         -0.7576],\n",
       "        [-0.2065, -0.2835,  0.9049,  1.1761, -0.1495,  1.1371,  0.1074,  0.7393,\n",
       "          0.9515],\n",
       "        [-0.2835,  0.9049,  1.4871, -0.1495,  1.1371, -0.7048,  0.7393,  0.9515,\n",
       "         -0.5750],\n",
       "        [ 1.1761, -0.1495,  1.1371,  0.1074,  0.7393,  0.9515, -1.4240,  1.6270,\n",
       "          1.7676],\n",
       "        [-0.1495,  1.1371, -0.7048,  0.7393,  0.9515, -0.5750,  1.6270,  1.7676,\n",
       "          1.1575],\n",
       "        [-0.4716, -0.0496, -1.4323, -0.0301,  1.2856,  0.3070, -0.3932,  1.1032,\n",
       "         -0.4146],\n",
       "        [-0.0496, -1.4323, -0.2749,  1.2856,  0.3070, -0.3337,  1.1032, -0.4146,\n",
       "          1.8750],\n",
       "        [-0.0301,  1.2856,  0.3070, -0.3932,  1.1032, -0.4146,  1.4163, -1.3597,\n",
       "         -3.0215],\n",
       "        [ 1.2856,  0.3070, -0.3337,  1.1032, -0.4146,  1.8750, -1.3597, -3.0215,\n",
       "          1.0919]])"
      ]
     },
     "execution_count": 21,
     "metadata": {},
     "output_type": "execute_result"
    }
   ],
   "source": [
    "output[0]"
   ]
  },
  {
   "cell_type": "code",
   "execution_count": null,
   "id": "249cb9da",
   "metadata": {},
   "outputs": [],
   "source": []
  }
 ],
 "metadata": {
  "kernelspec": {
   "display_name": "Python 3 (ipykernel)",
   "language": "python",
   "name": "python3"
  },
  "language_info": {
   "codemirror_mode": {
    "name": "ipython",
    "version": 3
   },
   "file_extension": ".py",
   "mimetype": "text/x-python",
   "name": "python",
   "nbconvert_exporter": "python",
   "pygments_lexer": "ipython3",
   "version": "3.10.12"
  }
 },
 "nbformat": 4,
 "nbformat_minor": 5
}
