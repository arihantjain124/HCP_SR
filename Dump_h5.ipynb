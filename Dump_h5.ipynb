{
 "cells": [
  {
   "cell_type": "code",
   "execution_count": 1,
   "id": "746fbe29",
   "metadata": {},
   "outputs": [
    {
     "name": "stdout",
     "output_type": "stream",
     "text": [
      "number of common Subjects  171\n"
     ]
    }
   ],
   "source": [
    "import os\n",
    "\n",
    "base_dir = \"/storage\"\n",
    "base_dir_7t = [base_dir + \"/HCP_7T/\" + i   for i in os.listdir(base_dir + \"/HCP_7T\") if len(i) == 6]\n",
    "base_dir_3t = [base_dir + \"/HCP_3T/\" + i   for i in os.listdir(base_dir + \"/HCP_3T\") if len(i) == 6]\n",
    "\n",
    "path_7t = {}\n",
    "path_3t = {}\n",
    "\n",
    "\n",
    "\n",
    "for i in base_dir_7t:\n",
    "    path_7t[i[-6:]] = {\"3d_scan\" : i + \"/T1w/T1w_acpc_dc_restore_1.05.nii.gz\" ,\"data\" : i + \"/T1w/Diffusion_7T/data.nii.gz\" \n",
    "                       , \"bvals\" : i + \"/T1w/Diffusion_7T/bvals\" , \"bvecs\" : i + \"/T1w/Diffusion_7T/bvecs\"\n",
    "                      , \"brain_mask\" : i + \"/T1w/Diffusion_7T/nodif_brain_mask.nii.gz\"\n",
    "                      , \"grad_dev\" : i + \"/T1w/Diffusion_7T/grad_dev.nii.gz\"}\n",
    "for i in base_dir_3t:\n",
    "    path_3t[i[-6:]] = {\"3d_scan\" : i + \"/T1w/T1w_acpc_dc_restore_1.25.nii.gz\" , \"data\" : i + \"/T1w/Diffusion/data.nii.gz\" \n",
    "                       , \"bvals\" : i + \"/T1w/Diffusion/bvals\" , \"bvecs\" : i + \"/T1w/Diffusion/bvecs\"\n",
    "                       , \"brain_mask\" : i + \"/T1w/Diffusion/nodif_brain_mask.nii.gz\"\n",
    "                      , \"grad_dev\" : i + \"/T1w/Diffusion/grad_dev.nii.gz\"}\n",
    "    \n",
    "    \n",
    "path = {'3T': path_3t, \"7T\": path_7t}\n",
    "p = list(path_7t.keys())\n",
    "q = list(path_3t.keys())\n",
    "common = list(set(p) & set(q))\n",
    "\n",
    "print(\"number of common Subjects \",len(common))\n",
    "\n",
    "def get_ids():\n",
    "    return common\n",
    "\n",
    "def load_hcp(id_load,res,crop = 1):\n",
    "    load_from = path[res][id_load]\n",
    "    data , affine = load_nifti(load_from[\"data\"])\n",
    "    mask,affine = load_nifti(load_from[\"brain_mask\"])\n",
    "    \n",
    "    bvals, bvecs = read_bvals_bvecs(load_from['bvals'], load_from['bvecs'])\n",
    "    gtab = gradient_table(bvals, bvecs)\n",
    "    \n",
    "    return data[:,:,crop:-crop,:],mask[:,:,crop:-crop],gtab"
   ]
  },
  {
   "cell_type": "code",
   "execution_count": 2,
   "id": "ea08aec8",
   "metadata": {},
   "outputs": [],
   "source": [
    "from dipy.io.image import load_nifti\n",
    "from dipy.io import read_bvals_bvecs\n",
    "from dipy.core.gradients import gradient_table\n",
    "import numpy as np\n",
    "import os\n",
    "import matplotlib.pyplot as plt\n",
    "from numpy.linalg import eig\n",
    "from numpy.linalg import inv\n",
    "from numpy.linalg import pinv\n",
    "# from numpy.linalg import lstsq\n",
    "from scipy.linalg import lstsq\n",
    "from numpy.linalg import solve\n",
    "from numpy import inf\n",
    "import numpy as np\n",
    "\n",
    "\n",
    "dsm = np.array([0.91, 0.416, 0,0, 0.91, 0.416,0.416, 0, 0.91,0.91, -0.416, 0,0, 0.91, -0.416,-0.416, 0, 0.91])\n",
    "dsm = dsm.reshape(6,3)\n",
    "dsm_norm = np.copy(dsm)\n",
    "dsm_mag = np.sqrt(dsm[:,0]**2 + dsm[:,1]**2 + dsm[:,2]**2)\n",
    "for i in range(3):\n",
    "    dsm_norm[:,i] = dsm[:,i] / dsm_mag\n",
    "\n",
    "def rot3d(arg):\n",
    "    x,y,z = arg[0],arg[1],arg[2]\n",
    "    Rx = np.array([[1 ,0 ,0 ],[0,np.cos(x),-np.sin(x)],[0 ,np.sin(x) ,np.cos(x)]])\n",
    "    Ry = np.array([[np.cos(y),0 ,np.sin(y) ],[0,1,0],[-np.sin(y),0,np.cos(y)]])\n",
    "    Rz = np.array([[np.cos(z) ,-np.sin(z) ,0 ],[np.sin(z),np.cos(z),0],[0 ,0,1]])\n",
    "    R = Rx @ Ry @ Rz\n",
    "    return R\n",
    "\n",
    "def amatrix(mat):\n",
    "    \n",
    "    a = [mat[:,0] * mat[:,0],2 * mat[:,0] * mat[:,1], 2* mat[:,0] * mat[:,2],\n",
    "        mat[:,1] * mat[:,1],2 * mat[:,1] * mat[:,2], mat[:,2] * mat[:,2]]\n",
    "    return np.array(a).T\n",
    "\n",
    "def optimal_dirs(gtab,num_iter,num_dirs,debug = False,base_bval = 5):\n",
    "    rotang_all = []\n",
    "    angerr_all  = []\n",
    "    condnum_all = []\n",
    "    ind_all = []\n",
    "    dirs = np.array(gtab.bvecs[np.where(gtab.bvals != base_bval)[0]])\n",
    "    for i in range(0,num_iter):\n",
    "        \n",
    "        d = np.random.rand(1,3) * 2 * np.pi\n",
    "        rotang = d[0]\n",
    "        R = rot3d(rotang)\n",
    "        dsm_rot = (rot3d(d[0]) @ dsm_norm.T).T\n",
    "        \n",
    "        ang_error = np.degrees(np.arccos(abs(dsm_rot @ dirs.T)))\n",
    "        minerrors,idx = np.amin(ang_error,1),np.argmin(ang_error,1)\n",
    "\n",
    "        mean_ang_err = np.mean(np.amin(ang_error,1))\n",
    "        condnum = np.linalg.cond(amatrix(dirs[idx]))\n",
    "        \n",
    "        idx.sort()\n",
    "        if (mean_ang_err < 5 and condnum < 1.6):\n",
    "            if ((len(ind_all) == 0 ) or  len(np.where((ind_all == idx).all(axis=1))[0]) == 0 ):\n",
    "                angerr_all.append(mean_ang_err)\n",
    "                condnum_all.append(condnum)\n",
    "                ind_all.append(idx)\n",
    "                rotang_all.append(rotang)\n",
    "    condnum_all = np.array(condnum_all)\n",
    "    indx  = condnum_all.argsort()[:num_dirs]\n",
    "    if (debug):\n",
    "        print(\"Lowest Condition Number : \",condnum_all[indx])\n",
    "    ind_use = np.array(ind_all)[indx]\n",
    "    condnum_use = condnum_all[condnum_all.argsort()[:5]]\n",
    "    angerr_use = np.array(angerr_all)[indx]\n",
    "    rotang_use = np.array(rotang_all)[indx]\n",
    "    return ind_use,condnum_all[indx]\n"
   ]
  },
  {
   "cell_type": "code",
   "execution_count": 3,
   "id": "107de16d",
   "metadata": {},
   "outputs": [
    {
     "name": "stderr",
     "output_type": "stream",
     "text": [
      "/usr/local/lib/python3.8/dist-packages/tqdm/auto.py:21: TqdmWarning: IProgress not found. Please update jupyter and ipywidgets. See https://ipywidgets.readthedocs.io/en/stable/user_install.html\n",
      "  from .autonotebook import tqdm as notebook_tqdm\n"
     ]
    }
   ],
   "source": [
    "from dipy.segment.mask import median_otsu\n",
    "from dipy.reconst.dti import fractional_anisotropy, color_fa\n",
    "import dipy.reconst.dti as dti\n",
    "import h5py"
   ]
  },
  {
   "cell_type": "code",
   "execution_count": null,
   "id": "db7250b2",
   "metadata": {},
   "outputs": [
    {
     "name": "stdout",
     "output_type": "stream",
     "text": [
      "Current ID 105923\n"
     ]
    },
    {
     "name": "stderr",
     "output_type": "stream",
     "text": [
      "/tmp/ipykernel_5038/4007092059.py:51: RuntimeWarning: invalid value encountered in arccos\n",
      "  ang_error = np.degrees(np.arccos(abs(dsm_rot @ dirs.T)))\n"
     ]
    },
    {
     "name": "stdout",
     "output_type": "stream",
     "text": [
      "Lowest Condition Number :  [1.42135102 1.42417912 1.43586124 1.43906316 1.44036295]\n",
      "/storage/HCP_3T/105923/105923.h5 Done\n"
     ]
    }
   ],
   "source": [
    "for i in common:\n",
    "    print(\"Current ID\",i)\n",
    "    data,mask,gtab = load_hcp(i,'3T')\n",
    "    name = \"/storage/HCP_3T/\" + i + \"/\" + i + \".h5\"\n",
    "    hf = h5py.File(name, 'w')\n",
    "    temp = data[:,:,:,gtab.bvals>5]\n",
    "    idx,cond= optimal_dirs(gtab,10000,5,debug = True,base_bval = int(min(gtab.bvals)))\n",
    "    base_bvals_vols = data[:,:,:,gtab.bvals==int(min(gtab.bvals))]\n",
    "    base_bvals = gtab.bvecs[gtab.bvals==int(min(gtab.bvals)),:],gtab.bvals[gtab.bvals==int(min(gtab.bvals))]\n",
    "    dw_bvals = gtab.bvecs[gtab.bvals!=int(min(gtab.bvals)),:],gtab.bvals[gtab.bvals!=int(min(gtab.bvals))]\n",
    "    for j in range(3):\n",
    "        sample = np.random.randint(0,base_bvals_vols.shape[3])\n",
    "        b0 = base_bvals_vols[:,:,:,sample]\n",
    "        bvals6 = np.insert(dw_bvals[1][idx[j]],0,base_bvals[1][sample])\n",
    "        bvecs6 = np.insert(dw_bvals[0][idx[j]],0,base_bvals[0][sample],axis = 0)\n",
    "        data6 = temp[:,:,:,idx[j]]\n",
    "        data6 = np.insert(data6,0,b0,axis =3)\n",
    "        hf.create_dataset('volumes'+ str(j), data=data6)\n",
    "        hf.create_dataset('bvals'+ str(j), data=bvals6)\n",
    "        hf.create_dataset('bvecs'+ str(j), data=bvecs6)\n",
    "    hf.create_dataset('idx', data=idx)\n",
    "    hf.create_dataset('cond', data=cond)\n",
    "    hf.create_dataset('mask', data=mask)\n",
    "    \n",
    "    hf.close()\n",
    "    print(name,\"Done\")\n",
    "    \n",
    "    name = \"/storage/HCP_3T/\" + i + \"/\" + i + \"_GT.h5\"\n",
    "    hf = h5py.File(name, 'w')\n",
    "    \n",
    "    tenmodel = dti.TensorModel(gtab)\n",
    "    tenfit = tenmodel.fit(data,mask=mask)\n",
    "    tensor_vals = dti.lower_triangular(tenfit.quadratic_form)\n",
    "    FA = fractional_anisotropy(tenfit.evals)\n",
    "    MD = dti.mean_diffusivity(tenfit.evals)\n",
    "    FA[np.isnan(FA)] = 0\n",
    "    FA = np.clip(FA, 0, 1)\n",
    "    RGB = color_fa(FA, tenfit.evecs)\n",
    "    \n",
    "    hf.create_dataset('tensor_vals', data=tensor_vals)\n",
    "    hf.create_dataset('ADC', data=MD)\n",
    "    hf.create_dataset('FA', data=FA)\n",
    "    hf.create_dataset('color_FA', data=RGB)\n",
    "    \n",
    "    hf.close()\n",
    "    print(name,\"Done\")"
   ]
  },
  {
   "cell_type": "code",
   "execution_count": null,
   "id": "11bbaff6",
   "metadata": {},
   "outputs": [],
   "source": [
    "%who"
   ]
  },
  {
   "cell_type": "code",
   "execution_count": null,
   "id": "192fdf75",
   "metadata": {},
   "outputs": [],
   "source": [
    "common[0]"
   ]
  },
  {
   "cell_type": "code",
   "execution_count": null,
   "id": "ff9ed2ba",
   "metadata": {},
   "outputs": [],
   "source": [
    "data,mask,gtab = load_hcp(common[0],'3T')"
   ]
  },
  {
   "cell_type": "code",
   "execution_count": null,
   "id": "ec4f1bbb",
   "metadata": {},
   "outputs": [],
   "source": [
    "idx = optimal_dirs(gtab,10000,5,debug = True,base_bval = 5)"
   ]
  },
  {
   "cell_type": "code",
   "execution_count": null,
   "id": "4ac5f313",
   "metadata": {},
   "outputs": [],
   "source": [
    "gtab.bvals[idx[0]],gtab.bvecs[idx[0]]"
   ]
  },
  {
   "cell_type": "code",
   "execution_count": null,
   "id": "e48eb09e",
   "metadata": {},
   "outputs": [],
   "source": [
    "bvals6,bvecs6 = np.insert(gtab.bvals[idx[0]],0,gtab.bvals[0]),np.insert(gtab.bvecs[idx[0]],0,gtab.bvecs[0],axis = 0)"
   ]
  },
  {
   "cell_type": "code",
   "execution_count": null,
   "id": "3b007450",
   "metadata": {},
   "outputs": [],
   "source": [
    "bvals6,bvecs6"
   ]
  },
  {
   "cell_type": "code",
   "execution_count": null,
   "id": "3dbe4615",
   "metadata": {},
   "outputs": [],
   "source": [
    "len(bvals6),len(bvecs6)"
   ]
  },
  {
   "cell_type": "code",
   "execution_count": null,
   "id": "d8722827",
   "metadata": {},
   "outputs": [],
   "source": [
    "gtab6 = gradient_table(bvals6, bvecs6)"
   ]
  },
  {
   "cell_type": "code",
   "execution_count": null,
   "id": "e81f9cd6",
   "metadata": {},
   "outputs": [],
   "source": [
    "temp = data[:,:,:,gtab.bvals>5]"
   ]
  },
  {
   "cell_type": "code",
   "execution_count": null,
   "id": "1aab63de",
   "metadata": {},
   "outputs": [],
   "source": [
    "data6 = temp[:,:,:,idx[0]]"
   ]
  },
  {
   "cell_type": "code",
   "execution_count": null,
   "id": "b8909bb5",
   "metadata": {},
   "outputs": [],
   "source": [
    "data6.shape"
   ]
  },
  {
   "cell_type": "code",
   "execution_count": null,
   "id": "2a50bbf0",
   "metadata": {},
   "outputs": [],
   "source": [
    "data6 = np.insert(data6,0,data[:,:,:,0],axis =3)"
   ]
  },
  {
   "cell_type": "code",
   "execution_count": null,
   "id": "8625d658",
   "metadata": {},
   "outputs": [],
   "source": [
    "data6.shape"
   ]
  },
  {
   "cell_type": "code",
   "execution_count": null,
   "id": "e040f4ac",
   "metadata": {},
   "outputs": [],
   "source": [
    "import h5py\n",
    "name = \"/storage/HCP_3T/\" + common[0] + \"/\" + common[0] + \".h5\""
   ]
  },
  {
   "cell_type": "code",
   "execution_count": null,
   "id": "9177b706",
   "metadata": {},
   "outputs": [],
   "source": [
    "name"
   ]
  },
  {
   "cell_type": "code",
   "execution_count": null,
   "id": "d4e7bccc",
   "metadata": {},
   "outputs": [],
   "source": [
    "\n",
    "hf = h5py.File(name, 'w')"
   ]
  },
  {
   "cell_type": "code",
   "execution_count": null,
   "id": "c6d3e6a6",
   "metadata": {},
   "outputs": [],
   "source": [
    "hf.create_dataset('volumes', data=data6)\n",
    "hf.create_dataset('bvals', data=bvals6)\n",
    "hf.create_dataset('bvecs', data=bvecs6)"
   ]
  },
  {
   "cell_type": "code",
   "execution_count": null,
   "id": "cd936483",
   "metadata": {},
   "outputs": [],
   "source": [
    "hf.close()"
   ]
  },
  {
   "cell_type": "code",
   "execution_count": null,
   "id": "8f179ebf",
   "metadata": {},
   "outputs": [],
   "source": [
    "name = \"/storage/HCP_3T/\" + common[0] + \"/\" + common[0] + \".h5\"\n",
    "hf = h5py.File(name, 'r')"
   ]
  },
  {
   "cell_type": "code",
   "execution_count": null,
   "id": "2d9c2291",
   "metadata": {},
   "outputs": [],
   "source": [
    "list(hf.keys())"
   ]
  },
  {
   "cell_type": "code",
   "execution_count": null,
   "id": "32cd871a",
   "metadata": {},
   "outputs": [],
   "source": [
    "for i in list(hf.keys())[3:6]:\n",
    "    print(i,np.array(hf.get(i)))"
   ]
  },
  {
   "cell_type": "code",
   "execution_count": null,
   "id": "1846f8d5",
   "metadata": {},
   "outputs": [],
   "source": [
    "np.array(hf.get('volumes0')).shape"
   ]
  },
  {
   "cell_type": "code",
   "execution_count": null,
   "id": "c57c0d08",
   "metadata": {},
   "outputs": [],
   "source": [
    "for i in list(hf.keys())[:3]:\n",
    "    print(i,np.array(hf.get(i)))"
   ]
  },
  {
   "cell_type": "code",
   "execution_count": null,
   "id": "763e871d",
   "metadata": {},
   "outputs": [],
   "source": [
    "np.array(hf.get('cond'))"
   ]
  },
  {
   "cell_type": "code",
   "execution_count": null,
   "id": "465e117b",
   "metadata": {},
   "outputs": [],
   "source": [
    "np.array(hf.get('idx'))"
   ]
  },
  {
   "cell_type": "code",
   "execution_count": null,
   "id": "e91c9daa",
   "metadata": {},
   "outputs": [],
   "source": [
    "for i in list(hf.keys()):\n",
    "    print(i,np.array(hf.get(i)).shape)"
   ]
  },
  {
   "cell_type": "code",
   "execution_count": null,
   "id": "f0d4f286",
   "metadata": {},
   "outputs": [],
   "source": [
    "hf.close()"
   ]
  },
  {
   "cell_type": "code",
   "execution_count": null,
   "id": "e41fa971",
   "metadata": {},
   "outputs": [],
   "source": [
    "common[0]"
   ]
  },
  {
   "cell_type": "code",
   "execution_count": null,
   "id": "a972ca66",
   "metadata": {},
   "outputs": [],
   "source": [
    "name = \"/storage/HCP_3T/\" + common[0] + \"/\" + common[0] + \"_proc.h5\"\n",
    "hf = h5py.File(name, 'r')"
   ]
  },
  {
   "cell_type": "code",
   "execution_count": null,
   "id": "f3b02a2f",
   "metadata": {},
   "outputs": [],
   "source": [
    "np.array(hf.get(i)).shape"
   ]
  },
  {
   "cell_type": "code",
   "execution_count": null,
   "id": "8e6ebace",
   "metadata": {},
   "outputs": [],
   "source": [
    "np.array(hf.get('bvals1'))"
   ]
  },
  {
   "cell_type": "code",
   "execution_count": null,
   "id": "557f53d0",
   "metadata": {},
   "outputs": [],
   "source": [
    "for i in list(hf.keys()):\n",
    "    print(i,np.array(hf.get(i)).shape)"
   ]
  },
  {
   "cell_type": "code",
   "execution_count": null,
   "id": "2e3bf7dc",
   "metadata": {},
   "outputs": [],
   "source": [
    "np.array(hf.get('ADC'))"
   ]
  },
  {
   "cell_type": "code",
   "execution_count": null,
   "id": "5cd004d0",
   "metadata": {},
   "outputs": [],
   "source": [
    "i=70\n",
    "f, axis = plt.subplots(1, 3)\n",
    "f.set_figwidth(20)\n",
    "f.set_figheight(10)\n",
    "axis[0].set_title('FA \"fractional anisotropy\"')\n",
    "axis[0].imshow(np.array(hf.get('FA'))[:,:,i])\n",
    "axis[1].set_title('MD \"Mean Diffusivity or Average Diffusion Coefficent(ADC)\"')\n",
    "axis[1].imshow(np.array(hf.get('ADC'))[:,:,i])\n",
    "axis[2].set_title('MD_RGB \"Principal Diffusion Directions\"')\n",
    "axis[2].imshow(np.array(hf.get('color_FA'))[:,:,i])"
   ]
  },
  {
   "cell_type": "code",
   "execution_count": null,
   "id": "a1c54e97",
   "metadata": {},
   "outputs": [],
   "source": []
  }
 ],
 "metadata": {
  "kernelspec": {
   "display_name": "Python 3 (ipykernel)",
   "language": "python",
   "name": "python3"
  },
  "language_info": {
   "codemirror_mode": {
    "name": "ipython",
    "version": 3
   },
   "file_extension": ".py",
   "mimetype": "text/x-python",
   "name": "python",
   "nbconvert_exporter": "python",
   "pygments_lexer": "ipython3",
   "version": "3.8.10"
  }
 },
 "nbformat": 4,
 "nbformat_minor": 5
}
