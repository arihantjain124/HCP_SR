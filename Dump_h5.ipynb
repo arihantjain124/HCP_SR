{
 "cells": [
  {
   "cell_type": "code",
   "execution_count": 15,
   "id": "c60e09f5",
   "metadata": {},
   "outputs": [
    {
     "name": "stdout",
     "output_type": "stream",
     "text": [
      "number of common Subjects  171\n"
     ]
    }
   ],
   "source": [
    "import os\n",
    "\n",
    "base_dir = \"/storage\"\n",
    "base_dir_7t = [base_dir + \"/HCP_7T/\" + i   for i in os.listdir(base_dir + \"/HCP_7T\") if len(i) == 6]\n",
    "base_dir_3t = [base_dir + \"/HCP_3T/\" + i   for i in os.listdir(base_dir + \"/HCP_3T\") if len(i) == 6]\n",
    "\n",
    "path_7t = {}\n",
    "path_3t = {}\n",
    "\n",
    "\n",
    "\n",
    "for i in base_dir_7t:\n",
    "    path_7t[i[-6:]] = {\"3d_scan\" : i + \"/T1w/T1w_acpc_dc_restore_1.05.nii.gz\" ,\"data\" : i + \"/T1w/Diffusion_7T/data.nii.gz\" \n",
    "                       , \"bvals\" : i + \"/T1w/Diffusion_7T/bvals\" , \"bvecs\" : i + \"/T1w/Diffusion_7T/bvecs\"\n",
    "                      , \"brain_mask\" : i + \"/T1w/Diffusion_7T/nodif_brain_mask.nii.gz\"\n",
    "                      , \"grad_dev\" : i + \"/T1w/Diffusion_7T/grad_dev.nii.gz\"}\n",
    "for i in base_dir_3t:\n",
    "    path_3t[i[-6:]] = {\"3d_scan\" : i + \"/T1w/T1w_acpc_dc_restore_1.25.nii.gz\" , \"data\" : i + \"/T1w/Diffusion/data.nii.gz\" \n",
    "                       , \"bvals\" : i + \"/T1w/Diffusion/bvals\" , \"bvecs\" : i + \"/T1w/Diffusion/bvecs\"\n",
    "                       , \"brain_mask\" : i + \"/T1w/Diffusion/nodif_brain_mask.nii.gz\"\n",
    "                      , \"grad_dev\" : i + \"/T1w/Diffusion/grad_dev.nii.gz\"}\n",
    "    \n",
    "    \n",
    "path = {'3T': path_3t, \"7T\": path_7t}\n",
    "p = list(path_7t.keys())\n",
    "q = list(path_3t.keys())\n",
    "common = list(set(p) & set(q))\n",
    "common.sort()\n",
    "print(\"number of common Subjects \",len(common))\n",
    "\n",
    "def get_ids():\n",
    "    return common\n",
    "\n",
    "def load_hcp(id_load,res,crop = 1):\n",
    "    load_from = path[res][id_load]\n",
    "    data , affine = load_nifti(load_from[\"data\"])\n",
    "    mask,affine = load_nifti(load_from[\"brain_mask\"])\n",
    "    \n",
    "    bvals, bvecs = read_bvals_bvecs(load_from['bvals'], load_from['bvecs'])\n",
    "    gtab = gradient_table(bvals, bvecs)\n",
    "    \n",
    "    return data[:,:,crop:-crop,:],mask[:,:,crop:-crop],gtab\n",
    "\n",
    "def load_gtab(id_load,res):\n",
    "    load_from = path[res][id_load]\n",
    "    bvals, bvecs = read_bvals_bvecs(load_from['bvals'], load_from['bvecs'])\n",
    "    gtab = gradient_table(bvals, bvecs)\n",
    "    return gtab"
   ]
  },
  {
   "cell_type": "code",
   "execution_count": 2,
   "id": "cd07b9af",
   "metadata": {},
   "outputs": [],
   "source": [
    "from dipy.io.image import load_nifti\n",
    "from dipy.io import read_bvals_bvecs\n",
    "from dipy.core.gradients import gradient_table\n",
    "import numpy as np\n",
    "import os\n",
    "import matplotlib.pyplot as plt\n",
    "from numpy.linalg import eig\n",
    "from numpy.linalg import inv\n",
    "from numpy.linalg import pinv\n",
    "# from numpy.linalg import lstsq\n",
    "from scipy.linalg import lstsq\n",
    "from numpy.linalg import solve\n",
    "from numpy import inf\n",
    "import numpy as np\n",
    "\n",
    "import SimpleITK as sitk\n",
    "\n",
    "\n",
    "dsm = np.array([0.91, 0.416, 0,0, 0.91, 0.416,0.416, 0, 0.91,0.91, -0.416, 0,0, 0.91, -0.416,-0.416, 0, 0.91])\n",
    "dsm = dsm.reshape(6,3)\n",
    "dsm_norm = np.copy(dsm)\n",
    "dsm_mag = np.sqrt(dsm[:,0]**2 + dsm[:,1]**2 + dsm[:,2]**2)\n",
    "for i in range(3):\n",
    "    dsm_norm[:,i] = dsm[:,i] / dsm_mag\n",
    "\n",
    "def rot3d(arg):\n",
    "    x,y,z = arg[0],arg[1],arg[2]\n",
    "    Rx = np.array([[1 ,0 ,0 ],[0,np.cos(x),-np.sin(x)],[0 ,np.sin(x) ,np.cos(x)]])\n",
    "    Ry = np.array([[np.cos(y),0 ,np.sin(y) ],[0,1,0],[-np.sin(y),0,np.cos(y)]])\n",
    "    Rz = np.array([[np.cos(z) ,-np.sin(z) ,0 ],[np.sin(z),np.cos(z),0],[0 ,0,1]])\n",
    "    R = Rx @ Ry @ Rz\n",
    "    return R\n",
    "\n",
    "def amatrix(mat):\n",
    "    \n",
    "    a = [mat[:,0] * mat[:,0],2 * mat[:,0] * mat[:,1], 2* mat[:,0] * mat[:,2],\n",
    "        mat[:,1] * mat[:,1],2 * mat[:,1] * mat[:,2], mat[:,2] * mat[:,2]]\n",
    "    return np.array(a).T\n",
    "\n",
    "def optimal_dirs(gtab,num_iter,num_dirs,debug = False,base_bval = 5):\n",
    "    rotang_all = []\n",
    "    angerr_all  = []\n",
    "    condnum_all = []\n",
    "    ind_all = []\n",
    "    dirs = np.array(gtab.bvecs[np.where(gtab.bvals != base_bval)[0]])\n",
    "    for i in range(0,num_iter):\n",
    "        \n",
    "        d = np.random.rand(1,3) * 2 * np.pi\n",
    "        rotang = d[0]\n",
    "        R = rot3d(rotang)\n",
    "        dsm_rot = (rot3d(d[0]) @ dsm_norm.T).T\n",
    "        \n",
    "        ang_error = np.degrees(np.arccos(abs(dsm_rot @ dirs.T)))\n",
    "        minerrors,idx = np.amin(ang_error,1),np.argmin(ang_error,1)\n",
    "\n",
    "        mean_ang_err = np.mean(np.amin(ang_error,1))\n",
    "        condnum = np.linalg.cond(amatrix(dirs[idx]))\n",
    "        \n",
    "        idx.sort()\n",
    "        if (mean_ang_err < 5 and condnum < 1.6):\n",
    "            if ((len(ind_all) == 0 ) or  len(np.where((ind_all == idx).all(axis=1))[0]) == 0 ):\n",
    "                angerr_all.append(mean_ang_err)\n",
    "                condnum_all.append(condnum)\n",
    "                ind_all.append(idx)\n",
    "                rotang_all.append(rotang)\n",
    "    condnum_all = np.array(condnum_all)\n",
    "    indx  = condnum_all.argsort()[:num_dirs]\n",
    "    if (debug):\n",
    "        print(\"Lowest Condition Number : \",condnum_all[indx])\n",
    "    ind_use = np.array(ind_all)[indx]\n",
    "    condnum_use = condnum_all[condnum_all.argsort()[:5]]\n",
    "    angerr_use = np.array(angerr_all)[indx]\n",
    "    rotang_use = np.array(rotang_all)[indx]\n",
    "    return ind_use,condnum_all[indx]\n",
    "# import numpy as np\n",
    "def resample_img(itk_image, out_spacing,sampler = 'bspline'):\n",
    "    \n",
    "    original_spacing = itk_image.GetSpacing()\n",
    "    original_size = itk_image.GetSize()\n",
    "\n",
    "    out_size = [\n",
    "        int(np.round(original_size[0] * (original_spacing[0] / out_spacing[0]))),\n",
    "        int(np.round(original_size[1] * (original_spacing[1] / out_spacing[1]))),\n",
    "        int(np.round(original_size[2] * (original_spacing[2] / out_spacing[2])))]\n",
    "\n",
    "    resample = sitk.ResampleImageFilter()\n",
    "    resample.SetOutputSpacing(out_spacing)\n",
    "    resample.SetSize(out_size)\n",
    "    resample.SetOutputDirection(itk_image.GetDirection())\n",
    "    resample.SetOutputOrigin(itk_image.GetOrigin())\n",
    "    resample.SetTransform(sitk.Transform())\n",
    "    resample.SetDefaultPixelValue(itk_image.GetPixelIDValue())\n",
    "\n",
    "    if sampler == 'bspline':\n",
    "        resample.SetInterpolator(sitk.sitkBSpline)\n",
    "    elif sampler == 'nearneighbour':\n",
    "        resample.SetInterpolator(sitk.sitkNearestNeighbor)\n",
    "    else:\n",
    "        resample.SetInterpolator(sitk.sitkLinear)\n",
    "\n",
    "    return resample.Execute(itk_image)\n",
    "\n",
    "def resampler(data_sitk,idx,b0):\n",
    "    resampled_sitk_img = []\n",
    "    resampled_img = resample_img(data_sitk[:,:,:,int(b0)], out_spacing=[1.05,1.05, 1.05],sampler = 'linear')\n",
    "    resampled_sitk_img.append(sitk.GetArrayFromImage(resampled_img))\n",
    "    for i in idx:\n",
    "        resampled_img = resample_img(data_sitk[:,:,:,int(i)], out_spacing=[1.05,1.05, 1.05],sampler = 'linear')\n",
    "        resampled_sitk_img.append(sitk.GetArrayFromImage(resampled_img))\n",
    "    return np.stack(resampled_sitk_img, axis=3)"
   ]
  },
  {
   "cell_type": "code",
   "execution_count": 3,
   "id": "12e0d7f7",
   "metadata": {},
   "outputs": [
    {
     "name": "stderr",
     "output_type": "stream",
     "text": [
      "/usr/local/lib/python3.8/dist-packages/tqdm/auto.py:21: TqdmWarning: IProgress not found. Please update jupyter and ipywidgets. See https://ipywidgets.readthedocs.io/en/stable/user_install.html\n",
      "  from .autonotebook import tqdm as notebook_tqdm\n"
     ]
    }
   ],
   "source": [
    "from dipy.segment.mask import median_otsu\n",
    "from dipy.reconst.dti import fractional_anisotropy, color_fa\n",
    "import dipy.reconst.dti as dti\n",
    "import h5py"
   ]
  },
  {
   "cell_type": "code",
   "execution_count": 11,
   "id": "d8c22458",
   "metadata": {},
   "outputs": [],
   "source": [
    "shape_file_7t = {}"
   ]
  },
  {
   "cell_type": "code",
   "execution_count": 33,
   "id": "34629d00",
   "metadata": {},
   "outputs": [],
   "source": [
    "limited_common = common[:40]"
   ]
  },
  {
   "cell_type": "code",
   "execution_count": 34,
   "id": "8b49e281",
   "metadata": {},
   "outputs": [],
   "source": [
    "shape_file = {}"
   ]
  },
  {
   "cell_type": "code",
   "execution_count": 35,
   "id": "626359f2",
   "metadata": {},
   "outputs": [],
   "source": [
    "data_sitk = sitk.ReadImage(path['3T']['100610']['data'])"
   ]
  },
  {
   "cell_type": "code",
   "execution_count": 45,
   "id": "bcbdedc1",
   "metadata": {},
   "outputs": [],
   "source": [
    "mask_sitk = sitk.ReadImage(path['3T']['100610']['brain_mask'])"
   ]
  },
  {
   "cell_type": "code",
   "execution_count": 46,
   "id": "f564644a",
   "metadata": {},
   "outputs": [
    {
     "data": {
      "text/plain": [
       "(145, 174, 145)"
      ]
     },
     "execution_count": 46,
     "metadata": {},
     "output_type": "execute_result"
    }
   ],
   "source": [
    "mask_sitk.GetSize()"
   ]
  },
  {
   "cell_type": "code",
   "execution_count": 47,
   "id": "f53a15bf",
   "metadata": {},
   "outputs": [],
   "source": [
    "mask = resample_img(mask_sitk, out_spacing=[1.05,1.05, 1.05],sampler = 'linear')"
   ]
  },
  {
   "cell_type": "code",
   "execution_count": 49,
   "id": "a113afb4",
   "metadata": {},
   "outputs": [
    {
     "data": {
      "text/plain": [
       "(173, 207, 173)"
      ]
     },
     "execution_count": 49,
     "metadata": {},
     "output_type": "execute_result"
    }
   ],
   "source": [
    "mask.GetSize()"
   ]
  },
  {
   "cell_type": "code",
   "execution_count": null,
   "id": "76fbe13c",
   "metadata": {},
   "outputs": [
    {
     "name": "stdout",
     "output_type": "stream",
     "text": [
      "Current ID 100610\n"
     ]
    }
   ],
   "source": [
    "for i in limited_common:\n",
    "    print(\"Current ID\",i)\n",
    "#     data,mask,gtab = load_hcp(i,'3T')brain_mask\n",
    "    gtab = load_gtab(i,'3T')\n",
    "    data_sitk = sitk.ReadImage(path['3T'][i]['data'])\n",
    "    mask_sitk = sitk.ReadImage(path['3T'][i]['brain_mask'])\n",
    "    name = \"/storage/HCP_3T/\" + i + \"/\" + i + \"_upsampled.h5\"\n",
    "#     shape_file[i] = data_sitk.GetSize()\n",
    "    hf = h5py.File(name, 'w')\n",
    "#     temp = data[:,:,:,gtab.bvals>5]\n",
    "    idx,cond= optimal_dirs(gtab,10000,5,debug = True,base_bval = int(min(gtab.bvals)))\n",
    "    idx = np.where(gtab.bvals>int(min(gtab.bvals)))[0][idx]\n",
    "#     dw_bvals = gtab.bvecs[gtab.bvals!=int(min(gtab.bvals)),:],gtab.bvals[gtab.bvals!=int(min(gtab.bvals))]\n",
    "    \n",
    "    for j in range(3):\n",
    "        sample = np.random.randint(0,len(np.where(gtab.bvals==int(min(gtab.bvals)))[0]))\n",
    "        sample = np.where(gtab.bvals==int(min(gtab.bvals)))[0][sample]\n",
    "#         b0 = data[:,:,:,sample]\n",
    "        bvals6 = np.insert(gtab.bvals[idx[j]],0,gtab.bvals[sample])\n",
    "        bvecs6 = np.insert(gtab.bvecs[idx[j]],0,gtab.bvecs[sample],axis = 0)\n",
    "#         data6 = temp[:,:,:,idx[j]]\n",
    "#         data6 = np.insert(data6,0,b0,axis =3)\n",
    "        \n",
    "        data6 = resampler(data_sitk,idx[j],sample)\n",
    "        hf.create_dataset('volumes'+ str(j), data=data6)\n",
    "        hf.create_dataset('bvals'+ str(j), data=bvals6)\n",
    "        hf.create_dataset('bvecs'+ str(j), data=bvecs6)\n",
    "    hf.create_dataset('idx', data=idx)\n",
    "    hf.create_dataset('cond', data=cond)\n",
    "    mask = resample_img(mask_sitk, out_spacing=[1.05,1.05, 1.05],sampler = 'linear')\n",
    "    hf.create_dataset('mask', data=sitk.GetArrayFromImage(mask))\n",
    "    \n",
    "    hf.close()\n",
    "    \n",
    "    print(name,\"Done\")\n",
    "    \n",
    "#     name = \"/storage/HCP_3T/\" + i + \"/\" + i + \"_GT.h5\"\n",
    "#     hf = h5py.File(name, 'w')\n",
    "    \n",
    "#     tenmodel = dti.TensorModel(gtab)\n",
    "#     tenfit = tenmodel.fit(data,mask=mask)\n",
    "#     tensor_vals = dti.lower_triangular(tenfit.quadratic_form)\n",
    "#     FA = fractional_anisotropy(tenfit.evals)\n",
    "#     MD = dti.mean_diffusivity(tenfit.evals)\n",
    "#     FA[np.isnan(FA)] = 0\n",
    "#     FA = np.clip(FA, 0, 1)\n",
    "#     RGB = color_fa(FA, tenfit.evecs)\n",
    "    \n",
    "#     hf.create_dataset('tensor_vals', data=tensor_vals)\n",
    "#     hf.create_dataset('ADC', data=MD)\n",
    "#     hf.create_dataset('FA', data=FA)\n",
    "#     hf.create_dataset('color_FA', data=RGB)\n",
    "    \n",
    "#     hf.close()\n",
    "#     print(name,\"Done\")\n",
    "\n",
    "    break"
   ]
  },
  {
   "cell_type": "code",
   "execution_count": 51,
   "id": "241549c0",
   "metadata": {},
   "outputs": [],
   "source": [
    "hf.close()"
   ]
  },
  {
   "cell_type": "code",
   "execution_count": null,
   "id": "90cf303c",
   "metadata": {
    "scrolled": true
   },
   "outputs": [],
   "source": [
    "for i in limited_common:\n",
    "    print(\"Current ID\",i)\n",
    "    data,mask,gtab = load_hcp(i,'7T')\n",
    "    name = \"/storage/HCP_7T/\" + i + \"/\" + i + \".h5\"\n",
    "    shape_file_7t[i] = data.shape\n",
    "    hf = h5py.File(name, 'w')\n",
    "    temp = data[:,:,:,gtab.bvals>5]\n",
    "    idx,cond= optimal_dirs(gtab,10000,5,debug = True,base_bval = int(min(gtab.bvals)))\n",
    "    base_bvals_vols = data[:,:,:,gtab.bvals==int(min(gtab.bvals))]\n",
    "    base_bvals = gtab.bvecs[gtab.bvals==int(min(gtab.bvals)),:],gtab.bvals[gtab.bvals==int(min(gtab.bvals))]\n",
    "    dw_bvals = gtab.bvecs[gtab.bvals!=int(min(gtab.bvals)),:],gtab.bvals[gtab.bvals!=int(min(gtab.bvals))]\n",
    "    for j in range(3):\n",
    "        sample = np.random.randint(0,base_bvals_vols.shape[3])\n",
    "        b0 = base_bvals_vols[:,:,:,sample]\n",
    "        bvals6 = np.insert(dw_bvals[1][idx[j]],0,base_bvals[1][sample])\n",
    "        bvecs6 = np.insert(dw_bvals[0][idx[j]],0,base_bvals[0][sample],axis = 0)\n",
    "        data6 = temp[:,:,:,idx[j]]\n",
    "        data6 = np.insert(data6,0,b0,axis =3)\n",
    "        hf.create_dataset('volumes'+ str(j), data=data6)\n",
    "        hf.create_dataset('bvals'+ str(j), data=bvals6)\n",
    "        hf.create_dataset('bvecs'+ str(j), data=bvecs6)\n",
    "    hf.create_dataset('idx', data=idx)\n",
    "    hf.create_dataset('cond', data=cond)\n",
    "    hf.create_dataset('mask', data=mask)\n",
    "    \n",
    "    hf.close()\n",
    "    print(name,\"Done\")\n",
    "    \n",
    "    name = \"/storage/HCP_7T/\" + i + \"/\" + i + \"_GT.h5\"\n",
    "    hf = h5py.File(name, 'w')\n",
    "    \n",
    "    tenmodel = dti.TensorModel(gtab)\n",
    "    tenfit = tenmodel.fit(data,mask=mask)\n",
    "    tensor_vals = dti.lower_triangular(tenfit.quadratic_form)\n",
    "    FA = fractional_anisotropy(tenfit.evals)\n",
    "    MD = dti.mean_diffusivity(tenfit.evals)\n",
    "    FA[np.isnan(FA)] = 0\n",
    "    FA = np.clip(FA, 0, 1)\n",
    "    RGB = color_fa(FA, tenfit.evecs)\n",
    "    \n",
    "    hf.create_dataset('tensor_vals', data=tensor_vals)\n",
    "    hf.create_dataset('ADC', data=MD)\n",
    "    hf.create_dataset('FA', data=FA)\n",
    "    hf.create_dataset('color_FA', data=RGB)\n",
    "    \n",
    "    hf.close()\n",
    "    print(name,\"Done\")"
   ]
  },
  {
   "cell_type": "code",
   "execution_count": null,
   "id": "058e9761",
   "metadata": {},
   "outputs": [],
   "source": [
    "shape_file"
   ]
  },
  {
   "cell_type": "code",
   "execution_count": null,
   "id": "7e299b80",
   "metadata": {},
   "outputs": [],
   "source": []
  },
  {
   "cell_type": "code",
   "execution_count": null,
   "id": "b7624aa6",
   "metadata": {
    "scrolled": true
   },
   "outputs": [],
   "source": [
    "shape_file_7t"
   ]
  },
  {
   "cell_type": "code",
   "execution_count": null,
   "id": "a15d76c5",
   "metadata": {},
   "outputs": [],
   "source": [
    "lr = (145, 174, 143, 288)\n",
    "hr = (173, 207, 171, 143)"
   ]
  },
  {
   "cell_type": "code",
   "execution_count": null,
   "id": "6cdf5e37",
   "metadata": {},
   "outputs": [],
   "source": [
    "for i in range(3):\n",
    "    print(hr[i]/lr[i],end=\" \")"
   ]
  },
  {
   "cell_type": "code",
   "execution_count": null,
   "id": "c67e7601",
   "metadata": {},
   "outputs": [],
   "source": [
    "%who"
   ]
  },
  {
   "cell_type": "code",
   "execution_count": null,
   "id": "36d67916",
   "metadata": {},
   "outputs": [],
   "source": [
    "common[0]"
   ]
  },
  {
   "cell_type": "code",
   "execution_count": null,
   "id": "b86522e1",
   "metadata": {},
   "outputs": [],
   "source": [
    "data,mask,gtab = load_hcp(common[0],'3T')"
   ]
  },
  {
   "cell_type": "code",
   "execution_count": null,
   "id": "d68d7076",
   "metadata": {},
   "outputs": [],
   "source": [
    "idx = optimal_dirs(gtab,10000,5,debug = True,base_bval = 5)"
   ]
  },
  {
   "cell_type": "code",
   "execution_count": null,
   "id": "fb94a18d",
   "metadata": {},
   "outputs": [],
   "source": [
    "gtab.bvals[idx[0]],gtab.bvecs[idx[0]]"
   ]
  },
  {
   "cell_type": "code",
   "execution_count": null,
   "id": "349dcd21",
   "metadata": {},
   "outputs": [],
   "source": [
    "bvals6,bvecs6 = np.insert(gtab.bvals[idx[0]],0,gtab.bvals[0]),np.insert(gtab.bvecs[idx[0]],0,gtab.bvecs[0],axis = 0)"
   ]
  },
  {
   "cell_type": "code",
   "execution_count": null,
   "id": "8b407b63",
   "metadata": {},
   "outputs": [],
   "source": [
    "bvals6,bvecs6"
   ]
  },
  {
   "cell_type": "code",
   "execution_count": null,
   "id": "7e7b490e",
   "metadata": {},
   "outputs": [],
   "source": [
    "len(bvals6),len(bvecs6)"
   ]
  },
  {
   "cell_type": "code",
   "execution_count": null,
   "id": "a9cc7ec0",
   "metadata": {},
   "outputs": [],
   "source": [
    "gtab6 = gradient_table(bvals6, bvecs6)"
   ]
  },
  {
   "cell_type": "code",
   "execution_count": null,
   "id": "df424802",
   "metadata": {},
   "outputs": [],
   "source": [
    "temp = data[:,:,:,gtab.bvals>5]"
   ]
  },
  {
   "cell_type": "code",
   "execution_count": null,
   "id": "94bdefea",
   "metadata": {},
   "outputs": [],
   "source": [
    "data6 = temp[:,:,:,idx[0]]"
   ]
  },
  {
   "cell_type": "code",
   "execution_count": null,
   "id": "1a786b72",
   "metadata": {},
   "outputs": [],
   "source": [
    "data6.shape"
   ]
  },
  {
   "cell_type": "code",
   "execution_count": null,
   "id": "ba65b281",
   "metadata": {},
   "outputs": [],
   "source": [
    "data6 = np.insert(data6,0,data[:,:,:,0],axis =3)"
   ]
  },
  {
   "cell_type": "code",
   "execution_count": null,
   "id": "a6aa4305",
   "metadata": {},
   "outputs": [],
   "source": [
    "data6.shape"
   ]
  },
  {
   "cell_type": "code",
   "execution_count": null,
   "id": "348e6273",
   "metadata": {},
   "outputs": [],
   "source": [
    "import h5py\n",
    "name = \"/storage/HCP_3T/\" + common[0] + \"/\" + common[0] + \".h5\""
   ]
  },
  {
   "cell_type": "code",
   "execution_count": null,
   "id": "8d4476a9",
   "metadata": {},
   "outputs": [],
   "source": [
    "name"
   ]
  },
  {
   "cell_type": "code",
   "execution_count": null,
   "id": "7438c2bf",
   "metadata": {},
   "outputs": [],
   "source": [
    "\n",
    "hf = h5py.File(name, 'w')"
   ]
  },
  {
   "cell_type": "code",
   "execution_count": null,
   "id": "34615fa1",
   "metadata": {},
   "outputs": [],
   "source": [
    "hf.create_dataset('volumes', data=data6)\n",
    "hf.create_dataset('bvals', data=bvals6)\n",
    "hf.create_dataset('bvecs', data=bvecs6)"
   ]
  },
  {
   "cell_type": "code",
   "execution_count": null,
   "id": "86103fcf",
   "metadata": {},
   "outputs": [],
   "source": [
    "hf.close()"
   ]
  },
  {
   "cell_type": "code",
   "execution_count": null,
   "id": "c619b937",
   "metadata": {},
   "outputs": [],
   "source": [
    "name = \"/storage/HCP_3T/\" + common[0] + \"/\" + common[0] + \".h5\"\n",
    "hf = h5py.File(name, 'r')"
   ]
  },
  {
   "cell_type": "code",
   "execution_count": null,
   "id": "09a0121e",
   "metadata": {},
   "outputs": [],
   "source": [
    "list(hf.keys())"
   ]
  },
  {
   "cell_type": "code",
   "execution_count": null,
   "id": "fd5ad708",
   "metadata": {},
   "outputs": [],
   "source": [
    "for i in list(hf.keys())[3:6]:\n",
    "    print(i,np.array(hf.get(i)))"
   ]
  },
  {
   "cell_type": "code",
   "execution_count": null,
   "id": "012d229e",
   "metadata": {},
   "outputs": [],
   "source": [
    "plt.imshow(np.array(hf.get('mask'))[:,:,50])\n",
    "plt.axline((14, 15), (14, 128), linewidth=4, color='r')\n",
    "plt.axline((163, 15), (163, 128), linewidth=4, color='r')"
   ]
  },
  {
   "cell_type": "code",
   "execution_count": null,
   "id": "43366487",
   "metadata": {},
   "outputs": [],
   "source": [
    "xind,yind,zind = np.nonzero(np.array(hf.get('mask')))"
   ]
  },
  {
   "cell_type": "code",
   "execution_count": null,
   "id": "64679d5e",
   "metadata": {},
   "outputs": [],
   "source": [
    "xmin,xmax = np.min(xind),np.max(xind)\n",
    "ymin,ymax = np.min(yind),np.max(yind)\n",
    "zmin,zmax = np.min(zind),np.max(zind)\n",
    "\n",
    "ind_brain = [xmin, xmax, ymin, ymax, zmin, zmax]"
   ]
  },
  {
   "cell_type": "code",
   "execution_count": null,
   "id": "97ca1721",
   "metadata": {},
   "outputs": [],
   "source": [
    "def extract_block(data, inds):\n",
    "\n",
    "        xsz_block = inds[0, 1] - inds[0, 0] + 1\n",
    "        ysz_block = inds[0, 3] - inds[0, 2] + 1\n",
    "        zsz_block = inds[0, 5] - inds[0, 4] + 1\n",
    "        ch_block = data.shape[-1]\n",
    "        \n",
    "        blocks = []\n",
    "        \n",
    "        for ii in np.arange(inds.shape[0]):\n",
    "            inds_this = inds[ii, :]\n",
    "            curr_blk = data[inds_this[0]:inds_this[1]+1, inds_this[2]:inds_this[3]+1, inds_this[4]:inds_this[5]+1, :]\n",
    "            if(np.count_nonzero(curr_blk)/curr_blk.size >0.6):\n",
    "                blocks.append(curr_blk)\n",
    "        return np.stack(blocks, axis=0)\n",
    "    \n",
    "def blocks(base_mask):\n",
    "        # %% divide brain volume to blocks\n",
    "        xind,yind,zind = np.nonzero(base_mask)\n",
    "        xmin,xmax = np.min(xind),np.max(xind)\n",
    "        ymin,ymax = np.min(yind),np.max(yind)\n",
    "        zmin,zmax = np.min(zind),np.max(zind)\n",
    "\n",
    "        ind_brain = [xmin, xmax, ymin, ymax, zmin, zmax] \n",
    "        # print(ind_brain)\n",
    "        # calculate number of blocks along each dimension\n",
    "        xlen = xmax - xmin + 1\n",
    "        ylen = ymax - ymin + 1\n",
    "        zlen = zmax - zmin + 1\n",
    "        blk_size = (64,64,64)\n",
    "        nx = int(np.ceil(xlen / blk_size[0]))\n",
    "        ny = int(np.ceil(ylen / blk_size[1]))\n",
    "        nz = int(np.ceil(zlen / blk_size[2]))\n",
    "\n",
    "        # determine starting and ending indices of each block\n",
    "        xstart = xmin\n",
    "        ystart = ymin\n",
    "        zstart = zmin\n",
    "\n",
    "        xend = xmax - blk_size[0] + 1\n",
    "        yend = ymax - blk_size[1] + 1\n",
    "        zend = zmax - blk_size[2] + 1\n",
    "\n",
    "        xind_block = np.round(np.linspace(xstart, xend, nx))\n",
    "        yind_block = np.round(np.linspace(ystart, yend, ny))\n",
    "        zind_block = np.round(np.linspace(zstart, zend, nz))\n",
    "\n",
    "        ind_block = np.zeros([xind_block.shape[0]*yind_block.shape[0]*zind_block.shape[0], 6])\n",
    "        count = 0\n",
    "        for ii in np.arange(0, xind_block.shape[0]):\n",
    "            for jj in np.arange(0, yind_block.shape[0]):\n",
    "                for kk in np.arange(0, zind_block.shape[0]):\n",
    "                    ind_block[count, :] = np.array([xind_block[ii], xind_block[ii]+blk_size[0]-1, yind_block[jj], yind_block[jj]+blk_size[1]-1, zind_block[kk], zind_block[kk]+blk_size[2]-1])\n",
    "                    count = count + 1\n",
    "\n",
    "        ind_block = ind_block.astype(int)\n",
    "        # print(ind_block)\n",
    "        return ind_block,len(ind_block)"
   ]
  },
  {
   "cell_type": "code",
   "execution_count": null,
   "id": "ae3f2f38",
   "metadata": {},
   "outputs": [],
   "source": [
    "mask = np.array(hf.get('mask'))"
   ]
  },
  {
   "cell_type": "code",
   "execution_count": null,
   "id": "ed0536cf",
   "metadata": {},
   "outputs": [],
   "source": [
    "inds,tot = blocks(mask)"
   ]
  },
  {
   "cell_type": "code",
   "execution_count": null,
   "id": "26b9fe4f",
   "metadata": {},
   "outputs": [],
   "source": [
    "inds.shape"
   ]
  },
  {
   "cell_type": "code",
   "execution_count": null,
   "id": "145b1ef6",
   "metadata": {},
   "outputs": [],
   "source": [
    "img = np.array(hf.get('volumes0'))\n",
    "imgmean = np.mean(img[np.nonzero(np.array(hf.get('mask')))])\n",
    "imgstd = np.std(img[np.nonzero(np.array(hf.get('mask')))])"
   ]
  },
  {
   "cell_type": "code",
   "execution_count": null,
   "id": "f8ad5fc1",
   "metadata": {},
   "outputs": [],
   "source": [
    "img_norm = (img-np.min(img))/(np.max(img)-np.min(img))"
   ]
  },
  {
   "cell_type": "code",
   "execution_count": null,
   "id": "effd5be5",
   "metadata": {},
   "outputs": [],
   "source": [
    "img_norm.max(),img_norm.min()"
   ]
  },
  {
   "cell_type": "code",
   "execution_count": null,
   "id": "493f0869",
   "metadata": {},
   "outputs": [],
   "source": [
    "img.shape"
   ]
  },
  {
   "cell_type": "code",
   "execution_count": null,
   "id": "c4f77708",
   "metadata": {},
   "outputs": [],
   "source": [
    "img.shape,mask.shape"
   ]
  },
  {
   "cell_type": "code",
   "execution_count": null,
   "id": "902bb430",
   "metadata": {},
   "outputs": [],
   "source": [
    "temp = np.concatenate((img,mask),axis =3)"
   ]
  },
  {
   "cell_type": "code",
   "execution_count": null,
   "id": "5af23bfc",
   "metadata": {},
   "outputs": [],
   "source": [
    "temp.shape"
   ]
  },
  {
   "cell_type": "code",
   "execution_count": null,
   "id": "cf29c8c2",
   "metadata": {},
   "outputs": [],
   "source": [
    "plt.imshow(temp[:,:,20,7])"
   ]
  },
  {
   "cell_type": "code",
   "execution_count": null,
   "id": "25bb00c1",
   "metadata": {},
   "outputs": [],
   "source": [
    "img.max(),img.min()"
   ]
  },
  {
   "cell_type": "code",
   "execution_count": null,
   "id": "485b23a5",
   "metadata": {},
   "outputs": [],
   "source": [
    "temp = extract_block(np.array(hf.get('volumes0')),inds)"
   ]
  },
  {
   "cell_type": "code",
   "execution_count": null,
   "id": "62043eea",
   "metadata": {},
   "outputs": [],
   "source": [
    "temp.shape"
   ]
  },
  {
   "cell_type": "code",
   "execution_count": null,
   "id": "a4ff33ce",
   "metadata": {},
   "outputs": [],
   "source": [
    "temp[0].shape"
   ]
  },
  {
   "cell_type": "code",
   "execution_count": null,
   "id": "80f10785",
   "metadata": {},
   "outputs": [],
   "source": [
    "plt.imshow(temp[5,:,:,10,0]),temp[5,:,:,10,0].min(),temp[5,:,:,10,0].max()"
   ]
  },
  {
   "cell_type": "code",
   "execution_count": null,
   "id": "e0493dc4",
   "metadata": {},
   "outputs": [],
   "source": [
    "temp = extract_block(img_norm,inds)"
   ]
  },
  {
   "cell_type": "code",
   "execution_count": null,
   "id": "d4f2a962",
   "metadata": {},
   "outputs": [],
   "source": [
    "temp.shape"
   ]
  },
  {
   "cell_type": "code",
   "execution_count": null,
   "id": "62264adc",
   "metadata": {},
   "outputs": [],
   "source": [
    "plt.imshow(temp[5,:,:,10,0]),temp[5,:,:,10,0].min(),temp[5,:,:,10,0].max()"
   ]
  },
  {
   "cell_type": "code",
   "execution_count": null,
   "id": "706308d2",
   "metadata": {},
   "outputs": [],
   "source": [
    "temp[100,:,:,10,0].size"
   ]
  },
  {
   "cell_type": "code",
   "execution_count": null,
   "id": "b3bd5181",
   "metadata": {},
   "outputs": [],
   "source": [
    "np.count_nonzero(temp[60,:,:,10,0])/temp[60,:,:,10,0].size"
   ]
  },
  {
   "cell_type": "code",
   "execution_count": null,
   "id": "e555c7a1",
   "metadata": {},
   "outputs": [],
   "source": [
    "temp[200,:,:,:,:].shape"
   ]
  },
  {
   "cell_type": "code",
   "execution_count": null,
   "id": "978a326e",
   "metadata": {},
   "outputs": [],
   "source": [
    "blocks = []"
   ]
  },
  {
   "cell_type": "code",
   "execution_count": null,
   "id": "e957119e",
   "metadata": {},
   "outputs": [],
   "source": [
    "blocks.shape"
   ]
  },
  {
   "cell_type": "code",
   "execution_count": null,
   "id": "7ad156b2",
   "metadata": {},
   "outputs": [],
   "source": [
    "blocks = np.concatenate((blocks,temp[200,:,:,:,:]),axis = 0)"
   ]
  },
  {
   "cell_type": "code",
   "execution_count": null,
   "id": "810c9fe8",
   "metadata": {},
   "outputs": [],
   "source": [
    "blocks.shape"
   ]
  },
  {
   "cell_type": "code",
   "execution_count": null,
   "id": "5d7e9bfb",
   "metadata": {},
   "outputs": [],
   "source": []
  },
  {
   "cell_type": "code",
   "execution_count": null,
   "id": "fd41ad16",
   "metadata": {},
   "outputs": [],
   "source": [
    "np.array(hf.get('volumes0')).shape"
   ]
  },
  {
   "cell_type": "code",
   "execution_count": null,
   "id": "55b4c052",
   "metadata": {},
   "outputs": [],
   "source": []
  },
  {
   "cell_type": "code",
   "execution_count": null,
   "id": "3938ba99",
   "metadata": {},
   "outputs": [],
   "source": [
    "for i in list(hf.keys())[:3]:\n",
    "    print(i,np.array(hf.get(i)))"
   ]
  },
  {
   "cell_type": "code",
   "execution_count": null,
   "id": "18355964",
   "metadata": {},
   "outputs": [],
   "source": [
    "np.array(hf.get('cond'))"
   ]
  },
  {
   "cell_type": "code",
   "execution_count": null,
   "id": "52392fd3",
   "metadata": {},
   "outputs": [],
   "source": [
    "np.array(hf.get('idx'))"
   ]
  },
  {
   "cell_type": "code",
   "execution_count": null,
   "id": "b80b376a",
   "metadata": {},
   "outputs": [],
   "source": [
    "for i in list(hf.keys()):\n",
    "    print(i,np.array(hf.get(i)).shape)"
   ]
  },
  {
   "cell_type": "code",
   "execution_count": null,
   "id": "90fdaf40",
   "metadata": {},
   "outputs": [],
   "source": [
    "hf.close()"
   ]
  },
  {
   "cell_type": "code",
   "execution_count": null,
   "id": "af5bf0c1",
   "metadata": {},
   "outputs": [],
   "source": [
    "common[0]"
   ]
  },
  {
   "cell_type": "code",
   "execution_count": 38,
   "id": "fb7943e5",
   "metadata": {},
   "outputs": [],
   "source": [
    "name = \"/storage/HCP_3T/\" + common[0] + \"/\" + common[0] + \"_upsampled.h5\"\n",
    "hf = h5py.File(name, 'r')"
   ]
  },
  {
   "cell_type": "code",
   "execution_count": null,
   "id": "c846786c",
   "metadata": {},
   "outputs": [],
   "source": [
    "np.array(hf.get(i)).shape"
   ]
  },
  {
   "cell_type": "code",
   "execution_count": 40,
   "id": "e2df639e",
   "metadata": {},
   "outputs": [
    {
     "data": {
      "text/plain": [
       "array([   5.,  990., 1000.,  990., 1005., 1000., 1995.])"
      ]
     },
     "execution_count": 40,
     "metadata": {},
     "output_type": "execute_result"
    }
   ],
   "source": [
    "np.array(hf.get('bvals1'))"
   ]
  },
  {
   "cell_type": "code",
   "execution_count": 41,
   "id": "983dcc18",
   "metadata": {},
   "outputs": [
    {
     "data": {
      "text/plain": [
       "array([   5., 2985., 1000., 1005., 1000., 2985., 1995.])"
      ]
     },
     "execution_count": 41,
     "metadata": {},
     "output_type": "execute_result"
    }
   ],
   "source": [
    "np.array(hf.get('bvals2'))"
   ]
  },
  {
   "cell_type": "code",
   "execution_count": 42,
   "id": "a3e067bb",
   "metadata": {},
   "outputs": [
    {
     "data": {
      "text/plain": [
       "array([   5.,  990., 1000., 1005., 1000., 2985., 1995.])"
      ]
     },
     "execution_count": 42,
     "metadata": {},
     "output_type": "execute_result"
    }
   ],
   "source": [
    "np.array(hf.get('bvals0'))"
   ]
  },
  {
   "cell_type": "code",
   "execution_count": 43,
   "id": "87711e9c",
   "metadata": {},
   "outputs": [
    {
     "data": {
      "text/plain": [
       "<matplotlib.image.AxesImage at 0x7f53431115e0>"
      ]
     },
     "execution_count": 43,
     "metadata": {},
     "output_type": "execute_result"
    },
    {
     "data": {
      "image/png": "[encoded data removed]",
      "text/plain": [
       "<Figure size 640x480 with 1 Axes>"
      ]
     },
     "metadata": {},
     "output_type": "display_data"
    }
   ],
   "source": [
    "plt.imshow(np.array(hf.get('volumes0'))[:,:,50,6])"
   ]
  },
  {
   "cell_type": "code",
   "execution_count": 39,
   "id": "f205984e",
   "metadata": {},
   "outputs": [
    {
     "name": "stdout",
     "output_type": "stream",
     "text": [
      "bvals0 (7,)\n",
      "bvals1 (7,)\n",
      "bvals2 (7,)\n",
      "bvecs0 (7, 3)\n",
      "bvecs1 (7, 3)\n",
      "bvecs2 (7, 3)\n",
      "cond (5,)\n",
      "idx (5, 6)\n",
      "mask (6195303,)\n",
      "volumes0 (173, 207, 173, 7)\n",
      "volumes1 (173, 207, 173, 7)\n",
      "volumes2 (173, 207, 173, 7)\n"
     ]
    }
   ],
   "source": [
    "for i in list(hf.keys()):\n",
    "    print(i,np.array(hf.get(i)).shape)"
   ]
  },
  {
   "cell_type": "code",
   "execution_count": null,
   "id": "281aa6c3",
   "metadata": {},
   "outputs": [],
   "source": [
    "np.array(hf.get('ADC')).max(),np.array(hf.get('ADC')).min()"
   ]
  },
  {
   "cell_type": "code",
   "execution_count": null,
   "id": "e0e99833",
   "metadata": {},
   "outputs": [],
   "source": [
    "np.array(hf.get('FA')).max(),np.array(hf.get('FA')).min()"
   ]
  },
  {
   "cell_type": "code",
   "execution_count": null,
   "id": "ebc3c878",
   "metadata": {},
   "outputs": [],
   "source": [
    "np.array(hf.get('color_FA')).max(),np.array(hf.get('color_FA')).min()"
   ]
  },
  {
   "cell_type": "code",
   "execution_count": null,
   "id": "8d9e015f",
   "metadata": {},
   "outputs": [],
   "source": [
    "np.array(hf.get('ADC'))"
   ]
  },
  {
   "cell_type": "code",
   "execution_count": null,
   "id": "5894fded",
   "metadata": {},
   "outputs": [],
   "source": [
    "i=70\n",
    "f, axis = plt.subplots(1, 3)\n",
    "f.set_figwidth(20)\n",
    "f.set_figheight(10)\n",
    "axis[0].set_title('FA \"fractional anisotropy\"')\n",
    "axis[0].imshow(np.array(hf.get('FA'))[:,:,i])\n",
    "axis[1].set_title('MD \"Mean Diffusivity or Average Diffusion Coefficent(ADC)\"')\n",
    "axis[1].imshow(np.array(hf.get('ADC'))[:,:,i])\n",
    "axis[2].set_title('MD_RGB \"Principal Diffusion Directions\"')\n",
    "axis[2].imshow(np.array(hf.get('color_FA'))[:,:,i])"
   ]
  },
  {
   "cell_type": "code",
   "execution_count": null,
   "id": "92716062",
   "metadata": {},
   "outputs": [],
   "source": []
  }
 ],
 "metadata": {
  "kernelspec": {
   "display_name": "Python 3 (ipykernel)",
   "language": "python",
   "name": "python3"
  },
  "language_info": {
   "codemirror_mode": {
    "name": "ipython",
    "version": 3
   },
   "file_extension": ".py",
   "mimetype": "text/x-python",
   "name": "python",
   "nbconvert_exporter": "python",
   "pygments_lexer": "ipython3",
   "version": "3.8.10"
  }
 },
 "nbformat": 4,
 "nbformat_minor": 5
}
