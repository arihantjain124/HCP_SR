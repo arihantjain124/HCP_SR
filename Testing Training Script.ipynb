{
 "cells": [
  {
   "cell_type": "code",
   "execution_count": 1,
   "id": "6994d270",
   "metadata": {},
   "outputs": [],
   "source": [
    "import argparse, os\n",
    "import torch\n",
    "import torch.nn as nn\n",
    "import torch.optim as optim\n",
    "from torch.utils.data import DataLoader\n",
    "import matplotlib.pyplot as plt\n",
    "import numpy as np\n",
    "import cupy as cp\n",
    "import cucim\n",
    "import data.utils_metrics as utils_met\n",
    "import cucim.skimage.metrics as met"
   ]
  },
  {
   "cell_type": "markdown",
   "id": "a0adebb9",
   "metadata": {},
   "source": [
    "7T scan resolution : 173, 207, 173\n",
    "\n",
    "3T scan resolution : 145, 174, 143"
   ]
  },
  {
   "cell_type": "code",
   "execution_count": 2,
   "id": "06fc2873",
   "metadata": {},
   "outputs": [
    {
     "name": "stdout",
     "output_type": "stream",
     "text": [
      "Namespace(batch_size=4, block_size=(64, 64, 1), crop_depth=30, debug=False, dir='/storage', preload=True, sort=True, test_size=(173, 207, 1), typ='upsampled')\n"
     ]
    }
   ],
   "source": [
    "parser = argparse.ArgumentParser(description=\"IMDN\")\n",
    "parser.add_argument(\"--block_size\", type=tuple, default=(64,64,1),\n",
    "                    help=\"Block Size\")\n",
    "parser.add_argument(\"--test_size\", type=tuple, default=(173,207,1),\n",
    "                    help=\"test_size\")\n",
    "parser.add_argument(\"--crop_depth\", type=int, default=30,\n",
    "                    help=\"crop across z-axis\")\n",
    "parser.add_argument(\"--dir\", type=str,\n",
    "                    help=\"dataset_directory\")\n",
    "parser.add_argument(\"--batch_size\", type=int,\n",
    "                    help=\"dataset_directory\")\n",
    "parser.add_argument(\"--sort\", type=bool,\n",
    "                    help=\"dataset_directory\")\n",
    "parser.add_argument(\"--debug\", type=bool,\n",
    "                    help=\"dataset_directory\")\n",
    "parser.add_argument(\"--preload\", type=bool,\n",
    "                    help=\"dataset_directory\")\n",
    "args = list(parser.parse_known_args())[0]\n",
    "args.preload = True\n",
    "args.debug = False\n",
    "args.dir = \"/storage\"\n",
    "args.batch_size = 4\n",
    "args.sort = True\n",
    "args.typ = 'upsampled'\n",
    "print(args)"
   ]
  },
  {
   "cell_type": "code",
   "execution_count": 3,
   "id": "b83b0d52",
   "metadata": {},
   "outputs": [
    {
     "name": "stdout",
     "output_type": "stream",
     "text": [
      "number of common Subjects  171\n"
     ]
    }
   ],
   "source": [
    "import utils\n",
    "import data.HCP_dataset_h5 as HCP_dataset\n",
    "\n",
    "ids = utils.get_ids()\n",
    "ids.sort()\n",
    "ids = ids[:5]\n",
    "dataset_hcp = HCP_dataset\n",
    "dataset_hcp.load_data(args.dir,ids)\n",
    "training_dataset = dataset_hcp.hcp_data(args,ids)\n",
    "testing_dataset = dataset_hcp.hcp_data_test(args,ids)"
   ]
  },
  {
   "cell_type": "code",
   "execution_count": 4,
   "id": "9acbcd88",
   "metadata": {},
   "outputs": [
    {
     "data": {
      "text/plain": [
       "5"
      ]
     },
     "execution_count": 4,
     "metadata": {},
     "output_type": "execute_result"
    }
   ],
   "source": [
    "len(testing_dataset)"
   ]
  },
  {
   "cell_type": "code",
   "execution_count": 5,
   "id": "beb80720",
   "metadata": {},
   "outputs": [
    {
     "data": {
      "text/plain": [
       "2413"
      ]
     },
     "execution_count": 5,
     "metadata": {},
     "output_type": "execute_result"
    }
   ],
   "source": [
    "len(training_dataset)"
   ]
  },
  {
   "cell_type": "code",
   "execution_count": 6,
   "id": "6a282897",
   "metadata": {},
   "outputs": [
    {
     "name": "stdout",
     "output_type": "stream",
     "text": [
      "(145, 174, 145, 8) (173, 207, 173) (173, 207, 173) (173, 207, 173, 3)\n"
     ]
    }
   ],
   "source": [
    "x = testing_dataset[0]\n",
    "print(x[0].shape,x[1].shape,x[2].shape,x[3].shape)"
   ]
  },
  {
   "cell_type": "code",
   "execution_count": 7,
   "id": "acb95c48",
   "metadata": {},
   "outputs": [
    {
     "name": "stdout",
     "output_type": "stream",
     "text": [
      "(64, 64, 1, 8) (64, 64, 1) (64, 64, 1) (64, 64, 1, 3)\n"
     ]
    }
   ],
   "source": [
    "x = training_dataset[0]\n",
    "print(x[0].shape,x[1].shape,x[2].shape,x[3].shape)"
   ]
  },
  {
   "cell_type": "code",
   "execution_count": 8,
   "id": "3f7e27b5",
   "metadata": {},
   "outputs": [
    {
     "data": {
      "text/plain": [
       "array([ 489,  965, 1437, 1942, 2413])"
      ]
     },
     "execution_count": 8,
     "metadata": {},
     "output_type": "execute_result"
    }
   ],
   "source": [
    "training_dataset.blk_indx"
   ]
  },
  {
   "cell_type": "code",
   "execution_count": 9,
   "id": "310c7ac7",
   "metadata": {},
   "outputs": [],
   "source": [
    "training_data_loader = DataLoader(dataset=training_dataset, batch_size=4, shuffle=True, pin_memory=True, drop_last=True)#,collate_fn=resize)\n",
    "testing_data_loader = DataLoader(dataset=testing_dataset, batch_size=1,pin_memory=True)#,collate_fn=resize)"
   ]
  },
  {
   "cell_type": "code",
   "execution_count": 10,
   "id": "c51f0d9e",
   "metadata": {},
   "outputs": [
    {
     "name": "stdout",
     "output_type": "stream",
     "text": [
      "603\n"
     ]
    }
   ],
   "source": [
    "print(len(training_data_loader))"
   ]
  },
  {
   "cell_type": "code",
   "execution_count": 11,
   "id": "fa206c1e",
   "metadata": {},
   "outputs": [
    {
     "data": {
      "text/plain": [
       "2413"
      ]
     },
     "execution_count": 11,
     "metadata": {},
     "output_type": "execute_result"
    }
   ],
   "source": [
    "len(training_dataset)"
   ]
  },
  {
   "cell_type": "code",
   "execution_count": 12,
   "id": "622fbe91",
   "metadata": {},
   "outputs": [],
   "source": [
    "temp = next(iter(testing_data_loader))"
   ]
  },
  {
   "cell_type": "code",
   "execution_count": 13,
   "id": "31aa99a6",
   "metadata": {},
   "outputs": [
    {
     "data": {
      "text/plain": [
       "torch.Size([1, 145, 174, 145, 8])"
      ]
     },
     "execution_count": 13,
     "metadata": {},
     "output_type": "execute_result"
    }
   ],
   "source": [
    "temp[0].shape"
   ]
  },
  {
   "cell_type": "code",
   "execution_count": 14,
   "id": "d32cad22",
   "metadata": {},
   "outputs": [
    {
     "data": {
      "text/plain": [
       "torch.Size([1, 173, 207, 173])"
      ]
     },
     "execution_count": 14,
     "metadata": {},
     "output_type": "execute_result"
    }
   ],
   "source": [
    "temp[1].shape"
   ]
  },
  {
   "cell_type": "code",
   "execution_count": 15,
   "id": "158f590a",
   "metadata": {},
   "outputs": [],
   "source": [
    "def resize(data):\n",
    "    x,y = [],[]\n",
    "    for i in range(len(data)):\n",
    "        x.append(data[i][0].reshape((data[i][0].shape[0]*data[i][0].shape[1],data[i][0].shape[2],data[i][0].shape[3])))\n",
    "        y.append(np.concatenate([np.expand_dims(data[i][1],axis = 3),np.expand_dims(data[i][2],axis = 3),data[i][3]], axis=3))\n",
    "    return torch.from_numpy(np.stack(x)),torch.from_numpy(np.stack(y))\n",
    "\n",
    "training_data_loader = DataLoader(dataset=training_dataset, batch_size=40, shuffle=True, pin_memory=True, drop_last=True,collate_fn=resize)"
   ]
  },
  {
   "cell_type": "code",
   "execution_count": 16,
   "id": "b5fa904e",
   "metadata": {},
   "outputs": [
    {
     "name": "stdout",
     "output_type": "stream",
     "text": [
      "torch.Size([40, 4096, 1, 8]) torch.Size([40, 64, 64, 1, 5])\n"
     ]
    }
   ],
   "source": [
    "for iteration, (lr_tensor, hr_tensor) in enumerate(training_data_loader, 1):\n",
    "    print(lr_tensor.shape,hr_tensor.shape)\n",
    "    break"
   ]
  },
  {
   "cell_type": "code",
   "execution_count": 17,
   "id": "d2482f55",
   "metadata": {},
   "outputs": [
    {
     "data": {
      "text/plain": [
       "torch.Size([40, 8, 4096, 1])"
      ]
     },
     "execution_count": 17,
     "metadata": {},
     "output_type": "execute_result"
    }
   ],
   "source": [
    "temp = next(iter(training_data_loader))\n",
    "temp[0] = torch.permute(temp[0],(0,3,1,2))\n",
    "temp[0].shape"
   ]
  },
  {
   "cell_type": "code",
   "execution_count": 18,
   "id": "56b30786",
   "metadata": {},
   "outputs": [
    {
     "data": {
      "text/plain": [
       "torch.Size([40, 64, 64, 1, 5])"
      ]
     },
     "execution_count": 18,
     "metadata": {},
     "output_type": "execute_result"
    }
   ],
   "source": [
    "temp[1].shape"
   ]
  },
  {
   "cell_type": "markdown",
   "id": "32f9c954",
   "metadata": {},
   "source": [
    "## DUAL ARBNET"
   ]
  },
  {
   "cell_type": "code",
   "execution_count": 28,
   "id": "76aba955",
   "metadata": {},
   "outputs": [],
   "source": [
    "from Dual_ArbNet import model as arbmodel\n",
    "from Dual_ArbNet.option import args"
   ]
  },
  {
   "cell_type": "code",
   "execution_count": 29,
   "id": "ab857da9",
   "metadata": {},
   "outputs": [
    {
     "name": "stdout",
     "output_type": "stream",
     "text": [
      "Making model...\n"
     ]
    }
   ],
   "source": [
    "model = arbmodel.Model(args)"
   ]
  },
  {
   "cell_type": "code",
   "execution_count": 30,
   "id": "8487508d",
   "metadata": {},
   "outputs": [
    {
     "data": {
      "text/plain": [
       "Model(\n",
       "  (model): DataParallel(\n",
       "    (module): DUALRef(\n",
       "      (encoder): RDN(\n",
       "        (SFENet1): Conv2d(2, 64, kernel_size=(3, 3), stride=(1, 1), padding=(1, 1))\n",
       "        (SFENet2): Conv2d(64, 64, kernel_size=(3, 3), stride=(1, 1), padding=(1, 1))\n",
       "        (RDBs): ModuleList(\n",
       "          (0-4): 5 x RDB(\n",
       "            (convs): Sequential(\n",
       "              (0): RDB_Conv(\n",
       "                (conv): Sequential(\n",
       "                  (0): Conv2d(64, 64, kernel_size=(3, 3), stride=(1, 1), padding=(1, 1))\n",
       "                  (1): ReLU()\n",
       "                )\n",
       "              )\n",
       "              (1): RDB_Conv(\n",
       "                (conv): Sequential(\n",
       "                  (0): Conv2d(128, 64, kernel_size=(3, 3), stride=(1, 1), padding=(1, 1))\n",
       "                  (1): ReLU()\n",
       "                )\n",
       "              )\n",
       "              (2): RDB_Conv(\n",
       "                (conv): Sequential(\n",
       "                  (0): Conv2d(192, 64, kernel_size=(3, 3), stride=(1, 1), padding=(1, 1))\n",
       "                  (1): ReLU()\n",
       "                )\n",
       "              )\n",
       "              (3): RDB_Conv(\n",
       "                (conv): Sequential(\n",
       "                  (0): Conv2d(256, 64, kernel_size=(3, 3), stride=(1, 1), padding=(1, 1))\n",
       "                  (1): ReLU()\n",
       "                )\n",
       "              )\n",
       "              (4): RDB_Conv(\n",
       "                (conv): Sequential(\n",
       "                  (0): Conv2d(320, 64, kernel_size=(3, 3), stride=(1, 1), padding=(1, 1))\n",
       "                  (1): ReLU()\n",
       "                )\n",
       "              )\n",
       "              (5): RDB_Conv(\n",
       "                (conv): Sequential(\n",
       "                  (0): Conv2d(384, 64, kernel_size=(3, 3), stride=(1, 1), padding=(1, 1))\n",
       "                  (1): ReLU()\n",
       "                )\n",
       "              )\n",
       "              (6): RDB_Conv(\n",
       "                (conv): Sequential(\n",
       "                  (0): Conv2d(448, 64, kernel_size=(3, 3), stride=(1, 1), padding=(1, 1))\n",
       "                  (1): ReLU()\n",
       "                )\n",
       "              )\n",
       "              (7): RDB_Conv(\n",
       "                (conv): Sequential(\n",
       "                  (0): Conv2d(512, 64, kernel_size=(3, 3), stride=(1, 1), padding=(1, 1))\n",
       "                  (1): ReLU()\n",
       "                )\n",
       "              )\n",
       "              (8): RDB_Conv(\n",
       "                (conv): Sequential(\n",
       "                  (0): Conv2d(576, 64, kernel_size=(3, 3), stride=(1, 1), padding=(1, 1))\n",
       "                  (1): ReLU()\n",
       "                )\n",
       "              )\n",
       "              (9): RDB_Conv(\n",
       "                (conv): Sequential(\n",
       "                  (0): Conv2d(640, 64, kernel_size=(3, 3), stride=(1, 1), padding=(1, 1))\n",
       "                  (1): ReLU()\n",
       "                )\n",
       "              )\n",
       "            )\n",
       "            (LFF): Conv2d(704, 64, kernel_size=(1, 1), stride=(1, 1))\n",
       "          )\n",
       "        )\n",
       "        (GFF): Sequential(\n",
       "          (0): Conv2d(320, 64, kernel_size=(1, 1), stride=(1, 1))\n",
       "          (1): Conv2d(64, 64, kernel_size=(3, 3), stride=(1, 1), padding=(1, 1))\n",
       "        )\n",
       "      )\n",
       "      (decoder): ImplicitDecoder(\n",
       "        (K): ModuleList(\n",
       "          (0): Sequential(\n",
       "            (0): Conv2d(1152, 128, kernel_size=(1, 1), stride=(1, 1))\n",
       "            (1): ReLU()\n",
       "            (2): ResBlock(\n",
       "              (convs): Sequential(\n",
       "                (0): Res_Conv(\n",
       "                  (conv): Sequential(\n",
       "                    (0): Conv2d(128, 128, kernel_size=(3, 3), stride=(1, 1), padding=(1, 1))\n",
       "                    (1): ReLU()\n",
       "                  )\n",
       "                )\n",
       "                (1): Res_Conv(\n",
       "                  (conv): Sequential(\n",
       "                    (0): Conv2d(128, 128, kernel_size=(3, 3), stride=(1, 1), padding=(1, 1))\n",
       "                    (1): ReLU()\n",
       "                  )\n",
       "                )\n",
       "                (2): Res_Conv(\n",
       "                  (conv): Sequential(\n",
       "                    (0): Conv2d(128, 128, kernel_size=(3, 3), stride=(1, 1), padding=(1, 1))\n",
       "                    (1): ReLU()\n",
       "                  )\n",
       "                )\n",
       "                (3): Res_Conv(\n",
       "                  (conv): Sequential(\n",
       "                    (0): Conv2d(128, 128, kernel_size=(3, 3), stride=(1, 1), padding=(1, 1))\n",
       "                    (1): ReLU()\n",
       "                  )\n",
       "                )\n",
       "              )\n",
       "              (CBAM): CBAM(\n",
       "                (ca): ChannelAttention(\n",
       "                  (avg_pool): AdaptiveAvgPool2d(output_size=1)\n",
       "                  (max_pool): AdaptiveMaxPool2d(output_size=1)\n",
       "                  (fc1): Conv2d(128, 8, kernel_size=(1, 1), stride=(1, 1), bias=False)\n",
       "                  (relu1): ReLU()\n",
       "                  (fc2): Conv2d(8, 128, kernel_size=(1, 1), stride=(1, 1), bias=False)\n",
       "                  (sigmoid): Sigmoid()\n",
       "                )\n",
       "                (sa): SpatialAttention(\n",
       "                  (conv1): Conv2d(2, 1, kernel_size=(3, 3), stride=(1, 1), padding=(1, 1), bias=False)\n",
       "                  (sigmoid): Sigmoid()\n",
       "                )\n",
       "              )\n",
       "            )\n",
       "          )\n",
       "          (1-4): 4 x Sequential(\n",
       "            (0): Conv2d(128, 128, kernel_size=(1, 1), stride=(1, 1))\n",
       "            (1): ReLU()\n",
       "            (2): ResBlock(\n",
       "              (convs): Sequential(\n",
       "                (0): Res_Conv(\n",
       "                  (conv): Sequential(\n",
       "                    (0): Conv2d(128, 128, kernel_size=(3, 3), stride=(1, 1), padding=(1, 1))\n",
       "                    (1): ReLU()\n",
       "                  )\n",
       "                )\n",
       "                (1): Res_Conv(\n",
       "                  (conv): Sequential(\n",
       "                    (0): Conv2d(128, 128, kernel_size=(3, 3), stride=(1, 1), padding=(1, 1))\n",
       "                    (1): ReLU()\n",
       "                  )\n",
       "                )\n",
       "                (2): Res_Conv(\n",
       "                  (conv): Sequential(\n",
       "                    (0): Conv2d(128, 128, kernel_size=(3, 3), stride=(1, 1), padding=(1, 1))\n",
       "                    (1): ReLU()\n",
       "                  )\n",
       "                )\n",
       "                (3): Res_Conv(\n",
       "                  (conv): Sequential(\n",
       "                    (0): Conv2d(128, 128, kernel_size=(3, 3), stride=(1, 1), padding=(1, 1))\n",
       "                    (1): ReLU()\n",
       "                  )\n",
       "                )\n",
       "              )\n",
       "              (CBAM): CBAM(\n",
       "                (ca): ChannelAttention(\n",
       "                  (avg_pool): AdaptiveAvgPool2d(output_size=1)\n",
       "                  (max_pool): AdaptiveMaxPool2d(output_size=1)\n",
       "                  (fc1): Conv2d(128, 8, kernel_size=(1, 1), stride=(1, 1), bias=False)\n",
       "                  (relu1): ReLU()\n",
       "                  (fc2): Conv2d(8, 128, kernel_size=(1, 1), stride=(1, 1), bias=False)\n",
       "                  (sigmoid): Sigmoid()\n",
       "                )\n",
       "                (sa): SpatialAttention(\n",
       "                  (conv1): Conv2d(2, 1, kernel_size=(3, 3), stride=(1, 1), padding=(1, 1), bias=False)\n",
       "                  (sigmoid): Sigmoid()\n",
       "                )\n",
       "              )\n",
       "            )\n",
       "          )\n",
       "        )\n",
       "        (Q): ModuleList(\n",
       "          (0): Sequential(\n",
       "            (0): Conv2d(4, 64, kernel_size=(1, 1), stride=(1, 1))\n",
       "            (1): SineAct()\n",
       "          )\n",
       "          (1-4): 4 x Sequential(\n",
       "            (0): Conv2d(64, 64, kernel_size=(1, 1), stride=(1, 1))\n",
       "            (1): SineAct()\n",
       "          )\n",
       "        )\n",
       "        (last_layer): Conv2d(64, 2, kernel_size=(1, 1), stride=(1, 1))\n",
       "        (ref_branch): Sequential(\n",
       "          (0): Conv2d(576, 64, kernel_size=(1, 1), stride=(1, 1))\n",
       "          (1): ReLU()\n",
       "          (2): Conv2d(64, 64, kernel_size=(1, 1), stride=(1, 1))\n",
       "          (3): ReLU()\n",
       "          (4): Conv2d(64, 2, kernel_size=(1, 1), stride=(1, 1))\n",
       "          (5): ReLU()\n",
       "        )\n",
       "        (in_branch): Sequential(\n",
       "          (0): Conv2d(576, 64, kernel_size=(1, 1), stride=(1, 1))\n",
       "          (1): ReLU()\n",
       "          (2): Conv2d(64, 64, kernel_size=(1, 1), stride=(1, 1))\n",
       "          (3): ReLU()\n",
       "          (4): Conv2d(64, 2, kernel_size=(1, 1), stride=(1, 1))\n",
       "          (5): ReLU()\n",
       "        )\n",
       "      )\n",
       "      (mixer): Conv2d(128, 64, kernel_size=(1, 1), stride=(1, 1))\n",
       "    )\n",
       "  )\n",
       ")"
      ]
     },
     "execution_count": 30,
     "metadata": {},
     "output_type": "execute_result"
    }
   ],
   "source": [
    "model"
   ]
  },
  {
   "cell_type": "code",
   "execution_count": 22,
   "id": "babb16ab",
   "metadata": {},
   "outputs": [],
   "source": [
    "model.get_model().set_scale(1.1,1.3)"
   ]
  },
  {
   "cell_type": "code",
   "execution_count": 16,
   "id": "01f0b36a",
   "metadata": {},
   "outputs": [
    {
     "name": "stdout",
     "output_type": "stream",
     "text": [
      "(64, 64, 1, 8) (64, 64, 1) (64, 64, 1) (64, 64, 1, 3)\n"
     ]
    }
   ],
   "source": [
    "x = training_dataset[0]\n",
    "print(x[0].shape,x[1].shape,x[2].shape,x[3].shape)"
   ]
  },
  {
   "cell_type": "code",
   "execution_count": 24,
   "id": "f8ef37b9",
   "metadata": {},
   "outputs": [
    {
     "data": {
      "text/plain": [
       "((64, 64, 1, 8), 4)"
      ]
     },
     "execution_count": 24,
     "metadata": {},
     "output_type": "execute_result"
    }
   ],
   "source": [
    "x[0].shape,len(x)"
   ]
  },
  {
   "cell_type": "code",
   "execution_count": 25,
   "id": "fd63a73f",
   "metadata": {},
   "outputs": [
    {
     "data": {
      "text/plain": [
       "<matplotlib.image.AxesImage at 0x7f48c2e7a790>"
      ]
     },
     "execution_count": 25,
     "metadata": {},
     "output_type": "execute_result"
    },
    {
     "data": {
      "image/png": "[encoded data removed]",
      "text/plain": [
       "<Figure size 640x480 with 1 Axes>"
      ]
     },
     "metadata": {},
     "output_type": "display_data"
    }
   ],
   "source": [
    "plt.imshow(training_dataset[50][0][:,:,0,0])"
   ]
  },
  {
   "cell_type": "code",
   "execution_count": 26,
   "id": "aaa81b61",
   "metadata": {},
   "outputs": [
    {
     "data": {
      "text/plain": [
       "(64, 64)"
      ]
     },
     "execution_count": 26,
     "metadata": {},
     "output_type": "execute_result"
    }
   ],
   "source": [
    "training_dataset[50][0][:,:,0,0].shape"
   ]
  },
  {
   "cell_type": "code",
   "execution_count": 27,
   "id": "d48eaca9",
   "metadata": {},
   "outputs": [
    {
     "ename": "ValueError",
     "evalue": "Caught ValueError in replica 0 on device 0.\nOriginal Traceback (most recent call last):\n  File \"/usr/local/lib/python3.8/dist-packages/torch/nn/parallel/parallel_apply.py\", line 64, in _worker\n    output = module(*input, **kwargs)\n  File \"/usr/local/lib/python3.8/dist-packages/torch/nn/modules/module.py\", line 1533, in _call_impl\n    return forward_call(*args, **kwargs)\n  File \"/workspace/DMRI_SR/Dual_ArbNet/model/dualref.py\", line 139, in forward\n    if ref_type == None:\nValueError: The truth value of an array with more than one element is ambiguous. Use a.any() or a.all()\n",
     "output_type": "error",
     "traceback": [
      "\u001b[0;31m---------------------------------------------------------------------------\u001b[0m",
      "\u001b[0;31mValueError\u001b[0m                                Traceback (most recent call last)",
      "Cell \u001b[0;32mIn[27], line 1\u001b[0m\n\u001b[0;32m----> 1\u001b[0m temp \u001b[38;5;241m=\u001b[39m \u001b[43mmodel\u001b[49m\u001b[43m(\u001b[49m\u001b[43mtraining_dataset\u001b[49m\u001b[43m[\u001b[49m\u001b[38;5;241;43m50\u001b[39;49m\u001b[43m]\u001b[49m\u001b[43m[\u001b[49m\u001b[38;5;241;43m0\u001b[39;49m\u001b[43m]\u001b[49m\u001b[43m[\u001b[49m\u001b[43m:\u001b[49m\u001b[43m,\u001b[49m\u001b[43m:\u001b[49m\u001b[43m,\u001b[49m\u001b[38;5;241;43m0\u001b[39;49m\u001b[43m,\u001b[49m\u001b[38;5;241;43m0\u001b[39;49m\u001b[43m]\u001b[49m\u001b[43m)\u001b[49m\n",
      "File \u001b[0;32m/usr/local/lib/python3.8/dist-packages/torch/nn/modules/module.py:1533\u001b[0m, in \u001b[0;36mModule._call_impl\u001b[0;34m(self, *args, **kwargs)\u001b[0m\n\u001b[1;32m   1528\u001b[0m \u001b[38;5;66;03m# If we don't have any hooks, we want to skip the rest of the logic in\u001b[39;00m\n\u001b[1;32m   1529\u001b[0m \u001b[38;5;66;03m# this function, and just call forward.  It's slow for dynamo to guard on the state\u001b[39;00m\n\u001b[1;32m   1530\u001b[0m \u001b[38;5;66;03m# of all these hook dicts individually, so instead it can guard on 2 bools and we just\u001b[39;00m\n\u001b[1;32m   1531\u001b[0m \u001b[38;5;66;03m# have to promise to keep them up to date when hooks are added or removed via official means.\u001b[39;00m\n\u001b[1;32m   1532\u001b[0m \u001b[38;5;28;01mif\u001b[39;00m \u001b[38;5;129;01mnot\u001b[39;00m \u001b[38;5;28mself\u001b[39m\u001b[38;5;241m.\u001b[39m_has_hooks \u001b[38;5;129;01mand\u001b[39;00m \u001b[38;5;129;01mnot\u001b[39;00m _has_global_hooks:\n\u001b[0;32m-> 1533\u001b[0m     \u001b[38;5;28;01mreturn\u001b[39;00m \u001b[43mforward_call\u001b[49m\u001b[43m(\u001b[49m\u001b[38;5;241;43m*\u001b[39;49m\u001b[43margs\u001b[49m\u001b[43m,\u001b[49m\u001b[43m \u001b[49m\u001b[38;5;241;43m*\u001b[39;49m\u001b[38;5;241;43m*\u001b[39;49m\u001b[43mkwargs\u001b[49m\u001b[43m)\u001b[49m\n\u001b[1;32m   1534\u001b[0m \u001b[38;5;66;03m# Do not call functions when jit is used\u001b[39;00m\n\u001b[1;32m   1535\u001b[0m full_backward_hooks, non_full_backward_hooks \u001b[38;5;241m=\u001b[39m [], []\n",
      "File \u001b[0;32m/workspace/DMRI_SR/Dual_ArbNet/model/__init__.py:51\u001b[0m, in \u001b[0;36mModel.forward\u001b[0;34m(self, x)\u001b[0m\n\u001b[1;32m     49\u001b[0m     \u001b[38;5;28;01mreturn\u001b[39;00m \u001b[38;5;28mself\u001b[39m\u001b[38;5;241m.\u001b[39mforward_chop(x)\n\u001b[1;32m     50\u001b[0m \u001b[38;5;28;01melse\u001b[39;00m:\n\u001b[0;32m---> 51\u001b[0m     \u001b[38;5;28;01mreturn\u001b[39;00m \u001b[38;5;28;43mself\u001b[39;49m\u001b[38;5;241;43m.\u001b[39;49m\u001b[43mmodel\u001b[49m\u001b[43m(\u001b[49m\u001b[43mx\u001b[49m\u001b[43m)\u001b[49m\n",
      "File \u001b[0;32m/usr/local/lib/python3.8/dist-packages/torch/nn/modules/module.py:1533\u001b[0m, in \u001b[0;36mModule._call_impl\u001b[0;34m(self, *args, **kwargs)\u001b[0m\n\u001b[1;32m   1528\u001b[0m \u001b[38;5;66;03m# If we don't have any hooks, we want to skip the rest of the logic in\u001b[39;00m\n\u001b[1;32m   1529\u001b[0m \u001b[38;5;66;03m# this function, and just call forward.  It's slow for dynamo to guard on the state\u001b[39;00m\n\u001b[1;32m   1530\u001b[0m \u001b[38;5;66;03m# of all these hook dicts individually, so instead it can guard on 2 bools and we just\u001b[39;00m\n\u001b[1;32m   1531\u001b[0m \u001b[38;5;66;03m# have to promise to keep them up to date when hooks are added or removed via official means.\u001b[39;00m\n\u001b[1;32m   1532\u001b[0m \u001b[38;5;28;01mif\u001b[39;00m \u001b[38;5;129;01mnot\u001b[39;00m \u001b[38;5;28mself\u001b[39m\u001b[38;5;241m.\u001b[39m_has_hooks \u001b[38;5;129;01mand\u001b[39;00m \u001b[38;5;129;01mnot\u001b[39;00m _has_global_hooks:\n\u001b[0;32m-> 1533\u001b[0m     \u001b[38;5;28;01mreturn\u001b[39;00m \u001b[43mforward_call\u001b[49m\u001b[43m(\u001b[49m\u001b[38;5;241;43m*\u001b[39;49m\u001b[43margs\u001b[49m\u001b[43m,\u001b[49m\u001b[43m \u001b[49m\u001b[38;5;241;43m*\u001b[39;49m\u001b[38;5;241;43m*\u001b[39;49m\u001b[43mkwargs\u001b[49m\u001b[43m)\u001b[49m\n\u001b[1;32m   1534\u001b[0m \u001b[38;5;66;03m# Do not call functions when jit is used\u001b[39;00m\n\u001b[1;32m   1535\u001b[0m full_backward_hooks, non_full_backward_hooks \u001b[38;5;241m=\u001b[39m [], []\n",
      "File \u001b[0;32m/usr/local/lib/python3.8/dist-packages/torch/nn/parallel/data_parallel.py:171\u001b[0m, in \u001b[0;36mDataParallel.forward\u001b[0;34m(self, *inputs, **kwargs)\u001b[0m\n\u001b[1;32m    169\u001b[0m     \u001b[38;5;28;01mreturn\u001b[39;00m \u001b[38;5;28mself\u001b[39m\u001b[38;5;241m.\u001b[39mmodule(\u001b[38;5;241m*\u001b[39minputs[\u001b[38;5;241m0\u001b[39m], \u001b[38;5;241m*\u001b[39m\u001b[38;5;241m*\u001b[39mkwargs[\u001b[38;5;241m0\u001b[39m])\n\u001b[1;32m    170\u001b[0m replicas \u001b[38;5;241m=\u001b[39m \u001b[38;5;28mself\u001b[39m\u001b[38;5;241m.\u001b[39mreplicate(\u001b[38;5;28mself\u001b[39m\u001b[38;5;241m.\u001b[39mmodule, \u001b[38;5;28mself\u001b[39m\u001b[38;5;241m.\u001b[39mdevice_ids[:\u001b[38;5;28mlen\u001b[39m(inputs)])\n\u001b[0;32m--> 171\u001b[0m outputs \u001b[38;5;241m=\u001b[39m \u001b[38;5;28;43mself\u001b[39;49m\u001b[38;5;241;43m.\u001b[39;49m\u001b[43mparallel_apply\u001b[49m\u001b[43m(\u001b[49m\u001b[43mreplicas\u001b[49m\u001b[43m,\u001b[49m\u001b[43m \u001b[49m\u001b[43minputs\u001b[49m\u001b[43m,\u001b[49m\u001b[43m \u001b[49m\u001b[43mkwargs\u001b[49m\u001b[43m)\u001b[49m\n\u001b[1;32m    172\u001b[0m \u001b[38;5;28;01mreturn\u001b[39;00m \u001b[38;5;28mself\u001b[39m\u001b[38;5;241m.\u001b[39mgather(outputs, \u001b[38;5;28mself\u001b[39m\u001b[38;5;241m.\u001b[39moutput_device)\n",
      "File \u001b[0;32m/usr/local/lib/python3.8/dist-packages/torch/nn/parallel/data_parallel.py:181\u001b[0m, in \u001b[0;36mDataParallel.parallel_apply\u001b[0;34m(self, replicas, inputs, kwargs)\u001b[0m\n\u001b[1;32m    180\u001b[0m \u001b[38;5;28;01mdef\u001b[39;00m \u001b[38;5;21mparallel_apply\u001b[39m(\u001b[38;5;28mself\u001b[39m, replicas, inputs, kwargs):\n\u001b[0;32m--> 181\u001b[0m     \u001b[38;5;28;01mreturn\u001b[39;00m \u001b[43mparallel_apply\u001b[49m\u001b[43m(\u001b[49m\u001b[43mreplicas\u001b[49m\u001b[43m,\u001b[49m\u001b[43m \u001b[49m\u001b[43minputs\u001b[49m\u001b[43m,\u001b[49m\u001b[43m \u001b[49m\u001b[43mkwargs\u001b[49m\u001b[43m,\u001b[49m\u001b[43m \u001b[49m\u001b[38;5;28;43mself\u001b[39;49m\u001b[38;5;241;43m.\u001b[39;49m\u001b[43mdevice_ids\u001b[49m\u001b[43m[\u001b[49m\u001b[43m:\u001b[49m\u001b[38;5;28;43mlen\u001b[39;49m\u001b[43m(\u001b[49m\u001b[43mreplicas\u001b[49m\u001b[43m)\u001b[49m\u001b[43m]\u001b[49m\u001b[43m)\u001b[49m\n",
      "File \u001b[0;32m/usr/local/lib/python3.8/dist-packages/torch/nn/parallel/parallel_apply.py:89\u001b[0m, in \u001b[0;36mparallel_apply\u001b[0;34m(modules, inputs, kwargs_tup, devices)\u001b[0m\n\u001b[1;32m     87\u001b[0m     output \u001b[38;5;241m=\u001b[39m results[i]\n\u001b[1;32m     88\u001b[0m     \u001b[38;5;28;01mif\u001b[39;00m \u001b[38;5;28misinstance\u001b[39m(output, ExceptionWrapper):\n\u001b[0;32m---> 89\u001b[0m         \u001b[43moutput\u001b[49m\u001b[38;5;241;43m.\u001b[39;49m\u001b[43mreraise\u001b[49m\u001b[43m(\u001b[49m\u001b[43m)\u001b[49m\n\u001b[1;32m     90\u001b[0m     outputs\u001b[38;5;241m.\u001b[39mappend(output)\n\u001b[1;32m     91\u001b[0m \u001b[38;5;28;01mreturn\u001b[39;00m outputs\n",
      "File \u001b[0;32m/usr/local/lib/python3.8/dist-packages/torch/_utils.py:644\u001b[0m, in \u001b[0;36mExceptionWrapper.reraise\u001b[0;34m(self)\u001b[0m\n\u001b[1;32m    640\u001b[0m \u001b[38;5;28;01mexcept\u001b[39;00m \u001b[38;5;167;01mTypeError\u001b[39;00m:\n\u001b[1;32m    641\u001b[0m     \u001b[38;5;66;03m# If the exception takes multiple arguments, don't try to\u001b[39;00m\n\u001b[1;32m    642\u001b[0m     \u001b[38;5;66;03m# instantiate since we don't know how to\u001b[39;00m\n\u001b[1;32m    643\u001b[0m     \u001b[38;5;28;01mraise\u001b[39;00m \u001b[38;5;167;01mRuntimeError\u001b[39;00m(msg) \u001b[38;5;28;01mfrom\u001b[39;00m \u001b[38;5;28;01mNone\u001b[39;00m\n\u001b[0;32m--> 644\u001b[0m \u001b[38;5;28;01mraise\u001b[39;00m exception\n",
      "\u001b[0;31mValueError\u001b[0m: Caught ValueError in replica 0 on device 0.\nOriginal Traceback (most recent call last):\n  File \"/usr/local/lib/python3.8/dist-packages/torch/nn/parallel/parallel_apply.py\", line 64, in _worker\n    output = module(*input, **kwargs)\n  File \"/usr/local/lib/python3.8/dist-packages/torch/nn/modules/module.py\", line 1533, in _call_impl\n    return forward_call(*args, **kwargs)\n  File \"/workspace/DMRI_SR/Dual_ArbNet/model/dualref.py\", line 139, in forward\n    if ref_type == None:\nValueError: The truth value of an array with more than one element is ambiguous. Use a.any() or a.all()\n"
     ]
    }
   ],
   "source": [
    "temp = model(training_dataset[50][0][:,:,0,0])"
   ]
  },
  {
   "cell_type": "code",
   "execution_count": 32,
   "id": "f398bc76",
   "metadata": {},
   "outputs": [
    {
     "data": {
      "text/plain": [
       "False"
      ]
     },
     "execution_count": 32,
     "metadata": {},
     "output_type": "execute_result"
    }
   ],
   "source": [
    "isinstance(training_dataset[50][0][:,:,0,0],list)"
   ]
  },
  {
   "cell_type": "code",
   "execution_count": null,
   "id": "34834d32",
   "metadata": {},
   "outputs": [],
   "source": []
  }
 ],
 "metadata": {
  "kernelspec": {
   "display_name": "Python 3 (ipykernel)",
   "language": "python",
   "name": "python3"
  },
  "language_info": {
   "codemirror_mode": {
    "name": "ipython",
    "version": 3
   },
   "file_extension": ".py",
   "mimetype": "text/x-python",
   "name": "python",
   "nbconvert_exporter": "python",
   "pygments_lexer": "ipython3",
   "version": "3.8.10"
  }
 },
 "nbformat": 4,
 "nbformat_minor": 5
}
