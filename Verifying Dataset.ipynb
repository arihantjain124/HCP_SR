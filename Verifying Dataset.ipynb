{
 "cells": [
  {
   "cell_type": "code",
   "execution_count": 1,
   "id": "23eb4453",
   "metadata": {},
   "outputs": [
    {
     "name": "stdout",
     "output_type": "stream",
     "text": [
      "number of common Subjects  171\n"
     ]
    },
    {
     "name": "stderr",
     "output_type": "stream",
     "text": [
      "/usr/local/lib/python3.8/dist-packages/tqdm/auto.py:21: TqdmWarning: IProgress not found. Please update jupyter and ipywidgets. See https://ipywidgets.readthedocs.io/en/stable/user_install.html\n",
      "  from .autonotebook import tqdm as notebook_tqdm\n"
     ]
    }
   ],
   "source": [
    "from option import args\n",
    "import torch\n",
    "import utility\n",
    "import data\n",
    "import utils\n",
    "import model\n",
    "import loss\n",
    "from trainer import Trainer\n",
    "import os\n",
    "from torch.utils.tensorboard import SummaryWriter\n",
    "import numpy as np"
   ]
  },
  {
   "cell_type": "code",
   "execution_count": 2,
   "id": "08611ab0",
   "metadata": {},
   "outputs": [],
   "source": [
    "args.no_vols = 2\n",
    "args.test_vols = 2\n",
    "np.random.seed(args.seed)\n",
    "ids = utils.get_ids()\n",
    "# ids.sort()\n",
    "total_vols = args.no_vols+args.test_vols\n",
    "ids.sort()\n",
    "ids = ids[:total_vols]\n",
    "ids = np.random.choice(ids,total_vols,replace = False)"
   ]
  },
  {
   "cell_type": "code",
   "execution_count": 3,
   "id": "f00d2f55",
   "metadata": {},
   "outputs": [
    {
     "data": {
      "text/plain": [
       "array(['104416', '102816', '100610', '102311'], dtype='<U6')"
      ]
     },
     "execution_count": 3,
     "metadata": {},
     "output_type": "execute_result"
    }
   ],
   "source": [
    "ids"
   ]
  },
  {
   "cell_type": "code",
   "execution_count": 4,
   "id": "f6b61b42",
   "metadata": {},
   "outputs": [
    {
     "name": "stdout",
     "output_type": "stream",
     "text": [
      "Loading Done\n"
     ]
    }
   ],
   "source": [
    "loader = data.Data(args,ids= ids)"
   ]
  },
  {
   "cell_type": "code",
   "execution_count": 10,
   "id": "0f996306",
   "metadata": {},
   "outputs": [],
   "source": [
    "for batch, (lr,hr,scale,tv) in enumerate(loader.training_data):\n",
    "    lr_tensor = lr.squeeze().to('cuda').float()  # ranges from [0, 1]\n",
    "    hr_tensor = hr.squeeze().to('cuda').float()  # ranges from [0, 1]\n",
    "    tv_tensor = tv.squeeze().to('cuda').float()  # ranges from [0, 1]\n",
    "    # print(lr_tensor.shape,hr_tensor.shape,scale)\n",
    "    scale = np.asarray(scale[0,:])\n",
    "    break"
   ]
  },
  {
   "cell_type": "code",
   "execution_count": 13,
   "id": "38e48ea6",
   "metadata": {},
   "outputs": [
    {
     "data": {
      "text/plain": [
       "(0,\n",
       " (torch.Size([1, 16, 32, 4, 32, 7]),\n",
       "  torch.Size([1, 16, 38, 4, 35, 5]),\n",
       "  tensor([[1.2000, 1.1000, 1.1000]], dtype=torch.float64),\n",
       "  torch.Size([1, 16, 38, 4, 35, 6])))"
      ]
     },
     "execution_count": 13,
     "metadata": {},
     "output_type": "execute_result"
    }
   ],
   "source": [
    "batch, (lr.shape,hr.shape,scale,tv.shape)"
   ]
  },
  {
   "cell_type": "code",
   "execution_count": 11,
   "id": "c7d4363c",
   "metadata": {},
   "outputs": [
    {
     "data": {
      "text/plain": [
       "(0,\n",
       " (torch.Size([16, 32, 32, 4, 7]),\n",
       "  torch.Size([16, 42, 42, 5, 5]),\n",
       "  tensor([[1.2000, 1.1000, 1.1000]], dtype=torch.float64),\n",
       "  torch.Size([16, 42, 42, 5, 6])))"
      ]
     },
     "execution_count": 11,
     "metadata": {},
     "output_type": "execute_result"
    }
   ],
   "source": [
    "batch, (lr_tensor.shape,hr_tensor.shape,scale,tv_tensor.shape)"
   ]
  },
  {
   "cell_type": "code",
   "execution_count": 22,
   "id": "f6268acd",
   "metadata": {},
   "outputs": [
    {
     "data": {
      "text/plain": [
       "array([0.05404305, 0.05469534, 0.055117  , ..., 0.36352447, 0.36451533,\n",
       "       0.39078027], dtype=float32)"
      ]
     },
     "execution_count": 22,
     "metadata": {},
     "output_type": "execute_result"
    }
   ],
   "source": [
    "np.unique(tv_tensor.cpu())"
   ]
  },
  {
   "cell_type": "code",
   "execution_count": 1,
   "id": "77795423",
   "metadata": {},
   "outputs": [],
   "source": [
    "from dipy.viz import window, actor"
   ]
  },
  {
   "cell_type": "code",
   "execution_count": null,
   "id": "8842ec1c",
   "metadata": {},
   "outputs": [],
   "source": []
  }
 ],
 "metadata": {
  "kernelspec": {
   "display_name": "Python 3 (ipykernel)",
   "language": "python",
   "name": "python3"
  },
  "language_info": {
   "codemirror_mode": {
    "name": "ipython",
    "version": 3
   },
   "file_extension": ".py",
   "mimetype": "text/x-python",
   "name": "python",
   "nbconvert_exporter": "python",
   "pygments_lexer": "ipython3",
   "version": "3.8.10"
  }
 },
 "nbformat": 4,
 "nbformat_minor": 5
}
