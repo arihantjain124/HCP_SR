{
 "cells": [
  {
   "cell_type": "code",
   "execution_count": 1,
   "id": "6994d270",
   "metadata": {},
   "outputs": [],
   "source": [
    "import argparse, os\n",
    "import torch\n",
    "import torch.nn as nn\n",
    "import torch.optim as optim\n",
    "from torch.utils.data import DataLoader\n",
    "import matplotlib.pyplot as plt\n",
    "import numpy as np\n",
    "import cupy as cp\n",
    "import cucim\n",
    "import data.utils_metrics as utils_met\n",
    "import cucim.skimage.metrics as met"
   ]
  },
  {
   "cell_type": "code",
   "execution_count": 2,
   "id": "06fc2873",
   "metadata": {},
   "outputs": [
    {
     "name": "stdout",
     "output_type": "stream",
     "text": [
      "Namespace(batch_size=4, block_size=(64, 64, 64), crop_depth=30, debug=False, dir='/storage', preload=True, sort=True, typ='upsampled')\n"
     ]
    }
   ],
   "source": [
    "parser = argparse.ArgumentParser(description=\"IMDN\")\n",
    "parser.add_argument(\"--block_size\", type=tuple, default=(64,64,64),\n",
    "                    help=\"Block Size\")\n",
    "parser.add_argument(\"--crop_depth\", type=int, default=30,\n",
    "                    help=\"crop across z-axis\")\n",
    "parser.add_argument(\"--dir\", type=str,\n",
    "                    help=\"dataset_directory\")\n",
    "parser.add_argument(\"--batch_size\", type=int,\n",
    "                    help=\"dataset_directory\")\n",
    "parser.add_argument(\"--sort\", type=bool,\n",
    "                    help=\"dataset_directory\")\n",
    "parser.add_argument(\"--debug\", type=bool,\n",
    "                    help=\"dataset_directory\")\n",
    "parser.add_argument(\"--preload\", type=bool,\n",
    "                    help=\"dataset_directory\")\n",
    "args = list(parser.parse_known_args())[0]\n",
    "args.preload = True\n",
    "args.debug = False\n",
    "args.dir = \"/storage\"\n",
    "args.batch_size = 4\n",
    "args.sort = True\n",
    "args.typ = 'upsampled'\n",
    "print(args)"
   ]
  },
  {
   "cell_type": "code",
   "execution_count": 11,
   "id": "db34390c",
   "metadata": {},
   "outputs": [],
   "source": [
    "import data.HCP_dataset_h5 as HCP_dataset\n",
    "import utils\n",
    "\n",
    "from itertools import product\n",
    "ids = utils.get_ids()\n",
    "ids.sort()\n",
    "ids = ids[:5]"
   ]
  },
  {
   "cell_type": "code",
   "execution_count": 4,
   "id": "b1b629bb",
   "metadata": {},
   "outputs": [],
   "source": [
    "obj = HCP_dataset"
   ]
  },
  {
   "cell_type": "code",
   "execution_count": 5,
   "id": "d8c6a4a0",
   "metadata": {},
   "outputs": [],
   "source": [
    "obj.load_data(\"/storage\",ids)"
   ]
  },
  {
   "cell_type": "code",
   "execution_count": 12,
   "id": "a289a528",
   "metadata": {},
   "outputs": [],
   "source": [
    "parameters = dict(\n",
    "    models = ['CSEUnetModel'],\n",
    "    lr = [0.03,0.005,0.008],\n",
    "    batch_size = [4,16,32],\n",
    "    block_size = [(64,64,64),(32,32,32),(64,64,8),(64,8,64)]\n",
    ")\n",
    "param_values = [v for v in parameters.values()]"
   ]
  },
  {
   "cell_type": "code",
   "execution_count": 6,
   "id": "f945b46e",
   "metadata": {},
   "outputs": [],
   "source": [
    "\n",
    "training_dataset = obj.hcp_data(args,ids)\n",
    "testing_dataset = obj.hcp_data_test(args,ids)"
   ]
  },
  {
   "cell_type": "code",
   "execution_count": 7,
   "id": "9acbcd88",
   "metadata": {},
   "outputs": [
    {
     "data": {
      "text/plain": [
       "5"
      ]
     },
     "execution_count": 7,
     "metadata": {},
     "output_type": "execute_result"
    }
   ],
   "source": [
    "len(testing_dataset)"
   ]
  },
  {
   "cell_type": "code",
   "execution_count": 8,
   "id": "beb80720",
   "metadata": {},
   "outputs": [
    {
     "data": {
      "text/plain": [
       "108"
      ]
     },
     "execution_count": 8,
     "metadata": {},
     "output_type": "execute_result"
    }
   ],
   "source": [
    "len(training_dataset)"
   ]
  },
  {
   "cell_type": "code",
   "execution_count": 18,
   "id": "0407a5e1",
   "metadata": {},
   "outputs": [
    {
     "name": "stdout",
     "output_type": "stream",
     "text": [
      "changed  (64, 64, 64)\n",
      "torch.Size([4, 4096, 64, 8]) torch.Size([4, 64, 64, 64, 5])\n",
      "changed  (32, 32, 32)\n",
      "torch.Size([4, 1024, 32, 8]) torch.Size([4, 32, 32, 32, 5])\n",
      "changed  (64, 64, 8)\n",
      "torch.Size([4, 4096, 8, 8]) torch.Size([4, 64, 64, 8, 5])\n",
      "changed  (64, 8, 64)\n",
      "torch.Size([4, 512, 64, 8]) torch.Size([4, 64, 8, 64, 5])\n",
      "changed  (64, 64, 64)\n",
      "torch.Size([16, 4096, 64, 8]) torch.Size([16, 64, 64, 64, 5])\n",
      "changed  (32, 32, 32)\n",
      "torch.Size([16, 1024, 32, 8]) torch.Size([16, 32, 32, 32, 5])\n",
      "changed  (64, 64, 8)\n",
      "torch.Size([16, 4096, 8, 8]) torch.Size([16, 64, 64, 8, 5])\n",
      "changed  (64, 8, 64)\n",
      "torch.Size([16, 512, 64, 8]) torch.Size([16, 64, 8, 64, 5])\n",
      "changed  (64, 64, 64)\n",
      "torch.Size([32, 4096, 64, 8]) torch.Size([32, 64, 64, 64, 5])\n",
      "changed  (32, 32, 32)\n",
      "torch.Size([32, 1024, 32, 8]) torch.Size([32, 32, 32, 32, 5])\n",
      "changed  (64, 64, 8)\n",
      "torch.Size([32, 4096, 8, 8]) torch.Size([32, 64, 64, 8, 5])\n",
      "changed  (64, 8, 64)\n",
      "torch.Size([32, 512, 64, 8]) torch.Size([32, 64, 8, 64, 5])\n",
      "changed  (64, 64, 64)\n",
      "torch.Size([4, 4096, 64, 8]) torch.Size([4, 64, 64, 64, 5])\n",
      "changed  (32, 32, 32)\n",
      "torch.Size([4, 1024, 32, 8]) torch.Size([4, 32, 32, 32, 5])\n",
      "changed  (64, 64, 8)\n",
      "torch.Size([4, 4096, 8, 8]) torch.Size([4, 64, 64, 8, 5])\n",
      "changed  (64, 8, 64)\n",
      "torch.Size([4, 512, 64, 8]) torch.Size([4, 64, 8, 64, 5])\n",
      "changed  (64, 64, 64)\n",
      "torch.Size([16, 4096, 64, 8]) torch.Size([16, 64, 64, 64, 5])\n",
      "changed  (32, 32, 32)\n",
      "torch.Size([16, 1024, 32, 8]) torch.Size([16, 32, 32, 32, 5])\n",
      "changed  (64, 64, 8)\n",
      "torch.Size([16, 4096, 8, 8]) torch.Size([16, 64, 64, 8, 5])\n",
      "changed  (64, 8, 64)\n",
      "torch.Size([16, 512, 64, 8]) torch.Size([16, 64, 8, 64, 5])\n",
      "changed  (64, 64, 64)\n",
      "torch.Size([32, 4096, 64, 8]) torch.Size([32, 64, 64, 64, 5])\n",
      "changed  (32, 32, 32)\n",
      "torch.Size([32, 1024, 32, 8]) torch.Size([32, 32, 32, 32, 5])\n",
      "changed  (64, 64, 8)\n",
      "torch.Size([32, 4096, 8, 8]) torch.Size([32, 64, 64, 8, 5])\n",
      "changed  (64, 8, 64)\n",
      "torch.Size([32, 512, 64, 8]) torch.Size([32, 64, 8, 64, 5])\n",
      "changed  (64, 64, 64)\n",
      "torch.Size([4, 4096, 64, 8]) torch.Size([4, 64, 64, 64, 5])\n",
      "changed  (32, 32, 32)\n",
      "torch.Size([4, 1024, 32, 8]) torch.Size([4, 32, 32, 32, 5])\n",
      "changed  (64, 64, 8)\n",
      "torch.Size([4, 4096, 8, 8]) torch.Size([4, 64, 64, 8, 5])\n",
      "changed  (64, 8, 64)\n",
      "torch.Size([4, 512, 64, 8]) torch.Size([4, 64, 8, 64, 5])\n",
      "changed  (64, 64, 64)\n",
      "torch.Size([16, 4096, 64, 8]) torch.Size([16, 64, 64, 64, 5])\n",
      "changed  (32, 32, 32)\n",
      "torch.Size([16, 1024, 32, 8]) torch.Size([16, 32, 32, 32, 5])\n",
      "changed  (64, 64, 8)\n",
      "torch.Size([16, 4096, 8, 8]) torch.Size([16, 64, 64, 8, 5])\n",
      "changed  (64, 8, 64)\n",
      "torch.Size([16, 512, 64, 8]) torch.Size([16, 64, 8, 64, 5])\n",
      "changed  (64, 64, 64)\n",
      "torch.Size([32, 4096, 64, 8]) torch.Size([32, 64, 64, 64, 5])\n",
      "changed  (32, 32, 32)\n",
      "torch.Size([32, 1024, 32, 8]) torch.Size([32, 32, 32, 32, 5])\n",
      "changed  (64, 64, 8)\n",
      "torch.Size([32, 4096, 8, 8]) torch.Size([32, 64, 64, 8, 5])\n",
      "changed  (64, 8, 64)\n",
      "torch.Size([32, 512, 64, 8]) torch.Size([32, 64, 8, 64, 5])\n"
     ]
    }
   ],
   "source": [
    "flag = False\n",
    "for run_id, (models,lr,batch_size,block_size) in enumerate(product(*param_values)):\n",
    "    args.block_size = block_size\n",
    "    args.batch_size = batch_size\n",
    "    print(\"changed \",block_size)\n",
    "    training_dataset = obj.hcp_data(args,ids)\n",
    "    training_data_loader = DataLoader(dataset=training_dataset, batch_size=batch_size, shuffle=True, pin_memory=True, drop_last=True,collate_fn=resize)\n",
    "    for iteration, (lr_tensor, hr_tensor) in enumerate(training_data_loader, 1):\n",
    "        if(flag == False):\n",
    "            print(lr_tensor.shape,hr_tensor.shape)\n",
    "            flag = True\n",
    "    flag = False"
   ]
  },
  {
   "cell_type": "code",
   "execution_count": 9,
   "id": "6a282897",
   "metadata": {},
   "outputs": [
    {
     "name": "stdout",
     "output_type": "stream",
     "text": [
      "(173, 207, 173, 8) (173, 207, 173) (173, 207, 173) (173, 207, 173, 3)\n"
     ]
    }
   ],
   "source": [
    "x = testing_dataset[0]\n",
    "print(x[0].shape,x[1].shape,x[2].shape,x[3].shape)"
   ]
  },
  {
   "cell_type": "code",
   "execution_count": 10,
   "id": "acb95c48",
   "metadata": {},
   "outputs": [
    {
     "name": "stdout",
     "output_type": "stream",
     "text": [
      "(64, 64, 64, 8) (64, 64, 64) (64, 64, 64) (64, 64, 64, 3)\n"
     ]
    }
   ],
   "source": [
    "x = training_dataset[0]\n",
    "print(x[0].shape,x[1].shape,x[2].shape,x[3].shape)"
   ]
  },
  {
   "cell_type": "code",
   "execution_count": 14,
   "id": "7260f32e",
   "metadata": {},
   "outputs": [],
   "source": [
    "import math\n",
    "import torch.nn.functional as F\n",
    "def pad(x):\n",
    "        _, _, h, w = x.shape\n",
    "        w_mult = ((w - 1) | 15) + 1\n",
    "        h_mult = ((h - 1) | 15) + 1\n",
    "        w_pad = [math.floor((w_mult - w) / 2), math.ceil((w_mult - w) / 2)]\n",
    "        h_pad = [math.floor((h_mult - h) / 2), math.ceil((h_mult - h) / 2)]\n",
    "        #print(w_pad,h_pad)\n",
    "        # # TODO: fix this type when PyTorch fixes theirs\n",
    "        # # the documentation lies - this actually takes a list\n",
    "        # # https://github.com/pytorch/pytorch/blob/master/torch/nn/functional.py#L3457\n",
    "        # # https://github.com/pytorch/pytorch/pull/16949\n",
    "        x = F.pad(x, w_pad + h_pad)\n",
    "        return x, (h_pad, w_pad, h_mult, w_mult)\n",
    "\n",
    "def unpad(x,h_pad,w_pad,h_mult,w_mult):\n",
    "    return x[..., h_pad[0] : h_mult - h_pad[1], w_pad[0] : w_mult - w_pad[1]]\n",
    "\n",
    "def resize(data):\n",
    "    x,y = [],[]\n",
    "    for i in range(len(data)):\n",
    "        x.append(data[i][0].reshape((data[i][0].shape[0]*data[i][0].shape[1],data[i][0].shape[2],data[i][0].shape[3])))\n",
    "        y.append(np.concatenate([np.expand_dims(data[i][1],axis = 3),np.expand_dims(data[i][2],axis = 3),data[i][3]], axis=3))\n",
    "    return torch.from_numpy(np.stack(x)),torch.from_numpy(np.stack(y))\n"
   ]
  },
  {
   "cell_type": "code",
   "execution_count": 9,
   "id": "3f7e27b5",
   "metadata": {},
   "outputs": [
    {
     "data": {
      "text/plain": [
       "array([ 27,  45,  63,  81, 108])"
      ]
     },
     "execution_count": 9,
     "metadata": {},
     "output_type": "execute_result"
    }
   ],
   "source": [
    "training_dataset.blk_indx"
   ]
  },
  {
   "cell_type": "code",
   "execution_count": 10,
   "id": "310c7ac7",
   "metadata": {},
   "outputs": [],
   "source": [
    "training_data_loader = DataLoader(dataset=training_dataset, batch_size=4, shuffle=True, pin_memory=True, drop_last=True,collate_fn=resize)\n",
    "testing_data_loader = DataLoader(dataset=testing_dataset, batch_size=1,pin_memory=True,collate_fn=resize)"
   ]
  },
  {
   "cell_type": "code",
   "execution_count": 11,
   "id": "c51f0d9e",
   "metadata": {},
   "outputs": [
    {
     "name": "stdout",
     "output_type": "stream",
     "text": [
      "27\n"
     ]
    }
   ],
   "source": [
    "print(len(training_data_loader))"
   ]
  },
  {
   "cell_type": "code",
   "execution_count": 12,
   "id": "fa206c1e",
   "metadata": {},
   "outputs": [
    {
     "data": {
      "text/plain": [
       "108"
      ]
     },
     "execution_count": 12,
     "metadata": {},
     "output_type": "execute_result"
    }
   ],
   "source": [
    "len(training_dataset)"
   ]
  },
  {
   "cell_type": "code",
   "execution_count": 13,
   "id": "211c9b41",
   "metadata": {},
   "outputs": [
    {
     "data": {
      "text/plain": [
       "27.0"
      ]
     },
     "execution_count": 13,
     "metadata": {},
     "output_type": "execute_result"
    }
   ],
   "source": [
    "108/4"
   ]
  },
  {
   "cell_type": "code",
   "execution_count": 14,
   "id": "622fbe91",
   "metadata": {},
   "outputs": [],
   "source": [
    "temp = next(iter(testing_data_loader))"
   ]
  },
  {
   "cell_type": "code",
   "execution_count": 15,
   "id": "31aa99a6",
   "metadata": {},
   "outputs": [
    {
     "data": {
      "text/plain": [
       "torch.Size([1, 35811, 173, 8])"
      ]
     },
     "execution_count": 15,
     "metadata": {},
     "output_type": "execute_result"
    }
   ],
   "source": [
    "temp[0].shape"
   ]
  },
  {
   "cell_type": "code",
   "execution_count": 16,
   "id": "d32cad22",
   "metadata": {},
   "outputs": [
    {
     "data": {
      "text/plain": [
       "torch.Size([1, 173, 207, 173, 5])"
      ]
     },
     "execution_count": 16,
     "metadata": {},
     "output_type": "execute_result"
    }
   ],
   "source": [
    "temp[1].shape"
   ]
  },
  {
   "cell_type": "code",
   "execution_count": 17,
   "id": "158f590a",
   "metadata": {},
   "outputs": [],
   "source": [
    "training_data_loader = DataLoader(dataset=training_dataset, batch_size=40, shuffle=True, pin_memory=True, drop_last=True,collate_fn=resize)"
   ]
  },
  {
   "cell_type": "code",
   "execution_count": 18,
   "id": "b5fa904e",
   "metadata": {},
   "outputs": [
    {
     "name": "stdout",
     "output_type": "stream",
     "text": [
      "torch.Size([40, 4096, 64, 8]) torch.Size([40, 64, 64, 64, 5])\n"
     ]
    }
   ],
   "source": [
    "for iteration, (lr_tensor, hr_tensor) in enumerate(training_data_loader, 1):\n",
    "    print(lr_tensor.shape,hr_tensor.shape)\n",
    "    break"
   ]
  },
  {
   "cell_type": "code",
   "execution_count": 34,
   "id": "d2482f55",
   "metadata": {},
   "outputs": [
    {
     "ename": "IndexError",
     "evalue": "list index out of range",
     "output_type": "error",
     "traceback": [
      "\u001b[0;31m---------------------------------------------------------------------------\u001b[0m",
      "\u001b[0;31mIndexError\u001b[0m                                Traceback (most recent call last)",
      "Cell \u001b[0;32mIn[34], line 1\u001b[0m\n\u001b[0;32m----> 1\u001b[0m temp \u001b[38;5;241m=\u001b[39m \u001b[38;5;28;43mnext\u001b[39;49m\u001b[43m(\u001b[49m\u001b[38;5;28;43miter\u001b[39;49m\u001b[43m(\u001b[49m\u001b[43mtraining_data_loader\u001b[49m\u001b[43m)\u001b[49m\u001b[43m)\u001b[49m\n\u001b[1;32m      2\u001b[0m temp[\u001b[38;5;241m0\u001b[39m] \u001b[38;5;241m=\u001b[39m torch\u001b[38;5;241m.\u001b[39mpermute(temp[\u001b[38;5;241m0\u001b[39m],(\u001b[38;5;241m0\u001b[39m,\u001b[38;5;241m3\u001b[39m,\u001b[38;5;241m1\u001b[39m,\u001b[38;5;241m2\u001b[39m))\n\u001b[1;32m      3\u001b[0m temp[\u001b[38;5;241m0\u001b[39m]\u001b[38;5;241m.\u001b[39mshape\n",
      "File \u001b[0;32m/usr/local/lib/python3.8/dist-packages/torch/utils/data/dataloader.py:634\u001b[0m, in \u001b[0;36m_BaseDataLoaderIter.__next__\u001b[0;34m(self)\u001b[0m\n\u001b[1;32m    631\u001b[0m \u001b[38;5;28;01mif\u001b[39;00m \u001b[38;5;28mself\u001b[39m\u001b[38;5;241m.\u001b[39m_sampler_iter \u001b[38;5;129;01mis\u001b[39;00m \u001b[38;5;28;01mNone\u001b[39;00m:\n\u001b[1;32m    632\u001b[0m     \u001b[38;5;66;03m# TODO(https://github.com/pytorch/pytorch/issues/76750)\u001b[39;00m\n\u001b[1;32m    633\u001b[0m     \u001b[38;5;28mself\u001b[39m\u001b[38;5;241m.\u001b[39m_reset()  \u001b[38;5;66;03m# type: ignore[call-arg]\u001b[39;00m\n\u001b[0;32m--> 634\u001b[0m data \u001b[38;5;241m=\u001b[39m \u001b[38;5;28;43mself\u001b[39;49m\u001b[38;5;241;43m.\u001b[39;49m\u001b[43m_next_data\u001b[49m\u001b[43m(\u001b[49m\u001b[43m)\u001b[49m\n\u001b[1;32m    635\u001b[0m \u001b[38;5;28mself\u001b[39m\u001b[38;5;241m.\u001b[39m_num_yielded \u001b[38;5;241m+\u001b[39m\u001b[38;5;241m=\u001b[39m \u001b[38;5;241m1\u001b[39m\n\u001b[1;32m    636\u001b[0m \u001b[38;5;28;01mif\u001b[39;00m \u001b[38;5;28mself\u001b[39m\u001b[38;5;241m.\u001b[39m_dataset_kind \u001b[38;5;241m==\u001b[39m _DatasetKind\u001b[38;5;241m.\u001b[39mIterable \u001b[38;5;129;01mand\u001b[39;00m \\\n\u001b[1;32m    637\u001b[0m         \u001b[38;5;28mself\u001b[39m\u001b[38;5;241m.\u001b[39m_IterableDataset_len_called \u001b[38;5;129;01mis\u001b[39;00m \u001b[38;5;129;01mnot\u001b[39;00m \u001b[38;5;28;01mNone\u001b[39;00m \u001b[38;5;129;01mand\u001b[39;00m \\\n\u001b[1;32m    638\u001b[0m         \u001b[38;5;28mself\u001b[39m\u001b[38;5;241m.\u001b[39m_num_yielded \u001b[38;5;241m>\u001b[39m \u001b[38;5;28mself\u001b[39m\u001b[38;5;241m.\u001b[39m_IterableDataset_len_called:\n",
      "File \u001b[0;32m/usr/local/lib/python3.8/dist-packages/torch/utils/data/dataloader.py:678\u001b[0m, in \u001b[0;36m_SingleProcessDataLoaderIter._next_data\u001b[0;34m(self)\u001b[0m\n\u001b[1;32m    676\u001b[0m \u001b[38;5;28;01mdef\u001b[39;00m \u001b[38;5;21m_next_data\u001b[39m(\u001b[38;5;28mself\u001b[39m):\n\u001b[1;32m    677\u001b[0m     index \u001b[38;5;241m=\u001b[39m \u001b[38;5;28mself\u001b[39m\u001b[38;5;241m.\u001b[39m_next_index()  \u001b[38;5;66;03m# may raise StopIteration\u001b[39;00m\n\u001b[0;32m--> 678\u001b[0m     data \u001b[38;5;241m=\u001b[39m \u001b[38;5;28;43mself\u001b[39;49m\u001b[38;5;241;43m.\u001b[39;49m\u001b[43m_dataset_fetcher\u001b[49m\u001b[38;5;241;43m.\u001b[39;49m\u001b[43mfetch\u001b[49m\u001b[43m(\u001b[49m\u001b[43mindex\u001b[49m\u001b[43m)\u001b[49m  \u001b[38;5;66;03m# may raise StopIteration\u001b[39;00m\n\u001b[1;32m    679\u001b[0m     \u001b[38;5;28;01mif\u001b[39;00m \u001b[38;5;28mself\u001b[39m\u001b[38;5;241m.\u001b[39m_pin_memory:\n\u001b[1;32m    680\u001b[0m         data \u001b[38;5;241m=\u001b[39m _utils\u001b[38;5;241m.\u001b[39mpin_memory\u001b[38;5;241m.\u001b[39mpin_memory(data, \u001b[38;5;28mself\u001b[39m\u001b[38;5;241m.\u001b[39m_pin_memory_device)\n",
      "File \u001b[0;32m/usr/local/lib/python3.8/dist-packages/torch/utils/data/_utils/fetch.py:51\u001b[0m, in \u001b[0;36m_MapDatasetFetcher.fetch\u001b[0;34m(self, possibly_batched_index)\u001b[0m\n\u001b[1;32m     49\u001b[0m         data \u001b[38;5;241m=\u001b[39m \u001b[38;5;28mself\u001b[39m\u001b[38;5;241m.\u001b[39mdataset\u001b[38;5;241m.\u001b[39m__getitems__(possibly_batched_index)\n\u001b[1;32m     50\u001b[0m     \u001b[38;5;28;01melse\u001b[39;00m:\n\u001b[0;32m---> 51\u001b[0m         data \u001b[38;5;241m=\u001b[39m [\u001b[38;5;28mself\u001b[39m\u001b[38;5;241m.\u001b[39mdataset[idx] \u001b[38;5;28;01mfor\u001b[39;00m idx \u001b[38;5;129;01min\u001b[39;00m possibly_batched_index]\n\u001b[1;32m     52\u001b[0m \u001b[38;5;28;01melse\u001b[39;00m:\n\u001b[1;32m     53\u001b[0m     data \u001b[38;5;241m=\u001b[39m \u001b[38;5;28mself\u001b[39m\u001b[38;5;241m.\u001b[39mdataset[possibly_batched_index]\n",
      "File \u001b[0;32m/usr/local/lib/python3.8/dist-packages/torch/utils/data/_utils/fetch.py:51\u001b[0m, in \u001b[0;36m<listcomp>\u001b[0;34m(.0)\u001b[0m\n\u001b[1;32m     49\u001b[0m         data \u001b[38;5;241m=\u001b[39m \u001b[38;5;28mself\u001b[39m\u001b[38;5;241m.\u001b[39mdataset\u001b[38;5;241m.\u001b[39m__getitems__(possibly_batched_index)\n\u001b[1;32m     50\u001b[0m     \u001b[38;5;28;01melse\u001b[39;00m:\n\u001b[0;32m---> 51\u001b[0m         data \u001b[38;5;241m=\u001b[39m [\u001b[38;5;28;43mself\u001b[39;49m\u001b[38;5;241;43m.\u001b[39;49m\u001b[43mdataset\u001b[49m\u001b[43m[\u001b[49m\u001b[43midx\u001b[49m\u001b[43m]\u001b[49m \u001b[38;5;28;01mfor\u001b[39;00m idx \u001b[38;5;129;01min\u001b[39;00m possibly_batched_index]\n\u001b[1;32m     52\u001b[0m \u001b[38;5;28;01melse\u001b[39;00m:\n\u001b[1;32m     53\u001b[0m     data \u001b[38;5;241m=\u001b[39m \u001b[38;5;28mself\u001b[39m\u001b[38;5;241m.\u001b[39mdataset[possibly_batched_index]\n",
      "File \u001b[0;32m/workspace/data/HCP_dataset_h5.py:50\u001b[0m, in \u001b[0;36mhcp_data.__getitem__\u001b[0;34m(self, indx)\u001b[0m\n\u001b[1;32m     47\u001b[0m \u001b[38;5;28;01mdef\u001b[39;00m \u001b[38;5;21m__getitem__\u001b[39m(\u001b[38;5;28mself\u001b[39m,indx):\n\u001b[1;32m     48\u001b[0m     \u001b[38;5;66;03m# print(indx)\u001b[39;00m\n\u001b[1;32m     49\u001b[0m     blk_idx \u001b[38;5;241m=\u001b[39m np\u001b[38;5;241m.\u001b[39msearchsorted(\u001b[38;5;28mself\u001b[39m\u001b[38;5;241m.\u001b[39mblk_indx, indx)\n\u001b[0;32m---> 50\u001b[0m     vol_idx \u001b[38;5;241m=\u001b[39m \u001b[38;5;28;43mself\u001b[39;49m\u001b[38;5;241;43m.\u001b[39;49m\u001b[43mids\u001b[49m\u001b[43m[\u001b[49m\u001b[43mblk_idx\u001b[49m\u001b[43m]\u001b[49m\n\u001b[1;32m     51\u001b[0m     blk_idx \u001b[38;5;241m=\u001b[39m indx \u001b[38;5;241m-\u001b[39m \u001b[38;5;28mself\u001b[39m\u001b[38;5;241m.\u001b[39mblk_indx[blk_idx]\n\u001b[1;32m     52\u001b[0m     \u001b[38;5;28;01mreturn\u001b[39;00m \u001b[38;5;28mself\u001b[39m\u001b[38;5;241m.\u001b[39mloaded_blk[vol_idx][blk_idx,\u001b[38;5;241m.\u001b[39m\u001b[38;5;241m.\u001b[39m\u001b[38;5;241m.\u001b[39m],\u001b[38;5;28mself\u001b[39m\u001b[38;5;241m.\u001b[39mloaded_fa[vol_idx][blk_idx,\u001b[38;5;241m.\u001b[39m\u001b[38;5;241m.\u001b[39m\u001b[38;5;241m.\u001b[39m],\u001b[38;5;28mself\u001b[39m\u001b[38;5;241m.\u001b[39mloaded_adc[vol_idx][blk_idx,\u001b[38;5;241m.\u001b[39m\u001b[38;5;241m.\u001b[39m\u001b[38;5;241m.\u001b[39m],\u001b[38;5;28mself\u001b[39m\u001b[38;5;241m.\u001b[39mloaded_rgb[vol_idx][blk_idx,\u001b[38;5;241m.\u001b[39m\u001b[38;5;241m.\u001b[39m\u001b[38;5;241m.\u001b[39m]\n",
      "\u001b[0;31mIndexError\u001b[0m: list index out of range"
     ]
    }
   ],
   "source": [
    "temp = next(iter(training_data_loader))\n",
    "temp[0] = torch.permute(temp[0],(0,3,1,2))\n",
    "temp[0].shape"
   ]
  },
  {
   "cell_type": "code",
   "execution_count": 20,
   "id": "56b30786",
   "metadata": {},
   "outputs": [
    {
     "data": {
      "text/plain": [
       "torch.Size([40, 64, 64, 64, 5])"
      ]
     },
     "execution_count": 20,
     "metadata": {},
     "output_type": "execute_result"
    }
   ],
   "source": [
    "temp[1].shape"
   ]
  },
  {
   "cell_type": "code",
   "execution_count": 22,
   "id": "02cc649c",
   "metadata": {},
   "outputs": [],
   "source": [
    "from deep_cascade_caunet.models import CSEUnetModel"
   ]
  },
  {
   "cell_type": "code",
   "execution_count": 23,
   "id": "56e6c4c7",
   "metadata": {},
   "outputs": [],
   "source": [
    "model = CSEUnetModel(in_chans = 8,out_chans = 5,chans = 4,num_pool_layers = 2,drop_prob=0.2,reduction=4)"
   ]
  },
  {
   "cell_type": "code",
   "execution_count": 26,
   "id": "fafec921",
   "metadata": {},
   "outputs": [],
   "source": [
    "out = model(temp[0])\n",
    "out_temp = torch.permute(out,(0,2,3,1))\n",
    "out_out = out_temp.reshape(40,64,64,64,5)\n",
    "hr = torch.permute(temp[1],(0,4,1,2,3)).detach().numpy()\n",
    "pred = torch.permute(out_out,(0,4,1,2,3)).detach().numpy()"
   ]
  },
  {
   "cell_type": "code",
   "execution_count": 27,
   "id": "a51e07d3",
   "metadata": {},
   "outputs": [
    {
     "data": {
      "text/plain": [
       "((40, 5, 64, 64, 64), (40, 5, 64, 64, 64))"
      ]
     },
     "execution_count": 27,
     "metadata": {},
     "output_type": "execute_result"
    }
   ],
   "source": [
    "pred.shape,hr.shape"
   ]
  },
  {
   "cell_type": "code",
   "execution_count": 28,
   "id": "80a692b6",
   "metadata": {},
   "outputs": [],
   "source": [
    "args.block_size = (32,32,32)\n",
    "args.batch_size = 4"
   ]
  },
  {
   "cell_type": "code",
   "execution_count": 30,
   "id": "8a73cc51",
   "metadata": {},
   "outputs": [
    {
     "name": "stdout",
     "output_type": "stream",
     "text": [
      "prebuild\n"
     ]
    }
   ],
   "source": [
    "training_dataset.build(args)\n"
   ]
  },
  {
   "cell_type": "code",
   "execution_count": 31,
   "id": "c4b58053",
   "metadata": {},
   "outputs": [
    {
     "data": {
      "text/plain": [
       "array([ 150,  300,  420,  540,  660,  780,  900, 1020, 1170, 1320])"
      ]
     },
     "execution_count": 31,
     "metadata": {},
     "output_type": "execute_result"
    }
   ],
   "source": [
    "training_dataset.blk_indx"
   ]
  },
  {
   "cell_type": "code",
   "execution_count": 33,
   "id": "bf799720",
   "metadata": {},
   "outputs": [],
   "source": [
    "training_data_loader = DataLoader(dataset=training_dataset, batch_size=4, shuffle=True, pin_memory=True, drop_last=True,collate_fn=resize)"
   ]
  },
  {
   "cell_type": "code",
   "execution_count": 36,
   "id": "56a0530a",
   "metadata": {},
   "outputs": [
    {
     "data": {
      "text/plain": [
       "330"
      ]
     },
     "execution_count": 36,
     "metadata": {},
     "output_type": "execute_result"
    }
   ],
   "source": [
    "len(training_data_loader)"
   ]
  },
  {
   "cell_type": "code",
   "execution_count": 153,
   "id": "4add82a5",
   "metadata": {},
   "outputs": [
    {
     "data": {
      "text/plain": [
       "(torch.Size([40, 64, 64, 64, 5]), torch.Size([40, 64, 64, 64, 5]))"
      ]
     },
     "execution_count": 153,
     "metadata": {},
     "output_type": "execute_result"
    }
   ],
   "source": [
    "temp[1].shape,out_out.shape"
   ]
  },
  {
   "cell_type": "code",
   "execution_count": 112,
   "id": "975d62c5",
   "metadata": {},
   "outputs": [],
   "source": [
    "hr = cp.array(hr)\n",
    "pred = cp.array(pred)"
   ]
  },
  {
   "cell_type": "code",
   "execution_count": 121,
   "id": "bf7c409f",
   "metadata": {},
   "outputs": [
    {
     "data": {
      "text/plain": [
       "array(-0.00046424)"
      ]
     },
     "execution_count": 121,
     "metadata": {},
     "output_type": "execute_result"
    }
   ],
   "source": [
    "met.structural_similarity(hr,pred,channel_axis=1,data_range=1)"
   ]
  },
  {
   "cell_type": "code",
   "execution_count": 122,
   "id": "cdc1c65d",
   "metadata": {},
   "outputs": [
    {
     "data": {
      "text/plain": [
       "array(7.37376978)"
      ]
     },
     "execution_count": 122,
     "metadata": {},
     "output_type": "execute_result"
    }
   ],
   "source": [
    "met.peak_signal_noise_ratio(hr,pred,data_range=1)"
   ]
  },
  {
   "cell_type": "code",
   "execution_count": 124,
   "id": "5d77b6b3",
   "metadata": {},
   "outputs": [
    {
     "data": {
      "text/plain": [
       "<matplotlib.image.AxesImage at 0x7fd4af633070>"
      ]
     },
     "execution_count": 124,
     "metadata": {},
     "output_type": "execute_result"
    },
    {
     "data": {
      "image/png": "[encoded data removed]",
      "text/plain": [
       "<Figure size 640x480 with 1 Axes>"
      ]
     },
     "metadata": {},
     "output_type": "display_data"
    }
   ],
   "source": [
    "plt.imshow(hr[0,0,:,:,20].get())"
   ]
  },
  {
   "cell_type": "code",
   "execution_count": 125,
   "id": "63d01416",
   "metadata": {},
   "outputs": [
    {
     "data": {
      "text/plain": [
       "<matplotlib.image.AxesImage at 0x7fd4a7e300d0>"
      ]
     },
     "execution_count": 125,
     "metadata": {},
     "output_type": "execute_result"
    },
    {
     "data": {
      "image/png": "[encoded data removed]",
      "text/plain": [
       "<Figure size 640x480 with 1 Axes>"
      ]
     },
     "metadata": {},
     "output_type": "display_data"
    }
   ],
   "source": [
    "plt.imshow(pred[0,0,:,:,20].get())"
   ]
  },
  {
   "cell_type": "code",
   "execution_count": 129,
   "id": "b96b4e1e",
   "metadata": {},
   "outputs": [],
   "source": [
    "l1_crit = nn.L1Loss()"
   ]
  },
  {
   "cell_type": "code",
   "execution_count": 133,
   "id": "f595fe9c",
   "metadata": {},
   "outputs": [
    {
     "data": {
      "text/plain": [
       "tensor(0.3859, dtype=torch.float64)"
      ]
     },
     "execution_count": 133,
     "metadata": {},
     "output_type": "execute_result"
    }
   ],
   "source": [
    "l1_crit(torch.from_numpy(hr.get()), torch.from_numpy(pred.get()))"
   ]
  },
  {
   "cell_type": "code",
   "execution_count": null,
   "id": "cd242aee",
   "metadata": {},
   "outputs": [],
   "source": []
  },
  {
   "cell_type": "code",
   "execution_count": 157,
   "id": "232a051c",
   "metadata": {},
   "outputs": [],
   "source": [
    "for batch in testing_data_loader:\n",
    "        lr_tensor, hr_tensor = batch[0], batch[1]\n",
    "        break"
   ]
  },
  {
   "cell_type": "code",
   "execution_count": 158,
   "id": "c0350296",
   "metadata": {},
   "outputs": [
    {
     "data": {
      "text/plain": [
       "torch.Size([1, 35811, 173, 8])"
      ]
     },
     "execution_count": 158,
     "metadata": {},
     "output_type": "execute_result"
    }
   ],
   "source": [
    "lr_tensor.shape"
   ]
  },
  {
   "cell_type": "code",
   "execution_count": null,
   "id": "128d6296",
   "metadata": {},
   "outputs": [],
   "source": []
  },
  {
   "cell_type": "code",
   "execution_count": 237,
   "id": "e7fc1b26",
   "metadata": {},
   "outputs": [
    {
     "name": "stdout",
     "output_type": "stream",
     "text": [
      "input  torch.Size([1, 8, 35811, 173])\n",
      "padded  torch.Size([1, 8, 35824, 176])\n",
      "output  torch.Size([1, 5, 35824, 176])\n",
      "unpadded  torch.Size([1, 5, 35811, 173])\n",
      "torch.Size([1, 173, 207, 173, 5]) torch.Size([1, 173, 207, 173, 5])\n"
     ]
    }
   ],
   "source": [
    "temp = next(iter(testing_data_loader))\n",
    "temp[0] = torch.permute(temp[0],(0,3,1,2))\n",
    "print(\"input \",temp[0].shape)\n",
    "t= pad(temp[0])\n",
    "print(\"padded \",t[0].shape)\n",
    "y = model(t[0])\n",
    "print(\"output \",y.shape)\n",
    "# print(t[1])\n",
    "u = unpad(y,t[1][0],t[1][1],t[1][2],t[1][3])\n",
    "print(\"unpadded \",u.shape)\n",
    "out = u.reshape(1, 173, 207, 173, 5)\n",
    "print(out.shape,temp[1].shape)\n"
   ]
  },
  {
   "cell_type": "code",
   "execution_count": 242,
   "id": "9f65d30f",
   "metadata": {},
   "outputs": [],
   "source": [
    "hr = cp.array(temp[1].squeeze())\n",
    "pred = cp.array(out.squeeze().detach().numpy())"
   ]
  },
  {
   "cell_type": "code",
   "execution_count": 243,
   "id": "bc2dc360",
   "metadata": {},
   "outputs": [
    {
     "name": "stdout",
     "output_type": "stream",
     "text": [
      "(173, 207, 173, 5) (173, 207, 173, 5)\n"
     ]
    }
   ],
   "source": [
    "print(pred.shape,hr.shape)"
   ]
  },
  {
   "cell_type": "code",
   "execution_count": 246,
   "id": "175b34d7",
   "metadata": {},
   "outputs": [
    {
     "data": {
      "text/plain": [
       "0.004395098183737425"
      ]
     },
     "execution_count": 246,
     "metadata": {},
     "output_type": "execute_result"
    }
   ],
   "source": [
    "abs(float(met.structural_similarity(hr,pred,channel_axis =3,data_range=1)))"
   ]
  },
  {
   "cell_type": "code",
   "execution_count": 185,
   "id": "2442e2b2",
   "metadata": {},
   "outputs": [
    {
     "data": {
      "text/plain": [
       "(torch.Size([1, 173, 207, 173, 5]), torch.Size([1, 173, 207, 173, 5]))"
      ]
     },
     "execution_count": 185,
     "metadata": {},
     "output_type": "execute_result"
    }
   ],
   "source": [
    "temp[1].shape,out.shape"
   ]
  },
  {
   "cell_type": "code",
   "execution_count": 206,
   "id": "2c925dce",
   "metadata": {},
   "outputs": [],
   "source": [
    "temp[1].shape\n",
    "hr = torch.permute(temp[1],(0,4,1,2,3))\n",
    "pred = torch.permute(out,(0,4,1,2,3))"
   ]
  },
  {
   "cell_type": "code",
   "execution_count": 217,
   "id": "5cb16d0a",
   "metadata": {},
   "outputs": [
    {
     "data": {
      "text/plain": [
       "(1, 5, 173, 207, 173)"
      ]
     },
     "execution_count": 217,
     "metadata": {},
     "output_type": "execute_result"
    }
   ],
   "source": [
    "pred.shape,hr.shape"
   ]
  },
  {
   "cell_type": "code",
   "execution_count": 218,
   "id": "ad72b02b",
   "metadata": {},
   "outputs": [
    {
     "data": {
      "text/plain": [
       "(1, 5, 173, 207, 173)"
      ]
     },
     "execution_count": 218,
     "metadata": {},
     "output_type": "execute_result"
    }
   ],
   "source": [
    "hr.shape"
   ]
  },
  {
   "cell_type": "code",
   "execution_count": 262,
   "id": "08193fd3",
   "metadata": {},
   "outputs": [
    {
     "name": "stdout",
     "output_type": "stream",
     "text": [
      "27\n"
     ]
    }
   ],
   "source": [
    "print(len(training_data_loader))"
   ]
  },
  {
   "cell_type": "code",
   "execution_count": 219,
   "id": "6aa6ee7f",
   "metadata": {},
   "outputs": [
    {
     "ename": "ValueError",
     "evalue": "win_size exceeds image extent. Either ensure that your images are at least 7x7; or pass win_size explicitly in the function call, with an odd value less than or equal to the smaller side of your images. If your images are multichannel (with color channels), set channel_axis to the axis number corresponding to the channels.",
     "output_type": "error",
     "traceback": [
      "\u001b[0;31m---------------------------------------------------------------------------\u001b[0m",
      "\u001b[0;31mValueError\u001b[0m                                Traceback (most recent call last)",
      "Cell \u001b[0;32mIn[219], line 3\u001b[0m\n\u001b[1;32m      1\u001b[0m hr \u001b[38;5;241m=\u001b[39m cp\u001b[38;5;241m.\u001b[39marray(hr)\n\u001b[1;32m      2\u001b[0m pred \u001b[38;5;241m=\u001b[39m cp\u001b[38;5;241m.\u001b[39marray(pred)\n\u001b[0;32m----> 3\u001b[0m \u001b[43mmet\u001b[49m\u001b[38;5;241;43m.\u001b[39;49m\u001b[43mstructural_similarity\u001b[49m\u001b[43m(\u001b[49m\u001b[43mhr\u001b[49m\u001b[43m,\u001b[49m\u001b[43mpred\u001b[49m\u001b[43m,\u001b[49m\u001b[43mchannel_axis\u001b[49m\u001b[38;5;241;43m=\u001b[39;49m\u001b[38;5;241;43m1\u001b[39;49m\u001b[43m,\u001b[49m\u001b[43mdata_range\u001b[49m\u001b[38;5;241;43m=\u001b[39;49m\u001b[38;5;241;43m1\u001b[39;49m\u001b[43m)\u001b[49m\n",
      "File \u001b[0;32m/usr/local/lib/python3.8/dist-packages/cucim/skimage/metrics/_structural_similarity.py:181\u001b[0m, in \u001b[0;36mstructural_similarity\u001b[0;34m(im1, im2, win_size, gradient, data_range, channel_axis, gaussian_weights, full, **kwargs)\u001b[0m\n\u001b[1;32m    179\u001b[0m _at \u001b[38;5;241m=\u001b[39m functools\u001b[38;5;241m.\u001b[39mpartial(utils\u001b[38;5;241m.\u001b[39mslice_at_axis, axis\u001b[38;5;241m=\u001b[39mchannel_axis)\n\u001b[1;32m    180\u001b[0m \u001b[38;5;28;01mfor\u001b[39;00m ch \u001b[38;5;129;01min\u001b[39;00m \u001b[38;5;28mrange\u001b[39m(nch):\n\u001b[0;32m--> 181\u001b[0m     ch_result \u001b[38;5;241m=\u001b[39m \u001b[43mstructural_similarity\u001b[49m\u001b[43m(\u001b[49m\u001b[43mim1\u001b[49m\u001b[43m[\u001b[49m\u001b[43m_at\u001b[49m\u001b[43m(\u001b[49m\u001b[43mch\u001b[49m\u001b[43m)\u001b[49m\u001b[43m]\u001b[49m\u001b[43m,\u001b[49m\n\u001b[1;32m    182\u001b[0m \u001b[43m                                      \u001b[49m\u001b[43mim2\u001b[49m\u001b[43m[\u001b[49m\u001b[43m_at\u001b[49m\u001b[43m(\u001b[49m\u001b[43mch\u001b[49m\u001b[43m)\u001b[49m\u001b[43m]\u001b[49m\u001b[43m,\u001b[49m\u001b[43m \u001b[49m\u001b[38;5;241;43m*\u001b[39;49m\u001b[38;5;241;43m*\u001b[39;49m\u001b[43margs\u001b[49m\u001b[43m)\u001b[49m\n\u001b[1;32m    183\u001b[0m     \u001b[38;5;28;01mif\u001b[39;00m gradient \u001b[38;5;129;01mand\u001b[39;00m full:\n\u001b[1;32m    184\u001b[0m         mssim[ch], G[_at(ch)], S[_at(ch)] \u001b[38;5;241m=\u001b[39m ch_result\n",
      "File \u001b[0;32m/usr/local/lib/python3.8/dist-packages/cucim/skimage/metrics/_structural_similarity.py:226\u001b[0m, in \u001b[0;36mstructural_similarity\u001b[0;34m(im1, im2, win_size, gradient, data_range, channel_axis, gaussian_weights, full, **kwargs)\u001b[0m\n\u001b[1;32m    223\u001b[0m         win_size \u001b[38;5;241m=\u001b[39m \u001b[38;5;241m7\u001b[39m  \u001b[38;5;66;03m# backwards compatibility\u001b[39;00m\n\u001b[1;32m    225\u001b[0m \u001b[38;5;28;01mif\u001b[39;00m \u001b[38;5;28many\u001b[39m(s \u001b[38;5;241m<\u001b[39m win_size \u001b[38;5;28;01mfor\u001b[39;00m s \u001b[38;5;129;01min\u001b[39;00m im1\u001b[38;5;241m.\u001b[39mshape):\n\u001b[0;32m--> 226\u001b[0m     \u001b[38;5;28;01mraise\u001b[39;00m \u001b[38;5;167;01mValueError\u001b[39;00m(\n\u001b[1;32m    227\u001b[0m         \u001b[38;5;124m'\u001b[39m\u001b[38;5;124mwin_size exceeds image extent. \u001b[39m\u001b[38;5;124m'\u001b[39m\n\u001b[1;32m    228\u001b[0m         \u001b[38;5;124m'\u001b[39m\u001b[38;5;124mEither ensure that your images are \u001b[39m\u001b[38;5;124m'\u001b[39m\n\u001b[1;32m    229\u001b[0m         \u001b[38;5;124m'\u001b[39m\u001b[38;5;124mat least 7x7; or pass win_size explicitly \u001b[39m\u001b[38;5;124m'\u001b[39m\n\u001b[1;32m    230\u001b[0m         \u001b[38;5;124m'\u001b[39m\u001b[38;5;124min the function call, with an odd value \u001b[39m\u001b[38;5;124m'\u001b[39m\n\u001b[1;32m    231\u001b[0m         \u001b[38;5;124m'\u001b[39m\u001b[38;5;124mless than or equal to the smaller side of your \u001b[39m\u001b[38;5;124m'\u001b[39m\n\u001b[1;32m    232\u001b[0m         \u001b[38;5;124m'\u001b[39m\u001b[38;5;124mimages. If your images are multichannel \u001b[39m\u001b[38;5;124m'\u001b[39m\n\u001b[1;32m    233\u001b[0m         \u001b[38;5;124m'\u001b[39m\u001b[38;5;124m(with color channels), set channel_axis to \u001b[39m\u001b[38;5;124m'\u001b[39m\n\u001b[1;32m    234\u001b[0m         \u001b[38;5;124m'\u001b[39m\u001b[38;5;124mthe axis number corresponding to the channels.\u001b[39m\u001b[38;5;124m'\u001b[39m)\n\u001b[1;32m    236\u001b[0m \u001b[38;5;28;01mif\u001b[39;00m \u001b[38;5;129;01mnot\u001b[39;00m (win_size \u001b[38;5;241m%\u001b[39m \u001b[38;5;241m2\u001b[39m \u001b[38;5;241m==\u001b[39m \u001b[38;5;241m1\u001b[39m):\n\u001b[1;32m    237\u001b[0m     \u001b[38;5;28;01mraise\u001b[39;00m \u001b[38;5;167;01mValueError\u001b[39;00m(\u001b[38;5;124m'\u001b[39m\u001b[38;5;124mWindow size must be odd.\u001b[39m\u001b[38;5;124m'\u001b[39m)\n",
      "\u001b[0;31mValueError\u001b[0m: win_size exceeds image extent. Either ensure that your images are at least 7x7; or pass win_size explicitly in the function call, with an odd value less than or equal to the smaller side of your images. If your images are multichannel (with color channels), set channel_axis to the axis number corresponding to the channels."
     ]
    }
   ],
   "source": [
    "hr = cp.array(hr)\n",
    "pred = cp.array(pred)\n",
    "met.structural_similarity(hr,pred,channel_axis=1,data_range=1)"
   ]
  }
 ],
 "metadata": {
  "kernelspec": {
   "display_name": "Python 3 (ipykernel)",
   "language": "python",
   "name": "python3"
  },
  "language_info": {
   "codemirror_mode": {
    "name": "ipython",
    "version": 3
   },
   "file_extension": ".py",
   "mimetype": "text/x-python",
   "name": "python",
   "nbconvert_exporter": "python",
   "pygments_lexer": "ipython3",
   "version": "3.8.10"
  }
 },
 "nbformat": 4,
 "nbformat_minor": 5
}
