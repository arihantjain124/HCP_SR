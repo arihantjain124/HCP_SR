{
 "cells": [
  {
   "cell_type": "code",
   "execution_count": 1,
   "id": "7e1a166f",
   "metadata": {},
   "outputs": [],
   "source": [
    "import os"
   ]
  },
  {
   "cell_type": "code",
   "execution_count": 2,
   "id": "33f75eb6",
   "metadata": {},
   "outputs": [],
   "source": [
    "base_dir = \"/storage/users/arihant\"\n",
    "base_dir_7t = [base_dir + \"/HCP_7T/\" + i   for i in os.listdir(base_dir + \"/HCP_7T\") if len(i) == 6]\n",
    "base_dir_3t = [base_dir + \"/HCP_3T/\" + i   for i in os.listdir(base_dir + \"/HCP_3T\") if len(i) == 6]"
   ]
  },
  {
   "cell_type": "code",
   "execution_count": 3,
   "id": "a0639004",
   "metadata": {},
   "outputs": [
    {
     "data": {
      "text/plain": [
       "'/storage/users/arihant/HCP_3T/200210'"
      ]
     },
     "execution_count": 3,
     "metadata": {},
     "output_type": "execute_result"
    }
   ],
   "source": [
    "base_dir_3t[0]"
   ]
  },
  {
   "cell_type": "code",
   "execution_count": 4,
   "id": "5c17409e",
   "metadata": {},
   "outputs": [
    {
     "data": {
      "text/plain": [
       "['T1w_acpc_dc_restore_1.25.nii.gz', 'Diffusion']"
      ]
     },
     "execution_count": 4,
     "metadata": {},
     "output_type": "execute_result"
    }
   ],
   "source": [
    "os.listdir(base_dir_3t[0] + \"/T1w\")"
   ]
  },
  {
   "cell_type": "code",
   "execution_count": 5,
   "id": "45e54590",
   "metadata": {},
   "outputs": [
    {
     "data": {
      "text/plain": [
       "['T1w_acpc_dc_restore_1.05.nii.gz', 'Diffusion_7T']"
      ]
     },
     "execution_count": 5,
     "metadata": {},
     "output_type": "execute_result"
    }
   ],
   "source": [
    "os.listdir(base_dir_7t[120] + \"/T1w\")"
   ]
  },
  {
   "cell_type": "code",
   "execution_count": 6,
   "id": "0f5a7636",
   "metadata": {},
   "outputs": [],
   "source": [
    "path_7t = {}\n",
    "path_3t = {}"
   ]
  },
  {
   "cell_type": "code",
   "execution_count": 7,
   "id": "c01077f0",
   "metadata": {},
   "outputs": [],
   "source": [
    "for i in base_dir_7t:\n",
    "    path_7t[i[-6:]] = {\"3d_scan\" : i + \"/T1w/T1w_acpc_dc_restore_1.05.nii.gz\" ,\"data\" : i + \"/T1w/Diffusion_7T/data.nii.gz\" \n",
    "                       , \"bvals\" : i + \"/T1w/Diffusion_7T/bvals\" , \"bvecs\" : i + \"/T1w/Diffusion_7T/bvecs\"\n",
    "                      , \"brain_mask\" : i + \"/T1w/Diffusion/nodif_brain_mask.nii.gz\"\n",
    "                      , \"grad_dev\" : i + \"/T1w/Diffusion/grad_dev.nii.gz\"}"
   ]
  },
  {
   "cell_type": "code",
   "execution_count": 8,
   "id": "532fa2bc",
   "metadata": {},
   "outputs": [],
   "source": [
    "for i in base_dir_3t:\n",
    "    path_3t[i[-6:]] = {\"3d_scan\" : i + \"/T1w/T1w_acpc_dc_restore_1.25.nii.gz\" , \"data\" : i + \"/T1w/Diffusion/data.nii.gz\" \n",
    "                       , \"bvals\" : i + \"/T1w/Diffusion/bvals\" , \"bvecs\" : i + \"/T1w/Diffusion/bvecs\"\n",
    "                       , \"brain_mask\" : i + \"/T1w/Diffusion/nodif_brain_mask.nii.gz\"\n",
    "                      , \"grad_dev\" : i + \"/T1w/Diffusion/grad_dev.nii.gz\"}"
   ]
  },
  {
   "cell_type": "code",
   "execution_count": 9,
   "id": "079a86f0",
   "metadata": {},
   "outputs": [],
   "source": [
    "p = list(path_7t.keys())\n",
    "q = list(path_3t.keys())"
   ]
  },
  {
   "cell_type": "code",
   "execution_count": 10,
   "id": "fc935aa8",
   "metadata": {},
   "outputs": [
    {
     "data": {
      "text/plain": [
       "{'3d_scan': '/storage/users/arihant/HCP_3T/765864/T1w/T1w_acpc_dc_restore_1.25.nii.gz',\n",
       " 'data': '/storage/users/arihant/HCP_3T/765864/T1w/Diffusion/data.nii.gz',\n",
       " 'bvals': '/storage/users/arihant/HCP_3T/765864/T1w/Diffusion/bvals',\n",
       " 'bvecs': '/storage/users/arihant/HCP_3T/765864/T1w/Diffusion/bvecs',\n",
       " 'brain_mask': '/storage/users/arihant/HCP_3T/765864/T1w/Diffusion/nodif_brain_mask.nii.gz',\n",
       " 'grad_dev': '/storage/users/arihant/HCP_3T/765864/T1w/Diffusion/grad_dev.nii.gz'}"
      ]
     },
     "execution_count": 10,
     "metadata": {},
     "output_type": "execute_result"
    }
   ],
   "source": [
    "path_3t[q[40]]"
   ]
  },
  {
   "cell_type": "code",
   "execution_count": 11,
   "id": "cc35c446",
   "metadata": {},
   "outputs": [
    {
     "data": {
      "text/plain": [
       "{'3d_scan': '/storage/users/arihant/HCP_7T/765864/T1w/T1w_acpc_dc_restore_1.05.nii.gz',\n",
       " 'data': '/storage/users/arihant/HCP_7T/765864/T1w/Diffusion_7T/data.nii.gz',\n",
       " 'bvals': '/storage/users/arihant/HCP_7T/765864/T1w/Diffusion_7T/bvals',\n",
       " 'bvecs': '/storage/users/arihant/HCP_7T/765864/T1w/Diffusion_7T/bvecs',\n",
       " 'brain_mask': '/storage/users/arihant/HCP_7T/765864/T1w/Diffusion/nodif_brain_mask.nii.gz',\n",
       " 'grad_dev': '/storage/users/arihant/HCP_7T/765864/T1w/Diffusion/grad_dev.nii.gz'}"
      ]
     },
     "execution_count": 11,
     "metadata": {},
     "output_type": "execute_result"
    }
   ],
   "source": [
    "path_7t[q[40]]"
   ]
  },
  {
   "cell_type": "code",
   "execution_count": 19,
   "id": "b37b86d4",
   "metadata": {},
   "outputs": [],
   "source": [
    "store_size = []"
   ]
  },
  {
   "cell_type": "code",
   "execution_count": 20,
   "id": "36029a49",
   "metadata": {},
   "outputs": [],
   "source": [
    "from dipy.io.image import load_nifti"
   ]
  },
  {
   "cell_type": "code",
   "execution_count": null,
   "id": "046259bf",
   "metadata": {},
   "outputs": [],
   "source": [
    "common = list(set(p) & set(q))\n",
    "for i in common:\n",
    "    data, affine, img = load_nifti(path_3t[i][\"data\"], return_img=True)\n",
    "    store_size.append(data.shape)\n",
    "    data, affine, img = load_nifti(path_7t[i][\"data\"], return_img=True)\n",
    "    store_size.append(data.shape)"
   ]
  },
  {
   "cell_type": "code",
   "execution_count": null,
   "id": "63a6918c",
   "metadata": {},
   "outputs": [],
   "source": []
  }
 ],
 "metadata": {
  "kernelspec": {
   "display_name": "Python 3 (ipykernel)",
   "language": "python",
   "name": "python3"
  },
  "language_info": {
   "codemirror_mode": {
    "name": "ipython",
    "version": 3
   },
   "file_extension": ".py",
   "mimetype": "text/x-python",
   "name": "python",
   "nbconvert_exporter": "python",
   "pygments_lexer": "ipython3",
   "version": "3.10.9"
  }
 },
 "nbformat": 4,
 "nbformat_minor": 5
}
