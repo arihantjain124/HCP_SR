{
 "cells": [
  {
   "cell_type": "code",
   "execution_count": 1,
   "id": "6994d270",
   "metadata": {},
   "outputs": [
    {
     "name": "stdout",
     "output_type": "stream",
     "text": [
      "number of common Subjects  171\n",
      "PyTorch Version 2.1.0a0+29c30b1\n",
      "Cuda Version 12.2\n",
      "CUDNN Version 8904\n",
      "Namespace(block_size=(16, 16, 16), test_block_size=(16, 16, 16), crop_depth=15, dir='/storage', batch_size=16, sort=True, debug=False, preload=True, ret_points=False, thres=0.6, offset=40, gaps=20, cuda=True, scale=(1, 1, 1), epochs=100)\n"
     ]
    }
   ],
   "source": [
    "import argparse, os\n",
    "os.environ[\"CUDA_VISIBLE_DEVICES\"] = \"1\"\n",
    "# os.environ[\"CUDA_LAUNCH_BLOCKING\"] = \"1\"\n",
    "import matplotlib.pyplot as plt\n",
    "import numpy as np\n",
    "import cupy as cp\n",
    "import cucim\n",
    "import utils\n",
    "import data.HCP_dataset_h5_arb as HCP_dataset\n",
    "from tensorboardX import SummaryWriter\n",
    "from itertools import product\n",
    "from tqdm import tqdm\n",
    "\n",
    "##### Model Imports ####\n",
    "import torch\n",
    "import torch.nn as nn\n",
    "import data.utils_metrics as utils_met\n",
    "import cucim.skimage.metrics as met\n",
    "import torch.optim as optim\n",
    "from torch.utils.data import DataLoader\n",
    "from model import dmri_arb\n",
    "#########################\n",
    "# torch.backends.cudnn.benchmark = False\n",
    "# torch.backends.cudnn.deterministic = True\n",
    "# torch.backends.cudnn.enabled = False\n",
    "\n",
    "print(\"PyTorch Version {}\" .format(torch.__version__))\n",
    "print(\"Cuda Version {}\" .format(torch.version.cuda))\n",
    "print(\"CUDNN Version {}\" .format(torch.backends.cudnn.version()))\n",
    "\n",
    "parser = argparse.ArgumentParser(description=\"DTI_ARB\")\n",
    "parser.add_argument(\"--block_size\", type=tuple, default=(16,16,16),\n",
    "                    help=\"Block Size\")\n",
    "parser.add_argument(\"--test_block_size\", type=tuple, default=(16,16,16),\n",
    "                    help=\"Block Size\")\n",
    "parser.add_argument(\"--crop_depth\", type=int, default=15,\n",
    "                    help=\"crop across z-axis\")\n",
    "parser.add_argument(\"--dir\", type=str,\n",
    "                    help=\"dataset_directory\")\n",
    "parser.add_argument(\"--batch_size\", type=int,\n",
    "                    help=\"Batch_size\")\n",
    "parser.add_argument(\"--sort\", type=bool,\n",
    "                    help=\"Sort Subject Ids\")\n",
    "parser.add_argument(\"--debug\", type=bool,\n",
    "                    help=\"Print additional input\")\n",
    "parser.add_argument(\"--preload\", type=bool,\n",
    "                    help=\"Preload data into memory\")\n",
    "parser.add_argument(\"--ret_points\", type=bool, default=False,\n",
    "                    help=\"return box point of crops\")\n",
    "parser.add_argument(\"--thres\", type=float, default=0.6,\n",
    "                    help=\"threshold for blk emptiness\")\n",
    "parser.add_argument(\"--offset\", type=int, default=20,\n",
    "                    help=\"epoch with scale (1,1,1)\")\n",
    "parser.add_argument(\"--gaps\", type=int, default=20,\n",
    "                    help=\"number of epochs of gap between each scale change\")\n",
    "\n",
    "args = list(parser.parse_known_args())[0]\n",
    "args.preload = True\n",
    "args.debug = False\n",
    "args.dir = \"/storage\"\n",
    "args.batch_size = 16\n",
    "args.sort = True\n",
    "args.cuda = True\n",
    "cuda = args.cuda\n",
    "device = torch.device('cuda' if cuda else 'cpu')\n",
    "args.scale = (1,1,1)\n",
    "# torch.cuda.set_device(7)\n",
    "args.epochs = 100\n",
    "args.gaps = 20\n",
    "args.offset = 40\n",
    "print(args)"
   ]
  },
  {
   "cell_type": "markdown",
   "id": "a0adebb9",
   "metadata": {},
   "source": [
    "7T scan resolution : 173, 207, 173\n",
    "\n",
    "3T scan resolution : 145, 174, 174"
   ]
  },
  {
   "cell_type": "code",
   "execution_count": 2,
   "id": "9ec1541c",
   "metadata": {},
   "outputs": [],
   "source": [
    "\n",
    "def resize(data):\n",
    "    x,y = [],[]\n",
    "    for i in range(len(data)):\n",
    "        x.append(data[i][0])\n",
    "        y.append(np.concatenate([np.expand_dims(data[i][1],axis = 3),np.expand_dims(data[i][2],axis = 3),data[i][3]], axis=3))\n",
    "        \n",
    "    lr = torch.from_numpy(np.stack(x))\n",
    "    pred = torch.from_numpy(np.stack(y))\n",
    "    return lr,pred\n",
    "\n",
    "\n",
    "def random_scale(seed = 0):\n",
    "    np.random.seed(seed)\n",
    "    sections = [0]\n",
    "    sections.extend([i+args.offset for i in range(0,args.epochs-10,args.gaps)])\n",
    "    scales = {i:np.around(np.random.uniform(1,2,3),decimals=2) for i in sections}\n",
    "    scales[0] = (1,1,1)\n",
    "    scales_txt = {j: ','.join([str(x) for x in scales[j]])  for j in scales.keys()}\n",
    "    return sections,scales,scales_txt\n"
   ]
  },
  {
   "cell_type": "code",
   "execution_count": 3,
   "id": "b83b0d52",
   "metadata": {},
   "outputs": [
    {
     "name": "stdout",
     "output_type": "stream",
     "text": [
      "total vols: 5\n",
      "train vols:3 test_vols:2\n",
      "2\n"
     ]
    }
   ],
   "source": [
    "ids = utils.get_ids()\n",
    "ids.sort()\n",
    "\n",
    "total_vols = 5\n",
    "\n",
    "ids = ids[:total_vols]\n",
    "dataset_hcp = HCP_dataset\n",
    "ids = dataset_hcp.load_data(args.dir,ids)\n",
    "print(\"total vols:\",len(ids))\n",
    "\n",
    "####\n",
    "train_vols = int(len(ids) * 0.70)\n",
    "####\n",
    "print(f'train vols:{len(ids[:train_vols])} test_vols:{len(ids[train_vols:])}')\n",
    "\n",
    "testing_dataset = dataset_hcp.hcp_data_test_recon(args,ids[train_vols:],test = True)\n",
    "# training_dataset = dataset_hcp.hcp_data(args,ids[:train_vols])\n",
    "print(len(testing_dataset))"
   ]
  },
  {
   "cell_type": "code",
   "execution_count": 4,
   "id": "87305d1b",
   "metadata": {},
   "outputs": [
    {
     "name": "stdout",
     "output_type": "stream",
     "text": [
      "(249, 16, 16, 16, 7) (173, 207, 173) (173, 207, 173) (173, 207, 173, 3) (249, 6) (173, 207, 171)\n"
     ]
    }
   ],
   "source": [
    "x = testing_dataset[0]\n",
    "print(x[0].shape,x[1].shape,x[2].shape,x[3].shape,x[4].shape,x[5].shape)"
   ]
  },
  {
   "cell_type": "code",
   "execution_count": 5,
   "id": "f377345f",
   "metadata": {},
   "outputs": [],
   "source": [
    "\n",
    "def recon(x,lr,vol_size):\n",
    "    num_blk = x.shape[0]\n",
    "    vol = np.empty(shape=vol_size)\n",
    "    print(num_blk)\n",
    "    for i in range(num_blk):\n",
    "        vol[lr[i][0]:lr[i][1]+1,lr[i][2]:lr[i][3]+1,lr[i][4]:lr[i][5]+1,...] = x[i,...]\n",
    "    return vol\n",
    "    \n",
    "\n",
    "def resize_test(data):\n",
    "    x,y,z,mask = [],[],[],[]\n",
    "    for i in range(len(data)):\n",
    "        x.append(data[i][0])\n",
    "        y.append(np.concatenate([np.expand_dims(data[i][1],axis = 3),np.expand_dims(data[i][2],axis = 3),data[i][3]], axis=3))\n",
    "        z.append(data[i][4])\n",
    "        mask.append(data[i][5])\n",
    "    lr = torch.from_numpy(np.stack(x)).squeeze()\n",
    "    pred = torch.from_numpy(np.stack(y)).squeeze()\n",
    "    pnt = torch.from_numpy(np.stack(z)).squeeze()\n",
    "    mask = torch.from_numpy(np.stack(mask)).squeeze()\n",
    "    return lr,pred,pnt,mask\n"
   ]
  },
  {
   "cell_type": "code",
   "execution_count": 6,
   "id": "97c3cd24",
   "metadata": {},
   "outputs": [],
   "source": [
    "testing_data_loader = DataLoader(dataset=testing_dataset, batch_size=1, shuffle=True, pin_memory=True, drop_last=True,collate_fn=resize_test)"
   ]
  },
  {
   "cell_type": "code",
   "execution_count": 8,
   "id": "893f67ce",
   "metadata": {},
   "outputs": [],
   "source": [
    "x = next(iter(testing_data_loader))"
   ]
  },
  {
   "cell_type": "code",
   "execution_count": 10,
   "id": "91a42339",
   "metadata": {},
   "outputs": [
    {
     "name": "stdout",
     "output_type": "stream",
     "text": [
      "torch.Size([263, 16, 16, 16, 7]) torch.Size([173, 207, 173, 5]) torch.Size([263, 6]) torch.Size([173, 207, 171])\n"
     ]
    }
   ],
   "source": [
    "print(x[0].shape,x[1].shape,x[2].shape,x[3].shape)"
   ]
  },
  {
   "cell_type": "code",
   "execution_count": 11,
   "id": "d3ed1b8b",
   "metadata": {},
   "outputs": [],
   "source": [
    "model = dmri_arb.DMRI_SR()\n",
    "model.set_scale((1,1,1))\n",
    "model = model.to('cuda')"
   ]
  },
  {
   "cell_type": "code",
   "execution_count": 12,
   "id": "d618fa85",
   "metadata": {},
   "outputs": [],
   "source": [
    "model.eval()\n",
    "for iteration, (lr_tensor, hr_tensor,pnts,mask) in enumerate(testing_data_loader, 1):\n",
    "#         pbar.update(1)\n",
    "        if args.cuda:\n",
    "            lr_tensor = lr_tensor.to(device)\n",
    "            hr_tensor = hr_tensor.to(device)\n",
    "            lr_tensor = torch.permute(lr_tensor, (0,4,1,2,3))\n",
    "            with torch.no_grad():\n",
    "                pred_tensor = model(lr_tensor)\n",
    "            \n",
    "        pred_tensor = torch.permute(pred_tensor, (0,2,3,4,1))"
   ]
  },
  {
   "cell_type": "code",
   "execution_count": 14,
   "id": "f220db40",
   "metadata": {},
   "outputs": [
    {
     "data": {
      "text/plain": [
       "torch.Size([263, 16, 16, 16, 5])"
      ]
     },
     "execution_count": 14,
     "metadata": {},
     "output_type": "execute_result"
    }
   ],
   "source": [
    "pred_tensor.shape"
   ]
  },
  {
   "cell_type": "code",
   "execution_count": null,
   "id": "6341a6f2",
   "metadata": {},
   "outputs": [],
   "source": [
    "pred_tensor.shape"
   ]
  },
  {
   "cell_type": "code",
   "execution_count": null,
   "id": "76e39b3b",
   "metadata": {},
   "outputs": [],
   "source": [
    "torch.cuda.empty_cache()"
   ]
  },
  {
   "cell_type": "code",
   "execution_count": null,
   "id": "09e905eb",
   "metadata": {},
   "outputs": [],
   "source": [
    "x[2].shape,x[3].shape"
   ]
  },
  {
   "cell_type": "code",
   "execution_count": 21,
   "id": "470ae691",
   "metadata": {},
   "outputs": [
    {
     "name": "stdout",
     "output_type": "stream",
     "text": [
      "263\n"
     ]
    }
   ],
   "source": [
    "r = recon(pred_tensor.cpu(),x[2],vol_size = (173,201,171,5))"
   ]
  },
  {
   "cell_type": "code",
   "execution_count": 23,
   "id": "e01c8bd8",
   "metadata": {},
   "outputs": [
    {
     "data": {
      "text/plain": [
       "<matplotlib.colorbar.Colorbar at 0x7f349bfa3b80>"
      ]
     },
     "execution_count": 23,
     "metadata": {},
     "output_type": "execute_result"
    },
    {
     "data": {
      "image/png": "[encoded data removed]",
      "text/plain": [
       "<Figure size 640x480 with 2 Axes>"
      ]
     },
     "metadata": {},
     "output_type": "display_data"
    }
   ],
   "source": [
    "plt.imshow(r[70,:,:,0])\n",
    "plt.colorbar()"
   ]
  },
  {
   "cell_type": "code",
   "execution_count": 37,
   "id": "e2188276",
   "metadata": {},
   "outputs": [],
   "source": [
    "mask = x[5][...,np.newaxis]"
   ]
  },
  {
   "cell_type": "code",
   "execution_count": 38,
   "id": "6e70edd1",
   "metadata": {},
   "outputs": [
    {
     "data": {
      "text/plain": [
       "(173, 207, 171, 1)"
      ]
     },
     "execution_count": 38,
     "metadata": {},
     "output_type": "execute_result"
    }
   ],
   "source": [
    "mask.shape"
   ]
  },
  {
   "cell_type": "code",
   "execution_count": 41,
   "id": "6105c549",
   "metadata": {},
   "outputs": [
    {
     "ename": "ValueError",
     "evalue": "operands could not be broadcast together with shapes (173,207,173,7) (173,207,171,1) ",
     "output_type": "error",
     "traceback": [
      "\u001b[0;31m---------------------------------------------------------------------------\u001b[0m",
      "\u001b[0;31mValueError\u001b[0m                                Traceback (most recent call last)",
      "Cell \u001b[0;32mIn[41], line 1\u001b[0m\n\u001b[0;32m----> 1\u001b[0m \u001b[43mr\u001b[49m\u001b[38;5;241;43m*\u001b[39;49m\u001b[43mmask\u001b[49m\n",
      "\u001b[0;31mValueError\u001b[0m: operands could not be broadcast together with shapes (173,207,173,7) (173,207,171,1) "
     ]
    }
   ],
   "source": [
    "r*mask"
   ]
  },
  {
   "cell_type": "code",
   "execution_count": 33,
   "id": "d9e7765d",
   "metadata": {},
   "outputs": [
    {
     "data": {
      "text/plain": [
       "<matplotlib.image.AxesImage at 0x7f884a4b42e0>"
      ]
     },
     "execution_count": 33,
     "metadata": {},
     "output_type": "execute_result"
    },
    {
     "data": {
      "image/png": "[encoded data removed]",
      "text/plain": [
       "<Figure size 640x480 with 1 Axes>"
      ]
     },
     "metadata": {},
     "output_type": "display_data"
    }
   ],
   "source": [
    "plt.imshow(x[5][70,:,:])"
   ]
  },
  {
   "cell_type": "code",
   "execution_count": 69,
   "id": "4111bf2a",
   "metadata": {},
   "outputs": [
    {
     "name": "stdout",
     "output_type": "stream",
     "text": [
      "torch.Size([263, 16, 16, 16, 7]) torch.Size([173, 207, 173, 5])\n"
     ]
    }
   ],
   "source": [
    "print(x[0].shape,x[1].shape)"
   ]
  }
 ],
 "metadata": {
  "kernelspec": {
   "display_name": "Python 3 (ipykernel)",
   "language": "python",
   "name": "python3"
  },
  "language_info": {
   "codemirror_mode": {
    "name": "ipython",
    "version": 3
   },
   "file_extension": ".py",
   "mimetype": "text/x-python",
   "name": "python",
   "nbconvert_exporter": "python",
   "pygments_lexer": "ipython3",
   "version": "3.10.12"
  }
 },
 "nbformat": 4,
 "nbformat_minor": 5
}
